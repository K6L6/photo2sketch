{
 "cells": [
  {
   "cell_type": "markdown",
   "metadata": {},
   "source": [
    "In this notebook, we will show how to load pre-trained models and draw things with sketch-rnn"
   ]
  },
  {
   "cell_type": "code",
   "execution_count": 1,
   "metadata": {
    "collapsed": true
   },
   "outputs": [],
   "source": [
    "# import the required libraries\n",
    "import numpy as np\n",
    "import time\n",
    "import random\n",
    "import cPickle\n",
    "import codecs\n",
    "import collections\n",
    "import os\n",
    "import math\n",
    "import json\n",
    "import tensorflow as tf\n",
    "from six.moves import xrange\n",
    "import csv\n",
    "\n",
    "# libraries required for visualisation:\n",
    "from IPython.display import SVG, display\n",
    "import svgwrite # conda install -c omnia svgwrite=1.1.6\n",
    "import PIL\n",
    "from PIL import Image\n",
    "import matplotlib.pyplot as plt\n",
    "\n",
    "# set numpy output to something sensible\n",
    "np.set_printoptions(precision=8, edgeitems=6, linewidth=200, suppress=True)"
   ]
  },
  {
   "cell_type": "code",
   "execution_count": 2,
   "metadata": {},
   "outputs": [
    {
     "name": "stdout",
     "output_type": "stream",
     "text": [
      "INFO:tensorflow:TensorFlow Version: 1.4.0\n"
     ]
    }
   ],
   "source": [
    "tf.logging.info(\"TensorFlow Version: %s\", tf.__version__)\n"
   ]
  },
  {
   "cell_type": "code",
   "execution_count": 3,
   "metadata": {
    "collapsed": true
   },
   "outputs": [],
   "source": [
    "# import our command line tools\n",
    "import sys\n",
    "sys.path.insert(0, './sketch_rnn/test')\n",
    "from sketch_rnn_train import *\n",
    "from model import *\n",
    "from utils import *\n",
    "from rnn import *"
   ]
  },
  {
   "cell_type": "code",
   "execution_count": 4,
   "metadata": {
    "collapsed": true
   },
   "outputs": [],
   "source": [
    "# little function that displays vector images and saves them to .svg\n",
    "def draw_strokes(data, factor=0.2, svg_filename = '/tmp/sketch_rnn/svg/sample.svg'):\n",
    "  tf.gfile.MakeDirs(os.path.dirname(svg_filename))\n",
    "  min_x, max_x, min_y, max_y = get_bounds(data, factor)\n",
    "  dims = (50 + max_x - min_x, 50 + max_y - min_y)\n",
    "  dwg = svgwrite.Drawing(svg_filename, size=dims)\n",
    "  dwg.add(dwg.rect(insert=(0, 0), size=dims,fill='white'))\n",
    "  lift_pen = 1\n",
    "  abs_x = 25 - min_x \n",
    "  abs_y = 25 - min_y\n",
    "  p = \"M%s,%s \" % (abs_x, abs_y)\n",
    "  command = \"m\"\n",
    "  for i in xrange(len(data)):\n",
    "    if (lift_pen == 1):\n",
    "      command = \"m\"\n",
    "    elif (command != \"l\"):\n",
    "      command = \"l\"\n",
    "    else:\n",
    "      command = \"\"\n",
    "    x = float(data[i,0])/factor\n",
    "    y = float(data[i,1])/factor\n",
    "    lift_pen = data[i, 2]\n",
    "    p += command+str(x)+\",\"+str(y)+\" \"\n",
    "  the_color = \"black\"\n",
    "  stroke_width = 1\n",
    "  dwg.add(dwg.path(p).stroke(the_color,stroke_width).fill(\"none\"))\n",
    "  dwg.save()\n",
    "  display(SVG(dwg.tostring()))\n",
    "\n",
    "# generate a 2D grid of many vector drawings\n",
    "def make_grid_svg(s_list, grid_space=10.0, grid_space_x=16.0):\n",
    "  def get_start_and_end(x):\n",
    "    x = np.array(x)\n",
    "    x = x[:, 0:2]\n",
    "    x_start = x[0]\n",
    "    x_end = x.sum(axis=0)\n",
    "    x = x.cumsum(axis=0)\n",
    "    x_max = x.max(axis=0)\n",
    "    x_min = x.min(axis=0)\n",
    "    center_loc = (x_max+x_min)*0.5\n",
    "    return x_start-center_loc, x_end\n",
    "  x_pos = 0.0\n",
    "  y_pos = 0.0\n",
    "  result = [[x_pos, y_pos, 1]]\n",
    "  for sample in s_list:\n",
    "    s = sample[0]\n",
    "    grid_loc = sample[1]\n",
    "    grid_y = grid_loc[0]*grid_space+grid_space*0.5\n",
    "    grid_x = grid_loc[1]*grid_space_x+grid_space_x*0.5\n",
    "    start_loc, delta_pos = get_start_and_end(s)\n",
    "\n",
    "    loc_x = start_loc[0]\n",
    "    loc_y = start_loc[1]\n",
    "    new_x_pos = grid_x+loc_x\n",
    "    new_y_pos = grid_y+loc_y\n",
    "    result.append([new_x_pos-x_pos, new_y_pos-y_pos, 0])\n",
    "\n",
    "    result += s.tolist()\n",
    "    result[-1][2] = 1\n",
    "    x_pos = new_x_pos+delta_pos[0]\n",
    "    y_pos = new_y_pos+delta_pos[1]\n",
    "  return np.array(result)"
   ]
  },
  {
   "cell_type": "markdown",
   "metadata": {},
   "source": [
    "define the path of the model you want to load, and also the path of the dataset"
   ]
  },
  {
   "cell_type": "code",
   "execution_count": 5,
   "metadata": {
    "collapsed": true
   },
   "outputs": [],
   "source": [
    "# data_dir = '/home/kelvin/OgataLab/magenta/magenta/models/sketch_rnn/sketchy_data/'\n",
    "# data_dir = 'http://github.com/hardmaru/sketch-rnn-datasets/raw/master/aaron_sheep/'\n",
    "data_dir = '/home/kelvin/OgataLab/magenta/magenta/models/sketch_rnn/sketchy_data/'\n",
    "models_root_dir = '/tmp/sketch_rnn/models'\n",
    "# model_dir = '/home/kelvin/OgataLab/magenta/magenta/models/sketch_rnn/airplane_c1_1'\n",
    "# model_dir = '/home/kelvin/OgataLab/magenta/magenta/models/sketch_rnn/data5'\n",
    "# model_dir = '/home/kelvin/OgataLab/magenta/magenta/models/sketch_rnn/layer_norm_1000/trained_data10'\n",
    "# model_dir = '/home/kelvin/OgataLab/magenta/magenta/models/sketch_rnn/lstm_1000/trained_data2'\n",
    "model_dir = '/tmp/sketch_rnn/models/owl/lstm_test/'\n",
    "# model_dir = '/tmp/sketch_rnn/models/aaron_sheep/layer_norm/'\n",
    "# model_dir = '/tmp/sketch_rnn/models/elephantpig/lstm'"
   ]
  },
  {
   "cell_type": "code",
   "execution_count": 6,
   "metadata": {},
   "outputs": [
    {
     "name": "stdout",
     "output_type": "stream",
     "text": [
      "INFO:tensorflow:/tmp/sketch_rnn/models/sketch_rnn.zip already exists, using cached copy\n",
      "INFO:tensorflow:Unzipping /tmp/sketch_rnn/models/sketch_rnn.zip...\n",
      "INFO:tensorflow:Unzipping complete.\n"
     ]
    }
   ],
   "source": [
    "download_pretrained_models(models_root_dir=models_root_dir)"
   ]
  },
  {
   "cell_type": "code",
   "execution_count": 7,
   "metadata": {},
   "outputs": [
    {
     "name": "stdout",
     "output_type": "stream",
     "text": [
      "INFO:tensorflow:Loaded 100/100/100 from owl174s_ep3_tt.npz\n",
      "INFO:tensorflow:Dataset combined: 300 (100/100/100), avg len 104\n",
      "INFO:tensorflow:model_params.max_seq_len 174.\n",
      "total images <= max_seq_len is 100\n",
      "total images <= max_seq_len is 100\n",
      "total images <= max_seq_len is 100\n",
      "INFO:tensorflow:normalizing_scale_factor 80.4230.\n"
     ]
    }
   ],
   "source": [
    "[train_set, valid_set, test_set, hps_model, eval_hps_model, sample_hps_model] = load_env(data_dir, model_dir)\n",
    "# [hps_model, eval_hps_model, sample_hps_model] = load_model(model_dir)"
   ]
  },
  {
   "cell_type": "code",
   "execution_count": 8,
   "metadata": {},
   "outputs": [
    {
     "name": "stdout",
     "output_type": "stream",
     "text": [
      "INFO:tensorflow:Model using gpu.\n",
      "INFO:tensorflow:Input dropout mode = 0.\n",
      "INFO:tensorflow:Output dropout mode = 0.\n",
      "INFO:tensorflow:Recurrent dropout mode = 0.\n",
      "INFO:tensorflow:Model using gpu.\n",
      "INFO:tensorflow:Input dropout mode = 0.\n",
      "INFO:tensorflow:Output dropout mode = 0.\n",
      "INFO:tensorflow:Recurrent dropout mode = 0.\n",
      "INFO:tensorflow:Model using gpu.\n",
      "INFO:tensorflow:Input dropout mode = 0.\n",
      "INFO:tensorflow:Output dropout mode = 0.\n",
      "INFO:tensorflow:Recurrent dropout mode = 0.\n"
     ]
    }
   ],
   "source": [
    "# construct the sketch-rnn model here:\n",
    "reset_graph()\n",
    "model = Model(hps_model)\n",
    "eval_model = Model(eval_hps_model, reuse=True)\n",
    "sample_model = Model(sample_hps_model, reuse=True)"
   ]
  },
  {
   "cell_type": "code",
   "execution_count": 9,
   "metadata": {
    "collapsed": true
   },
   "outputs": [],
   "source": [
    "sess = tf.InteractiveSession()\n",
    "sess.run(tf.global_variables_initializer())"
   ]
  },
  {
   "cell_type": "code",
   "execution_count": 10,
   "metadata": {},
   "outputs": [
    {
     "name": "stdout",
     "output_type": "stream",
     "text": [
      "INFO:tensorflow:Loading model /tmp/sketch_rnn/models/owl/lstm_test/vector.\n",
      "INFO:tensorflow:Restoring parameters from /tmp/sketch_rnn/models/owl/lstm_test/vector\n"
     ]
    }
   ],
   "source": [
    "# loads the weights from checkpoint into our model\n",
    "load_checkpoint(sess, model_dir)"
   ]
  },
  {
   "cell_type": "markdown",
   "metadata": {},
   "source": [
    "We define two convenience functions to encode a stroke into a latent vector, and decode from latent vector to stroke."
   ]
  },
  {
   "cell_type": "code",
   "execution_count": 11,
   "metadata": {
    "collapsed": true
   },
   "outputs": [],
   "source": [
    "def encode(input_strokes):\n",
    "  strokes = to_big_strokes(input_strokes, max_len=168).tolist()\n",
    "  strokes.insert(0, [0, 0, 1, 0, 0])\n",
    "  seq_len = [len(input_strokes)]\n",
    "  print(\"in encode(): seq_len = {}\".format(seq_len))\n",
    "  draw_strokes(to_normal_strokes(np.array(strokes)))\n",
    "  return sess.run(eval_model.batch_z, feed_dict={eval_model.input_data: [strokes], eval_model.sequence_lengths: seq_len})[0]"
   ]
  },
  {
   "cell_type": "code",
   "execution_count": 12,
   "metadata": {
    "collapsed": true
   },
   "outputs": [],
   "source": [
    "def decode(z_input=None, draw_mode=True, temperature=0.1, factor=0.2):\n",
    "  z = None\n",
    "  if z_input is not None:\n",
    "    z = [z_input]\n",
    "  sample_strokes, m = sample(sess, sample_model, seq_len=eval_model.hps.max_seq_len, temperature=temperature, z=z)\n",
    "  strokes = to_normal_strokes(sample_strokes)\n",
    "  if draw_mode:\n",
    "    draw_strokes(strokes, factor)\n",
    "  return strokes"
   ]
  },
  {
   "cell_type": "code",
   "execution_count": 13,
   "metadata": {},
   "outputs": [
    {
     "name": "stdout",
     "output_type": "stream",
     "text": [
      "100\n",
      "(146, 3)\n"
     ]
    },
    {
     "data": {
      "image/svg+xml": [
       "<svg baseProfile=\"full\" height=\"94.265937712\" version=\"1.1\" width=\"90.7843485102\" xmlns=\"http://www.w3.org/2000/svg\" xmlns:ev=\"http://www.w3.org/2001/xml-events\" xmlns:xlink=\"http://www.w3.org/1999/xlink\"><defs/><rect fill=\"white\" height=\"94.265937712\" width=\"90.7843485102\" x=\"0\" y=\"0\"/><path d=\"M32.7092375048,37.4342523329 m0.0,0.0 l-2.42467910051,-0.435198806226 -0.808226391673,0.621712617576 l0.0621712580323,1.92730903625 1.86513781548,1.30559653044 l1.67862400413,-0.559541359544 0.310856308788,-1.429938972 l-0.808226391673,-0.870397612453 m9.69871640205,-0.559541359544 l-0.310856308788,-0.870397612453 -1.92730903625,0.0 l-1.11908271909,1.429938972 0.186513774097,2.23816543818 l2.67336428165,0.248685032129 0.497370064259,-2.85987794399 m-11.1908268929,-6.96318089962 l1.36776775122,2.92204916477 4.53850209713,0.932568907738 l3.73027563095,-0.808226391673 0.310856308788,-2.36250787973 m0.124342516065,-0.310856308788 l2.54902154207,2.61119306087 m2.23816543818,8.14443528652 l0.0621712580323,-4.16547447443 2.67336428165,-2.73553550243 l10.3826010227,-3.54376196861 m0.124342516065,-0.124342516065 l6.59015357494,-0.435198806226 -1.55428156257,0.870397612453 l-0.932568907738,2.1138228476 1.55428156257,1.49211019278 l0.186513774097,1.55428156257 -4.53850209713,2.23816543818 l0.559541359544,0.124342516065 -3.79244685173,2.98422038555 m-0.124342516065,0.124342516065 l0.0,0.932568907738 -1.30559653044,0.559541359544 l-4.28981691599,-0.310856308788 -1.24342523515,0.870397612453 l2.1138228476,1.30559653044 2.17599406838,6.03061199188 m-20.7652020454,-3.41941922903 l-0.435198806226,4.04113203287 0.559541359544,1.8029665947 l1.86513781548,3.85461807251 1.61645278335,1.11908271909 m0.994740128517,3.85461807251 l-0.994740128517,-4.47633087635 0.870397612453,-0.559541359544 l1.36776775122,0.435198806226 m-1.11908271909,4.60067331791 l0.0,-2.1138228476 1.18125393987,-1.429938972 l0.186513774097,1.429938972 1.36776775122,0.497370064259 l-0.248685032129,-1.49211019278 0.932568907738,2.36250787973 l0.497370064259,-0.435198806226 -0.124342516065,-2.73553550243 l-2.73553550243,-0.559541359544 m8.89048993587,-0.559541359544 l-0.621712617576,-1.55428156257 -2.30033665895,0.0 l-0.683883875608,2.67336428165 0.310856308788,1.86513781548 l1.92730903625,1.86513781548 -0.746055096388,-2.85987794399 l0.559541359544,-0.994740128517 0.0621712580323,1.55428156257 l1.36776775122,1.92730903625 0.746055096388,0.186513774097 l-0.248685032129,-3.17073434591 0.683883875608,1.74079522491 l0.932568907738,0.0 0.373027548194,-1.429938972 l-1.86513781548,-2.42467910051 m-5.84409832954,2.79770672321 l1.0569114238,0.0 m5.47107100487,-2.79770672321 l2.79770672321,0.435198806226 0.870397612453,1.24342523515 l0.559541359544,5.28455734253 0.0,-3.54376196861 l-2.36250787973,-0.932568907738 -0.746055096388,-1.98948025703 m3.79244685173,-6.40363991261 l2.85987794399,5.78192710876 1.429938972,9.51220273972 l-0.932568907738,-2.79770672321 -0.435198806226,1.429938972 l-2.23816543818,2.23816543818 -4.28981691599,0.746055096388 l-2.73553550243,-5.53324222565 m5.65758466721,-0.248685032129 l-0.124342516065,4.66284453869 -1.61645278335,2.1138228476 m-16.7862403393,-31.0856294632 l-1.55428156257,2.61119306087 0.310856308788,1.55428156257 l0.932568907738,-2.92204916477 m-4.04113203287,-2.1138228476 l0.0,2.30033665895 -0.435198806226,-2.23816543818 m8.64180505276,-0.932568907738 l0.248685032129,2.85987794399 0.124342516065,-2.05165162683 m-8.64180505276,-6.65232479572 l-1.18125393987,4.84935820103 -1.92730903625,3.73027563095 l-0.124342516065,2.4868504703 m0.248685032129,0.0621712580323 l3.17073434591,2.79770672321 3.66810441017,0.310856308788 m9.13917541504,-11.3773405552 l1.86513781548,1.74079522491 0.373027548194,1.98948025703 m-16.6618978977,5.78192710876 l0.497370064259,1.55428156257 3.17073434591,2.85987794399 m-0.683883875608,-12.5585949421 l2.85987794399,1.49211019278 4.10330325365,-1.18125393987 m-8.9526617527,10.009572506 l-4.66284453869,-3.17073434591 -0.621712617576,-1.36776775122 l-0.248685032129,-2.30033665895 2.4868504703,-4.53850209713 l4.91152942181,-5.65758466721 6.52798235416,-3.10856312513 l0.559541359544,0.186513774097 -0.0621712580323,1.11908271909 l-1.8029665947,2.92204916477 2.23816543818,-0.870397612453 l-0.932568907738,5.03587186337 m-1.36776775122,14.9832737446 l1.49211019278,0.0 0.497370064259,-1.74079522491 l2.54902154207,0.559541359544 0.310856308788,-1.429938972 l1.24342523515,1.429938972 0.994740128517,-0.808226391673 m-4.41415935755,3.85461807251 l1.61645278335,0.497370064259 0.248685032129,-0.932568907738 l2.23816543818,0.124342516065 \" fill=\"none\" stroke=\"black\" stroke-width=\"1\"/></svg>"
      ],
      "text/plain": [
       "<IPython.core.display.SVG object>"
      ]
     },
     "metadata": {},
     "output_type": "display_data"
    }
   ],
   "source": [
    "# get a sample drawing from the test set, and render it to .svg\n",
    "# stroke = test_set.random_sample()\n",
    "print len(train_set.strokes)\n",
    "# stroke = train_set.random_sample()\n",
    "lat_vec = []\n",
    "stroke = train_set.strokes[0]\n",
    "print(stroke.shape)\n",
    "draw_strokes(stroke)"
   ]
  },
  {
   "cell_type": "markdown",
   "metadata": {},
   "source": [
    "Let's try to encode the sample stroke into latent vector $z$"
   ]
  },
  {
   "cell_type": "code",
   "execution_count": 14,
   "metadata": {},
   "outputs": [
    {
     "name": "stdout",
     "output_type": "stream",
     "text": [
      "in encode(): seq_len = [146]\n"
     ]
    },
    {
     "data": {
      "image/svg+xml": [
       "<svg baseProfile=\"full\" height=\"94.265937712\" version=\"1.1\" width=\"90.7843485102\" xmlns=\"http://www.w3.org/2000/svg\" xmlns:ev=\"http://www.w3.org/2001/xml-events\" xmlns:xlink=\"http://www.w3.org/1999/xlink\"><defs/><rect fill=\"white\" height=\"94.265937712\" width=\"90.7843485102\" x=\"0\" y=\"0\"/><path d=\"M32.7092375048,37.4342523329 m0.0,0.0 l0.0,0.0 -2.42467910051,-0.435198806226 l-0.808226391673,0.621712617576 0.0621712580323,1.92730903625 l1.86513781548,1.30559653044 1.67862400413,-0.559541359544 l0.310856308788,-1.429938972 -0.808226391673,-0.870397612453 m9.69871640205,-0.559541359544 l-0.310856308788,-0.870397612453 -1.92730903625,0.0 l-1.11908271909,1.429938972 0.186513774097,2.23816543818 l2.67336428165,0.248685032129 0.497370064259,-2.85987794399 m-11.1908268929,-6.96318089962 l1.36776775122,2.92204916477 4.53850209713,0.932568907738 l3.73027563095,-0.808226391673 0.310856308788,-2.36250787973 m0.124342516065,-0.310856308788 l2.54902154207,2.61119306087 m2.23816543818,8.14443528652 l0.0621712580323,-4.16547447443 2.67336428165,-2.73553550243 l10.3826010227,-3.54376196861 m0.124342516065,-0.124342516065 l6.59015357494,-0.435198806226 -1.55428156257,0.870397612453 l-0.932568907738,2.1138228476 1.55428156257,1.49211019278 l0.186513774097,1.55428156257 -4.53850209713,2.23816543818 l0.559541359544,0.124342516065 -3.79244685173,2.98422038555 m-0.124342516065,0.124342516065 l0.0,0.932568907738 -1.30559653044,0.559541359544 l-4.28981691599,-0.310856308788 -1.24342523515,0.870397612453 l2.1138228476,1.30559653044 2.17599406838,6.03061199188 m-20.7652020454,-3.41941922903 l-0.435198806226,4.04113203287 0.559541359544,1.8029665947 l1.86513781548,3.85461807251 1.61645278335,1.11908271909 m0.994740128517,3.85461807251 l-0.994740128517,-4.47633087635 0.870397612453,-0.559541359544 l1.36776775122,0.435198806226 m-1.11908271909,4.60067331791 l0.0,-2.1138228476 1.18125393987,-1.429938972 l0.186513774097,1.429938972 1.36776775122,0.497370064259 l-0.248685032129,-1.49211019278 0.932568907738,2.36250787973 l0.497370064259,-0.435198806226 -0.124342516065,-2.73553550243 l-2.73553550243,-0.559541359544 m8.89048993587,-0.559541359544 l-0.621712617576,-1.55428156257 -2.30033665895,0.0 l-0.683883875608,2.67336428165 0.310856308788,1.86513781548 l1.92730903625,1.86513781548 -0.746055096388,-2.85987794399 l0.559541359544,-0.994740128517 0.0621712580323,1.55428156257 l1.36776775122,1.92730903625 0.746055096388,0.186513774097 l-0.248685032129,-3.17073434591 0.683883875608,1.74079522491 l0.932568907738,0.0 0.373027548194,-1.429938972 l-1.86513781548,-2.42467910051 m-5.84409832954,2.79770672321 l1.0569114238,0.0 m5.47107100487,-2.79770672321 l2.79770672321,0.435198806226 0.870397612453,1.24342523515 l0.559541359544,5.28455734253 0.0,-3.54376196861 l-2.36250787973,-0.932568907738 -0.746055096388,-1.98948025703 m3.79244685173,-6.40363991261 l2.85987794399,5.78192710876 1.429938972,9.51220273972 l-0.932568907738,-2.79770672321 -0.435198806226,1.429938972 l-2.23816543818,2.23816543818 -4.28981691599,0.746055096388 l-2.73553550243,-5.53324222565 m5.65758466721,-0.248685032129 l-0.124342516065,4.66284453869 -1.61645278335,2.1138228476 m-16.7862403393,-31.0856294632 l-1.55428156257,2.61119306087 0.310856308788,1.55428156257 l0.932568907738,-2.92204916477 m-4.04113203287,-2.1138228476 l0.0,2.30033665895 -0.435198806226,-2.23816543818 m8.64180505276,-0.932568907738 l0.248685032129,2.85987794399 0.124342516065,-2.05165162683 m-8.64180505276,-6.65232479572 l-1.18125393987,4.84935820103 -1.92730903625,3.73027563095 l-0.124342516065,2.4868504703 m0.248685032129,0.0621712580323 l3.17073434591,2.79770672321 3.66810441017,0.310856308788 m9.13917541504,-11.3773405552 l1.86513781548,1.74079522491 0.373027548194,1.98948025703 m-16.6618978977,5.78192710876 l0.497370064259,1.55428156257 3.17073434591,2.85987794399 m-0.683883875608,-12.5585949421 l2.85987794399,1.49211019278 4.10330325365,-1.18125393987 m-8.9526617527,10.009572506 l-4.66284453869,-3.17073434591 -0.621712617576,-1.36776775122 l-0.248685032129,-2.30033665895 2.4868504703,-4.53850209713 l4.91152942181,-5.65758466721 6.52798235416,-3.10856312513 l0.559541359544,0.186513774097 -0.0621712580323,1.11908271909 l-1.8029665947,2.92204916477 2.23816543818,-0.870397612453 l-0.932568907738,5.03587186337 m-1.36776775122,14.9832737446 l1.49211019278,0.0 0.497370064259,-1.74079522491 l2.54902154207,0.559541359544 0.310856308788,-1.429938972 l1.24342523515,1.429938972 0.994740128517,-0.808226391673 m-4.41415935755,3.85461807251 l1.61645278335,0.497370064259 0.248685032129,-0.932568907738 l2.23816543818,0.124342516065 \" fill=\"none\" stroke=\"black\" stroke-width=\"1\"/></svg>"
      ],
      "text/plain": [
       "<IPython.core.display.SVG object>"
      ]
     },
     "metadata": {},
     "output_type": "display_data"
    },
    {
     "ename": "ValueError",
     "evalue": "Cannot feed value of shape (1, 169, 5) for Tensor u'vector_rnn_1/Placeholder_1:0', which has shape '(1, 175, 5)'",
     "output_type": "error",
     "traceback": [
      "\u001b[0;31m---------------------------------------------------------------------------\u001b[0m",
      "\u001b[0;31mValueError\u001b[0m                                Traceback (most recent call last)",
      "\u001b[0;32m<ipython-input-14-2a4ea35127fc>\u001b[0m in \u001b[0;36m<module>\u001b[0;34m()\u001b[0m\n\u001b[0;32m----> 1\u001b[0;31m \u001b[0mz\u001b[0m \u001b[0;34m=\u001b[0m \u001b[0mencode\u001b[0m\u001b[0;34m(\u001b[0m\u001b[0mstroke\u001b[0m\u001b[0;34m)\u001b[0m \u001b[0;31m#definition of latent vector z\u001b[0m\u001b[0;34m\u001b[0m\u001b[0m\n\u001b[0m\u001b[1;32m      2\u001b[0m \u001b[0;31m# for i in range(len(train_set.strokes)):\u001b[0m\u001b[0;34m\u001b[0m\u001b[0;34m\u001b[0m\u001b[0m\n\u001b[1;32m      3\u001b[0m \u001b[0;31m#     lat_vec.append(encode(train_set.strokes[i]))\u001b[0m\u001b[0;34m\u001b[0m\u001b[0;34m\u001b[0m\u001b[0m\n\u001b[1;32m      4\u001b[0m \u001b[0;31m# with open(\"owl_z_tt.csv\",\"w+\") as _csv:\u001b[0m\u001b[0;34m\u001b[0m\u001b[0;34m\u001b[0m\u001b[0m\n\u001b[1;32m      5\u001b[0m \u001b[0;31m#     csvw = csv.writer(_csv,delimiter=',')\u001b[0m\u001b[0;34m\u001b[0m\u001b[0;34m\u001b[0m\u001b[0m\n",
      "\u001b[0;32m<ipython-input-11-989a6c0006a4>\u001b[0m in \u001b[0;36mencode\u001b[0;34m(input_strokes)\u001b[0m\n\u001b[1;32m      5\u001b[0m   \u001b[0;32mprint\u001b[0m\u001b[0;34m(\u001b[0m\u001b[0;34m\"in encode(): seq_len = {}\"\u001b[0m\u001b[0;34m.\u001b[0m\u001b[0mformat\u001b[0m\u001b[0;34m(\u001b[0m\u001b[0mseq_len\u001b[0m\u001b[0;34m)\u001b[0m\u001b[0;34m)\u001b[0m\u001b[0;34m\u001b[0m\u001b[0m\n\u001b[1;32m      6\u001b[0m   \u001b[0mdraw_strokes\u001b[0m\u001b[0;34m(\u001b[0m\u001b[0mto_normal_strokes\u001b[0m\u001b[0;34m(\u001b[0m\u001b[0mnp\u001b[0m\u001b[0;34m.\u001b[0m\u001b[0marray\u001b[0m\u001b[0;34m(\u001b[0m\u001b[0mstrokes\u001b[0m\u001b[0;34m)\u001b[0m\u001b[0;34m)\u001b[0m\u001b[0;34m)\u001b[0m\u001b[0;34m\u001b[0m\u001b[0m\n\u001b[0;32m----> 7\u001b[0;31m   \u001b[0;32mreturn\u001b[0m \u001b[0msess\u001b[0m\u001b[0;34m.\u001b[0m\u001b[0mrun\u001b[0m\u001b[0;34m(\u001b[0m\u001b[0meval_model\u001b[0m\u001b[0;34m.\u001b[0m\u001b[0mbatch_z\u001b[0m\u001b[0;34m,\u001b[0m \u001b[0mfeed_dict\u001b[0m\u001b[0;34m=\u001b[0m\u001b[0;34m{\u001b[0m\u001b[0meval_model\u001b[0m\u001b[0;34m.\u001b[0m\u001b[0minput_data\u001b[0m\u001b[0;34m:\u001b[0m \u001b[0;34m[\u001b[0m\u001b[0mstrokes\u001b[0m\u001b[0;34m]\u001b[0m\u001b[0;34m,\u001b[0m \u001b[0meval_model\u001b[0m\u001b[0;34m.\u001b[0m\u001b[0msequence_lengths\u001b[0m\u001b[0;34m:\u001b[0m \u001b[0mseq_len\u001b[0m\u001b[0;34m}\u001b[0m\u001b[0;34m)\u001b[0m\u001b[0;34m[\u001b[0m\u001b[0;36m0\u001b[0m\u001b[0;34m]\u001b[0m\u001b[0;34m\u001b[0m\u001b[0m\n\u001b[0m",
      "\u001b[0;32m/home/kelvin/miniconda2/envs/magenta/lib/python2.7/site-packages/tensorflow/python/client/session.pyc\u001b[0m in \u001b[0;36mrun\u001b[0;34m(self, fetches, feed_dict, options, run_metadata)\u001b[0m\n\u001b[1;32m    887\u001b[0m     \u001b[0;32mtry\u001b[0m\u001b[0;34m:\u001b[0m\u001b[0;34m\u001b[0m\u001b[0m\n\u001b[1;32m    888\u001b[0m       result = self._run(None, fetches, feed_dict, options_ptr,\n\u001b[0;32m--> 889\u001b[0;31m                          run_metadata_ptr)\n\u001b[0m\u001b[1;32m    890\u001b[0m       \u001b[0;32mif\u001b[0m \u001b[0mrun_metadata\u001b[0m\u001b[0;34m:\u001b[0m\u001b[0;34m\u001b[0m\u001b[0m\n\u001b[1;32m    891\u001b[0m         \u001b[0mproto_data\u001b[0m \u001b[0;34m=\u001b[0m \u001b[0mtf_session\u001b[0m\u001b[0;34m.\u001b[0m\u001b[0mTF_GetBuffer\u001b[0m\u001b[0;34m(\u001b[0m\u001b[0mrun_metadata_ptr\u001b[0m\u001b[0;34m)\u001b[0m\u001b[0;34m\u001b[0m\u001b[0m\n",
      "\u001b[0;32m/home/kelvin/miniconda2/envs/magenta/lib/python2.7/site-packages/tensorflow/python/client/session.pyc\u001b[0m in \u001b[0;36m_run\u001b[0;34m(self, handle, fetches, feed_dict, options, run_metadata)\u001b[0m\n\u001b[1;32m   1094\u001b[0m                 \u001b[0;34m'Cannot feed value of shape %r for Tensor %r, '\u001b[0m\u001b[0;34m\u001b[0m\u001b[0m\n\u001b[1;32m   1095\u001b[0m                 \u001b[0;34m'which has shape %r'\u001b[0m\u001b[0;34m\u001b[0m\u001b[0m\n\u001b[0;32m-> 1096\u001b[0;31m                 % (np_val.shape, subfeed_t.name, str(subfeed_t.get_shape())))\n\u001b[0m\u001b[1;32m   1097\u001b[0m           \u001b[0;32mif\u001b[0m \u001b[0;32mnot\u001b[0m \u001b[0mself\u001b[0m\u001b[0;34m.\u001b[0m\u001b[0mgraph\u001b[0m\u001b[0;34m.\u001b[0m\u001b[0mis_feedable\u001b[0m\u001b[0;34m(\u001b[0m\u001b[0msubfeed_t\u001b[0m\u001b[0;34m)\u001b[0m\u001b[0;34m:\u001b[0m\u001b[0;34m\u001b[0m\u001b[0m\n\u001b[1;32m   1098\u001b[0m             \u001b[0;32mraise\u001b[0m \u001b[0mValueError\u001b[0m\u001b[0;34m(\u001b[0m\u001b[0;34m'Tensor %s may not be fed.'\u001b[0m \u001b[0;34m%\u001b[0m \u001b[0msubfeed_t\u001b[0m\u001b[0;34m)\u001b[0m\u001b[0;34m\u001b[0m\u001b[0m\n",
      "\u001b[0;31mValueError\u001b[0m: Cannot feed value of shape (1, 169, 5) for Tensor u'vector_rnn_1/Placeholder_1:0', which has shape '(1, 175, 5)'"
     ]
    }
   ],
   "source": [
    "z = encode(stroke) #definition of latent vector z\n",
    "# for i in range(len(train_set.strokes)):\n",
    "#     lat_vec.append(encode(train_set.strokes[i]))\n",
    "# with open(\"owl_z_tt.csv\",\"w+\") as _csv:\n",
    "#     csvw = csv.writer(_csv,delimiter=',')\n",
    "#     csvw.writerows(lat_vec)\n",
    "\n",
    "print len(lat_vec[0])"
   ]
  },
  {
   "cell_type": "code",
   "execution_count": null,
   "metadata": {},
   "outputs": [],
   "source": [
    "_ = decode(z, temperature=0.1) # convert z back to drawing at temperature of 0.1"
   ]
  },
  {
   "cell_type": "markdown",
   "metadata": {},
   "source": [
    "Create generated grid at various temperatures from 0.1 to 1.0"
   ]
  },
  {
   "cell_type": "code",
   "execution_count": null,
   "metadata": {},
   "outputs": [],
   "source": [
    "stroke_list = []\n",
    "for i in range(10):\n",
    "  stroke_list.append([decode(z, draw_mode=False, temperature=0.1*i+0.1), [0, i]])\n",
    "stroke_grid = make_grid_svg(stroke_list)\n",
    "draw_strokes(stroke_grid)"
   ]
  },
  {
   "cell_type": "markdown",
   "metadata": {},
   "source": [
    "Latent Space Interpolation Example between $z_0$ and $z_1$"
   ]
  },
  {
   "cell_type": "code",
   "execution_count": null,
   "metadata": {},
   "outputs": [],
   "source": [
    "# get a sample drawing from the test set, and render it to .svg\n",
    "z0 = z\n",
    "_ = decode(z0)"
   ]
  },
  {
   "cell_type": "code",
   "execution_count": null,
   "metadata": {},
   "outputs": [],
   "source": [
    "stroke = test_set.random_sample()\n",
    "z1 = encode(stroke)\n",
    "_ = decode(z1)"
   ]
  },
  {
   "cell_type": "markdown",
   "metadata": {},
   "source": [
    "Now we interpolate between sheep $z_0$ and sheep $z_1$"
   ]
  },
  {
   "cell_type": "code",
   "execution_count": null,
   "metadata": {
    "collapsed": true
   },
   "outputs": [],
   "source": [
    "z_list = [] # interpolate spherically between z0 and z1\n",
    "N = 10\n",
    "for t in np.linspace(0, 1, N):\n",
    "  z_list.append(slerp(z0, z1, t))"
   ]
  },
  {
   "cell_type": "code",
   "execution_count": null,
   "metadata": {
    "collapsed": true
   },
   "outputs": [],
   "source": [
    "# for every latent vector in z_list, sample a vector image\n",
    "reconstructions = []\n",
    "for i in range(N):\n",
    "  reconstructions.append([decode(z_list[i], draw_mode=False), [0, i]])"
   ]
  },
  {
   "cell_type": "code",
   "execution_count": null,
   "metadata": {
    "scrolled": false
   },
   "outputs": [],
   "source": [
    "stroke_grid = make_grid_svg(reconstructions)\n",
    "draw_strokes(stroke_grid)"
   ]
  },
  {
   "cell_type": "markdown",
   "metadata": {},
   "source": [
    "Let's load the Flamingo Model, and try Unconditional (Decoder-Only) Generation"
   ]
  },
  {
   "cell_type": "code",
   "execution_count": 15,
   "metadata": {},
   "outputs": [
    {
     "name": "stdout",
     "output_type": "stream",
     "text": [
      "INFO:tensorflow:Loaded 100/100/100 from elephant_ep3.npz\n",
      "INFO:tensorflow:Dataset combined: 300 (100/100/100), avg len 108\n",
      "INFO:tensorflow:model_params.max_seq_len 168.\n",
      "total images <= max_seq_len is 100\n",
      "total images <= max_seq_len is 100\n",
      "total images <= max_seq_len is 100\n",
      "INFO:tensorflow:normalizing_scale_factor 84.4286.\n"
     ]
    }
   ],
   "source": [
    "model_dir = '/tmp/sketch_rnn/models/elephantpig/lstm_test/'\n",
    "# sketchy_dir = '/home/kelvin/OgataLab/magenta/magenta/models/sketch_rnn/sketchy_data/' #sheep_ep03.npz\n",
    "[train_set, valid_set, test_set, hps_model, eval_hps_model, sample_hps_model] = load_env(data_dir, model_dir)"
   ]
  },
  {
   "cell_type": "code",
   "execution_count": 16,
   "metadata": {
    "collapsed": true
   },
   "outputs": [],
   "source": [
    "[hps_model, eval_hps_model, sample_hps_model] = load_model(model_dir)"
   ]
  },
  {
   "cell_type": "code",
   "execution_count": 17,
   "metadata": {
    "scrolled": false
   },
   "outputs": [
    {
     "name": "stdout",
     "output_type": "stream",
     "text": [
      "INFO:tensorflow:Model using gpu.\n",
      "INFO:tensorflow:Input dropout mode = 0.\n",
      "INFO:tensorflow:Output dropout mode = 0.\n",
      "INFO:tensorflow:Recurrent dropout mode = 0.\n",
      "INFO:tensorflow:Model using gpu.\n",
      "INFO:tensorflow:Input dropout mode = 0.\n",
      "INFO:tensorflow:Output dropout mode = 0.\n",
      "INFO:tensorflow:Recurrent dropout mode = 0.\n",
      "INFO:tensorflow:Model using gpu.\n",
      "INFO:tensorflow:Input dropout mode = 0.\n",
      "INFO:tensorflow:Output dropout mode = 0.\n",
      "INFO:tensorflow:Recurrent dropout mode = 0.\n"
     ]
    }
   ],
   "source": [
    "# construct the sketch-rnn model here:\n",
    "reset_graph()\n",
    "model = Model(hps_model)\n",
    "eval_model = Model(eval_hps_model, reuse=True)\n",
    "sample_model = Model(sample_hps_model, reuse=True)"
   ]
  },
  {
   "cell_type": "code",
   "execution_count": 18,
   "metadata": {
    "collapsed": true
   },
   "outputs": [],
   "source": [
    "sess = tf.InteractiveSession()\n",
    "sess.run(tf.global_variables_initializer())"
   ]
  },
  {
   "cell_type": "code",
   "execution_count": 19,
   "metadata": {},
   "outputs": [
    {
     "name": "stdout",
     "output_type": "stream",
     "text": [
      "INFO:tensorflow:Loading model /tmp/sketch_rnn/models/elephantpig/lstm_test/vector.\n",
      "INFO:tensorflow:Restoring parameters from /tmp/sketch_rnn/models/elephantpig/lstm_test/vector\n"
     ]
    }
   ],
   "source": [
    "# loads the weights from checkpoint into our model\n",
    "load_checkpoint(sess, model_dir)"
   ]
  },
  {
   "cell_type": "code",
   "execution_count": 20,
   "metadata": {},
   "outputs": [
    {
     "name": "stdout",
     "output_type": "stream",
     "text": [
      "in encode(): seq_len = [72]\n"
     ]
    },
    {
     "data": {
      "image/svg+xml": [
       "<svg baseProfile=\"full\" height=\"108.807103485\" version=\"1.1\" width=\"105.313026141\" xmlns=\"http://www.w3.org/2000/svg\" xmlns:ev=\"http://www.w3.org/2001/xml-events\" xmlns:xlink=\"http://www.w3.org/1999/xlink\"><defs/><rect fill=\"white\" height=\"108.807103485\" width=\"105.313026141\" x=\"0\" y=\"0\"/><path d=\"M54.1370535083,32.0473773777 m0.0,0.0 l0.0,0.0 -6.92893385887,-5.56683599949 l-7.52115011215,-1.48054137826 -3.61252099276,3.61252099276 l-4.26395922899,14.0947544575 0.0,10.5414545536 l4.32318091393,4.08629417419 6.51438236237,2.07275792956 l8.23181033134,-2.72419631481 2.78341799974,-2.48730957508 m0.414551608264,-20.1945853233 l3.19796949625,-1.59898474813 7.75803685188,0.651438236237 l11.4297795296,-5.56683599949 3.84940773249,13.3248722553 l-0.947546511889,5.86294412613 -5.03384053707,6.7512691021 l-6.7512691021,-1.18443310261 -2.42808789015,-2.1319796145 m-11.0152280331,-16.4636206627 l-2.78341799974,3.79018604755 -0.118443313986,7.87648022175 l4.91539746523,4.56006765366 0.118443313986,21.0829091072 l3.13874781132,5.09306252003 6.51438236237,2.30964466929 l2.60575294495,-0.118443313986 1.36209815741,-2.96108275652 l-3.25719118118,-5.6260573864 -1.59898474813,-6.81049048901 l0.0,-14.9238574505 2.25042298436,-4.56006765366 l-0.888324826956,-8.76480519772 m-10.6006765366,7.28426396847 l0.118443313986,2.1319796145 0.473773255944,-1.89509302378 m4.26395922899,-0.177664961666 l1.36209815741,1.30287647247 m-28.7817239761,-10.8967852592 l-6.51438236237,11.4297795296 -1.71742811799,9.47546482086 l3.02030444145,29.6108293533 2.07275792956,0.947546511889 l2.25042298436,-1.30287647247 0.710659846663,-3.07952612638 m-0.829103216529,0.473773255944 l2.90186107159,-10.9560060501 2.48730957508,2.30964466929 l3.37563455105,0.414551608264 0.651438236237,10.3637897968 l4.73773241043,1.00676819682 1.83587133884,-12.851099968 l3.07952612638,-4.20473754406 1.48054137826,-0.592216551304 l1.30287647247,1.59898474813 m-0.592216551304,5.6260573864 l0.888324826956,8.11336696148 3.19796949625,0.532994903624 l2.25042298436,-2.1319796145 m4.79695409536,-28.0118441582 l0.947546511889,15.0423002243 -1.18443310261,-2.66497462988 m1.53976306319,3.49407762289 l-2.54653126001,-8.52791845798 1.53976306319,2.36886620522 l-0.177664961666,-3.25719118118 m-0.059221656993,-8.64636182785 l-3.49407762289,9.29780006409 -0.059221656993,11.4890015125 l2.72419631481,4.08629417419 1.65820643306,0.177664961666 l1.77664965391,-2.66497462988 \" fill=\"none\" stroke=\"black\" stroke-width=\"1\"/></svg>"
      ],
      "text/plain": [
       "<IPython.core.display.SVG object>"
      ]
     },
     "metadata": {},
     "output_type": "display_data"
    },
    {
     "name": "stdout",
     "output_type": "stream",
     "text": [
      "in encode(): seq_len = [82]\n"
     ]
    },
    {
     "data": {
      "image/svg+xml": [
       "<svg baseProfile=\"full\" height=\"109.162434377\" version=\"1.1\" width=\"116.209811708\" xmlns=\"http://www.w3.org/2000/svg\" xmlns:ev=\"http://www.w3.org/2001/xml-events\" xmlns:xlink=\"http://www.w3.org/1999/xlink\"><defs/><rect fill=\"white\" height=\"109.162434377\" width=\"116.209811708\" x=\"0\" y=\"0\"/><path d=\"M58.8155657705,30.5668357387 m0.0,0.0 l0.0,0.0 5.92216551304,-3.79018604755 l4.97461915016,-0.532994903624 4.02707278728,0.651438236237 l4.73773241043,-1.89509302378 5.50761401653,0.355329923332 l3.61252099276,2.60575294495 2.54653126001,6.45516037941 l1.06598980725,6.81049048901 -0.177664961666,13.3248722553 l-1.48054137826,6.3959389925 -1.71742811799,22.5042295456 l-3.43485623598,0.710659846663 0.0,-2.72419631481 l-1.77664965391,-4.73773241043 -0.355329923332,-7.81725883484 l1.71742811799,-6.69204711914 -0.532994903624,-7.81725883484 l-2.72419631481,-4.67851102352 -1.95431470871,-1.00676819682 l0.0,0.710659846663 -0.651438236237,-1.42131969333 l-2.42808789015,-1.06598980725 -0.829103216529,2.25042298436 m-15.8121824265,-18.5956001282 l0.0,4.14551585913 5.15228390694,11.962774992 m0.236886627972,-1.65820643306 l6.21827423573,-2.60575294495 m-12.4957692623,-10.0676810741 l-2.84263938665,0.0 -11.2521147728,5.2707272768 l-9.29780006409,2.07275792956 -4.56006765366,3.79018604755 l-3.84940773249,15.6937384605 -0.177664961666,8.76480519772 l0.592216551304,4.97461915016 3.13874781132,5.6260573864 l0.355329923332,2.66497462988 2.01353639364,0.888324826956 l4.08629417419,-0.118443313986 1.00676819682,-12.791877985 l1.53976306319,-1.59898474813 17.9441618919,-0.829103216529 l0.651438236237,9.89001691341 4.56006765366,0.177664961666 l2.66497462988,-2.30964466929 0.888324826956,-5.74450075626 l2.36886620522,-1.36209815741 3.61252099276,-0.532994903624 l1.83587133884,3.90862941742 0.059221656993,7.52115011215 l1.89509302378,0.532994903624 1.48054137826,-3.73096436262 l-0.473773255944,-18.8917088509 1.24365478754,-6.33671700954 m4.26395922899,-11.074450016 l1.53976306319,2.42808789015 -0.532994903624,0.532994903624 l-1.42131969333,-1.12521149218 -0.414551608264,-2.30964466929 m8.35025370121,2.30964466929 l0.355329923332,1.36209815741 m-24.754652977,29.6108293533 l0.0,8.23181033134 -1.06598980725,1.24365478754 l-6.33671700954,-0.829103216529 -0.414551608264,-7.52115011215 m-14.1539764404,-4.61928933859 l1.06598980725,12.4957692623 2.72419631481,-0.059221656993 l0.947546511889,-1.42131969333 0.592216551304,-10.0084602833 m-23.3925533295,-10.7191193104 l0.710659846663,17.1150588989 0.532994903624,-0.947546511889 l1.65820643306,3.96785110235 0.0,-1.42131969333 m-0.769881531596,-21.3790178299 l1.53976306319,5.32994925976 0.177664961666,16.6412854195 l-0.769881531596,3.31641286612 \" fill=\"none\" stroke=\"black\" stroke-width=\"1\"/></svg>"
      ],
      "text/plain": [
       "<IPython.core.display.SVG object>"
      ]
     },
     "metadata": {},
     "output_type": "display_data"
    },
    {
     "name": "stdout",
     "output_type": "stream",
     "text": [
      "in encode(): seq_len = [81]\n"
     ]
    },
    {
     "data": {
      "image/svg+xml": [
       "<svg baseProfile=\"full\" height=\"90.2707273047\" version=\"1.1\" width=\"92.9357012268\" xmlns=\"http://www.w3.org/2000/svg\" xmlns:ev=\"http://www.w3.org/2001/xml-events\" xmlns:xlink=\"http://www.w3.org/1999/xlink\"><defs/><rect fill=\"white\" height=\"90.2707273047\" width=\"92.9357012268\" x=\"0\" y=\"0\"/><path d=\"M50.2284259908,27.1319802199 m0.0,0.0 l0.0,0.0 2.36886620522,0.0 l3.07952612638,3.67174267769 m0.059221656993,0.118443313986 l0.710659846663,1.24365478754 2.36886620522,1.65820643306 l5.6260573864,9.71235156059 m0.118443313986,0.0 l1.59898474813,2.42808789015 1.65820643306,5.15228390694 l0.118443313986,6.21827423573 -0.355329923332,1.06598980725 l-1.12521149218,0.710659846663 m-0.177664961666,0.118443313986 l-1.00676819682,1.48054137826 -1.95431470871,0.710659846663 l-10.7191193104,-0.236886627972 -0.710659846663,-0.769881531596 l-0.296108275652,-4.20473754406 m-0.059221656993,0.177664961666 l-2.25042298436,-2.84263938665 -0.118443313986,-2.30964466929 l1.36209815741,-0.236886627972 0.710659846663,1.59898474813 l0.414551608264,0.0 0.769881531596,-1.24365478754 l1.77664965391,-0.414551608264 0.0,0.947546511889 l-0.888324826956,1.71742811799 1.00676819682,3.61252099276 m0.0,0.118443313986 l2.90186107159,0.0 0.947546511889,-1.24365478754 l2.1319796145,-0.888324826956 0.059221656993,-3.73096436262 l-2.42808789015,-2.1319796145 m-0.059221656993,0.0 l-2.90186107159,-0.177664961666 -0.651438236237,-1.00676819682 l0.059221656993,2.78341799974 0.651438236237,0.888324826956 l1.59898474813,0.947546511889 -2.78341799974,0.651438236237 m-4.61928933859,-13.0879867077 l1.71742811799,-1.53976306319 1.12521149218,-0.177664961666 l1.53976306319,2.1319796145 -1.30287647247,0.592216551304 l-1.36209815741,0.0 -0.710659846663,-1.30287647247 m-2.96108275652,-8.82402658463 l-2.84263938665,-5.6260573864 -3.25719118118,-0.177664961666 l-1.12521149218,0.236886627972 -1.89509302378,1.71742811799 l-1.65820643306,4.91539746523 m0.0,0.0 l-0.414551608264,3.79018604755 1.24365478754,3.25719118118 l1.59898474813,1.89509302378 m0.059221656993,0.177664961666 l0.0,4.02707278728 0.473773255944,-1.12521149218 l2.54653126001,-1.77664965391 0.829103216529,-1.95431470871 l2.90186107159,-1.83587133884 m5.2707272768,-11.7851102352 l-1.77664965391,-0.177664961666 -2.01353639364,-1.06598980725 l-2.42808789015,0.059221656993 m-6.86971247196,2.07275792956 l-2.42808789015,0.651438236237 -1.42131969333,0.0 l-6.09983086586,-1.83587133884 -2.96108275652,-1.65820643306 m25.1692032814,29.6108293533 l-10.7783412933,-0.059221656993 -3.13874781132,-3.84940773249 m9.06091332436,3.79018604755 l0.532994903624,8.29103171825 1.06598980725,2.48730957508 \" fill=\"none\" stroke=\"black\" stroke-width=\"1\"/></svg>"
      ],
      "text/plain": [
       "<IPython.core.display.SVG object>"
      ]
     },
     "metadata": {},
     "output_type": "display_data"
    },
    {
     "name": "stdout",
     "output_type": "stream",
     "text": [
      "in encode(): seq_len = [107]\n"
     ]
    },
    {
     "data": {
      "image/svg+xml": [
       "<svg baseProfile=\"full\" height=\"84.5854495559\" version=\"1.1\" width=\"100.042302385\" xmlns=\"http://www.w3.org/2000/svg\" xmlns:ev=\"http://www.w3.org/2001/xml-events\" xmlns:xlink=\"http://www.w3.org/1999/xlink\"><defs/><rect fill=\"white\" height=\"84.5854495559\" width=\"100.042302385\" x=\"0\" y=\"0\"/><path d=\"M25.7698837854,29.8561759293 m0.0,0.0 l0.0,0.0 3.61252099276,-0.829103216529 l3.84940773249,0.0 4.91539746523,-1.83587133884 l2.66497462988,0.059221656993 2.72419631481,1.42131969333 m-1.36209815741,-1.24365478754 l2.1319796145,0.059221656993 2.07275792956,1.00676819682 l1.71742811799,1.53976306319 1.30287647247,2.25042298436 m-1.24365478754,-0.118443313986 l1.95431470871,0.236886627972 1.59898474813,1.24365478754 l5.38917064667,7.75803685188 3.73096436262,0.532994903624 l2.1319796145,-0.888324826956 1.36209815741,-1.53976306319 l4.02707278728,-9.83079493046 1.89509302378,-2.96108275652 l2.60575294495,-1.71742811799 0.829103216529,0.0 l0.177664961666,1.71742811799 1.18443310261,1.53976306319 l-1.36209815741,0.829103216529 m-29.6108293533,12.791877985 l2.30964466929,4.38240259886 1.48054137826,0.829103216529 l1.48054137826,0.118443313986 4.32318091393,-1.06598980725 m-2.01353639364,0.651438236237 l0.888324826956,1.36209815741 2.60575294495,1.89509302378 l2.30964466929,1.18443310261 2.07275792956,-0.118443313986 m-10.6598985195,-3.67174267769 l2.72419631481,3.67174267769 2.90186107159,1.89509302378 l3.43485623598,0.710659846663 3.19796949625,-0.059221656993 l1.30287647247,-1.12521149218 0.118443313986,-1.30287647247 l-3.55329930782,0.236886627972 m13.8578677177,-22.7411150932 l-1.30287647247,0.651438236237 -1.42131969333,2.1319796145 l-1.53976306319,9.59390819073 -2.25042298436,5.03384053707 m-12.0812177658,3.19796949625 l3.67174267769,0.414551608264 2.90186107159,-0.414551608264 l3.07952612638,-1.06598980725 2.84263938665,-2.25042298436 m-4.32318091393,3.13874781132 l6.45516037941,1.95431470871 -0.118443313986,1.12521149218 l-1.53976306319,0.710659846663 -4.08629417419,-0.177664961666 m-5.21150588989,-2.84263938665 l2.36886620522,1.18443310261 m-25.5245351791,-11.3705575466 l0.592216551304,1.00676819682 1.00676819682,0.473773255944 l7.1658205986,0.296108275652 m-1.83587133884,-2.84263938665 l1.59898474813,-0.769881531596 0.888324826956,1.06598980725 l-2.66497462988,-0.296108275652 m-5.74450075626,2.54653126001 l0.651438236237,8.58714044094 -2.78341799974,0.118443313986 l-2.1319796145,-3.31641286612 -5.86294412613,-1.59898474813 l-0.355329923332,-3.13874781132 1.00676819682,-2.72419631481 l0.710659846663,-0.592216551304 m5.56683599949,-7.28426396847 l-5.09306252003,2.01353639364 -2.25042298436,5.32994925976 l-0.236886627972,2.60575294495 m3.19796949625,-5.98138749599 l-1.18443310261,3.67174267769 m9.77157354355,10.4230117798 l1.30287647247,2.01353639364 2.60575294495,1.24365478754 l3.49407762289,0.118443313986 2.90186107159,-0.710659846663 m-5.74450075626,-3.02030444145 l2.72419631481,0.651438236237 4.61928933859,-1.24365478754 m-2.01353639364,3.96785110235 l4.73773241043,-1.65820643306 m-15.4568529129,0.177664961666 l-0.592216551304,4.67851102352 -0.888324826956,2.36886620522 l4.02707278728,0.296108275652 6.09983086586,-0.769881531596 l4.8561757803,1.59898474813 m-5.98138749599,-6.15905225277 l0.177664961666,4.14551585913 m0.059221656993,0.0 l9.12013530731,-1.18443310261 2.25042298436,0.592216551304 l1.89509302378,1.24365478754 4.67851102352,-0.118443313986 l0.592216551304,0.888324826956 -0.888324826956,1.12521149218 \" fill=\"none\" stroke=\"black\" stroke-width=\"1\"/></svg>"
      ],
      "text/plain": [
       "<IPython.core.display.SVG object>"
      ]
     },
     "metadata": {},
     "output_type": "display_data"
    },
    {
     "name": "stdout",
     "output_type": "stream",
     "text": [
      "in encode(): seq_len = [100]\n"
     ]
    },
    {
     "data": {
      "image/svg+xml": [
       "<svg baseProfile=\"full\" height=\"84.1116736084\" version=\"1.1\" width=\"81.7428089678\" xmlns=\"http://www.w3.org/2000/svg\" xmlns:ev=\"http://www.w3.org/2001/xml-events\" xmlns:xlink=\"http://www.w3.org/1999/xlink\"><defs/><rect fill=\"white\" height=\"84.1116736084\" width=\"81.7428089678\" x=\"0\" y=\"0\"/><path d=\"M27.6649754681,29.5008459035 m0.0,0.0 l0.0,0.0 2.19120129943,-3.07952612638 l2.01353639364,-0.829103216529 2.48730957508,0.0 l2.54653126001,1.18443310261 m-2.72419631481,0.888324826956 l1.36209815741,-1.00676819682 2.30964466929,0.473773255944 l3.25719118118,2.72419631481 0.592216551304,2.25042298436 m-7.1658205986,-1.06598980725 l2.25042298436,-1.71742811799 m-1.65820643306,1.18443310261 l0.414551608264,1.06598980725 m0.059221656993,0.236886627972 l0.0,6.63282573223 0.710659846663,0.059221656993 l2.30964466929,-2.19120129943 2.19120129943,-3.25719118118 l0.710659846663,-0.118443313986 0.059221656993,-1.30287647247 m-6.0406088829,-4.44162428379 l4.44162428379,1.59898474813 m-4.02707278728,-2.54653126001 l4.67851102352,-0.888324826956 2.36886620522,0.473773255944 l7.9357022047,-0.829103216529 5.80372214317,0.414551608264 m-29.6108293533,3.79018604755 l-2.1319796145,8.94246995449 0.0,9.94923830032 l2.19120129943,3.07952612638 1.00676819682,0.355329923332 l1.30287647247,-0.296108275652 m0.592216551304,-14.5685279369 l-1.42131969333,4.50084596872 -0.710659846663,6.27749562263 l1.24365478754,1.95431470871 1.36209815741,0.355329923332 m-1.18443310261,-0.473773255944 l0.592216551304,-0.829103216529 1.06598980725,-0.059221656993 l1.00676819682,2.1319796145 -0.829103216529,0.947546511889 l-2.1319796145,0.236886627972 m0.592216551304,-13.620980978 l0.947546511889,-0.296108275652 m-0.414551608264,0.177664961666 l0.177664961666,4.73773241043 m-0.414551608264,-1.71742811799 l0.177664961666,2.25042298436 0.888324826956,0.177664961666 l1.77664965391,-2.84263938665 m-0.296108275652,0.236886627972 l1.89509302378,-0.236886627972 1.18443310261,-1.89509302378 m-6.33671700954,-0.059221656993 l0.414551608264,2.78341799974 m-0.473773255944,-11.962774992 l-0.710659846663,3.25719118118 0.829103216529,2.19120129943 m0.0,-1.18443310261 l0.947546511889,-0.888324826956 0.651438236237,0.118443313986 l-1.48054137826,0.947546511889 1.48054137826,-0.236886627972 m3.90862941742,6.63282573223 l2.54653126001,2.19120129943 m0.059221656993,-2.25042298436 l-0.177664961666,8.46869707108 0.829103216529,5.68527877331 l-1.65820643306,3.61252099276 0.769881531596,0.651438236237 l2.19120129943,0.0 0.532994903624,0.473773255944 l2.60575294495,-0.118443313986 m2.66497462988,-21.3790178299 l-0.473773255944,5.03384053707 -2.07275792956,4.50084596872 l0.236886627972,4.91539746523 -0.592216551304,3.25719118118 l0.710659846663,2.90186107159 -0.710659846663,0.592216551304 m0.236886627972,-11.1928927898 l1.24365478754,1.18443310261 2.25042298436,4.02707278728 l2.42808789015,2.25042298436 0.236886627972,-0.236886627972 m0.177664961666,-8.52791845798 l1.83587133884,9.65313017368 m-3.31641286612,-1.53976306319 l-0.592216551304,1.48054137826 0.592216551304,1.12521149218 l3.19796949625,0.296108275652 0.414551608264,-1.48054137826 m-7.40270733833,-11.2521147728 l7.87648022175,-0.177664961666 5.09306252003,-0.710659846663 m-8.23181033134,0.829103216529 l0.473773255944,1.83587133884 \" fill=\"none\" stroke=\"black\" stroke-width=\"1\"/></svg>"
      ],
      "text/plain": [
       "<IPython.core.display.SVG object>"
      ]
     },
     "metadata": {},
     "output_type": "display_data"
    },
    {
     "name": "stdout",
     "output_type": "stream",
     "text": [
      "in encode(): seq_len = [86]\n"
     ]
    },
    {
     "data": {
      "image/svg+xml": [
       "<svg baseProfile=\"full\" height=\"88.3164125402\" version=\"1.1\" width=\"90.4483912513\" xmlns=\"http://www.w3.org/2000/svg\" xmlns:ev=\"http://www.w3.org/2001/xml-events\" xmlns:xlink=\"http://www.w3.org/1999/xlink\"><defs/><rect fill=\"white\" height=\"88.3164125402\" width=\"90.4483912513\" x=\"0\" y=\"0\"/><path d=\"M32.2842638008,26.184433857 m0.0,0.0 l0.0,0.0 -0.177664961666,1.12521149218 l-4.38240259886,2.36886620522 -1.59898474813,2.25042298436 l-0.355329923332,2.48730957508 0.414551608264,1.42131969333 l1.18443310261,0.888324826956 1.89509302378,0.0 m-1.65820643306,-0.059221656993 l-2.1319796145,0.651438236237 -0.473773255944,1.48054137826 l4.79695409536,-0.651438236237 m-2.48730957508,0.414551608264 l0.296108275652,1.42131969333 1.36209815741,1.59898474813 l4.61928933859,1.59898474813 m-1.30287647247,-17.4111676216 l-0.177664961666,-0.769881531596 1.12521149218,0.059221656993 l0.710659846663,2.25042298436 -5.21150588989,3.02030444145 l0.236886627972,2.66497462988 1.18443310261,0.651438236237 l4.97461915016,0.177664961666 2.66497462988,-0.414551608264 l1.59898474813,0.888324826956 1.83587133884,2.30964466929 m-5.68527877331,0.651438236237 l3.61252099276,-0.296108275652 1.95431470871,5.50761401653 l-5.50761401653,0.118443313986 -0.473773255944,-1.06598980725 l0.532994903624,-2.42808789015 -0.236886627972,-1.53976306319 m-4.08629417419,-2.25042298436 l0.769881531596,1.42131969333 0.177664961666,-0.769881531596 l-1.18443310261,-0.473773255944 m9.83079493046,1.00676819682 l4.97461915016,0.296108275652 4.91539746523,-0.651438236237 l1.65820643306,0.769881531596 5.56683599949,0.532994903624 l2.30964466929,0.888324826956 2.36886620522,2.78341799974 m-29.6108293533,1.65820643306 l3.31641286612,7.69881546497 2.30964466929,2.48730957508 m-0.118443313986,-4.14551585913 l0.414551608264,7.9357022047 -0.888324826956,5.74450075626 l3.19796949625,0.829103216529 3.55329930782,-0.710659846663 l-0.118443313986,-8.29103171825 m-7.34348535538,-2.42808789015 l-1.24365478754,3.49407762289 0.0,1.53976306319 l0.592216551304,2.36886620522 1.65820643306,2.72419631481 m5.92216551304,-15.7529604435 l2.54653126001,6.45516037941 0.0,0.532994903624 l-1.77664965391,1.18443310261 m-0.118443313986,1.71742811799 l7.04737722874,0.947546511889 m6.21827423573,-8.64636182785 l-6.21827423573,8.58714044094 2.90186107159,0.829103216529 l2.30964466929,2.01353639364 0.177664961666,1.12521149218 l-0.769881531596,1.24365478754 4.26395922899,-0.177664961666 l0.532994903624,-3.90862941742 1.53976306319,-2.60575294495 l0.473773255944,-2.78341799974 -0.296108275652,-7.81725883484 m-0.769881531596,-4.73773241043 l1.12521149218,2.07275792956 1.89509302378,6.63282573223 l-0.118443313986,6.51438236237 -0.947546511889,0.888324826956 l-0.888324826956,-2.01353639364 m-9.00169193745,3.02030444145 l0.236886627972,2.54653126001 -0.710659846663,2.01353639364 l3.13874781132,0.118443313986 \" fill=\"none\" stroke=\"black\" stroke-width=\"1\"/></svg>"
      ],
      "text/plain": [
       "<IPython.core.display.SVG object>"
      ]
     },
     "metadata": {},
     "output_type": "display_data"
    },
    {
     "name": "stdout",
     "output_type": "stream",
     "text": [
      "in encode(): seq_len = [119]\n"
     ]
    },
    {
     "data": {
      "image/svg+xml": [
       "<svg baseProfile=\"full\" height=\"126.099824458\" version=\"1.1\" width=\"156.954312632\" xmlns=\"http://www.w3.org/2000/svg\" xmlns:ev=\"http://www.w3.org/2001/xml-events\" xmlns:xlink=\"http://www.w3.org/1999/xlink\"><defs/><rect fill=\"white\" height=\"126.099824458\" width=\"156.954312632\" x=\"0\" y=\"0\"/><path d=\"M25.5329949036,101.040606499 m0.0,0.0 l0.0,0.0 -0.532994903624,-13.9763104916 l0.651438236237,-2.36886620522 3.79018604755,-7.10659861565 l7.75803685188,-7.58037209511 3.25719118118,-2.30964466929 l17.8257191181,-5.44839262962 4.56006765366,-3.79018604755 l6.21827423573,-8.40947508812 6.33671700954,-3.13874781132 l5.44839262962,-1.18443310261 5.09306252003,-3.84940773249 l5.2707272768,-2.36886620522 m-0.414551608264,-0.592216551304 l-2.30964466929,-1.89509302378 0.059221656993,-3.84940773249 l0.651438236237,-0.651438236237 2.01353639364,0.651438236237 l6.51438236237,-6.57360374928 4.56006765366,-1.59898474813 l6.09983086586,0.0 4.08629417419,1.48054137826 l3.49407762289,3.90862941742 2.30964466929,6.57360374928 l0.829103216529,6.92893385887 -0.532994903624,11.6074442863 l1.71742811799,2.36886620522 m-3.79018604755,1.42131969333 l3.79018604755,-2.07275792956 m-3.79018604755,2.48730957508 l0.947546511889,1.18443310261 3.19796949625,0.473773255944 m-0.473773255944,-3.79018604755 l4.73773241043,-1.71742811799 2.84263938665,-2.60575294495 l2.25042298436,-3.90862941742 0.355329923332,-3.96785110235 l0.710659846663,0.0 0.888324826956,2.30964466929 l-0.177664961666,5.03384053707 -1.95431470871,3.90862941742 l-3.43485623598,2.60575294495 -6.09983086586,1.89509302378 m0.473773255944,0.0 l-0.355329923332,2.1319796145 -1.12521149218,0.888324826956 l-6.21827423573,1.36209815741 m-0.236886627972,0.0 l-0.177664961666,8.29103171825 -0.947546511889,2.78341799974 l-3.49407762289,4.79695409536 -4.91539746523,3.31641286612 m0.177664961666,-0.177664961666 l2.07275792956,1.30287647247 0.177664961666,7.10659861565 l1.12521149218,2.54653126001 -2.01353639364,4.08629417419 l-3.19796949625,-8.64636182785 -0.473773255944,-5.56683599949 m-1.71742811799,-29.6108293533 l-0.355329923332,3.49407762289 0.769881531596,1.00676819682 m0.296108275652,-4.14551585913 l4.02707278728,0.296108275652 3.73096436262,-2.54653126001 l2.60575294495,-3.61252099276 2.19120129943,-6.3959389925 l-0.236886627972,6.57360374928 -3.67174267769,6.92893385887 l-2.84263938665,2.07275792956 -5.56683599949,1.24365478754 m-2.1319796145,-22.2081208229 l7.34348535538,-4.56006765366 1.89509302378,-0.355329923332 l2.19120129943,1.00676819682 -1.00676819682,4.56006765366 l-2.78341799974,2.48730957508 -2.42808789015,0.236886627972 l-4.91539746523,-3.02030444145 m-0.236886627972,-0.177664961666 l-3.90862941742,0.947546511889 -3.96785110235,-0.710659846663 m-1.59898474813,12.6142132282 l1.00676819682,-2.25042298436 2.54653126001,-1.24365478754 l-1.12521149218,2.19120129943 -2.07275792956,1.12521149218 l0.355329923332,-1.71742811799 1.65820643306,0.0 m7.10659861565,10.3045678139 l0.888324826956,2.30964466929 5.86294412613,5.68527877331 l1.36209815741,8.29103171825 0.0,-5.6260573864 l0.829103216529,-1.77664965391 7.75803685188,-7.40270733833 l-6.21827423573,0.0 -2.84263938665,-1.59898474813 m-27.3011827469,1.42131969333 l-3.96785110235,-0.710659846663 -5.15228390694,1.95431470871 l-5.80372214317,6.98815524578 -1.89509302378,4.61928933859 l-0.059221656993,10.0676810741 2.84263938665,7.04737722874 l3.84940773249,3.07952612638 6.51438236237,3.79018604755 l4.97461915016,0.769881531596 2.42808789015,-0.532994903624 l2.90186107159,-4.08629417419 0.592216551304,-6.0406088829 l-0.710659846663,-3.90862941742 2.66497462988,-5.92216551304 l0.0,-5.56683599949 -5.44839262962,-5.86294412613 l-1.71742811799,-4.32318091393 m20.490694046,24.9915385246 l-1.71742811799,4.50084596872 0.236886627972,9.06091332436 \" fill=\"none\" stroke=\"black\" stroke-width=\"1\"/></svg>"
      ],
      "text/plain": [
       "<IPython.core.display.SVG object>"
      ]
     },
     "metadata": {},
     "output_type": "display_data"
    },
    {
     "name": "stdout",
     "output_type": "stream",
     "text": [
      "in encode(): seq_len = [114]\n"
     ]
    },
    {
     "data": {
      "image/svg+xml": [
       "<svg baseProfile=\"full\" height=\"73.3925542887\" version=\"1.1\" width=\"87.3096438963\" xmlns=\"http://www.w3.org/2000/svg\" xmlns:ev=\"http://www.w3.org/2001/xml-events\" xmlns:xlink=\"http://www.w3.org/1999/xlink\"><defs/><rect fill=\"white\" height=\"73.3925542887\" width=\"87.3096438963\" x=\"0\" y=\"0\"/><path d=\"M52.0050755609,28.8494077977 m0.0,0.0 l0.0,0.0 1.12521149218,-0.118443313986 l3.43485623598,1.89509302378 4.20473754406,2.78341799974 l1.24365478754,1.77664965391 0.296108275652,2.72419631481 l-0.296108275652,1.00676819682 -0.769881531596,0.651438236237 l-3.49407762289,0.177664961666 -1.89509302378,-1.00676819682 l-1.00676819682,-1.65820643306 -0.236886627972,-1.95431470871 l1.06598980725,0.0 1.00676819682,-0.888324826956 l0.532994903624,2.84263938665 1.71742811799,0.296108275652 l0.532994903624,-0.532994903624 -0.296108275652,-1.89509302378 l-1.83587133884,-0.829103216529 m-0.118443313986,0.592216551304 l2.30964466929,1.42131969333 0.0,1.06598980725 l-1.30287647247,0.177664961666 m-3.25719118118,-2.19120129943 l-1.59898474813,-0.296108275652 -1.00676819682,-0.888324826956 m-2.84263938665,3.25719118118 l2.1319796145,0.236886627972 2.90186107159,-0.769881531596 m-1.42131969333,-8.11336696148 l-2.48730957508,-2.01353639364 -2.90186107159,-0.059221656993 m5.50761401653,2.19120129943 l-0.710659846663,-1.00676819682 m-4.61928933859,-1.30287647247 l-2.30964466929,0.355329923332 -3.07952612638,1.42131969333 m2.54653126001,-1.42131969333 l-7.75803685188,-1.77664965391 -4.02707278728,0.0 l-3.73096436262,0.888324826956 -2.78341799974,2.1319796145 l-0.769881531596,1.30287647247 -0.769881531596,4.08629417419 l0.710659846663,7.40270733833 0.769881531596,2.72419631481 l-0.414551608264,3.84940773249 2.1319796145,0.592216551304 l1.65820643306,0.0 0.532994903624,-0.355329923332 l-0.118443313986,-5.32994925976 1.30287647247,-2.1319796145 l9.23857867718,-0.059221656993 3.37563455105,-1.48054137826 l0.177664961666,7.52115011215 -0.355329923332,1.95431470871 l3.13874781132,0.296108275652 1.06598980725,-0.355329923332 l0.355329923332,-0.888324826956 -1.06598980725,-1.83587133884 l0.059221656993,-3.73096436262 0.532994903624,-1.30287647247 l1.24365478754,-1.24365478754 0.355329923332,-1.42131969333 m-0.592216551304,2.19120129943 l-0.118443313986,5.21150588989 1.30287647247,1.36209815741 l0.0,0.947546511889 -0.651438236237,0.532994903624 l-1.30287647247,0.0 m-16.2859559059,-7.87648022175 l-0.769881531596,2.72419631481 0.236886627972,4.38240259886 l-1.06598980725,0.118443313986 m-5.56683599949,-11.5482234955 l-0.118443313986,4.38240259886 0.414551608264,-2.01353639364 m-0.414551608264,2.07275792956 l0.059221656993,0.710659846663 0.059221656993,-0.888324826956 m29.6108293533,-4.20473754406 l0.355329923332,0.710659846663 m-11.8443310261,-8.82402658463 l-2.1319796145,3.31641286612 0.059221656993,3.73096436262 l2.48730957508,0.0 2.01353639364,1.71742811799 l1.59898474813,0.059221656993 1.95431470871,1.00676819682 l1.24365478754,1.42131969333 0.414551608264,-0.296108275652 l-0.059221656993,-1.12521149218 -1.65820643306,-2.42808789015 l0.236886627972,-0.236886627972 0.532994903624,0.355329923332 l0.177664961666,0.829103216529 m1.48054137826,1.59898474813 l0.473773255944,1.30287647247 0.710659846663,-1.83587133884 m-3.13874781132,-1.00676819682 l0.177664961666,-1.36209815741 -1.59898474813,-2.66497462988 l0.118443313986,-1.30287647247 0.177664961666,1.06598980725 l1.18443310261,1.77664965391 0.532994903624,3.55329930782 m-0.532994903624,-7.22504198551 l1.30287647247,0.236886627972 0.532994903624,0.710659846663 l-0.236886627972,0.0 -0.710659846663,-0.296108275652 l-0.059221656993,-0.532994903624 0.414551608264,0.414551608264 l0.0,-0.355329923332 \" fill=\"none\" stroke=\"black\" stroke-width=\"1\"/></svg>"
      ],
      "text/plain": [
       "<IPython.core.display.SVG object>"
      ]
     },
     "metadata": {},
     "output_type": "display_data"
    },
    {
     "name": "stdout",
     "output_type": "stream",
     "text": [
      "in encode(): seq_len = [168]\n"
     ]
    },
    {
     "data": {
      "image/svg+xml": [
       "<svg baseProfile=\"full\" height=\"94.0609133895\" version=\"1.1\" width=\"96.6666663531\" xmlns=\"http://www.w3.org/2000/svg\" xmlns:ev=\"http://www.w3.org/2001/xml-events\" xmlns:xlink=\"http://www.w3.org/1999/xlink\"><defs/><rect fill=\"white\" height=\"94.0609133895\" width=\"96.6666663531\" x=\"0\" y=\"0\"/><path d=\"M41.5228444245,35.4822331481 m0.0,0.0 l0.0,0.0 -0.651438236237,-1.06598980725 l-0.177664961666,-2.72419631481 2.30964466929,-2.30964466929 l3.07952612638,-0.059221656993 2.1319796145,1.00676819682 l1.83587133884,0.059221656993 5.50761401653,-2.19120129943 l2.84263938665,0.651438236237 1.59898474813,1.77664965391 l0.177664961666,3.90862941742 -2.19120129943,9.29780006409 l-1.24365478754,2.60575294495 -1.42131969333,0.0 l-0.829103216529,-0.769881531596 -2.60575294495,-7.04737722874 l-2.36886620522,-3.49407762289 -1.77664965391,-1.06598980725 l-2.19120129943,-0.118443313986 m-1.30287647247,2.54653126001 l2.84263938665,1.24365478754 2.36886620522,3.49407762289 l1.06598980725,6.21827423573 -1.00676819682,0.888324826956 l-1.77664965391,-0.059221656993 -1.95431470871,-2.19120129943 l-2.36886620522,-4.73773241043 -1.89509302378,-6.81049048901 m14.2131972313,8.76480519772 l5.15228390694,3.19796949625 3.37563455105,0.177664961666 l-5.09306252003,0.651438236237 -2.1319796145,-1.12521149218 l-2.01353639364,-1.95431470871 m-5.2707272768,3.67174267769 l2.07275792956,0.947546511889 1.71742811799,2.36886620522 l2.07275792956,-0.118443313986 0.532994903624,-1.89509302378 l-1.06598980725,-3.73096436262 m-7.10659861565,0.059221656993 l-0.355329923332,2.01353639364 -1.30287647247,2.01353639364 l-3.43485623598,1.00676819682 3.49407762289,0.059221656993 l1.12521149218,-0.947546511889 1.83587133884,-3.43485623598 m-4.02707278728,-12.4365484715 l0.769881531596,0.947546511889 -0.177664961666,1.65820643306 l-1.59898474813,-0.059221656993 m12.9695427418,-7.52115011215 l3.55329930782,-2.90186107159 3.07952612638,-0.947546511889 l4.08629417419,0.0 3.67174267769,1.00676819682 l-0.532994903624,0.532994903624 -0.118443313986,1.53976306319 l0.177664961666,4.26395922899 -1.12521149218,3.13874781132 l0.296108275652,4.50084596872 -1.00676819682,2.19120129943 l-5.56683599949,-1.71742811799 -5.21150588989,0.0 m-17.884939909,-10.0676810741 l0.355329923332,0.473773255944 m0.532994903624,0.059221656993 l-5.92216551304,-0.888324826956 -2.78341799974,0.0 l-1.00676819682,0.592216551304 -2.1319796145,4.02707278728 l-1.42131969333,5.32994925976 1.89509302378,-0.355329923332 l0.888324826956,0.651438236237 2.42808789015,9.06091332436 l7.63959348202,-4.91539746523 4.32318091393,-1.42131969333 m-16.1082911491,-8.70558381081 l-0.414551608264,-0.177664961666 -1.89509302378,1.36209815741 l-1.36209815741,2.01353639364 -0.651438236237,2.96108275652 l-0.059221656993,5.86294412613 1.83587133884,6.15905225277 l1.24365478754,7.87648022175 0.059221656993,8.70558381081 m8.40947508812,-13.5025382042 l-1.71742811799,2.30964466929 -1.77664965391,4.50084596872 l-0.769881531596,6.57360374928 -2.78341799974,0.0 l-1.71742811799,-0.888324826956 m29.6108293533,-22.3857855797 l-1.24365478754,15.0423002243 -2.72419631481,7.75803685188 l-3.02030444145,0.532994903624 1.89509302378,-6.7512691021 l1.00676819682,-6.09983086586 0.0,-3.96785110235 l-1.06598980725,-2.84263938665 m-6.51438236237,1.48054137826 l1.95431470871,4.50084596872 0.651438236237,3.90862941742 l-0.296108275652,7.87648022175 3.19796949625,-0.296108275652 m-5.6260573864,-15.8121824265 l-3.31641286612,3.19796949625 -1.24365478754,2.01353639364 l-1.77664965391,9.29780006409 -6.51438236237,0.0 m19.7800338268,-16.7005074024 l0.710659846663,1.42131969333 1.36209815741,1.06598980725 m1.83587133884,1.95431470871 l0.651438236237,1.00676819682 0.0,2.72419631481 l-1.12521149218,4.02707278728 -0.118443313986,3.02030444145 l-7.69881546497,0.414551608264 m3.49407762289,-13.0879867077 l0.296108275652,12.5549912453 -0.355329923332,0.769881531596 m-14.450083971,-18.4179353714 l3.61252099276,-1.71742811799 m0.0,-0.236886627972 l-0.532994903624,1.36209815741 0.0,2.1319796145 l1.00676819682,4.38240259886 0.0,7.10659861565 l-1.24365478754,4.32318091393 1.30287647247,0.651438236237 l2.60575294495,-0.059221656993 1.36209815741,-8.64636182785 m-0.888324826956,6.27749562263 l1.95431470871,0.059221656993 1.95431470871,-1.00676819682 m-17.9441618919,-28.1895089149 l-0.651438236237,2.54653126001 m26.1167502403,1.00676819682 l0.236886627972,-2.72419631481 1.30287647247,-1.53976306319 l-0.769881531596,3.19796949625 -0.888324826956,1.06598980725 m-6.45516037941,-1.83587133884 l0.177664961666,1.77664965391 -0.769881531596,1.06598980725 m1.83587133884,-1.12521149218 l-1.30287647247,2.84263938665 m2.1319796145,-0.651438236237 l0.0,1.59898474813 -0.769881531596,1.65820643306 m1.30287647247,-0.473773255944 l-0.532994903624,2.36886620522 m0.0,2.96108275652 l3.79018604755,2.72419631481 0.651438236237,-3.67174267769 m4.8561757803,-16.2859559059 l5.98138749599,-1.36209815741 m-6.51438236237,8.58714044094 l3.55329930782,-1.83587133884 2.42808789015,-0.296108275652 m-24.8138737679,0.0 l-3.90862941742,-1.36209815741 -2.60575294495,-0.059221656993 l-0.947546511889,0.710659846663 m8.76480519772,4.50084596872 l-3.61252099276,1.06598980725 -1.18443310261,0.947546511889 \" fill=\"none\" stroke=\"black\" stroke-width=\"1\"/></svg>"
      ],
      "text/plain": [
       "<IPython.core.display.SVG object>"
      ]
     },
     "metadata": {},
     "output_type": "display_data"
    },
    {
     "name": "stdout",
     "output_type": "stream",
     "text": [
      "in encode(): seq_len = [113]\n"
     ]
    },
    {
     "data": {
      "image/svg+xml": [
       "<svg baseProfile=\"full\" height=\"76.7089666054\" version=\"1.1\" width=\"88.7309642974\" xmlns=\"http://www.w3.org/2000/svg\" xmlns:ev=\"http://www.w3.org/2001/xml-events\" xmlns:xlink=\"http://www.w3.org/1999/xlink\"><defs/><rect fill=\"white\" height=\"76.7089666054\" width=\"88.7309642974\" x=\"0\" y=\"0\"/><path d=\"M28.5533003975,28.9086292032 m0.0,0.0 l0.0,0.0 1.18443310261,-1.83587133884 l2.42808789015,-1.06598980725 8.46869707108,-0.059221656993 l5.38917064667,1.71742811799 4.32318091393,-2.1319796145 l5.92216551304,-0.532994903624 3.31641286612,2.19120129943 l0.769881531596,3.61252099276 2.96108275652,6.63282573223 l0.414551608264,3.07952612638 -0.710659846663,1.48054137826 l-3.19796949625,1.53976306319 -2.54653126001,-0.118443313986 l-1.77664965391,-2.25042298436 -0.296108275652,-2.48730957508 l0.532994903624,-3.31641286612 1.06598980725,0.118443313986 l1.30287647247,-1.12521149218 0.0,5.03384053707 l2.90186107159,0.829103216529 0.177664961666,-1.06598980725 m-0.947546511889,0.829103216529 l0.059221656993,-1.65820643306 -1.06598980725,-2.42808789015 m-0.947546511889,-2.07275792956 l3.19796949625,2.25042298436 -1.48054137826,0.059221656993 l-1.65820643306,-0.829103216529 m-7.63959348202,-9.12013530731 l-2.72419631481,2.01353639364 -0.651438236237,2.1319796145 l0.0,3.37563455105 2.60575294495,0.473773255944 l2.07275792956,1.53976306319 1.95431470871,0.118443313986 l0.473773255944,-0.888324826956 0.0,-2.19120129943 m1.95431470871,-5.09306252003 l1.59898474813,1.95431470871 -1.18443310261,-0.651438236237 l-0.118443313986,-0.769881531596 0.414551608264,0.710659846663 l0.296108275652,-0.236886627972 m1.18443310261,4.61928933859 l-0.769881531596,0.296108275652 -0.177664961666,0.769881531596 m-29.6108293533,-5.2707272768 l-1.53976306319,3.49407762289 -0.414551608264,9.47546482086 l-1.06598980725,1.48054137826 0.236886627972,1.53976306319 l0.769881531596,-0.651438236237 0.651438236237,-2.60575294495 l0.177664961666,-4.79695409536 m2.30964466929,-2.96108275652 l0.0,2.1319796145 1.12521149218,2.48730957508 l2.25042298436,2.01353639364 3.31641286612,1.48054137826 l3.96785110235,0.414551608264 3.73096436262,-0.177664961666 l2.78341799974,-1.18443310261 1.06598980725,-1.59898474813 m-20.8460235596,1.89509302378 l-0.296108275652,6.09983086586 -0.710659846663,1.42131969333 l-0.118443313986,1.95431470871 5.74450075626,0.118443313986 l0.473773255944,-0.473773255944 0.0,-2.01353639364 l-0.829103216529,-3.37563455105 0.177664961666,-5.21150588989 m15.279186964,1.83587133884 l0.0,7.10659861565 -0.651438236237,2.25042298436 l0.947546511889,0.414551608264 4.61928933859,0.059221656993 l0.769881531596,-0.177664961666 0.118443313986,-1.06598980725 l-0.829103216529,-1.53976306319 -0.059221656993,-7.46192872524 m-0.059221656993,-0.059221656993 l3.25719118118,-3.79018604755 m-20.9052443504,3.79018604755 l-0.059221656993,3.61252099276 1.12521149218,2.48730957508 l0.118443313986,1.95431470871 -0.296108275652,0.414551608264 l-2.72419631481,0.0 m20.490694046,-9.53468680382 l1.95431470871,6.3959389925 -1.95431470871,3.07952612638 m-6.09983086586,1.77664965391 l1.30287647247,-1.83587133884 0.710659846663,0.177664961666 l0.532994903624,1.30287647247 m0.829103216529,0.177664961666 l0.769881531596,-1.48054137826 0.947546511889,0.177664961666 l0.177664961666,1.06598980725 m-24.6362090111,-0.769881531596 l1.77664965391,-1.30287647247 1.00676819682,1.89509302378 m0.829103216529,-0.118443313986 l0.118443313986,-1.06598980725 0.651438236237,-0.296108275652 m0.355329923332,-0.592216551304 l0.769881531596,-0.592216551304 0.236886627972,1.30287647247 m0.414551608264,0.118443313986 l0.296108275652,-1.12521149218 0.947546511889,0.0 \" fill=\"none\" stroke=\"black\" stroke-width=\"1\"/></svg>"
      ],
      "text/plain": [
       "<IPython.core.display.SVG object>"
      ]
     },
     "metadata": {},
     "output_type": "display_data"
    },
    {
     "name": "stdout",
     "output_type": "stream",
     "text": [
      "in encode(): seq_len = [101]\n"
     ]
    },
    {
     "data": {
      "image/svg+xml": [
       "<svg baseProfile=\"full\" height=\"74.1624362953\" version=\"1.1\" width=\"94.8900164943\" xmlns=\"http://www.w3.org/2000/svg\" xmlns:ev=\"http://www.w3.org/2001/xml-events\" xmlns:xlink=\"http://www.w3.org/1999/xlink\"><defs/><rect fill=\"white\" height=\"74.1624362953\" width=\"94.8900164943\" x=\"0\" y=\"0\"/><path d=\"M27.1319807973,30.1522842422 m0.0,0.0 l0.0,0.0 1.89509302378,-3.43485623598 l2.96108275652,-1.12521149218 4.02707278728,0.236886627972 l4.38240259886,1.65820643306 12.0219957829,-2.48730957508 l3.43485623598,0.532994903624 2.84263938665,-0.414551608264 l1.89509302378,0.947546511889 2.54653126001,-0.118443313986 l2.07275792956,3.25719118118 1.77664965391,6.09983086586 l-0.355329923332,2.84263938665 3.25719118118,0.0 l-0.473773255944,0.769881531596 -3.55329930782,0.532994903624 l-4.02707278728,-2.60575294495 m1.48054137826,-0.947546511889 l2.66497462988,1.77664965391 3.43485623598,1.06598980725 l-2.01353639364,0.296108275652 -3.19796949625,-1.24365478754 l-1.83587133884,-2.01353639364 m4.20473754406,3.02030444145 l0.118443313986,3.79018604755 -1.42131969333,1.53976306319 l-6.63282573223,1.42131969333 0.0,-2.01353639364 l3.43485623598,0.651438236237 2.78341799974,-1.30287647247 l0.355329923332,-2.84263938665 -0.769881531596,-2.19120129943 m-1.12521149218,-2.25042298436 l-1.48054137826,-1.06598980725 m1.06598980725,1.06598980725 l-1.48054137826,-0.236886627972 0.0,0.769881531596 l-2.96108275652,-0.355329923332 m-2.54653126001,-10.3637897968 l-1.65820643306,1.95431470871 -0.236886627972,2.42808789015 l1.77664965391,3.73096436262 1.24365478754,0.532994903624 l2.19120129943,2.66497462988 0.473773255944,-1.06598980725 m-1.89509302378,-0.118443313986 l-1.65820643306,3.55329930782 0.236886627972,7.87648022175 m-6.98815524578,-10.5414545536 l0.236886627972,3.02030444145 3.67174267769,5.21150588989 l-0.059221656993,1.36209815741 -1.48054137826,0.0 l-0.296108275652,1.24365478754 1.59898474813,1.71742811799 l1.00676819682,0.177664961666 1.24365478754,-0.651438236237 l0.532994903624,-1.89509302378 m0.473773255944,0.059221656993 l-0.651438236237,0.355329923332 m-1.12521149218,-11.133671999 l1.53976306319,6.7512691021 m-29.6108293533,-12.9103207588 l0.0,6.45516037941 -1.24365478754,6.69204711914 l0.947546511889,-0.236886627972 0.532994903624,0.888324826956 l0.236886627972,-1.18443310261 m-1.24365478754,-0.710659846663 l-0.236886627972,2.19120129943 m0.532994903624,-2.42808789015 l0.532994903624,2.60575294495 m-0.414551608264,-2.60575294495 l1.06598980725,2.1319796145 m-1.65820643306,-1.95431470871 l-0.532994903624,1.83587133884 m1.95431470871,-14.0355324745 l0.236886627972,6.3959389925 -1.18443310261,5.6260573864 m1.48054137826,-8.29103171825 l0.651438236237,2.01353639364 -0.236886627972,7.10659861565 l-1.83587133884,3.37563455105 -0.177664961666,1.77664965391 l3.61252099276,0.296108275652 1.89509302378,-5.21150588989 l3.37563455105,-3.19796949625 m-4.91539746523,-4.26395922899 l2.48730957508,7.22504198551 3.37563455105,6.21827423573 l4.56006765366,-0.296108275652 -0.710659846663,-3.43485623598 l-2.25042298436,-3.55329930782 -0.059221656993,-2.19120129943 l5.80372214317,2.1319796145 2.60575294495,0.0 l3.73096436262,-1.59898474813 m11.7851102352,-8.17258834839 l1.18443310261,-0.651438236237 0.592216551304,0.414551608264 l-1.24365478754,0.118443313986 \" fill=\"none\" stroke=\"black\" stroke-width=\"1\"/></svg>"
      ],
      "text/plain": [
       "<IPython.core.display.SVG object>"
      ]
     },
     "metadata": {},
     "output_type": "display_data"
    },
    {
     "name": "stdout",
     "output_type": "stream",
     "text": [
      "in encode(): seq_len = [157]\n"
     ]
    },
    {
     "data": {
      "image/svg+xml": [
       "<svg baseProfile=\"full\" height=\"71.379017951\" version=\"1.1\" width=\"81.5651443787\" xmlns=\"http://www.w3.org/2000/svg\" xmlns:ev=\"http://www.w3.org/2001/xml-events\" xmlns:xlink=\"http://www.w3.org/1999/xlink\"><defs/><rect fill=\"white\" height=\"71.379017951\" width=\"81.5651443787\" x=\"0\" y=\"0\"/><path d=\"M25.8883248735,29.974619234 m0.0,0.0 l0.0,0.0 -0.414551608264,2.19120129943 m-0.059221656993,-0.414551608264 l-0.414551608264,1.83587133884 0.0,2.30964466929 l0.414551608264,2.19120129943 4.38240259886,8.29103171825 l0.592216551304,-0.296108275652 -2.1319796145,-4.38240259886 l-0.829103216529,-3.49407762289 -0.118443313986,-2.42808789015 l1.36209815741,-1.42131969333 0.296108275652,-1.59898474813 m-3.25719118118,-2.78341799974 l0.236886627972,-2.1319796145 1.83587133884,-1.59898474813 l1.89509302378,-0.236886627972 m0.059221656993,-0.236886627972 l2.01353639364,-0.710659846663 2.30964466929,-0.059221656993 l1.24365478754,0.355329923332 2.01353639364,1.48054137826 m-6.98815524578,2.1319796145 l0.296108275652,0.947546511889 -0.118443313986,2.36886620522 m-0.059221656993,0.532994903624 l0.0,0.710659846663 1.18443310261,1.42131969333 m0.296108275652,0.0 l0.532994903624,-0.651438236237 0.592216551304,-0.177664961666 m0.177664961666,-0.236886627972 l2.36886620522,-1.42131969333 1.53976306319,-1.71742811799 l0.532994903624,-1.06598980725 0.059221656993,-1.48054137826 l-0.236886627972,-0.888324826956 -0.473773255944,-0.177664961666 m-9.71235156059,3.31641286612 l0.414551608264,-0.236886627972 1.12521149218,0.0 m-0.829103216529,0.710659846663 l0.769881531596,-0.710659846663 m-1.12521149218,0.0 l0.118443313986,0.769881531596 m1.24365478754,3.43485623598 l0.118443313986,0.473773255944 1.24365478754,-0.888324826956 m-1.30287647247,0.414551608264 l-0.710659846663,-0.059221656993 m9.41624343395,-7.1658205986 l0.888324826956,0.236886627972 m-1.18443310261,0.118443313986 l3.13874781132,0.177664961666 3.90862941742,-1.83587133884 l2.54653126001,-0.473773255944 3.61252099276,-0.118443313986 l2.01353639364,0.592216551304 1.89509302378,1.24365478754 l1.77664965391,2.78341799974 m-24.5177650452,5.86294412613 l-0.296108275652,1.77664965391 m0.118443313986,-0.592216551304 l-0.059221656993,1.53976306319 -0.710659846663,3.25719118118 m-0.177664961666,0.473773255944 l-0.355329923332,0.947546511889 0.296108275652,1.30287647247 m0.177664961666,0.532994903624 l-0.414551608264,0.769881531596 0.236886627972,0.296108275652 l2.42808789015,0.118443313986 0.769881531596,-0.177664961666 l0.177664961666,-0.532994903624 -0.473773255944,-0.829103216529 m-0.710659846663,-0.355329923332 l0.355329923332,-1.53976306319 m0.236886627972,1.77664965391 l-0.592216551304,-0.888324826956 0.355329923332,-1.53976306319 m0.0,0.177664961666 l1.59898474813,-3.37563455105 0.059221656993,-0.888324826956 m0.236886627972,-3.55329930782 l-0.177664961666,2.96108275652 m0.0,-1.18443310261 l0.177664961666,6.33671700954 0.414551608264,1.48054137826 l-0.118443313986,1.00676819682 m-0.829103216529,0.947546511889 l2.66497462988,0.296108275652 0.947546511889,-0.473773255944 l-0.473773255944,-1.00676819682 m-0.296108275652,-0.947546511889 l0.177664961666,-2.07275792956 m0.059221656993,2.36886620522 l0.296108275652,-3.31641286612 0.947546511889,-2.42808789015 l0.059221656993,-3.90862941742 m0.592216551304,3.73096436262 l0.710659846663,0.710659846663 m-1.12521149218,-0.296108275652 l0.710659846663,0.651438236237 1.65820643306,0.651438236237 m-0.769881531596,0.0 l6.92893385887,0.236886627972 0.592216551304,-0.118443313986 l0.592216551304,-0.710659846663 m-1.00676819682,-2.01353639364 l0.532994903624,2.01353639364 m-0.769881531596,-2.96108275652 l0.059221656993,1.12521149218 0.710659846663,1.83587133884 l0.947546511889,1.12521149218 m0.059221656993,0.059221656993 l0.118443313986,2.54653126001 m-0.177664961666,0.177664961666 l-0.236886627972,0.710659846663 -0.592216551304,0.414551608264 l0.0,0.473773255944 2.36886620522,0.118443313986 m1.89509302378,-10.8967852592 l0.177664961666,0.651438236237 -0.236886627972,1.48054137826 m-0.177664961666,-0.236886627972 l-0.710659846663,5.92216551304 0.0,2.96108275652 l-0.355329923332,0.236886627972 m3.49407762289,-13.7394249439 l-0.236886627972,3.07952612638 -1.42131969333,4.38240259886 l-0.177664961666,4.44162428379 -0.414551608264,0.296108275652 m1.65820643306,-17.1150588989 l1.89509302378,3.43485623598 0.296108275652,3.84940773249 m-1.53976306319,-2.19120129943 l0.059221656993,-1.53976306319 m-0.236886627972,-0.769881531596 l1.00676819682,3.43485623598 0.0,2.1319796145 l-0.296108275652,0.888324826956 1.00676819682,-3.02030444145 m-29.6108293533,-3.49407762289 l0.118443313986,0.236886627972 m-0.059221656993,0.059221656993 l0.592216551304,0.355329923332 m24.2216587067,13.3248722553 l1.18443310261,0.059221656993 m-17.9441618919,1.59898474813 l0.177664961666,0.592216551304 m0.0,-1.42131969333 l-0.829103216529,0.769881531596 m-3.96785110235,-0.177664961666 l0.236886627972,0.414551608264 m0.118443313986,0.0 l-0.059221656993,0.473773255944 \" fill=\"none\" stroke=\"black\" stroke-width=\"1\"/></svg>"
      ],
      "text/plain": [
       "<IPython.core.display.SVG object>"
      ]
     },
     "metadata": {},
     "output_type": "display_data"
    },
    {
     "name": "stdout",
     "output_type": "stream",
     "text": [
      "in encode(): seq_len = [126]\n"
     ]
    },
    {
     "data": {
      "image/svg+xml": [
       "<svg baseProfile=\"full\" height=\"80.4991528951\" version=\"1.1\" width=\"91.0406075232\" xmlns=\"http://www.w3.org/2000/svg\" xmlns:ev=\"http://www.w3.org/2001/xml-events\" xmlns:xlink=\"http://www.w3.org/1999/xlink\"><defs/><rect fill=\"white\" height=\"80.4991528951\" width=\"91.0406075232\" x=\"0\" y=\"0\"/><path d=\"M38.0287643988,27.4873098545 m0.0,0.0 l0.0,0.0 -2.54653126001,0.651438236237 l-1.83587133884,1.89509302378 -1.00676819682,2.60575294495 m-0.059221656993,0.236886627972 l-1.83587133884,7.04737722874 0.0,2.54653126001 m0.0,0.177664961666 l1.18443310261,4.56006765366 2.90186107159,1.71742811799 m3.43485623598,-9.35702204704 l-2.1319796145,1.48054137826 -1.83587133884,0.473773255944 l-2.48730957508,-0.059221656993 -1.24365478754,-0.651438236237 l0.296108275652,1.06598980725 3.07952612638,1.30287647247 l1.30287647247,0.0 2.78341799974,-0.888324826956 m-7.1658205986,-3.43485623598 l-2.1319796145,0.355329923332 -1.89509302378,-0.177664961666 l-1.83587133884,-1.24365478754 1.48054137826,2.54653126001 l3.25719118118,0.118443313986 m5.21150588989,8.64636182785 l0.888324826956,0.0 0.473773255944,1.18443310261 l0.947546511889,0.059221656993 0.236886627972,-1.77664965391 l1.06598980725,-1.42131969333 -2.36886620522,0.0 l-0.769881531596,-0.414551608264 -1.65820643306,-1.83587133884 l0.0,-1.30287647247 m1.00676819682,-1.95431470871 l3.25719118118,-1.95431470871 0.592216551304,-1.24365478754 m1.95431470871,-6.09983086586 l1.53976306319,-4.73773241043 2.36886620522,-2.25042298436 l1.42131969333,-0.355329923332 1.65820643306,2.01353639364 l1.00676819682,2.48730957508 1.30287647247,4.02707278728 l-0.118443313986,1.48054137826 m-0.059221656993,0.059221656993 l-1.95431470871,3.37563455105 -1.59898474813,1.30287647247 l-1.30287647247,0.0 -1.30287647247,-1.18443310261 m-5.32994925976,-11.074450016 l3.02030444145,0.0 m6.57360374928,0.118443313986 l1.24365478754,0.118443313986 9.94923830032,4.14551585913 l0.947546511889,0.0 m0.0,-0.059221656993 l0.829103216529,0.236886627972 1.48054137826,1.42131969333 l2.42808789015,1.48054137826 0.651438236237,0.829103216529 l0.414551608264,9.06091332436 m0.0,0.177664961666 l-0.829103216529,3.79018604755 -0.829103216529,1.36209815741 l-0.532994903624,4.73773241043 -4.56006765366,0.592216551304 l0.0,-4.79695409536 m-20.490694046,-8.94246995449 l1.18443310261,-2.48730957508 m-0.236886627972,1.00676819682 l0.177664961666,0.355329923332 0.651438236237,0.059221656993 m0.059221656993,0.177664961666 l-0.355329923332,1.36209815741 -1.18443310261,1.71742811799 l-0.532994903624,1.53976306319 m5.44839262962,-1.77664965391 l-2.01353639364,3.19796949625 -1.36209815741,1.48054137826 l-0.592216551304,3.02030444145 -0.651438236237,1.36209815741 m-0.059221656993,0.296108275652 l-0.414551608264,0.651438236237 -0.118443313986,1.06598980725 l2.78341799974,0.355329923332 2.25042298436,-0.177664961666 l0.473773255944,-4.91539746523 m0.0,-0.118443313986 l2.42808789015,-1.77664965391 1.95431470871,-0.769881531596 l1.36209815741,-1.59898474813 1.06598980725,-0.592216551304 m-0.829103216529,0.592216551304 l0.829103216529,0.651438236237 2.19120129943,0.651438236237 l2.54653126001,0.0 m0.473773255944,-4.8561757803 l0.0,3.55329930782 1.77664965391,2.90186107159 l0.414551608264,2.07275792956 m-18.1810486317,-8.23181033134 l0.592216551304,3.13874781132 m-4.79695409536,4.14551585913 l-0.473773255944,0.296108275652 -0.236886627972,0.651438236237 l1.59898474813,1.59898474813 1.48054137826,0.414551608264 m16.7597293854,-5.2707272768 l0.473773255944,1.24365478754 0.592216551304,4.79695409536 l0.355329923332,0.829103216529 0.651438236237,0.177664961666 m7.10659861565,-16.996614933 l0.651438236237,0.829103216529 0.414551608264,1.77664965391 l0.532994903624,8.40947508812 0.236886627972,0.769881531596 l0.059221656993,-1.71742811799 -0.414551608264,-0.829103216529 m-29.6108293533,-11.962774992 l0.651438236237,-1.36209815741 1.06598980725,-0.059221656993 l-0.473773255944,0.769881531596 -1.12521149218,0.236886627972 \" fill=\"none\" stroke=\"black\" stroke-width=\"1\"/></svg>"
      ],
      "text/plain": [
       "<IPython.core.display.SVG object>"
      ]
     },
     "metadata": {},
     "output_type": "display_data"
    },
    {
     "name": "stdout",
     "output_type": "stream",
     "text": [
      "in encode(): seq_len = [83]\n"
     ]
    },
    {
     "data": {
      "image/svg+xml": [
       "<svg baseProfile=\"full\" height=\"91.6328253876\" version=\"1.1\" width=\"87.3096429091\" xmlns=\"http://www.w3.org/2000/svg\" xmlns:ev=\"http://www.w3.org/2001/xml-events\" xmlns:xlink=\"http://www.w3.org/1999/xlink\"><defs/><rect fill=\"white\" height=\"91.6328253876\" width=\"87.3096429091\" x=\"0\" y=\"0\"/><path d=\"M28.6125203967,28.2571917213 m0.0,0.0 l0.0,0.0 0.296108275652,2.66497462988 l-2.01353639364,3.67174267769 -0.414551608264,2.90186107159 l0.177664961666,2.66497462988 1.18443310261,2.48730957508 l2.54653126001,1.95431470871 5.09306252003,0.236886627972 l-2.48730957508,1.24365478754 -0.710659846663,1.18443310261 l3.13874781132,-0.414551608264 2.01353639364,1.00676819682 l3.61252099276,0.059221656993 2.1319796145,1.53976306319 m0.888324826956,-0.296108275652 l1.00676819682,4.02707278728 0.296108275652,5.80372214317 l-0.592216551304,7.28426396847 4.61928933859,0.355329923332 l0.829103216529,-1.12521149218 0.0,-7.81725883484 l0.888324826956,-3.49407762289 0.177664961666,-5.21150588989 m-0.059221656993,2.36886620522 l3.84940773249,1.53976306319 5.80372214317,0.177664961666 l1.42131969333,-0.532994903624 m-19.9576985836,-3.61252099276 l0.177664961666,3.84940773249 -3.43485623598,6.7512691021 l0.059221656993,1.59898474813 1.59898474813,3.49407762289 l2.19120129943,-0.059221656993 2.1319796145,-0.710659846663 l-0.888324826956,-2.42808789015 0.0,-1.95431470871 l0.592216551304,-1.71742811799 m-16.6412854195,-29.6108293533 l-0.473773255944,-0.592216551304 0.829103216529,-0.059221656993 l0.355329923332,-1.12521149218 1.18443310261,3.37563455105 l-0.355329923332,7.58037209511 0.296108275652,2.30964466929 l1.42131969333,1.00676819682 1.36209815741,0.0 l1.30287647247,-0.651438236237 1.18443310261,-2.42808789015 m0.0,0.059221656993 l1.36209815741,-2.19120129943 1.59898474813,-0.177664961666 l3.55329930782,-2.19120129943 3.19796949625,0.355329923332 l2.19120129943,1.71742811799 1.12521149218,0.296108275652 m-0.710659846663,-0.710659846663 l3.07952612638,-1.36209815741 2.42808789015,-0.296108275652 l6.92893385887,-0.059221656993 1.95431470871,0.473773255944 m-19.3654811382,2.1319796145 l4.44162428379,0.177664961666 0.947546511889,1.71742811799 l0.0,1.65820643306 -1.42131969333,3.37563455105 l-1.77664965391,2.19120129943 -2.36886620522,0.0 l-1.24365478754,-2.36886620522 m-2.36886620522,-5.98138749599 l-1.12521149218,0.177664961666 -0.710659846663,1.00676819682 l2.1319796145,-1.00676819682 m-1.48054137826,0.177664961666 l0.532994903624,0.118443313986 0.118443313986,-0.473773255944 l-0.532994903624,-0.059221656993 m-10.7783412933,-3.73096436262 l0.0,-3.25719118118 -1.95431470871,-1.89509302378 l0.829103216529,-0.473773255944 0.118443313986,-1.95431470871 l2.96108275652,2.25042298436 1.00676819682,2.19120129943 \" fill=\"none\" stroke=\"black\" stroke-width=\"1\"/></svg>"
      ],
      "text/plain": [
       "<IPython.core.display.SVG object>"
      ]
     },
     "metadata": {},
     "output_type": "display_data"
    },
    {
     "name": "stdout",
     "output_type": "stream",
     "text": [
      "in encode(): seq_len = [122]\n"
     ]
    },
    {
     "data": {
      "image/svg+xml": [
       "<svg baseProfile=\"full\" height=\"111.590523683\" version=\"1.1\" width=\"136.285956353\" xmlns=\"http://www.w3.org/2000/svg\" xmlns:ev=\"http://www.w3.org/2001/xml-events\" xmlns:xlink=\"http://www.w3.org/1999/xlink\"><defs/><rect fill=\"white\" height=\"111.590523683\" width=\"136.285956353\" x=\"0\" y=\"0\"/><path d=\"M26.0067703575,41.2859560177 m0.0,0.0 l0.0,0.0 3.31641286612,-5.98138749599 l2.84263938665,-3.43485623598 11.4297795296,-5.09306252003 l9.77157354355,-0.829103216529 15.4568529129,1.83587133884 m0.0,-0.236886627972 l12.0219957829,-2.54653126001 4.14551585913,0.118443313986 l4.50084596872,1.59898474813 2.19120129943,2.01353639364 l1.59898474813,2.90186107159 3.13874781132,7.99492359161 l0.592216551304,3.31641286612 m0.118443313986,-0.532994903624 l-0.532994903624,2.90186107159 m0.0,-0.177664961666 l2.84263938665,9.29780006409 3.19796949625,2.60575294495 l2.72419631481,-0.769881531596 0.829103216529,-3.61252099276 l-1.77664965391,-1.77664965391 -6.27749562263,-1.30287647247 l-0.118443313986,-0.947546511889 1.65820643306,-0.592216551304 l0.414551608264,-1.36209815741 6.86971247196,0.769881531596 l2.25042298436,1.30287647247 1.30287647247,1.83587133884 l0.769881531596,2.90186107159 -0.473773255944,4.50084596872 l-1.77664965391,3.31641286612 -2.30964466929,1.83587133884 l-7.69881546497,0.888324826956 -6.21827423573,-1.59898474813 l-3.84940773249,-3.61252099276 -3.25719118118,-0.592216551304 l-3.79018604755,-4.61928933859 m5.98138749599,5.44839262962 l0.118443313986,5.09306252003 -1.77664965391,-0.118443313986 l-1.48054137826,-2.96108275652 -3.31641286612,0.473773255944 l-6.69204711914,-0.829103216529 -2.60575294495,-1.06598980725 m1.12521149218,-29.6108293533 l-2.66497462988,0.0 -7.22504198551,1.71742811799 l-3.55329930782,7.40270733833 0.0,0.710659846663 l3.02030444145,2.66497462988 2.48730957508,3.79018604755 l1.83587133884,4.56006765366 2.48730957508,0.296108275652 l0.710659846663,-1.48054137826 m-7.81725883484,-16.3451766968 l10.5414545536,-1.65820643306 m-3.25719118118,17.8257191181 l0.355329923332,0.177664961666 2.72419631481,-4.79695409536 l2.19120129943,0.532994903624 m9.47546482086,-2.66497462988 l2.54653126001,0.710659846663 0.236886627972,1.00676819682 l-1.77664965391,0.0 -1.00676819682,-1.53976306319 m-6.69204711914,18.5956001282 l9.00169193745,6.51438236237 2.30964466929,2.54653126001 l1.18443310261,2.78341799974 m-24.3993234634,-6.98815524578 l2.1319796145,2.66497462988 6.7512691021,4.79695409536 l3.55329930782,1.24365478754 7.63959348202,0.769881531596 l0.118443313986,6.27749562263 3.13874781132,0.0 m1.06598980725,-9.29780006409 l2.78341799974,6.69204711914 0.0,1.48054137826 l-4.14551585913,1.30287647247 m-23.2741117477,-15.8121824265 l-1.00676819682,9.59390819073 -3.07952612638,4.8561757803 m-13.5617589951,-22.3265647888 l4.73773241043,10.1861250401 2.90186107159,1.59898474813 l-0.947546511889,4.38240259886 0.236886627972,5.2707272768 l-1.36209815741,5.44839262962 m7.99492359161,-4.73773241043 l1.65820643306,4.26395922899 -1.12521149218,1.18443310261 l-6.7512691021,0.355329923332 -2.25042298436,-1.48054137826 m-2.19120129943,-20.0761413574 l-8.35025370121,0.651438236237 -4.44162428379,-0.473773255944 l-3.31641286612,-1.30287647247 m-7.81725883484,-19.1285955906 l1.48054137826,7.52115011215 2.36886620522,5.6260573864 l2.07275792956,3.07952612638 2.66497462988,1.89509302378 m-9.83079493046,-4.14551585913 l1.53976306319,4.56006765366 5.6260573864,7.04737722874 l1.18443310261,3.19796949625 m3.73096436262,-8.23181033134 l0.0,8.40947508812 m-3.96785110235,0.0 l0.710659846663,9.47546482086 2.84263938665,0.769881531596 l1.83587133884,0.0 0.769881531596,-0.651438236237 m-1.95431470871,-10.0084602833 l2.19120129943,3.84940773249 1.18443310261,4.67851102352 l-0.296108275652,1.36209815741 -1.18443310261,0.769881531596 m-15.0423002243,-28.2487297058 l0.532994903624,2.60575294495 \" fill=\"none\" stroke=\"black\" stroke-width=\"1\"/></svg>"
      ],
      "text/plain": [
       "<IPython.core.display.SVG object>"
      ]
     },
     "metadata": {},
     "output_type": "display_data"
    },
    {
     "name": "stdout",
     "output_type": "stream",
     "text": [
      "in encode(): seq_len = [104]\n"
     ]
    },
    {
     "data": {
      "image/svg+xml": [
       "<svg baseProfile=\"full\" height=\"104.306259286\" version=\"1.1\" width=\"82.6311341114\" xmlns=\"http://www.w3.org/2000/svg\" xmlns:ev=\"http://www.w3.org/2001/xml-events\" xmlns:xlink=\"http://www.w3.org/1999/xlink\"><defs/><rect fill=\"white\" height=\"104.306259286\" width=\"82.6311341114\" x=\"0\" y=\"0\"/><path d=\"M33.3502537198,50.2284255624 m0.0,0.0 l0.0,0.0 -0.473773255944,2.07275792956 l1.65820643306,3.55329930782 -0.177664961666,3.79018604755 l1.30287647247,2.72419631481 0.0,2.42808789015 l-1.12521149218,1.30287647247 -4.61928933859,2.30964466929 l-3.25719118118,2.60575294495 -1.30287647247,2.30964466929 l-0.355329923332,3.43485623598 0.592216551304,1.53976306319 l1.42131969333,0.829103216529 1.00676819682,0.177664961666 l1.24365478754,-1.00676819682 1.00676819682,0.0 l-0.473773255944,-0.118443313986 -0.355329923332,-1.59898474813 l2.01353639364,-3.49407762289 6.33671700954,-2.48730957508 l2.60575294495,-3.19796949625 1.12521149218,-2.78341799974 l0.118443313986,-5.21150588989 2.01353639364,-4.32318091393 m-10.7191193104,-5.2707272768 l2.60575294495,-3.96785110235 1.65820643306,-1.12521149218 m-0.710659846663,0.532994903624 l0.651438236237,-7.75803685188 2.54653126001,-6.3959389925 l2.66497462988,-3.25719118118 2.25042298436,-1.65820643306 l3.96785110235,-1.18443310261 2.36886620522,0.0 l2.90186107159,1.18443310261 m-10.3045678139,28.9593911171 l0.829103216529,0.592216551304 0.236886627972,2.90186107159 l3.55329930782,-3.73096436262 m8.05414557457,-25.5245351791 l1.42131969333,5.56683599949 -0.177664961666,6.98815524578 l-1.83587133884,4.50084596872 -3.25719118118,3.73096436262 m0.059221656993,0.177664961666 l0.0,5.68527877331 -1.30287647247,5.68527877331 m-4.08629417419,-5.44839262962 l0.414551608264,6.92893385887 4.32318091393,-0.769881531596 l0.177664961666,-0.888324826956 -1.06598980725,-0.888324826956 m-8.46869707108,-3.19796949625 l0.651438236237,4.08629417419 0.829103216529,1.30287647247 l-2.48730957508,1.24365478754 m6.33671700954,-9.17935669422 l0.236886627972,-2.36886620522 -1.12521149218,-2.66497462988 m-4.26395922899,-3.73096436262 l3.96785110235,-2.54653126001 2.30964466929,0.296108275652 l0.651438236237,2.90186107159 -0.532994903624,5.09306252003 l-0.710659846663,1.06598980725 m-9.35702204704,-7.99492359161 l1.65820643306,-0.236886627972 0.947546511889,0.473773255944 m-1.18443310261,8.94246995449 l-1.12521149218,1.59898474813 0.0,1.00676819682 l0.532994903624,-0.118443313986 0.296108275652,-1.95431470871 l-0.473773255944,-0.059221656993 -0.236886627972,1.00676819682 m14.6277487278,-29.6108293533 l1.65820643306,2.36886620522 0.296108275652,2.07275792956 m1.42131969333,11.4297795296 l-0.651438236237,8.05414557457 -1.65820643306,1.83587133884 l-0.710659846663,-4.20473754406 m0.592216551304,3.49407762289 l0.296108275652,-1.77664965391 0.947546511889,0.0 l0.0,0.888324826956 m-8.29103171825,12.2588825226 l0.414551608264,-2.36886620522 0.651438236237,0.0 l0.710659846663,2.25042298436 m0.651438236237,-0.532994903624 l0.236886627972,-1.65820643306 1.30287647247,1.24365478754 m-10.1269030571,1.83587133884 l0.177664961666,-1.00676819682 1.30287647247,0.118443313986 m-6.3959389925,-18.0626058578 l1.53976306319,0.473773255944 0.651438236237,-0.414551608264 m-5.38917064667,2.96108275652 l-2.25042298436,-0.888324826956 -1.65820643306,2.42808789015 l0.296108275652,2.36886620522 3.25719118118,3.25719118118 \" fill=\"none\" stroke=\"black\" stroke-width=\"1\"/></svg>"
      ],
      "text/plain": [
       "<IPython.core.display.SVG object>"
      ]
     },
     "metadata": {},
     "output_type": "display_data"
    },
    {
     "name": "stdout",
     "output_type": "stream",
     "text": [
      "in encode(): seq_len = [121]\n"
     ]
    },
    {
     "data": {
      "image/svg+xml": [
       "<svg baseProfile=\"full\" height=\"172.115055248\" version=\"1.1\" width=\"117.749575907\" xmlns=\"http://www.w3.org/2000/svg\" xmlns:ev=\"http://www.w3.org/2001/xml-events\" xmlns:xlink=\"http://www.w3.org/1999/xlink\"><defs/><rect fill=\"white\" height=\"172.115055248\" width=\"117.749575907\" x=\"0\" y=\"0\"/><path d=\"M66.0998303257,27.1912007127 m0.0,0.0 l0.0,0.0 -6.27749562263,0.355329923332 l-4.32318091393,4.73773241043 -0.177664961666,17.3519456387 m12.732656002,-18.7732648849 l-3.37563455105,0.059221656993 -2.60575294495,3.90862941742 l0.059221656993,14.5685279369 -1.36209815741,3.02030444145 m-0.473773255944,-0.710659846663 l-14.9238574505,-0.829103216529 -5.50761401653,6.86971247196 l0.059221656993,8.11336696148 m13.1472074986,-4.79695409536 l-2.96108275652,-0.592216551304 -1.53976306319,1.77664965391 l-1.00676819682,6.3959389925 2.25042298436,4.02707278728 l3.37563455105,2.1319796145 m4.02707278728,-18.4179353714 l0.710659846663,2.84263938665 -0.118443313986,-3.61252099276 m-18.4771573544,10.7783412933 l0.0,2.84263938665 m0.0,-3.79018604755 l0.0,4.38240259886 m0.296108275652,-2.78341799974 l-0.651438236237,4.97461915016 -9.59390819073,13.680202961 l-4.38240259886,14.6277487278 0.0,4.97461915016 l2.90186107159,7.52115011215 8.23181033134,8.35025370121 m-0.829103216529,-7.22504198551 l0.473773255944,6.27749562263 6.33671700954,10.4230117798 l17.4111676216,10.8375632763 m-20.5499148369,-27.5380706787 l0.296108275652,7.99492359161 3.07952612638,5.68527877331 l16.8189501762,12.4957692623 m-23.9847707748,-25.58375597 l6.3959389925,0.296108275652 m-1.36209815741,8.40947508812 l6.86971247196,2.72419631481 0.0,3.61252099276 m10.0084602833,-2.25042298436 l-0.296108275652,8.35025370121 m-10.6006765366,-8.64636182785 l0.592216551304,5.74450075626 m-1.53976306319,2.36886620522 l0.592216551304,8.05414557457 10.1269030571,1.89509302378 m0.473773255944,-5.2707272768 l0.0,3.61252099276 m1.24365478754,-10.8375632763 l0.296108275652,2.72419631481 m-0.592216551304,-6.51438236237 l1.53976306319,2.01353639364 m1.53976306319,-0.177664961666 l0.0,8.88324856758 m-0.592216551304,2.96108275652 l0.532994903624,4.38240259886 8.23181033134,0.236886627972 m-0.059221656993,-15.338408947 l0.888324826956,13.5025382042 m-0.592216551304,-13.5025382042 l1.24365478754,-4.79695409536 m1.18443310261,-1.12521149218 l0.592216551304,-5.15228390694 -2.48730957508,-2.84263938665 m1.89509302378,0.829103216529 l2.30964466929,-5.09306252003 m0.473773255944,0.710659846663 l1.83587133884,-11.4297795296 -1.24365478754,-6.27749562263 m-9.65313017368,-27.9526209831 l1.71742811799,-1.24365478754 m-6.69204711914,-8.40947508812 l2.48730957508,-1.77664965391 0.888324826956,-8.64636182785 m-0.888324826956,7.34348535538 l1.83587133884,-10.245347023 -2.48730957508,-7.40270733833 m4.38240259886,-13.2656514645 l2.36886620522,1.77664965391 -0.829103216529,2.72419631481 m-5.2707272768,29.6108293533 l3.61252099276,0.888324826956 m-3.61252099276,1.83587133884 l3.55329930782,-4.20473754406 0.769881531596,-8.17258834839 l-5.92216551304,-9.17935669422 -0.177664961666,-5.6260573864 m3.31641286612,27.241961956 l5.2707272768,0.947546511889 0.651438236237,2.90186107159 l-2.25042298436,-0.473773255944 -1.42131969333,6.0406088829 l-4.73773241043,0.473773255944 m2.84263938665,3.07952612638 l2.66497462988,4.02707278728 8.29103171825,-0.177664961666 m-8.11336696148,10.5414545536 l8.88324856758,0.592216551304 8.64636182785,-8.40947508812 l2.30964466929,0.532994903624 2.66497462988,3.79018604755 l2.25042298436,0.177664961666 0.710659846663,-6.45516037941 l-3.79018604755,-3.79018604755 -6.51438236237,-0.473773255944 l-7.1658205986,2.42808789015 m0.355329923332,18.1810486317 l-3.25719118118,-5.44839262962 m4.50084596872,8.88324856758 l3.49407762289,-0.414551608264 2.72419631481,-2.84263938665 l0.0,-2.48730957508 -3.19796949625,-1.95431470871 l-1.71742811799,-4.26395922899 \" fill=\"none\" stroke=\"black\" stroke-width=\"1\"/></svg>"
      ],
      "text/plain": [
       "<IPython.core.display.SVG object>"
      ]
     },
     "metadata": {},
     "output_type": "display_data"
    },
    {
     "name": "stdout",
     "output_type": "stream",
     "text": [
      "in encode(): seq_len = [54]\n"
     ]
    },
    {
     "data": {
      "image/svg+xml": [
       "<svg baseProfile=\"full\" height=\"96.1928929389\" version=\"1.1\" width=\"133.02876398\" xmlns=\"http://www.w3.org/2000/svg\" xmlns:ev=\"http://www.w3.org/2001/xml-events\" xmlns:xlink=\"http://www.w3.org/1999/xlink\"><defs/><rect fill=\"white\" height=\"96.1928929389\" width=\"133.02876398\" x=\"0\" y=\"0\"/><path d=\"M25.3553302586,58.1049065012 m0.0,0.0 l0.0,0.0 5.21150588989,0.0 l2.66497462988,-2.01353639364 7.34348535538,-20.1945853233 l6.21827423573,-8.11336696148 9.12013530731,-0.651438236237 l7.28426396847,1.59898474813 11.962774992,-3.67174267769 l12.1404397488,-0.059221656993 10.1269030571,4.56006765366 l10.6006765366,14.509305954 -6.57360374928,-4.61928933859 l0.651438236237,11.0152280331 -3.37563455105,6.63282573223 l3.43485623598,6.27749562263 -4.50084596872,3.67174267769 l-1.06598980725,-2.96108275652 m-6.92893385887,-13.4433162212 l0.888324826956,20.3130292892 6.98815524578,0.0 l-1.24365478754,-11.5482234955 2.48730957508,-2.42808789015 m-10.5414545536,0.888324826956 l-14.6869707108,1.00676819682 -9.35702204704,-4.61928933859 m-0.473773255944,-3.31641286612 l1.06598980725,3.31641286612 -2.84263938665,5.50761401653 l-0.296108275652,9.89001691341 -8.05414557457,1.53976306319 l-0.473773255944,-22.8595590591 m-1.30287647247,2.78341799974 l-3.73096436262,6.7512691021 -1.30287647247,8.76480519772 l5.15228390694,0.710659846663 -0.651438236237,-3.07952612638 l3.31641286612,-3.55329930782 m-29.6108293533,-2.66497462988 l0.059221656993,1.83587133884 10.0676810741,-0.532994903624 l10.6006765366,-16.16751194 m-1.24365478754,3.90862941742 l3.67174267769,0.118443313986 2.01353639364,-1.71742811799 l2.60575294495,5.32994925976 m-0.296108275652,-15.7529604435 l4.26395922899,-0.355329923332 0.829103216529,6.57360374928 l-2.90186107159,3.67174267769 -1.24365478754,-0.355329923332 l-2.01353639364,-2.72419631481 0.177664961666,-5.15228390694 m-6.86971247196,2.60575294495 l2.36886620522,-0.710659846663 \" fill=\"none\" stroke=\"black\" stroke-width=\"1\"/></svg>"
      ],
      "text/plain": [
       "<IPython.core.display.SVG object>"
      ]
     },
     "metadata": {},
     "output_type": "display_data"
    },
    {
     "name": "stdout",
     "output_type": "stream",
     "text": [
      "in encode(): seq_len = [168]\n"
     ]
    },
    {
     "data": {
      "image/svg+xml": [
       "<svg baseProfile=\"full\" height=\"70.6683588121\" version=\"1.1\" width=\"88.5532989725\" xmlns=\"http://www.w3.org/2000/svg\" xmlns:ev=\"http://www.w3.org/2001/xml-events\" xmlns:xlink=\"http://www.w3.org/1999/xlink\"><defs/><rect fill=\"white\" height=\"70.6683588121\" width=\"88.5532989725\" x=\"0\" y=\"0\"/><path d=\"M33.0541434325,29.0270726383 m0.0,0.0 l0.0,0.0 2.72419631481,-2.54653126001 l4.56006765366,-1.48054137826 6.63282573223,0.059221656993 l2.01353639364,0.532994903624 2.30964466929,1.30287647247 l0.592216551304,-0.059221656993 1.24365478754,-1.18443310261 l1.77664965391,-0.355329923332 2.25042298436,0.296108275652 l3.07952612638,1.89509302378 1.95431470871,8.35025370121 l-0.118443313986,3.02030444145 -0.473773255944,1.12521149218 l-0.414551608264,0.414551608264 -1.06598980725,0.0 l-0.532994903624,-0.532994903624 m-26.6497445107,-10.9560060501 l-1.30287647247,2.66497462988 m22.4450087547,-4.38240259886 l-2.36886620522,-0.236886627972 -0.651438236237,0.296108275652 l-0.473773255944,0.651438236237 0.0,1.30287647247 l3.61252099276,3.84940773249 2.25042298436,0.414551608264 l0.532994903624,-0.947546511889 m0.296108275652,0.296108275652 l2.36886620522,0.118443313986 -0.769881531596,-0.829103216529 m-0.888324826956,-1.95431470871 l5.44839262962,1.53976306319 m-5.32994925976,-0.118443313986 l4.38240259886,0.710659846663 1.06598980725,-0.059221656993 l-0.059221656993,-0.532994903624 m-2.54653126001,-0.414551608264 l1.06598980725,0.059221656993 m-1.89509302378,0.473773255944 l2.42808789015,0.296108275652 m-1.00676819682,-0.059221656993 l0.236886627972,0.888324826956 m-2.07275792956,0.118443313986 l0.888324826956,5.03384053707 -1.53976306319,0.177664961666 l-0.059221656993,0.829103216529 -0.532994903624,0.355329923332 l1.18443310261,0.236886627972 m-0.059221656993,-7.34348535538 l-0.296108275652,-0.592216551304 m-2.48730957508,-4.79695409536 l0.710659846663,0.0 0.710659846663,0.888324826956 m-1.06598980725,-1.00676819682 l0.0,0.710659846663 0.473773255944,0.177664961666 l-0.296108275652,0.0 m0.236886627972,-0.651438236237 l0.177664961666,0.473773255944 m-0.414551608264,5.74450075626 l-0.414551608264,1.00676819682 -1.65820643306,1.06598980725 l-0.414551608264,0.888324826956 m-0.888324826956,-0.651438236237 l1.06598980725,2.54653126001 2.72419631481,3.84940773249 m-8.23181033134,-4.73773241043 l2.78341799974,3.84940773249 1.18443310261,2.42808789015 l0.473773255944,2.1319796145 2.42808789015,-0.118443313986 l0.651438236237,-0.414551608264 0.177664961666,-1.18443310261 m0.236886627972,-1.89509302378 l0.118443313986,2.90186107159 -1.53976306319,0.236886627972 m1.36209815741,-3.31641286612 l0.296108275652,0.532994903624 0.0,2.42808789015 l-2.25042298436,0.532994903624 m-1.59898474813,0.118443313986 l0.0,-0.947546511889 0.414551608264,-0.355329923332 l0.947546511889,0.296108275652 0.118443313986,0.829103216529 m0.888324826956,-0.355329923332 l0.236886627972,-1.48054137826 0.829103216529,0.0 l0.177664961666,0.769881531596 m-25.9390854836,-13.1472074986 l0.0,4.32318091393 1.42131969333,2.78341799974 l3.07952612638,3.61252099276 1.06598980725,3.13874781132 l3.73096436262,0.0 0.177664961666,-1.83587133884 l-1.77664965391,-5.09306252003 -3.02030444145,-4.79695409536 m1.83587133884,11.6666662693 l0.0,-0.947546511889 0.651438236237,0.0 l0.651438236237,1.00676819682 m0.710659846663,-0.059221656993 l0.0,-0.947546511889 0.769881531596,0.296108275652 m-9.77157354355,-11.133671999 l-0.532994903624,1.89509302378 -1.71742811799,3.07952612638 l-1.83587133884,5.56683599949 1.59898474813,0.769881531596 l2.36886620522,-0.118443313986 0.829103216529,-1.12521149218 l1.53976306319,-4.79695409536 m-5.80372214317,5.56683599949 l1.48054137826,-1.12521149218 0.592216551304,0.947546511889 m1.30287647247,-0.888324826956 l0.532994903624,0.947546511889 m-1.65820643306,0.355329923332 l0.592216551304,-1.12521149218 0.355329923332,-0.118443313986 l0.414551608264,0.355329923332 m7.46192872524,-5.86294412613 l3.73096436262,0.888324826956 5.03384053707,-0.059221656993 l1.36209815741,-0.710659846663 0.532994903624,-1.18443310261 m-3.19796949625,2.07275792956 l-2.07275792956,3.02030444145 -2.30964466929,1.24365478754 l0.177664961666,0.769881531596 1.89509302378,1.12521149218 l2.1319796145,0.118443313986 0.296108275652,-0.236886627972 l2.07275792956,-3.49407762289 1.65820643306,-1.71742811799 m-7.1658205986,3.84940773249 l1.06598980725,0.0 0.118443313986,1.42131969333 m0.473773255944,0.0 l0.532994903624,-0.888324826956 0.769881531596,0.651438236237 m-15.1015222073,-13.7394249439 l-0.059221656993,0.888324826956 -0.947546511889,1.30287647247 l-2.30964466929,1.30287647247 -1.00676819682,1.00676819682 l-1.24365478754,3.67174267769 0.236886627972,0.710659846663 l0.473773255944,-0.473773255944 -0.177664961666,-0.829103216529 l0.296108275652,-1.65820643306 0.829103216529,-1.59898474813 l2.54653126001,-1.06598980725 1.53976306319,-1.53976306319 m29.6108293533,-1.30287647247 l1.95431470871,-0.118443313986 0.769881531596,-0.532994903624 l-0.532994903624,0.710659846663 -2.01353639364,0.532994903624 m0.059221656993,-1.71742811799 l1.06598980725,0.0 0.888324826956,-0.473773255944 l-0.355329923332,0.651438236237 -1.53976306319,0.532994903624 m-3.19796949625,-1.06598980725 l-0.414551608264,0.473773255944 0.296108275652,1.00676819682 \" fill=\"none\" stroke=\"black\" stroke-width=\"1\"/></svg>"
      ],
      "text/plain": [
       "<IPython.core.display.SVG object>"
      ]
     },
     "metadata": {},
     "output_type": "display_data"
    },
    {
     "name": "stdout",
     "output_type": "stream",
     "text": [
      "in encode(): seq_len = [62]\n"
     ]
    },
    {
     "data": {
      "image/svg+xml": [
       "<svg baseProfile=\"full\" height=\"88.6717414297\" version=\"1.1\" width=\"79.6108287573\" xmlns=\"http://www.w3.org/2000/svg\" xmlns:ev=\"http://www.w3.org/2001/xml-events\" xmlns:xlink=\"http://www.w3.org/1999/xlink\"><defs/><rect fill=\"white\" height=\"88.6717414297\" width=\"79.6108287573\" x=\"0\" y=\"0\"/><path d=\"M29.61928837,28.434856236 m0.0,0.0 l0.0,0.0 2.78341799974,-2.78341799974 l2.72419631481,-0.651438236237 4.50084596872,1.83587133884 l1.77664965391,-1.00676819682 3.37563455105,0.592216551304 l2.19120129943,2.72419631481 m-17.2335016727,-0.414551608264 l-4.26395922899,4.38240259886 -0.473773255944,3.37563455105 l1.89509302378,4.20473754406 2.84263938665,2.1319796145 m-3.19796949625,-8.29103171825 l0.355329923332,2.48730957508 4.14551585913,0.177664961666 l-2.25042298436,3.13874781132 m1.48054137826,-10.1269030571 l0.236886627972,6.3959389925 m-0.769881531596,5.86294412613 l1.53976306319,-0.888324826956 0.0,-4.02707278728 m0.0,0.888324826956 l-0.236886627972,8.29103171825 2.30964466929,2.1319796145 l2.96108275652,10.8967852592 m9.35702204704,-23.5109972954 l-3.73096436262,21.8527913094 m4.26395922899,-29.6108293533 l1.30287647247,6.33671700954 -1.42131969333,1.89509302378 m0.651438236237,-6.09983086586 l5.09306252003,3.19796949625 2.54653126001,7.22504198551 l-10.5414545536,1.24365478754 m-15.8714044094,-1.06598980725 l-2.30964466929,11.0152280331 0.355329923332,8.11336696148 m4.8561757803,-13.5025382042 l-3.37563455105,13.2656514645 -1.30287647247,0.829103216529 m6.81049048901,-12.791877985 l-1.59898474813,12.6142132282 m4.50084596872,-1.59898474813 l3.31641286612,4.50084596872 2.1319796145,0.0 l2.25042298436,-3.37563455105 -1.83587133884,-2.78341799974 m-7.75803685188,-4.20473754406 l-1.59898474813,6.27749562263 -1.83587133884,1.00676819682 m11.4890015125,-8.64636182785 l2.19120129943,7.9357022047 1.77664965391,-0.414551608264 l-2.07275792956,-11.074450016 m10.6598985195,-7.40270733833 l-2.36886620522,5.32994925976 0.532994903624,12.732656002 l-6.45516037941,0.296108275652 m-4.73773241043,-20.3130292892 l1.77664965391,0.769881531596 m-10.3045678139,-0.769881531596 l-2.07275792956,0.888324826956 \" fill=\"none\" stroke=\"black\" stroke-width=\"1\"/></svg>"
      ],
      "text/plain": [
       "<IPython.core.display.SVG object>"
      ]
     },
     "metadata": {},
     "output_type": "display_data"
    },
    {
     "name": "stdout",
     "output_type": "stream",
     "text": [
      "in encode(): seq_len = [125]\n"
     ]
    },
    {
     "data": {
      "image/svg+xml": [
       "<svg baseProfile=\"full\" height=\"87.4280866515\" version=\"1.1\" width=\"89.0270719957\" xmlns=\"http://www.w3.org/2000/svg\" xmlns:ev=\"http://www.w3.org/2001/xml-events\" xmlns:xlink=\"http://www.w3.org/1999/xlink\"><defs/><rect fill=\"white\" height=\"87.4280866515\" width=\"89.0270719957\" x=\"0\" y=\"0\"/><path d=\"M61.3620977663,27.842639368 m0.0,0.0 l0.0,0.0 1.24365478754,3.67174267769 l0.296108275652,6.0406088829 -0.888324826956,2.1319796145 l0.0,3.84940773249 0.414551608264,4.91539746523 l1.24365478754,6.57360374928 0.0,5.50761401653 m0.059221656993,-0.059221656993 l0.118443313986,1.00676819682 m-6.7512691021,-18.1218266487 l1.18443310261,1.36209815741 0.710659846663,1.89509302378 l1.77664965391,15.6345176697 m3.13874781132,-1.77664965391 l0.118443313986,1.77664965391 m-6.81049048901,-18.6548221111 l-2.66497462988,-2.25042298436 m7.1658205986,-13.620980978 l-1.24365478754,-0.947546511889 m1.12521149218,1.59898474813 l-0.888324826956,-1.18443310261 -1.65820643306,-0.651438236237 l-4.97461915016,-0.059221656993 -2.72419631481,2.01353639364 l-0.947546511889,1.95431470871 0.0,1.42131969333 m0.473773255944,-2.30964466929 l-2.54653126001,-0.414551608264 -1.06598980725,0.710659846663 l-1.65820643306,3.07952612638 -0.414551608264,2.84263938665 l0.0,1.77664965391 0.355329923332,0.473773255944 l4.20473754406,2.72419631481 0.888324826956,0.118443313986 l0.947546511889,-1.83587133884 0.059221656993,-1.12521149218 l0.0,-2.01353639364 -0.947546511889,-1.48054137826 m3.55329930782,-0.177664961666 l1.42131969333,-0.118443313986 0.829103216529,0.769881531596 m-1.36209815741,-0.769881531596 l0.296108275652,0.829103216529 0.947546511889,-0.177664961666 m-1.95431470871,4.20473754406 l1.42131969333,3.55329930782 m-3.90862941742,-1.24365478754 l0.710659846663,1.36209815741 2.72419631481,1.00676819682 m-2.42808789015,-16.4043986797 l-8.29103171825,-1.83587133884 -5.74450075626,-0.414551608264 l-3.79018604755,1.06598980725 -5.92216551304,3.43485623598 l-2.78341799974,2.72419631481 -1.42131969333,4.79695409536 l0.0,4.02707278728 1.36209815741,4.56006765366 m29.6108293533,-1.42131969333 l0.592216551304,3.07952612638 m0.059221656993,-0.236886627972 l0.296108275652,5.38917064667 -0.473773255944,8.64636182785 m-6.45516037941,-15.4568529129 l3.43485623598,-0.532994903624 1.83587133884,-0.888324826956 m-3.37563455105,2.07275792956 l0.236886627972,0.532994903624 m-0.888324826956,-0.829103216529 l0.592216551304,3.13874781132 0.236886627972,11.133671999 l-0.888324826956,1.65820643306 3.55329930782,0.414551608264 m1.71742811799,-1.77664965391 l0.592216551304,1.18443310261 m-13.9763104916,-20.1945853233 l0.414551608264,0.118443313986 0.0,0.414551608264 m-0.059221656993,-2.19120129943 l-0.118443313986,3.55329930782 1.18443310261,2.48730957508 l1.06598980725,6.3959389925 0.059221656993,6.81049048901 l-1.06598980725,2.19120129943 0.947546511889,0.532994903624 l1.30287647247,0.0 m2.48730957508,-20.6683588028 l0.473773255944,3.31641286612 m-0.414551608264,-3.31641286612 l1.24365478754,10.1861250401 0.0,8.88324856758 l-0.414551608264,1.36209815741 -3.25719118118,0.414551608264 m-2.36886620522,-14.2131972313 l-8.82402658463,0.414551608264 -2.60575294495,-0.414551608264 m-6.7512691021,-3.25719118118 l0.829103216529,5.44839262962 0.0,9.12013530731 l-0.473773255944,2.07275792956 1.36209815741,0.651438236237 l1.48054137826,0.059221656993 m0.710659846663,-14.5685279369 l0.473773255944,2.54653126001 0.236886627972,11.6666662693 l-1.36209815741,0.888324826956 m0.829103216529,-14.9238574505 l0.059221656993,-1.53976306319 m3.73096436262,1.30287647247 l-0.710659846663,0.296108275652 -2.48730957508,0.0 m-0.592216551304,2.1319796145 l1.65820643306,3.55329930782 0.0,4.97461915016 l-0.473773255944,1.65820643306 1.30287647247,0.651438236237 l2.01353639364,0.059221656993 1.83587133884,-1.18443310261 m-0.829103216529,-5.44839262962 l1.06598980725,5.2707272768 m-0.829103216529,-5.09306252003 l-0.473773255944,-2.01353639364 3.25719118118,-4.14551585913 \" fill=\"none\" stroke=\"black\" stroke-width=\"1\"/></svg>"
      ],
      "text/plain": [
       "<IPython.core.display.SVG object>"
      ]
     },
     "metadata": {},
     "output_type": "display_data"
    },
    {
     "name": "stdout",
     "output_type": "stream",
     "text": [
      "in encode(): seq_len = [168]\n"
     ]
    },
    {
     "data": {
      "image/svg+xml": [
       "<svg baseProfile=\"full\" height=\"83.7563436385\" version=\"1.1\" width=\"92.3434838932\" xmlns=\"http://www.w3.org/2000/svg\" xmlns:ev=\"http://www.w3.org/2001/xml-events\" xmlns:xlink=\"http://www.w3.org/1999/xlink\"><defs/><rect fill=\"white\" height=\"83.7563436385\" width=\"92.3434838932\" x=\"0\" y=\"0\"/><path d=\"M34.2385778017,31.0998280067 m0.0,0.0 l0.0,0.0 5.6260573864,-2.48730957508 l4.79695409536,1.30287647247 2.72419631481,0.0 l2.96108275652,-0.532994903624 m7.28426396847,0.118443313986 l-2.25042298436,-0.473773255944 -4.61928933859,0.0 l-4.61928933859,4.8561757803 0.532994903624,1.71742811799 l1.48054137826,1.71742811799 1.36209815741,0.829103216529 l1.59898474813,0.355329923332 3.37563455105,3.67174267769 l0.947546511889,0.236886627972 1.06598980725,-0.296108275652 m-4.67851102352,-13.5617589951 l3.37563455105,-0.473773255944 3.07952612638,0.296108275652 m-3.07952612638,3.19796949625 l1.48054137826,1.71742811799 -0.059221656993,3.31641286612 l1.00676819682,4.38240259886 m-1.30287647247,0.888324826956 l1.30287647247,-0.947546511889 1.53976306319,0.0 m-1.18443310261,-4.26395922899 l1.53976306319,1.30287647247 1.30287647247,0.118443313986 m1.65820643306,-0.829103216529 l-0.592216551304,0.296108275652 0.532994903624,0.473773255944 l0.473773255944,-0.177664961666 -0.177664961666,-0.473773255944 m-4.61928933859,-9.41624343395 l0.769881531596,0.355329923332 5.21150588989,-0.296108275652 l1.48054137826,3.73096436262 0.710659846663,4.61928933859 m0.236886627972,0.769881531596 l0.829103216529,4.61928933859 0.0,2.72419631481 l-0.829103216529,3.31641286612 m-2.84263938665,-4.20473754406 l-1.53976306319,3.07952612638 0.236886627972,1.77664965391 m1.30287647247,-4.91539746523 l1.00676819682,0.296108275652 0.355329923332,0.651438236237 l-0.236886627972,3.07952612638 m-4.91539746523,-8.17258834839 l-0.473773255944,0.532994903624 0.0,0.592216551304 l0.888324826956,2.25042298436 1.00676819682,0.0 l1.77664965391,0.651438236237 m-2.36886620522,-0.769881531596 l0.236886627972,1.48054137826 0.829103216529,1.53976306319 m3.07952612638,1.42131969333 l-0.118443313986,1.71742811799 m0.0,-1.12521149218 l1.06598980725,0.829103216529 m-0.769881531596,-1.83587133884 l1.30287647247,1.42131969333 -0.236886627972,0.355329923332 m-3.84940773249,-0.414551608264 l0.710659846663,1.95431470871 1.00676819682,0.592216551304 l0.592216551304,-0.059221656993 0.710659846663,-0.710659846663 l1.00676819682,-1.65820643306 m-4.44162428379,-1.00676819682 l-0.059221656993,1.65820643306 1.36209815741,1.71742811799 l1.59898474813,-0.059221656993 0.888324826956,-1.24365478754 m-6.57360374928,-17.1150588989 l1.18443310261,2.30964466929 m0.0,2.90186107159 l0.532994903624,0.118443313986 m0.473773255944,-1.95431470871 l1.06598980725,0.532994903624 0.296108275652,0.710659846663 m-0.059221656993,0.414551608264 l0.651438236237,1.65820643306 m-6.0406088829,1.95431470871 l-1.48054137826,3.07952612638 0.059221656993,2.07275792956 l-1.71742811799,8.35025370121 -0.059221656993,2.25042298436 l1.06598980725,1.18443310261 m-3.96785110235,0.414551608264 l3.07952612638,0.296108275652 0.651438236237,-0.769881531596 m-2.1319796145,-15.6937384605 l-0.118443313986,1.06598980725 -0.532994903624,0.592216551304 l-0.769881531596,5.09306252003 -0.236886627972,9.53468680382 l-1.42131969333,0.532994903624 -3.25719118118,-0.059221656993 l-0.236886627972,-1.12521149218 0.592216551304,-0.829103216529 m-1.95431470871,-15.9306252003 l0.473773255944,6.09983086586 1.06598980725,1.48054137826 l0.651438236237,2.36886620522 0.236886627972,5.21150588989 l-0.473773255944,1.18443310261 m-14.0355324745,-10.4822337627 l1.06598980725,-0.296108275652 3.67174267769,0.769881531596 l3.55329930782,0.236886627972 3.96785110235,-0.888324826956 m-7.04737722874,0.651438236237 l-0.651438236237,2.42808789015 3.19796949625,7.99492359161 l-0.473773255944,0.296108275652 -4.20473754406,0.059221656993 l-0.414551608264,-2.01353639364 m-4.02707278728,-8.29103171825 l1.89509302378,0.947546511889 1.06598980725,1.30287647247 l0.651438236237,6.09983086586 m-2.25042298436,-9.65313017368 l-1.30287647247,1.24365478754 -0.355329923332,2.66497462988 l-0.059221656993,5.2707272768 0.710659846663,2.1319796145 l-0.592216551304,0.414551608264 -4.56006765366,0.059221656993 l0.118443313986,-1.12521149218 m-0.059221656993,-16.226733923 l0.059221656993,7.04737722874 1.18443310261,2.19120129943 l-0.473773255944,4.97461915016 -0.592216551304,2.1319796145 m-0.118443313986,-17.2927236557 l-0.296108275652,-2.01353639364 1.59898474813,-3.55329930782 l0.236886627972,-2.25042298436 0.710659846663,-0.947546511889 l5.86294412613,-3.79018604755 2.84263938665,-0.473773255944 l2.72419631481,0.473773255944 m-13.9763104916,12.2588825226 l0.0,1.30287647247 m-0.236886627972,-1.53976306319 l-1.06598980725,10.8967852592 0.710659846663,-1.24365478754 l0.769881531596,-4.73773241043 m25.1692032814,-17.055836916 l2.84263938665,-0.710659846663 2.48730957508,0.0 l2.1319796145,0.532994903624 m-2.78341799974,-0.947546511889 l1.59898474813,-1.00676819682 1.18443310261,0.0 l2.96108275652,0.888324826956 0.947546511889,1.00676819682 m-29.6108293533,13.1472074986 l0.177664961666,3.79018604755 -0.769881531596,2.19120129943 m28.2487297058,-1.30287647247 l-0.296108275652,1.12521149218 0.473773255944,0.414551608264 m-0.059221656993,-1.30287647247 \" fill=\"none\" stroke=\"black\" stroke-width=\"1\"/></svg>"
      ],
      "text/plain": [
       "<IPython.core.display.SVG object>"
      ]
     },
     "metadata": {},
     "output_type": "display_data"
    },
    {
     "name": "stdout",
     "output_type": "stream",
     "text": [
      "in encode(): seq_len = [78]\n"
     ]
    },
    {
     "data": {
      "image/svg+xml": [
       "<svg baseProfile=\"full\" height=\"120.769879483\" version=\"1.1\" width=\"164.357020091\" xmlns=\"http://www.w3.org/2000/svg\" xmlns:ev=\"http://www.w3.org/2001/xml-events\" xmlns:xlink=\"http://www.w3.org/1999/xlink\"><defs/><rect fill=\"white\" height=\"120.769879483\" width=\"164.357020091\" x=\"0\" y=\"0\"/><path d=\"M48.8071059063,25.7106594089 m0.0,0.0 l0.0,0.0 -9.59390819073,6.51438236237 l-2.54653126001,3.31641286612 -1.77664965391,9.53468680382 l-6.92893385887,12.6734340191 -2.72419631481,7.99492359161 l-0.236886627972,10.4822337627 3.61252099276,4.14551585913 l6.15905225277,3.25719118118 9.65313017368,0.888324826956 l4.8561757803,-1.00676819682 4.79695409536,-2.42808789015 l3.90862941742,-4.97461915016 0.473773255944,-6.21827423573 l-2.07275792956,-3.55329930782 -4.67851102352,0.414551608264 l-2.07275792956,4.91539746523 -3.79018604755,1.48054137826 l-3.43485623598,0.0 -4.38240259886,-3.31641286612 l0.355329923332,-4.08629417419 9.00169193745,-9.71235156059 l-3.13874781132,6.81049048901 5.98138749599,-1.65820643306 l4.20473754406,-3.55329930782 2.78341799974,0.0 l8.70558381081,2.1319796145 7.46192872524,4.79695409536 l-6.09983086586,16.3451766968 12.1996617317,12.4365484715 l2.01353639364,-0.059221656993 2.19120129943,-2.54653126001 l-3.67174267769,-9.35702204704 7.58037209511,-13.2656514645 l7.99492359161,2.30964466929 20.0169205666,-0.236886627972 l-0.296108275652,19.6615898609 1.95431470871,1.53976306319 l3.49407762289,0.0 2.1319796145,-1.53976306319 l0.947546511889,-4.02707278728 0.236886627972,-13.9763104916 l8.40947508812,-14.2724192142 -0.118443313986,-14.6277487278 l1.95431470871,-1.00676819682 1.18443310261,3.90862941742 l3.84940773249,3.79018604755 m-8.52791845798,-9.94923830032 l-4.26395922899,-6.51438236237 -5.92216551304,-3.67174267769 l-17.5888323784,-4.20473754406 -19.6615898609,-0.236886627972 l-15.5752956867,5.98138749599 -6.27749562263,0.0 l-12.6142132282,-6.0406088829 m0.414551608264,7.63959348202 l17.1150588989,-0.355329923332 4.50084596872,1.65820643306 l3.07952612638,2.78341799974 -0.947546511889,6.0406088829 l-10.1269030571,13.3840942383 -3.31641286612,0.355329923332 l-5.32994925976,-2.54653126001 m-12.6142132282,-8.46869707108 l3.43485623598,0.710659846663 -1.59898474813,1.24365478754 m23.4517765045,15.8714044094 l-0.710659846663,2.36886620522 2.19120129943,3.13874781132 l0.059221656993,2.48730957508 m2.07275792956,15.5752956867 l0.059221656993,8.64636182785 4.02707278728,0.236886627972 m29.6108293533,-24.5177650452 l-2.36886620522,10.0084602833 3.84940773249,4.91539746523 m5.86294412613,-11.4890015125 l-2.30964466929,5.68527877331 \" fill=\"none\" stroke=\"black\" stroke-width=\"1\"/></svg>"
      ],
      "text/plain": [
       "<IPython.core.display.SVG object>"
      ]
     },
     "metadata": {},
     "output_type": "display_data"
    },
    {
     "name": "stdout",
     "output_type": "stream",
     "text": [
      "in encode(): seq_len = [77]\n"
     ]
    },
    {
     "data": {
      "image/svg+xml": [
       "<svg baseProfile=\"full\" height=\"86.480541788\" version=\"1.1\" width=\"97.2588820942\" xmlns=\"http://www.w3.org/2000/svg\" xmlns:ev=\"http://www.w3.org/2001/xml-events\" xmlns:xlink=\"http://www.w3.org/1999/xlink\"><defs/><rect fill=\"white\" height=\"86.480541788\" width=\"97.2588820942\" x=\"0\" y=\"0\"/><path d=\"M51.7681890726,28.7901859358 m0.0,0.0 l0.0,0.0 -4.61928933859,-0.769881531596 l-6.27749562263,1.59898474813 -2.25042298436,1.30287647247 l-3.13874781132,4.02707278728 m22.9780030251,-6.92893385887 l-0.473773255944,-2.60575294495 -1.95431470871,-0.414551608264 l-3.02030444145,1.65820643306 -2.60575294495,3.96785110235 l-0.177664961666,4.61928933859 1.71742811799,1.83587133884 l1.83587133884,0.0 m5.09306252003,-8.94246995449 l2.1319796145,-1.53976306319 2.96108275652,-0.710659846663 l4.02707278728,2.66497462988 m-0.296108275652,-0.829103216529 l1.24365478754,-1.06598980725 2.25042298436,1.24365478754 l0.059221656993,3.19796949625 m-12.9695427418,6.7512691021 l5.74450075626,0.296108275652 3.02030444145,2.36886620522 l0.473773255944,1.59898474813 -0.651438236237,2.30964466929 l-6.7512691021,2.72419631481 -0.059221656993,1.53976306319 l1.53976306319,0.532994903624 5.15228390694,-0.532994903624 l3.73096436262,-4.61928933859 0.296108275652,-2.90186107159 l-1.12521149218,-5.09306252003 2.60575294495,-4.26395922899 m-11.4890015125,5.68527877331 l0.592216551304,4.8561757803 -0.947546511889,3.61252099276 m-0.118443313986,3.31641286612 l0.947546511889,9.94923830032 -0.947546511889,1.18443310261 l-6.3959389925,0.296108275652 2.1319796145,-3.96785110235 l0.0,-6.57360374928 -3.55329930782,10.8967852592 l-3.43485623598,-0.473773255944 -0.236886627972,-11.4297795296 l-9.47546482086,0.414551608264 -0.296108275652,7.34348535538 l1.30287647247,2.60575294495 -0.769881531596,1.65820643306 l-3.37563455105,0.296108275652 -1.00676819682,-0.532994903624 l0.0,-10.4822337627 -1.48054137826,10.245347023 l-5.56683599949,-0.532994903624 -0.177664961666,-2.84263938665 l4.26395922899,-9.29780006409 2.78341799974,-13.9170897007 m0.118443313986,-1.65820643306 l-6.0406088829,12.3181045055 -4.08629417419,5.6260573864 l3.37563455105,-3.43485623598 2.60575294495,-7.99492359161 l1.48054137826,-2.25042298436 m29.6108293533,-4.32318091393 l-0.769881531596,0.473773255944 0.414551608264,0.592216551304 l1.00676819682,-1.12521149218 m3.90862941742,0.0 l-0.118443313986,0.651438236237 0.769881531596,0.059221656993 l0.177664961666,-0.947546511889 m-5.92216551304,4.91539746523 l1.24365478754,3.84940773249 0.0,3.49407762289 l1.24365478754,-2.90186107159 0.0,-2.01353639364 \" fill=\"none\" stroke=\"black\" stroke-width=\"1\"/></svg>"
      ],
      "text/plain": [
       "<IPython.core.display.SVG object>"
      ]
     },
     "metadata": {},
     "output_type": "display_data"
    },
    {
     "name": "stdout",
     "output_type": "stream",
     "text": [
      "in encode(): seq_len = [91]\n"
     ]
    },
    {
     "data": {
      "image/svg+xml": [
       "<svg baseProfile=\"full\" height=\"72.6226736605\" version=\"1.1\" width=\"86.7766481265\" xmlns=\"http://www.w3.org/2000/svg\" xmlns:ev=\"http://www.w3.org/2001/xml-events\" xmlns:xlink=\"http://www.w3.org/1999/xlink\"><defs/><rect fill=\"white\" height=\"72.6226736605\" width=\"86.7766481265\" x=\"0\" y=\"0\"/><path d=\"M32.225042237,30.0338408351 m0.0,0.0 l0.0,0.0 0.769881531596,-3.02030444145 l1.83587133884,-2.01353639364 0.592216551304,0.0 l0.532994903624,1.36209815741 0.532994903624,8.94246995449 l-1.65820643306,1.24365478754 -1.83587133884,-3.07952612638 m-0.177664961666,-6.45516037941 l-2.01353639364,-0.710659846663 -1.24365478754,0.059221656993 l-2.48730957508,1.59898474813 -0.473773255944,1.71742811799 m0.0,0.118443313986 l-1.53976306319,3.73096436262 -0.059221656993,3.13874781132 m0.0,0.118443313986 l0.414551608264,3.90862941742 1.30287647247,2.1319796145 l1.59898474813,0.651438236237 1.77664965391,0.0 l0.947546511889,-2.01353639364 m0.059221656993,-0.059221656993 l0.829103216529,-0.414551608264 0.059221656993,-0.710659846663 l-1.89509302378,-0.355329923332 -0.236886627972,1.36209815741 l-1.36209815741,0.059221656993 -0.651438236237,-1.24365478754 l0.0,-2.01353639364 m0.0,-0.118443313986 l0.710659846663,-2.42808789015 1.89509302378,-1.00676819682 l-1.48054137826,1.53976306319 2.07275792956,0.059221656993 l1.12521149218,-0.829103216529 m3.67174267769,-8.17258834839 l3.67174267769,-0.947546511889 m0.236886627972,0.0 l9.47546482086,0.236886627972 m0.118443313986,0.0 l4.79695409536,1.36209815741 5.2707272768,3.25719118118 m0.236886627972,0.059221656993 l1.24365478754,3.90862941742 0.888324826956,7.69881546497 m-0.296108275652,-2.07275792956 l-0.473773255944,2.19120129943 0.651438236237,1.42131969333 l0.0,-1.53976306319 m-29.6108293533,-7.22504198551 l0.769881531596,0.177664961666 1.42131969333,1.95431470871 l0.888324826956,3.96785110235 1.18443310261,2.1319796145 m-0.059221656993,-0.296108275652 l0.177664961666,4.08629417419 5.09306252003,0.0 m-0.296108275652,-0.059221656993 l-0.651438236237,-7.69881546497 m0.0,1.18443310261 l8.35025370121,0.059221656993 m2.96108275652,-6.69204711914 l-2.01353639364,4.91539746523 1.77664965391,3.84940773249 l0.296108275652,3.25719118118 m0.0,0.059221656993 l3.07952612638,0.651438236237 1.12521149218,-0.118443313986 l-1.71742811799,-6.09983086586 2.72419631481,-2.25042298436 l1.30287647247,-2.90186107159 0.0,-2.84263938665 m-1.59898474813,5.98138749599 l2.25042298436,8.11336696148 -2.1319796145,-0.059221656993 m-14.3908619881,-6.09983086586 l0.118443313986,1.30287647247 0.888324826956,1.48054137826 l0.592216551304,3.73096436262 -2.07275792956,-0.296108275652 m-5.32994925976,0.059221656993 l0.592216551304,-0.177664961666 0.473773255944,0.769881531596 l0.355329923332,-0.651438236237 0.414551608264,0.651438236237 m-10.1861250401,-16.16751194 l0.532994903624,-1.30287647247 1.30287647247,0.296108275652 m-1.12521149218,0.473773255944 l0.829103216529,0.355329923332 \" fill=\"none\" stroke=\"black\" stroke-width=\"1\"/></svg>"
      ],
      "text/plain": [
       "<IPython.core.display.SVG object>"
      ]
     },
     "metadata": {},
     "output_type": "display_data"
    },
    {
     "name": "stdout",
     "output_type": "stream",
     "text": [
      "in encode(): seq_len = [168]\n"
     ]
    },
    {
     "data": {
      "image/svg+xml": [
       "<svg baseProfile=\"full\" height=\"96.1336698942\" version=\"1.1\" width=\"88.2571898587\" xmlns=\"http://www.w3.org/2000/svg\" xmlns:ev=\"http://www.w3.org/2001/xml-events\" xmlns:xlink=\"http://www.w3.org/1999/xlink\"><defs/><rect fill=\"white\" height=\"96.1336698942\" width=\"88.2571898587\" x=\"0\" y=\"0\"/><path d=\"M48.3333328553,48.1556663848 m0.0,0.0 l0.0,0.0 -2.42808789015,-0.769881531596 l0.532994903624,-3.73096436262 m-0.947546511889,2.01353639364 l-1.30287647247,-0.651438236237 -2.66497462988,-4.26395922899 l-2.60575294495,-2.90186107159 -0.888324826956,-3.02030444145 l0.473773255944,-2.90186107159 1.89509302378,-1.95431470871 l2.36886620522,-0.769881531596 3.07952612638,0.177664961666 l3.55329930782,1.83587133884 2.30964466929,0.118443313986 l2.60575294495,-0.829103216529 1.53976306319,0.592216551304 l2.66497462988,3.19796949625 0.651438236237,3.61252099276 l-1.24365478754,2.78341799974 -2.42808789015,2.66497462988 l-0.236886627972,5.2707272768 -3.31641286612,0.592216551304 m-3.61252099276,-0.947546511889 l2.07275792956,9.17935669422 2.84263938665,5.56683599949 l2.42808789015,3.37563455105 3.61252099276,2.60575294495 l2.90186107159,0.236886627972 1.06598980725,-1.30287647247 l-1.59898474813,-1.48054137826 -1.18443310261,0.414551608264 l-1.24365478754,-0.296108275652 m-7.22504198551,-17.5888323784 l6.15905225277,15.6937384605 0.0,-0.769881531596 l1.30287647247,2.72419631481 m-13.0287647247,-19.3654811382 l-0.236886627972,2.78341799974 0.769881531596,0.236886627972 l0.355329923332,-0.355329923332 0.177664961666,-1.71742811799 m6.69204711914,0.473773255944 l1.42131969333,1.89509302378 -0.177664961666,0.592216551304 l-1.30287647247,-0.532994903624 -1.18443310261,-1.53976306319 m-13.1472074986,-10.3045678139 l1.83587133884,0.829103216529 m-0.769881531596,-2.84263938665 l0.947546511889,-0.532994903624 1.12521149218,0.710659846663 l0.414551608264,0.947546511889 -1.24365478754,0.296108275652 l-0.769881531596,-0.236886627972 -0.059221656993,-1.12521149218 m0.296108275652,-0.414551608264 l0.0,1.00676819682 1.00676819682,0.236886627972 l0.296108275652,-0.651438236237 0.710659846663,0.651438236237 m11.4890015125,6.21827423573 l-0.947546511889,-1.89509302378 0.0,-1.77664965391 l1.06598980725,-2.1319796145 2.48730957508,-2.90186107159 l0.118443313986,-0.888324826956 -0.651438236237,-1.00676819682 m-0.829103216529,3.55329930782 l0.414551608264,-0.236886627972 0.177664961666,0.532994903624 l-0.296108275652,1.65820643306 -0.947546511889,0.414551608264 l-1.42131969333,-0.236886627972 m1.83587133884,-1.65820643306 l0.177664961666,0.829103216529 -0.769881531596,0.296108275652 l-0.414551608264,-0.296108275652 m-14.2724192142,-9.00169193745 l-1.12521149218,-0.296108275652 -2.48730957508,0.414551608264 l-3.37563455105,3.37563455105 -0.769881531596,1.95431470871 l-0.177664961666,4.02707278728 1.12521149218,3.79018604755 l2.96108275652,0.532994903624 0.651438236237,2.66497462988 l1.36209815741,0.888324826956 2.25042298436,0.296108275652 l1.00676819682,-0.473773255944 1.71742811799,-2.66497462988 m13.2656514645,-11.7851102352 l1.95431470871,0.177664961666 1.83587133884,1.89509302378 l1.06598980725,5.03384053707 -0.947546511889,2.01353639364 l-0.118443313986,4.32318091393 -0.532994903624,0.592216551304 l-0.651438236237,0.414551608264 -2.01353639364,0.0 l-2.07275792956,-1.59898474813 m-4.56006765366,-16.5820634365 l-3.02030444145,-2.36886620522 -4.20473754406,-0.769881531596 l-1.18443310261,0.592216551304 -1.83587133884,2.66497462988 m-4.50084596872,0.710659846663 l-6.7512691021,3.31641286612 -1.71742811799,4.44162428379 l-0.118443313986,4.20473754406 0.651438236237,6.86971247196 l1.71742811799,5.44839262962 2.01353639364,3.61252099276 l4.14551585913,1.53976306319 0.829103216529,0.059221656993 l0.0,-0.355329923332 m-2.48730957508,-11.7258882523 l0.355329923332,4.14551585913 4.79695409536,9.94923830032 l9.89001691341,9.29780006409 2.30964466929,-1.18443310261 l0.532994903624,-1.00676819682 -0.296108275652,-1.06598980725 l-1.89509302378,-2.01353639364 -4.32318091393,-6.92893385887 l-5.86294412613,-5.56683599949 -0.769881531596,-5.44839262962 m1.95431470871,4.97461915016 l1.53976306319,0.177664961666 5.03384053707,-0.947546511889 m1.83587133884,6.0406088829 l-0.769881531596,3.02030444145 -0.592216551304,-0.059221656993 m-2.48730957508,-7.81725883484 l-1.06598980725,4.32318091393 m-2.30964466929,8.23181033134 l-1.36209815741,6.3959389925 4.08629417419,0.236886627972 l1.77664965391,-3.19796949625 m-13.3248722553,-10.4230117798 l0.414551608264,6.63282573223 2.07275792956,6.09983086586 l-4.67851102352,0.414551608264 -0.769881531596,-1.36209815741 l-0.177664961666,-11.962774992 0.592216551304,-1.30287647247 m6.3959389925,1.71742811799 l0.532994903624,2.01353639364 0.059221656993,8.70558381081 l0.592216551304,0.473773255944 2.42808789015,-0.414551608264 m-14.0355324745,-29.6108293533 l-0.296108275652,3.19796949625 -1.89509302378,3.02030444145 l2.72419631481,-3.37563455105 m21.8527913094,7.81725883484 l1.77664965391,0.059221656993 m-1.00676819682,1.83587133884 l1.83587133884,0.177664961666 m-1.06598980725,2.66497462988 l1.65820643306,0.0 m-0.888324826956,3.13874781132 l2.66497462988,-0.177664961666 m-1.65820643306,2.19120129943 l1.36209815741,-0.059221656993 m1.77664965391,4.73773241043 l0.532994903624,-0.355329923332 m-12.6734340191,-26.6497445107 l-0.296108275652,4.50084596872 \" fill=\"none\" stroke=\"black\" stroke-width=\"1\"/></svg>"
      ],
      "text/plain": [
       "<IPython.core.display.SVG object>"
      ]
     },
     "metadata": {},
     "output_type": "display_data"
    },
    {
     "name": "stdout",
     "output_type": "stream",
     "text": [
      "in encode(): seq_len = [105]\n"
     ]
    },
    {
     "data": {
      "image/svg+xml": [
       "<svg baseProfile=\"full\" height=\"75.4653124232\" version=\"1.1\" width=\"81.7428084183\" xmlns=\"http://www.w3.org/2000/svg\" xmlns:ev=\"http://www.w3.org/2001/xml-events\" xmlns:xlink=\"http://www.w3.org/1999/xlink\"><defs/><rect fill=\"white\" height=\"75.4653124232\" width=\"81.7428084183\" x=\"0\" y=\"0\"/><path d=\"M31.7512686551,26.7174279876 m0.0,0.0 l0.0,0.0 2.30964466929,-0.236886627972 l1.89509302378,0.414551608264 6.09983086586,-0.710659846663 m-7.75803685188,0.236886627972 l-1.18443310261,-1.24365478754 -0.947546511889,-0.177664961666 l-1.12521149218,0.592216551304 -1.71742811799,1.48054137826 m4.8561757803,-0.651438236237 l1.71742811799,-0.473773255944 2.48730957508,0.0 l1.53976306319,0.296108275652 m-10.6598985195,0.710659846663 l-0.532994903624,0.769881531596 -0.296108275652,2.07275792956 l-1.24365478754,2.60575294495 -0.236886627972,3.61252099276 m1.00676819682,-5.68527877331 l-1.48054137826,1.24365478754 -1.48054137826,2.19120129943 l0.236886627972,0.532994903624 1.36209815741,1.00676819682 m0.355329923332,0.414551608264 l-0.296108275652,1.42131969333 -1.06598980725,2.25042298436 l-0.414551608264,2.07275792956 0.118443313986,3.02030444145 l1.53976306319,3.84940773249 2.07275792956,1.59898474813 l1.59898474813,0.473773255944 1.48054137826,0.059221656993 l1.30287647247,-0.177664961666 2.1319796145,-0.947546511889 l0.947546511889,-1.24365478754 m-3.49407762289,-3.90862941742 l-1.65820643306,0.829103216529 -0.296108275652,1.06598980725 l0.355329923332,0.888324826956 1.42131969333,0.355329923332 l1.59898474813,-1.00676819682 0.888324826956,-3.02030444145 l0.829103216529,-0.947546511889 0.651438236237,-0.414551608264 l0.414551608264,0.118443313986 -0.118443313986,1.18443310261 m0.296108275652,-0.651438236237 l0.414551608264,0.829103216529 -0.651438236237,1.24365478754 l-0.414551608264,3.07952612638 -0.355329923332,0.532994903624 m-3.49407762289,-4.14551585913 l0.947546511889,0.355329923332 0.532994903624,0.710659846663 m-0.236886627972,-7.04737722874 l1.83587133884,1.59898474813 m0.059221656993,-1.48054137826 l1.12521149218,-0.947546511889 0.296108275652,0.059221656993 l-0.059221656993,0.355329923332 -1.24365478754,0.414551608264 m3.31641286612,-3.73096436262 l0.651438236237,1.42131969333 0.177664961666,1.12521149218 l-0.414551608264,1.77664965391 0.0,1.95431470871 m1.95431470871,-11.6074442863 l-0.947546511889,1.48054137826 -0.947546511889,4.73773241043 m2.19120129943,-10.0084602833 l2.07275792956,0.0 0.947546511889,1.06598980725 l2.19120129943,5.21150588989 0.059221656993,2.66497462988 l-0.592216551304,1.36209815741 -1.24365478754,0.710659846663 l0.0,1.95431470871 -1.24365478754,1.18443310261 l-0.710659846663,3.07952612638 -2.01353639364,1.71742811799 l-2.84263938665,-1.12521149218 -0.059221656993,-0.769881531596 l1.30287647247,-2.84263938665 m-0.829103216529,5.03384053707 l1.42131969333,2.01353639364 1.77664965391,3.61252099276 m6.98815524578,-10.0676810741 l-1.18443310261,7.63959348202 -0.059221656993,2.30964466929 m5.74450075626,-7.46192872524 l-1.48054137826,2.72419631481 -3.61252099276,3.55329930782 m-3.61252099276,-22.8595590591 l4.38240259886,1.65820643306 3.96785110235,2.1319796145 l3.37563455105,3.55329930782 m-29.6108293533,2.60575294495 l0.829103216529,-0.296108275652 1.24365478754,0.118443313986 l2.36886620522,1.30287647247 m-5.09306252003,1.24365478754 l1.48054137826,-0.414551608264 1.48054137826,0.118443313986 l2.30964466929,0.888324826956 0.947546511889,0.769881531596 \" fill=\"none\" stroke=\"black\" stroke-width=\"1\"/></svg>"
      ],
      "text/plain": [
       "<IPython.core.display.SVG object>"
      ]
     },
     "metadata": {},
     "output_type": "display_data"
    },
    {
     "name": "stdout",
     "output_type": "stream",
     "text": [
      "in encode(): seq_len = [116]\n"
     ]
    },
    {
     "data": {
      "image/svg+xml": [
       "<svg baseProfile=\"full\" height=\"83.9340086654\" version=\"1.1\" width=\"74.0439919848\" xmlns=\"http://www.w3.org/2000/svg\" xmlns:ev=\"http://www.w3.org/2001/xml-events\" xmlns:xlink=\"http://www.w3.org/1999/xlink\"><defs/><rect fill=\"white\" height=\"83.9340086654\" width=\"74.0439919848\" x=\"0\" y=\"0\"/><path d=\"M25,25.1776643749 m0.0,0.0 l0.0,0.0 2.54653126001,0.710659846663 l3.37563455105,2.1319796145 1.30287647247,0.0 l2.90186107159,-1.18443310261 4.44162428379,0.118443313986 l4.26395922899,2.1319796145 0.710659846663,0.710659846663 l0.769881531596,2.1319796145 m0.0,0.0 l1.53976306319,2.48730957508 1.53976306319,3.73096436262 l0.236886627972,6.86971247196 m0.0,-0.059221656993 l-0.532994903624,8.40947508812 -1.65820643306,4.50084596872 m-9.17935669422,-16.7005074024 l1.18443310261,1.77664965391 2.01353639364,1.59898474813 l0.947546511889,2.1319796145 0.888324826956,5.56683599949 l0.355329923332,6.69204711914 m-2.96108275652,-25.6429767609 l-2.48730957508,0.355329923332 m0.355329923332,0.059221656993 l0.592216551304,1.06598980725 0.947546511889,-0.059221656993 m0.059221656993,0.059221656993 l-0.769881531596,0.532994903624 -0.829103216529,-0.118443313986 m1.71742811799,-0.355329923332 l-0.592216551304,0.947546511889 m0.710659846663,-2.54653126001 l0.888324826956,0.414551608264 m-0.473773255944,-0.236886627972 l0.0,0.473773255944 -0.710659846663,0.592216551304 l-0.592216551304,-0.059221656993 -0.355329923332,-0.769881531596 m1.71742811799,0.532994903624 l0.236886627972,0.355329923332 m-6.21827423573,-4.73773241043 l-1.83587133884,0.355329923332 -3.61252099276,3.43485623598 l-2.36886620522,0.651438236237 m8.40947508812,-2.96108275652 l-4.91539746523,3.31641286612 -3.25719118118,0.473773255944 l-0.532994903624,0.769881531596 0.0,0.829103216529 l1.00676819682,1.42131969333 -0.118443313986,2.78341799974 l1.30287647247,1.53976306319 0.355329923332,1.53976306319 l1.24365478754,0.0 0.829103216529,-0.769881531596 l0.236886627972,-1.42131969333 0.651438236237,-0.947546511889 l0.592216551304,-4.32318091393 0.947546511889,-2.36886620522 m-6.7512691021,-0.118443313986 l-0.651438236237,1.30287647247 0.236886627972,1.12521149218 m7.22504198551,-3.43485623598 l-3.31641286612,2.96108275652 -1.24365478754,2.42808789015 m4.56006765366,-4.38240259886 l-0.473773255944,0.0 -0.769881531596,0.888324826956 l-1.06598980725,2.25042298436 -0.355329923332,3.96785110235 m10.5414545536,3.37563455105 l-4.32318091393,-0.473773255944 -0.888324826956,0.473773255944 l-3.02030444145,2.30964466929 -1.59898474813,2.1319796145 l-3.49407762289,2.48730957508 -1.06598980725,1.18443310261 l-0.118443313986,0.769881531596 m22.6818943024,-13.9763104916 l-1.00676819682,0.532994903624 -2.25042298436,-0.118443313986 m3.37563455105,2.30964466929 l-1.18443310261,1.06598980725 -1.65820643306,-0.177664961666 m2.66497462988,2.1319796145 l-1.24365478754,1.00676819682 -1.53976306319,-0.355329923332 m2.72419631481,2.19120129943 l-1.06598980725,0.710659846663 -1.48054137826,-0.118443313986 m2.30964466929,1.77664965391 l-1.12521149218,0.473773255944 -1.24365478754,-0.177664961666 m2.1319796145,2.36886620522 l-1.65820643306,0.355329923332 -0.888324826956,-0.592216551304 m1.65820643306,2.25042298436 l-1.06598980725,0.118443313986 -0.769881531596,-0.592216551304 m1.53976306319,1.24365478754 l-1.24365478754,0.296108275652 m-7.28426396847,-29.6108293533 l-0.532994903624,-0.118443313986 m1.36209815741,-0.355329923332 l-0.059221656993,-1.00676819682 m2.1319796145,1.59898474813 l0.236886627972,-0.355329923332 m0.947546511889,0.888324826956 l0.947546511889,-0.118443313986 m0.888324826956,1.53976306319 l0.355329923332,-0.059221656993 m-3.49407762289,0.118443313986 l-0.296108275652,-0.296108275652 m-3.37563455105,11.8443310261 l-0.473773255944,0.118443313986 \" fill=\"none\" stroke=\"black\" stroke-width=\"1\"/></svg>"
      ],
      "text/plain": [
       "<IPython.core.display.SVG object>"
      ]
     },
     "metadata": {},
     "output_type": "display_data"
    },
    {
     "name": "stdout",
     "output_type": "stream",
     "text": [
      "in encode(): seq_len = [121]\n"
     ]
    },
    {
     "data": {
      "image/svg+xml": [
       "<svg baseProfile=\"full\" height=\"92.4619285949\" version=\"1.1\" width=\"90.3891687095\" xmlns=\"http://www.w3.org/2000/svg\" xmlns:ev=\"http://www.w3.org/2001/xml-events\" xmlns:xlink=\"http://www.w3.org/1999/xlink\"><defs/><rect fill=\"white\" height=\"92.4619285949\" width=\"90.3891687095\" x=\"0\" y=\"0\"/><path d=\"M28.6125210114,26.0067681968 m0.0,0.0 l0.0,0.0 1.65820643306,-1.00676819682 l0.414551608264,0.651438236237 -1.89509302378,0.532994903624 l-0.532994903624,3.31641286612 -3.13874781132,4.02707278728 l-0.118443313986,3.73096436262 0.651438236237,2.48730957508 l1.89509302378,2.78341799974 3.02030444145,0.769881531596 l2.84263938665,-0.118443313986 m-2.54653126001,-17.5296103954 l0.059221656993,3.02030444145 -1.83587133884,3.79018604755 l-0.118443313986,3.13874781132 0.651438236237,3.02030444145 l1.71742811799,1.18443310261 m-1.83587133884,-1.89509302378 l0.177664961666,-1.83587133884 1.71742811799,-1.36209815741 l1.53976306319,-4.44162428379 2.1319796145,-1.30287647247 l2.19120129943,0.829103216529 m-1.77664965391,0.829103216529 l3.25719118118,-1.42131969333 2.54653126001,-0.118443313986 l0.769881531596,0.710659846663 0.888324826956,2.96108275652 m-10.0084602833,10.0676810741 l5.38917064667,-0.710659846663 0.888324826956,1.36209815741 m-0.710659846663,-7.63959348202 l1.36209815741,0.829103216529 -1.36209815741,-0.414551608264 m-6.09983086586,6.92893385887 l0.414551608264,3.90862941742 0.651438236237,1.24365478754 l0.829103216529,0.118443313986 1.06598980725,-0.059221656993 l2.96108275652,-4.50084596872 m-4.97461915016,-1.18443310261 l0.177664961666,2.84263938665 1.00676819682,0.414551608264 l2.96108275652,-3.96785110235 m-5.09306252003,-4.56006765366 l1.36209815741,-0.947546511889 2.19120129943,0.355329923332 l2.07275792956,2.54653126001 m-5.80372214317,-2.84263938665 l-0.947546511889,2.48730957508 -1.12521149218,1.48054137826 m12.6734340191,-8.52791845798 l3.07952612638,2.1319796145 m-3.13874781132,-0.414551608264 l0.296108275652,2.54653126001 -0.829103216529,3.55329930782 l0.592216551304,3.31641286612 1.36209815741,0.059221656993 l0.829103216529,-2.01353639364 2.96108275652,-2.60575294495 l-0.118443313986,-2.78341799974 -1.65820643306,-2.19120129943 m-3.61252099276,-2.48730957508 l13.5025382042,3.02030444145 3.96785110235,1.71742811799 l1.65820643306,1.48054137826 m-25.0507616997,8.40947508812 l2.84263938665,-0.651438236237 1.77664965391,-1.59898474813 m-4.44162428379,2.60575294495 l1.89509302378,4.44162428379 0.177664961666,2.84263938665 l1.83587133884,5.03384053707 0.355329923332,1.95431470871 l-0.236886627972,3.37563455105 1.83587133884,0.651438236237 m-0.473773255944,-14.6277487278 l2.30964466929,9.00169193745 0.651438236237,5.68527877331 l-0.355329923332,2.72419631481 4.79695409536,-0.414551608264 l1.36209815741,-0.710659846663 m-1.06598980725,-23.5109972954 l0.296108275652,6.86971247196 -0.710659846663,9.71235156059 l0.829103216529,6.7512691021 m-5.03384053707,-9.71235156059 l2.1319796145,0.236886627972 m-6.0406088829,6.92893385887 l-0.296108275652,3.43485623598 1.18443310261,0.710659846663 l2.30964466929,-0.236886627972 m4.8561757803,-13.3840942383 l0.414551608264,0.710659846663 1.06598980725,0.355329923332 l7.40270733833,0.592216551304 1.83587133884,-0.236886627972 m1.36209815741,-14.450083971 l0.059221656993,5.80372214317 -0.829103216529,7.69881546497 l1.06598980725,2.90186107159 -0.829103216529,0.355329923332 l-1.00676819682,-0.414551608264 -1.65820643306,-1.77664965391 m-4.26395922899,-0.532994903624 l1.95431470871,2.25042298436 0.532994903624,2.48730957508 l0.177664961666,3.37563455105 -1.36209815741,3.07952612638 l3.02030444145,0.414551608264 2.36886620522,-0.355329923332 l-0.177664961666,-8.82402658463 1.12521149218,4.38240259886 l-0.651438236237,4.08629417419 4.32318091393,0.296108275652 m-4.08629417419,-29.6108293533 l1.42131969333,2.48730957508 1.18443310261,4.08629417419 l0.532994903624,6.57360374928 -0.177664961666,8.58714044094 l1.06598980725,6.69204711914 \" fill=\"none\" stroke=\"black\" stroke-width=\"1\"/></svg>"
      ],
      "text/plain": [
       "<IPython.core.display.SVG object>"
      ]
     },
     "metadata": {},
     "output_type": "display_data"
    },
    {
     "name": "stdout",
     "output_type": "stream",
     "text": [
      "in encode(): seq_len = [99]\n"
     ]
    },
    {
     "data": {
      "image/svg+xml": [
       "<svg baseProfile=\"full\" height=\"96.6666652914\" version=\"1.1\" width=\"85.8291012049\" xmlns=\"http://www.w3.org/2000/svg\" xmlns:ev=\"http://www.w3.org/2001/xml-events\" xmlns:xlink=\"http://www.w3.org/1999/xlink\"><defs/><rect fill=\"white\" height=\"96.6666652914\" width=\"85.8291012049\" x=\"0\" y=\"0\"/><path d=\"M37.9103204608,26.5989847481 m0.0,0.0 l0.0,0.0 6.45516037941,-1.59898474813 l2.72419631481,0.0 2.07275792956,1.48054137826 m-11.3113367558,-0.059221656993 l-5.74450075626,-0.414551608264 -1.24365478754,0.592216551304 l-0.592216551304,1.42131969333 0.355329923332,6.98815524578 l4.50084596872,4.26395922899 1.95431470871,0.829103216529 m12.0812177658,-13.9170897007 l1.18443310261,0.414551608264 4.14551585913,-0.829103216529 l2.54653126001,0.236886627972 m-6.45516037941,3.67174267769 l4.32318091393,-2.01353639364 m2.78341799974,-1.71742811799 l2.60575294495,0.651438236237 0.532994903624,4.20473754406 l-0.473773255944,4.26395922899 -2.07275792956,2.72419631481 l-4.02707278728,1.65820643306 m-3.67174267769,-9.59390819073 l0.118443313986,5.21150588989 -1.83587133884,4.38240259886 m-11.3705575466,-8.11336696148 l1.06598980725,6.15905225277 1.42131969333,1.77664965391 l0.118443313986,4.61928933859 1.12521149218,4.08629417419 l2.66497462988,2.72419631481 2.60575294495,0.118443313986 m2.19120129943,-11.3705575466 l-2.19120129943,4.97461915016 0.236886627972,3.07952612638 m-0.414551608264,3.31641286612 l1.18443310261,0.177664961666 1.36209815741,-0.769881531596 l3.07952612638,-3.55329930782 m-5.09306252003,0.118443313986 l1.06598980725,1.30287647247 4.61928933859,-3.19796949625 l0.532994903624,1.83587133884 -1.12521149218,0.0 m-2.30964466929,-8.52791845798 l0.355329923332,4.73773241043 1.77664965391,-0.414551608264 l1.89509302378,-2.48730957508 m-17.1742808819,-0.118443313986 l1.30287647247,3.67174267769 1.30287647247,0.532994903624 m4.50084596872,6.7512691021 l1.89509302378,12.732656002 m-8.52791845798,-9.77157354355 l2.48730957508,8.11336696148 1.65820643306,2.90186107159 l-0.236886627972,6.51438236237 2.48730957508,0.296108275652 l3.79018604755,-0.710659846663 m-1.30287647247,-7.58037209511 l1.59898474813,7.22504198551 m0.236886627972,-19.602367878 l1.12521149218,1.00676819682 1.48054137826,3.55329930782 l0.236886627972,4.26395922899 1.12521149218,3.73096436262 l-1.42131969333,6.33671700954 0.769881531596,0.651438236237 l3.84940773249,-0.532994903624 m-1.30287647247,-29.6108293533 l2.30964466929,8.35025370121 0.0,14.0947544575 l0.947546511889,2.1319796145 0.0,3.07952612638 l-1.36209815741,1.53976306319 m-7.52115011215,-18.5363781452 l-1.89509302378,3.67174267769 -1.95431470871,1.65820643306 m-15.0423002243,-26.412858963 l-2.30964466929,1.95431470871 -1.71742811799,4.50084596872 l0.473773255944,15.5752956867 1.95431470871,3.73096436262 l0.592216551304,14.3908619881 2.96108275652,0.710659846663 l2.48730957508,-0.414551608264 m-3.73096436262,-20.8460235596 l0.592216551304,3.13874781132 2.01353639364,2.72419631481 l5.15228390694,1.48054137826 m-5.03384053707,-0.947546511889 l-0.236886627972,8.17258834839 1.59898474813,5.50761401653 m-0.118443313986,-0.177664961666 l0.0,0.947546511889 m3.37563455105,-13.7394249439 l1.48054137826,12.4957692623 1.95431470871,0.829103216529 \" fill=\"none\" stroke=\"black\" stroke-width=\"1\"/></svg>"
      ],
      "text/plain": [
       "<IPython.core.display.SVG object>"
      ]
     },
     "metadata": {},
     "output_type": "display_data"
    },
    {
     "name": "stdout",
     "output_type": "stream",
     "text": [
      "in encode(): seq_len = [88]\n"
     ]
    },
    {
     "data": {
      "image/svg+xml": [
       "<svg baseProfile=\"full\" height=\"120.059219645\" version=\"1.1\" width=\"98.0287624337\" xmlns=\"http://www.w3.org/2000/svg\" xmlns:ev=\"http://www.w3.org/2001/xml-events\" xmlns:xlink=\"http://www.w3.org/1999/xlink\"><defs/><rect fill=\"white\" height=\"120.059219645\" width=\"98.0287624337\" x=\"0\" y=\"0\"/><path d=\"M46.0829094704,25.7698808797 m0.0,0.0 l0.0,0.0 0.0,0.710659846663 l-9.06091332436,1.12521149218 -2.96108275652,5.09306252003 m0.0,0.236886627972 l-1.83587133884,16.226733923 m0.0,0.355329923332 l0.414551608264,5.09306252003 2.1319796145,3.79018604755 l2.54653126001,9.12013530731 m0.0,0.355329923332 l3.49407762289,9.41624343395 -0.059221656993,9.35702204704 l-2.01353639364,3.73096436262 m1.89509302378,-3.43485623598 l-4.02707278728,0.0 0.0,1.59898474813 l2.25042298436,0.829103216529 0.532994903624,2.54653126001 l2.66497462988,0.118443313986 5.15228390694,-5.74450075626 l1.65820643306,-5.15228390694 0.0,-5.74450075626 m0.0,-0.296108275652 l0.177664961666,-7.40270733833 -1.42131969333,-9.17935669422 l1.00676819682,-6.57360374928 m-2.66497462988,-25.9390854836 l3.73096436262,-1.00676819682 4.20473754406,0.592216551304 l5.68527877331,6.0406088829 m-24.6954298019,-1.65820643306 l-3.25719118118,-2.72419631481 -3.84940773249,-0.177664961666 l-2.78341799974,3.19796949625 1.42131969333,4.08629417419 l-0.592216551304,12.732656002 4.8561757803,-0.059221656993 m26.7681884766,-12.0219957829 l3.67174267769,-4.56006765366 4.67851102352,-1.24365478754 l0.236886627972,12.3773264885 m0.236886627972,0.118443313986 l1.00676819682,7.28426396847 -1.24365478754,2.84263938665 l-1.53976306319,0.414551608264 -6.0406088829,-4.56006765366 m-22.3265647888,17.2927236557 l-3.43485623598,6.98815524578 -3.67174267769,11.4890015125 m-0.059221656993,0.414551608264 l1.53976306319,11.0152280331 7.10659861565,0.177664961666 l0.829103216529,-0.651438236237 m15.1607441902,-24.2808794975 l0.059221656993,16.8189501762 3.02030444145,7.63959348202 m0.177664961666,0.059221656993 l5.2707272768,-1.18443310261 5.03384053707,0.118443313986 l-0.710659846663,-15.0423002243 m0.0,-0.296108275652 l2.19120129943,-4.73773241043 1.12521149218,-6.63282573223 l2.07275792956,-4.97461915016 0.769881531596,-8.29103171825 m0.414551608264,-2.30964466929 l-3.55329930782,-7.52115011215 -2.36886620522,-7.99492359161 m-18.1810486317,21.4382386208 l3.90862941742,-0.059221656993 3.07952612638,-3.67174267769 m-7.63959348202,-9.53468680382 l0.473773255944,-4.56006765366 1.77664965391,0.118443313986 l-0.651438236237,1.89509302378 m-15.9306252003,-0.829103216529 l0.0,2.42808789015 m18.7140440941,29.6108293533 l-1.77664965391,0.177664961666 -1.95431470871,3.37563455105 m22.8595590591,-15.279186964 l0.473773255944,-1.30287647247 m0.059221656993,-0.296108275652 l0.592216551304,8.11336696148 -1.59898474813,10.1861250401 l0.177664961666,7.10659861565 -2.96108275652,1.30287647247 \" fill=\"none\" stroke=\"black\" stroke-width=\"1\"/></svg>"
      ],
      "text/plain": [
       "<IPython.core.display.SVG object>"
      ]
     },
     "metadata": {},
     "output_type": "display_data"
    },
    {
     "name": "stdout",
     "output_type": "stream",
     "text": [
      "in encode(): seq_len = [113]\n"
     ]
    },
    {
     "data": {
      "image/svg+xml": [
       "<svg baseProfile=\"full\" height=\"100.871402677\" version=\"1.1\" width=\"104.069373747\" xmlns=\"http://www.w3.org/2000/svg\" xmlns:ev=\"http://www.w3.org/2001/xml-events\" xmlns:xlink=\"http://www.w3.org/1999/xlink\"><defs/><rect fill=\"white\" height=\"100.871402677\" width=\"104.069373747\" x=\"0\" y=\"0\"/><path d=\"M26.0659898072,25.2961084247 m0.0,0.0 l0.0,0.0 -1.06598980725,2.96108275652 m1.36209815741,-3.25719118118 l4.26395922899,4.50084596872 4.50084596872,7.22504198551 m-10.0084602833,-8.70558381081 l4.08629417419,3.96785110235 2.60575294495,8.35025370121 l2.1319796145,4.20473754406 2.84263938665,1.42131969333 l6.45516037941,0.0 m-7.87648022175,-0.710659846663 l-1.77664965391,1.89509302378 -3.49407762289,0.592216551304 l-0.473773255944,1.42131969333 3.43485623598,-0.118443313986 l3.07952612638,-1.48054137826 m0.473773255944,0.592216551304 l2.90186107159,0.532994903624 4.38240259886,-3.25719118118 m-7.34348535538,2.25042298436 l0.296108275652,1.77664965391 2.54653126001,0.710659846663 l5.32994925976,-2.54653126001 0.888324826956,-1.71742811799 m-7.81725883484,0.296108275652 l-2.25042298436,1.95431470871 m6.0406088829,-3.02030444145 l4.79695409536,0.414551608264 m2.66497462988,-3.13874781132 l-1.24365478754,2.42808789015 -1.89509302378,1.12521149218 m-1.18443310261,1.89509302378 l2.01353639364,-0.710659846663 5.44839262962,-0.059221656993 l1.36209815741,-0.710659846663 0.947546511889,-1.95431470871 m-6.27749562263,-8.29103171825 l1.89509302378,-0.059221656993 m-15.0423002243,0.355329923332 l1.00676819682,3.02030444145 m-0.592216551304,-2.90186107159 l0.888324826956,0.829103216529 2.78341799974,0.0 l4.32318091393,-2.54653126001 m-3.37563455105,2.07275792956 l1.06598980725,2.36886620522 m2.60575294495,-4.50084596872 l0.296108275652,-2.36886620522 2.19120129943,-2.19120129943 l5.2707272768,-2.72419631481 1.89509302378,-0.296108275652 l1.30287647247,0.710659846663 m0.829103216529,2.96108275652 l2.78341799974,-0.710659846663 5.50761401653,0.651438236237 l4.02707278728,3.73096436262 1.65820643306,4.02707278728 m-18.7732648849,9.00169193745 l-0.177664961666,3.25719118118 3.61252099276,0.0 l1.12521149218,-2.01353639364 4.14551585913,0.651438236237 l4.50084596872,-1.53976306319 5.21150588989,-4.26395922899 l1.00676819682,-6.86971247196 m-12.9103207588,-0.592216551304 l-1.18443310261,2.25042298436 0.296108275652,2.72419631481 l-2.36886620522,3.19796949625 m0.710659846663,-16.7005074024 l13.7986457348,2.01353639364 7.58037209511,2.90186107159 m-29.6108293533,14.7461926937 l-0.888324826956,2.54653126001 0.355329923332,2.66497462988 l1.71742811799,0.532994903624 1.12521149218,-3.07952612638 m2.42808789015,0.118443313986 l-0.592216551304,1.59898474813 -0.296108275652,9.47546482086 l0.473773255944,3.13874781132 2.78341799974,6.92893385887 m1.59898474813,-19.1285955906 l0.888324826956,1.53976306319 -0.769881531596,13.9170897007 l-0.710659846663,3.07952612638 -2.60575294495,5.21150588989 l8.70558381081,-0.118443313986 2.36886620522,-16.4043986797 l3.49407762289,-11.0152280331 m-14.3908619881,2.96108275652 l1.89509302378,2.96108275652 m9.77157354355,1.65820643306 l0.059221656993,0.592216551304 3.67174267769,1.30287647247 l4.32318091393,0.0 2.30964466929,-6.21827423573 l2.48730957508,-2.48730957508 1.42131969333,-3.43485623598 m-2.25042298436,-13.7394249439 l0.947546511889,0.592216551304 0.059221656993,2.72419631481 l1.89509302378,5.6260573864 -0.059221656993,2.60575294495 m0.355329923332,2.01353639364 l-3.25719118118,13.7394249439 -0.947546511889,12.732656002 l-6.57360374928,-0.473773255944 2.01353639364,-3.79018604755 l0.769881531596,-9.71235156059 m-6.15905225277,-1.53976306319 l2.84263938665,13.1472074986 \" fill=\"none\" stroke=\"black\" stroke-width=\"1\"/></svg>"
      ],
      "text/plain": [
       "<IPython.core.display.SVG object>"
      ]
     },
     "metadata": {},
     "output_type": "display_data"
    },
    {
     "name": "stdout",
     "output_type": "stream",
     "text": [
      "in encode(): seq_len = [100]\n"
     ]
    },
    {
     "data": {
      "image/svg+xml": [
       "<svg baseProfile=\"full\" height=\"113.544836864\" version=\"1.1\" width=\"117.038915185\" xmlns=\"http://www.w3.org/2000/svg\" xmlns:ev=\"http://www.w3.org/2001/xml-events\" xmlns:xlink=\"http://www.w3.org/1999/xlink\"><defs/><rect fill=\"white\" height=\"113.544836864\" width=\"117.038915185\" x=\"0\" y=\"0\"/><path d=\"M51.0575291608,50.2876470983 m0.0,0.0 l0.0,0.0 -10.4822337627,-1.77664965391 l-7.34348535538,-0.296108275652 -5.68527877331,3.79018604755 l-0.829103216529,2.25042298436 m23.9847707748,-2.25042298436 l2.90186107159,-3.61252099276 4.14551585913,-1.48054137826 l6.57360374928,0.0 9.53468680382,2.30964466929 m0.177664961666,0.0 l1.89509302378,-0.947546511889 2.36886620522,-3.67174267769 l7.1658205986,-17.9441618919 2.78341799974,-1.65820643306 l3.31641286612,0.769881531596 m-0.236886627972,-0.118443313986 l0.710659846663,0.473773255944 -1.89509302378,1.59898474813 m-0.059221656993,-0.118443313986 l-1.65820643306,-0.118443313986 -2.1319796145,2.90186107159 l-6.27749562263,18.3587133884 -3.31641286612,4.44162428379 l-2.66497462988,1.83587133884 m0.355329923332,-5.6260573864 l-0.710659846663,0.0 m0.532994903624,5.56683599949 l-2.01353639364,0.947546511889 m2.01353639364,-0.829103216529 l4.20473754406,3.25719118118 m0.059221656993,0.118443313986 l-3.37563455105,-0.118443313986 m1.06598980725,0.473773255944 l-6.45516037941,3.43485623598 -7.69881546497,0.473773255944 l-2.01353639364,-0.651438236237 m6.98815524578,-10.245347023 l-1.48054137826,0.592216551304 1.48054137826,-0.177664961666 m-0.769881531596,-0.414551608264 l0.651438236237,0.414551608264 m-11.1928927898,0.177664961666 l-2.72419631481,1.24365478754 -1.53976306319,2.90186107159 l-0.118443313986,4.32318091393 0.651438236237,2.30964466929 l1.18443310261,1.53976306319 0.651438236237,-1.06598980725 l2.01353639364,-0.532994903624 2.19120129943,0.0 l2.01353639364,1.24365478754 -0.355329923332,-3.73096436262 l-3.02030444145,-6.09983086586 m-3.96785110235,-5.38917064667 l-0.473773255944,2.07275792956 0.473773255944,1.65820643306 m-0.473773255944,-2.90186107159 l-1.06598980725,0.118443313986 m11.4890015125,12.5549912453 l-1.12521149218,2.25042298436 0.0,3.49407762289 l0.651438236237,2.72419631481 2.84263938665,4.8561757803 l0.710659846663,8.58714044094 1.77664965391,1.30287647247 l0.0,1.59898474813 -1.83587133884,0.769881531596 l-5.21150588989,0.0 0.059221656993,-6.7512691021 l-4.26395922899,-9.17935669422 m-0.888324826956,-1.59898474813 l0.0,10.3045678139 -1.30287647247,2.48730957508 l0.947546511889,4.26395922899 -1.36209815741,0.769881531596 l-4.38240259886,0.0 0.769881531596,-8.88324856758 l-0.947546511889,-5.32994925976 -3.07952612638,-4.61928933859 m1.30287647247,2.54653126001 l-4.32318091393,1.30287647247 -4.38240259886,0.0 l-2.96108275652,-1.12521149218 m0.296108275652,0.118443313986 l0.118443313986,2.54653126001 -1.59898474813,4.50084596872 l0.888324826956,6.0406088829 -5.03384053707,0.473773255944 l-0.473773255944,-1.00676819682 0.236886627972,-8.05414557457 l-5.03384053707,-12.0219957829 0.0,-4.8561757803 l1.59898474813,-6.81049048901 m8.29103171825,29.6108293533 l1.00676819682,1.30287647247 2.84263938665,0.0 l0.0,-1.71742811799 -1.06598980725,-1.65820643306 l-0.118443313986,-7.52115011215 \" fill=\"none\" stroke=\"black\" stroke-width=\"1\"/></svg>"
      ],
      "text/plain": [
       "<IPython.core.display.SVG object>"
      ]
     },
     "metadata": {},
     "output_type": "display_data"
    },
    {
     "name": "stdout",
     "output_type": "stream",
     "text": [
      "in encode(): seq_len = [121]\n"
     ]
    },
    {
     "data": {
      "image/svg+xml": [
       "<svg baseProfile=\"full\" height=\"103.654820621\" version=\"1.1\" width=\"93.1133674085\" xmlns=\"http://www.w3.org/2000/svg\" xmlns:ev=\"http://www.w3.org/2001/xml-events\" xmlns:xlink=\"http://www.w3.org/1999/xlink\"><defs/><rect fill=\"white\" height=\"103.654820621\" width=\"93.1133674085\" x=\"0\" y=\"0\"/><path d=\"M33.8240267709,29.9746191595 m0.0,0.0 l0.0,0.0 -2.54653126001,1.65820643306 l-2.25042298436,7.04737722874 -0.355329923332,3.96785110235 l0.829103216529,1.24365478754 -0.473773255944,7.9357022047 l1.24365478754,8.11336696148 1.53976306319,5.32994925976 l4.56006765366,8.40947508812 2.01353639364,2.19120129943 l1.59898474813,0.769881531596 m-4.44162428379,-25.6429767609 l0.0,10.5414545536 2.60575294495,6.45516037941 l3.90862941742,5.32994925976 0.829103216529,2.84263938665 l-3.07952612638,0.651438236237 m-11.074450016,-25.2876472473 l-3.73096436262,3.49407762289 1.36209815741,0.473773255944 l2.30964466929,-1.06598980725 m6.98815524578,-2.25042298436 l2.96108275652,-0.059221656993 0.355329923332,2.90186107159 l-0.888324826956,2.42808789015 -0.532994903624,0.177664961666 l-0.769881531596,-5.15228390694 m1.95431470871,-0.355329923332 l0.710659846663,-0.829103216529 0.236886627972,-6.57360374928 l-0.829103216529,-4.08629417419 1.42131969333,-1.24365478754 l0.888324826956,1.18443310261 -1.36209815741,0.592216551304 m1.36209815741,-0.710659846663 l0.0,1.53976306319 -1.48054137826,0.947546511889 m-6.15905225277,-13.2656514645 l5.92216551304,-1.48054137826 2.54653126001,0.532994903624 m0.532994903624,0.0 l0.532994903624,1.24365478754 1.53976306319,1.18443310261 l4.20473754406,-0.592216551304 2.19120129943,0.592216551304 l3.13874781132,2.42808789015 1.36209815741,1.95431470871 m-11.6666662693,1.12521149218 l0.947546511889,5.2707272768 -2.54653126001,3.67174267769 l-0.355329923332,5.6260573864 1.18443310261,1.30287647247 l2.01353639364,0.0 1.71742811799,-0.651438236237 l1.30287647247,-2.54653126001 3.25719118118,-1.48054137826 l2.01353639364,-2.48730957508 0.532994903624,-6.21827423573 l-1.48054137826,-2.78341799974 m3.19796949625,-1.12521149218 l0.0,2.60575294495 -1.42131969333,1.83587133884 m-16.3451766968,-11.903553009 l3.43485623598,-1.59898474813 4.8561757803,-0.947546511889 l4.32318091393,-0.118443313986 3.84940773249,1.65820643306 m-1.83587133884,-1.18443310261 l0.355329923332,0.473773255944 1.65820643306,0.0 l5.15228390694,-1.06598980725 2.66497462988,1.89509302378 l4.26395922899,7.75803685188 0.532994903624,6.57360374928 l-0.296108275652,3.25719118118 m-26.7681884766,12.791877985 l1.24365478754,6.0406088829 -0.473773255944,2.72419631481 l1.53976306319,2.84263938665 0.0,3.31641286612 l1.71742811799,5.2707272768 -0.769881531596,0.888324826956 l-1.53976306319,0.296108275652 -3.61252099276,-0.059221656993 l-0.473773255944,-0.296108275652 -0.532994903624,-3.55329930782 m3.02030444145,-17.5888323784 l3.02030444145,2.54653126001 2.90186107159,0.888324826956 m-0.473773255944,-3.73096436262 l2.19120129943,9.41624343395 0.0,4.56006765366 l-0.947546511889,6.86971247196 5.50761401653,0.0 l1.42131969333,-0.592216551304 0.355329923332,-2.19120129943 l-1.59898474813,-11.0152280331 -0.177664961666,-8.52791845798 m0.0,4.44162428379 l2.1319796145,0.414551608264 3.43485623598,-1.89509302378 m7.58037209511,-12.732656002 l-0.118443313986,3.25719118118 -2.36886620522,5.44839262962 l-2.01353639364,2.54653126001 -3.02030444145,1.83587133884 m4.02707278728,-2.30964466929 l-0.355329923332,0.532994903624 0.947546511889,3.43485623598 l0.0,6.98815524578 -0.769881531596,5.80372214317 l5.56683599949,-0.355329923332 0.710659846663,0.473773255944 m-1.30287647247,-29.6108293533 l1.06598980725,5.74450075626 -0.355329923332,16.2859559059 l0.355329923332,7.22504198551 m-12.1404397488,-13.7394249439 l0.0,4.20473754406 1.24365478754,8.88324856758 l-2.90186107159,0.414551608264 \" fill=\"none\" stroke=\"black\" stroke-width=\"1\"/></svg>"
      ],
      "text/plain": [
       "<IPython.core.display.SVG object>"
      ]
     },
     "metadata": {},
     "output_type": "display_data"
    },
    {
     "name": "stdout",
     "output_type": "stream",
     "text": [
      "in encode(): seq_len = [76]\n"
     ]
    },
    {
     "data": {
      "image/svg+xml": [
       "<svg baseProfile=\"full\" height=\"90.4483922943\" version=\"1.1\" width=\"87.1319795679\" xmlns=\"http://www.w3.org/2000/svg\" xmlns:ev=\"http://www.w3.org/2001/xml-events\" xmlns:xlink=\"http://www.w3.org/1999/xlink\"><defs/><rect fill=\"white\" height=\"90.4483922943\" width=\"87.1319795679\" x=\"0\" y=\"0\"/><path d=\"M62.0135353133,26.5397630632 m0.0,0.0 l0.0,0.0 -3.79018604755,-0.651438236237 l-9.77157354355,0.0 -5.38917064667,1.24365478754 l-5.6260573864,-2.1319796145 -2.42808789015,0.0 l-2.36886620522,0.947546511889 -1.65820643306,2.66497462988 l-2.84263938665,1.65820643306 -0.710659846663,1.71742811799 l-0.532994903624,4.97461915016 -1.00676819682,1.95431470871 l-0.888324826956,4.20473754406 0.118443313986,4.73773241043 l1.65820643306,3.90862941742 2.25042298436,1.06598980725 l2.07275792956,0.236886627972 3.37563455105,-0.532994903624 l1.24365478754,-2.1319796145 0.059221656993,-2.36886620522 m-0.177664961666,0.236886627972 l-1.24365478754,-1.42131969333 -3.49407762289,-0.355329923332 l-1.95431470871,1.00676819682 -0.651438236237,3.07952612638 l3.25719118118,1.36209815741 0.473773255944,-2.36886620522 m-1.95431470871,-3.07952612638 l0.0,-3.19796949625 2.72419631481,-3.07952612638 m1.71742811799,-3.02030444145 l-0.651438236237,0.888324826956 -3.25719118118,1.30287647247 l-2.36886620522,0.236886627972 5.38917064667,0.0 l1.71742811799,-1.36209815741 m-2.36886620522,1.83587133884 l0.532994903624,-0.651438236237 m2.19120129943,-0.829103216529 l-3.19796949625,3.96785110235 1.65820643306,-1.24365478754 l1.53976306319,-0.414551608264 2.42808789015,0.769881531596 l2.01353639364,1.89509302378 0.355329923332,2.60575294495 l2.01353639364,2.60575294495 0.651438236237,4.02707278728 l0.0,7.28426396847 -0.177664961666,4.14551585913 l-0.651438236237,0.769881531596 0.710659846663,0.414551608264 l6.09983086586,0.0 1.00676819682,-0.414551608264 l0.0,-2.36886620522 -1.18443310261,-4.8561757803 l0.888324826956,-14.3316411972 m-0.296108275652,4.61928933859 l2.42808789015,0.355329923332 3.67174267769,2.01353639364 l2.54653126001,0.414551608264 3.96785110235,-0.177664961666 m-29.6108293533,-18.3587133884 l1.24365478754,-1.12521149218 -0.296108275652,1.59898474813 l-0.769881531596,0.177664961666 -0.059221656993,-0.414551608264 m3.90862941742,-5.80372214317 l3.25719118118,-0.888324826956 1.30287647247,0.532994903624 l1.00676819682,1.65820643306 1.00676819682,7.04737722874 l-2.19120129943,3.07952612638 -1.77664965391,1.00676819682 l-2.36886620522,0.0 -1.30287647247,-1.06598980725 l0.0,-1.06598980725 \" fill=\"none\" stroke=\"black\" stroke-width=\"1\"/></svg>"
      ],
      "text/plain": [
       "<IPython.core.display.SVG object>"
      ]
     },
     "metadata": {},
     "output_type": "display_data"
    },
    {
     "name": "stdout",
     "output_type": "stream",
     "text": [
      "in encode(): seq_len = [93]\n"
     ]
    },
    {
     "data": {
      "image/svg+xml": [
       "<svg baseProfile=\"full\" height=\"94.0016901959\" version=\"1.1\" width=\"104.60236962\" xmlns=\"http://www.w3.org/2000/svg\" xmlns:ev=\"http://www.w3.org/2001/xml-events\" xmlns:xlink=\"http://www.w3.org/1999/xlink\"><defs/><rect fill=\"white\" height=\"94.0016901959\" width=\"104.60236962\" x=\"0\" y=\"0\"/><path d=\"M45.1945858728,37.7918775752 m0.0,0.0 l0.0,0.0 1.24365478754,-0.947546511889 l1.77664965391,0.0 1.65820643306,0.947546511889 l3.96785110235,0.0 2.36886620522,1.71742811799 m-6.7512691021,-2.42808789015 l8.46869707108,-8.94246995449 4.8561757803,-2.60575294495 l2.42808789015,-0.532994903624 4.61928933859,0.236886627972 l4.67851102352,3.55329930782 m-29.6108293533,8.82402658463 l-3.25719118118,4.02707278728 -0.710659846663,8.88324856758 l-1.42131969333,2.19120129943 -4.61928933859,-0.177664961666 l-3.02030444145,-2.78341799974 -3.19796949625,-5.38917064667 l-0.177664961666,-5.03384053707 -0.769881531596,-1.42131969333 l-1.59898474813,-0.414551608264 -1.06598980725,1.12521149218 l-0.059221656993,2.78341799974 0.710659846663,-0.177664961666 l0.829103216529,1.89509302378 m0.0,0.059221656993 l0.118443313986,2.25042298436 1.48054137826,4.20473754406 l2.25042298436,3.79018604755 5.92216551304,4.91539746523 l4.08629417419,0.651438236237 3.43485623598,-1.36209815741 l1.65820643306,-1.12521149218 3.73096436262,-5.09306252003 l-1.18443310261,3.84940773249 1.83587133884,-1.65820643306 l5.09306252003,-0.947546511889 m-0.236886627972,-12.1404397488 l3.49407762289,-1.36209815741 3.31641286612,0.710659846663 l0.473773255944,0.829103216529 0.0,3.61252099276 l-2.25042298436,5.2707272768 -0.355329923332,2.66497462988 l-2.66497462988,0.355329923332 -1.36209815741,-0.592216551304 m17.4111676216,-22.3265647888 l2.66497462988,4.91539746523 -0.059221656993,8.64636182785 l-1.18443310261,4.08629417419 m-20.6091356277,9.06091332436 l0.118443313986,9.83079493046 2.1319796145,2.78341799974 l2.72419631481,-0.059221656993 0.947546511889,-1.53976306319 l-0.532994903624,-5.50761401653 1.18443310261,-4.26395922899 l0.118443313986,-4.02707278728 m0.0,3.13874781132 l4.97461915016,-1.59898474813 5.32994925976,-3.55329930782 l3.37563455105,-4.44162428379 m-25.1099824905,8.17258834839 l0.532994903624,4.32318091393 3.02030444145,4.67851102352 m-0.118443313986,-0.355329923332 l0.414551608264,0.888324826956 m-5.32994925976,-18.5363781452 l-0.532994903624,2.01353639364 0.296108275652,0.532994903624 l0.710659846663,-1.42131969333 -0.651438236237,-1.42131969333 m0.118443313986,1.00676819682 l-0.059221656993,1.06598980725 -0.059221656993,-1.00676819682 m27.0050764084,-18.4179353714 l2.1319796145,6.98815524578 0.414551608264,12.5549912453 l2.84263938665,2.60575294495 -2.36886620522,3.07952612638 l-1.42131969333,0.059221656993 -2.84263938665,-4.8561757803 m1.59898474813,-19.9576985836 l1.18443310261,1.89509302378 1.00676819682,3.67174267769 l2.07275792956,3.13874781132 0.532994903624,7.40270733833 l-0.532994903624,0.592216551304 -0.888324826956,-2.90186107159 l0.177664961666,-2.90186107159 m0.118443313986,0.118443313986 l-1.77664965391,-3.79018604755 \" fill=\"none\" stroke=\"black\" stroke-width=\"1\"/></svg>"
      ],
      "text/plain": [
       "<IPython.core.display.SVG object>"
      ]
     },
     "metadata": {},
     "output_type": "display_data"
    },
    {
     "name": "stdout",
     "output_type": "stream",
     "text": [
      "in encode(): seq_len = [122]\n"
     ]
    },
    {
     "data": {
      "image/svg+xml": [
       "<svg baseProfile=\"full\" height=\"89.8561738618\" version=\"1.1\" width=\"100.279186657\" xmlns=\"http://www.w3.org/2000/svg\" xmlns:ev=\"http://www.w3.org/2001/xml-events\" xmlns:xlink=\"http://www.w3.org/1999/xlink\"><defs/><rect fill=\"white\" height=\"89.8561738618\" width=\"100.279186657\" x=\"0\" y=\"0\"/><path d=\"M63.2571906131,28.9678511024 m0.0,0.0 l0.0,0.0 -2.30964466929,-2.66497462988 l-4.02707278728,-1.30287647247 -2.36886620522,4.02707278728 l-0.829103216529,2.90186107159 m0.0,0.236886627972 l0.0,2.01353639364 1.18443310261,0.710659846663 l3.55329930782,5.21150588989 1.48054137826,0.0 l1.71742811799,-2.07275792956 m-1.71742811799,-11.962774992 l7.1658205986,-0.829103216529 2.96108275652,0.592216551304 l1.89509302378,2.66497462988 m0.236886627972,0.177664961666 l1.65820643306,5.38917064667 1.42131969333,14.6277487278 m0.0,0.236886627972 l-0.059221656993,1.53976306319 -1.48054137826,2.54653126001 l-2.60575294495,1.95431470871 m-0.059221656993,0.177664961666 l0.0,1.24365478754 -0.651438236237,0.118443313986 l-0.118443313986,-1.00676819682 -1.71742811799,-0.355329923332 l-0.414551608264,-1.30287647247 1.71742811799,-0.355329923332 l1.83587133884,-1.65820643306 0.710659846663,-1.65820643306 l-0.118443313986,-2.25042298436 m0.0,-0.177664961666 l-0.651438236237,-2.19120129943 -1.12521149218,-0.947546511889 l-2.72419631481,-5.15228390694 0.059221656993,1.30287647247 l1.48054137826,2.25042298436 -2.78341799974,-0.651438236237 l-1.24365478754,-1.12521149218 m-0.236886627972,0.0 l-2.01353639364,5.21150588989 m0.0,0.177664961666 l5.44839262962,10.3045678139 m0.059221656993,0.118443313986 l-0.177664961666,2.36886620522 -2.60575294495,3.49407762289 m-0.177664961666,0.118443313986 l-1.53976306319,1.83587133884 -5.2707272768,-1.30287647247 l0.0,-1.42131969333 2.42808789015,-2.1319796145 m0.059221656993,-0.236886627972 l0.118443313986,-2.30964466929 -0.829103216529,-2.42808789015 l-2.60575294495,-2.19120129943 -0.829103216529,-1.53976306319 m1.53976306319,1.30287647247 l-8.11336696148,2.42808789015 -5.03384053707,-0.532994903624 m-5.6260573864,-8.46869707108 l0.532994903624,1.65820643306 2.72419631481,3.19796949625 l-0.059221656993,6.15905225277 m0.0,0.236886627972 l1.42131969333,3.55329930782 0.118443313986,2.66497462988 l-5.68527877331,0.059221656993 m-0.177664961666,0.0 l-0.296108275652,-2.01353639364 -1.65820643306,-2.01353639364 l-1.48054137826,-3.90862941742 m-0.059221656993,-0.177664961666 l0.0,-1.24365478754 -2.19120129943,-4.20473754406 l-1.12521149218,-8.76480519772 m0.0,-0.177664961666 l0.0,-1.65820643306 5.74450075626,-5.21150588989 m0.236886627972,0.0 l3.96785110235,-2.72419631481 6.69204711914,-0.532994903624 m0.059221656993,-0.118443313986 l3.31641286612,0.0 1.95431470871,-0.888324826956 m-20.6683588028,7.34348535538 l-1.12521149218,2.01353639364 -1.89509302378,1.18443310261 l-1.12521149218,3.13874781132 -2.48730957508,2.84263938665 l-1.59898474813,5.50761401653 m-0.059221656993,0.118443313986 l1.12521149218,-0.769881531596 0.532994903624,-3.31641286612 m6.27749562263,0.355329923332 l0.829103216529,3.31641286612 0.0,11.8443310261 m0.118443313986,-0.236886627972 l5.50761401653,0.0 m15.4568529129,-9.47546482086 l-1.06598980725,7.69881546497 -1.12521149218,2.1319796145 m-0.059221656993,0.177664961666 l3.90862941742,0.0 1.06598980725,-0.710659846663 m1.95431470871,-1.53976306319 l0.651438236237,-6.3959389925 m4.02707278728,8.88324856758 l-2.01353639364,-0.236886627972 -0.059221656993,-1.30287647247 l-1.36209815741,0.829103216529 -1.18443310261,-0.118443313986 m-15.279186964,0.0 l-1.24365478754,0.0 -0.236886627972,-0.532994903624 l-2.19120129943,0.651438236237 m26.7681884766,-29.6108293533 l1.71742811799,0.532994903624 0.947546511889,1.95431470871 m-1.59898474813,-2.36886620522 l-0.532994903624,1.77664965391 1.18443310261,0.414551608264 \" fill=\"none\" stroke=\"black\" stroke-width=\"1\"/></svg>"
      ],
      "text/plain": [
       "<IPython.core.display.SVG object>"
      ]
     },
     "metadata": {},
     "output_type": "display_data"
    },
    {
     "name": "stdout",
     "output_type": "stream",
     "text": [
      "in encode(): seq_len = [93]\n"
     ]
    },
    {
     "data": {
      "image/svg+xml": [
       "<svg baseProfile=\"full\" height=\"85.1776634902\" version=\"1.1\" width=\"86.8950926512\" xmlns=\"http://www.w3.org/2000/svg\" xmlns:ev=\"http://www.w3.org/2001/xml-events\" xmlns:xlink=\"http://www.w3.org/1999/xlink\"><defs/><rect fill=\"white\" height=\"85.1776634902\" width=\"86.8950926512\" x=\"0\" y=\"0\"/><path d=\"M45.9644663241,31.3367170375 m0.0,0.0 l0.0,0.0 -3.73096436262,-1.42131969333 l-1.24365478754,-2.30964466929 -2.1319796145,-0.947546511889 l-2.36886620522,0.0 -1.77664965391,0.592216551304 l-2.30964466929,2.1319796145 -0.592216551304,1.48054137826 m-0.177664961666,0.414551608264 l-1.53976306319,2.42808789015 -1.48054137826,1.06598980725 l-0.355329923332,4.97461915016 m0.0,0.177664961666 l-0.059221656993,4.14551585913 -1.59898474813,2.07275792956 l-1.59898474813,4.61928933859 m0.0,0.177664961666 l0.118443313986,2.25042298436 0.592216551304,1.42131969333 l0.710659846663,0.296108275652 4.38240259886,0.947546511889 l6.33671700954,-0.888324826956 5.44839262962,-4.91539746523 l0.473773255944,-3.90862941742 -0.947546511889,-2.01353639364 l-3.25719118118,-0.414551608264 -3.02030444145,2.66497462988 l0.0,3.07952612638 1.30287647247,0.0 l1.00676819682,-1.06598980725 0.118443313986,-2.07275792956 l1.00676819682,-0.177664961666 0.118443313986,1.30287647247 m0.0,0.236886627972 l-1.65820643306,1.18443310261 -1.59898474813,2.07275792956 l-2.84263938665,0.651438236237 -2.96108275652,0.0 l-0.118443313986,-2.07275792956 2.01353639364,-1.12521149218 l1.36209815741,-2.1319796145 m0.118443313986,-0.059221656993 l2.01353639364,-0.651438236237 -1.53976306319,2.54653126001 l1.30287647247,0.118443313986 m6.45516037941,-14.0947544575 l2.90186107159,-2.19120129943 1.95431470871,-0.651438236237 l2.07275792956,-0.059221656993 1.42131969333,2.42808789015 l0.0,2.78341799974 m-0.177664961666,-0.296108275652 l0.236886627972,2.36886620522 -2.19120129943,5.09306252003 l-0.355329923332,2.60575294495 -3.43485623598,-2.1319796145 m-13.5617589951,-12.6734340191 l-1.00676819682,0.0 -2.01353639364,1.18443310261 l-1.89509302378,1.83587133884 -0.355329923332,2.60575294495 l0.592216551304,3.90862941742 0.414551608264,0.059221656993 m9.35702204704,-2.30964466929 l0.888324826956,-2.07275792956 1.65820643306,0.296108275652 l-0.296108275652,1.12521149218 -1.65820643306,0.059221656993 m6.7512691021,-8.23181033134 l2.84263938665,-0.118443313986 3.79018604755,-2.72419631481 l4.20473754406,-1.95431470871 3.13874781132,-0.059221656993 l2.60575294495,0.592216551304 0.710659846663,2.25042298436 l1.36209815741,2.1319796145 m-29.6108293533,18.9509296417 l0.0,2.1319796145 m0.0,4.26395922899 l-0.177664961666,3.73096436262 m7.9357022047,1.12521149218 l-0.651438236237,-6.63282573223 1.12521149218,0.592216551304 l2.60575294495,2.84263938665 1.12521149218,3.02030444145 m9.77157354355,0.0 l-1.00676819682,-2.60575294495 -0.236886627972,-3.96785110235 l0.947546511889,-0.177664961666 5.74450075626,-6.33671700954 m0.059221656993,-4.8561757803 l0.0,4.79695409536 1.59898474813,2.36886620522 \" fill=\"none\" stroke=\"black\" stroke-width=\"1\"/></svg>"
      ],
      "text/plain": [
       "<IPython.core.display.SVG object>"
      ]
     },
     "metadata": {},
     "output_type": "display_data"
    },
    {
     "name": "stdout",
     "output_type": "stream",
     "text": [
      "in encode(): seq_len = [104]\n"
     ]
    },
    {
     "data": {
      "image/svg+xml": [
       "<svg baseProfile=\"full\" height=\"88.2571899518\" version=\"1.1\" width=\"91.0998310056\" xmlns=\"http://www.w3.org/2000/svg\" xmlns:ev=\"http://www.w3.org/2001/xml-events\" xmlns:xlink=\"http://www.w3.org/1999/xlink\"><defs/><rect fill=\"white\" height=\"88.2571899518\" width=\"91.0998310056\" x=\"0\" y=\"0\"/><path d=\"M40.3384098224,30.4483927041 m0.0,0.0 l0.0,0.0 -5.03384053707,1.59898474813 l-0.473773255944,1.53976306319 2.36886620522,4.73773241043 l1.00676819682,4.50084596872 0.592216551304,0.414551608264 l1.42131969333,-0.177664961666 1.65820643306,-1.89509302378 m0.236886627972,-11.133671999 l3.67174267769,-1.24365478754 3.13874781132,0.532994903624 l2.54653126001,-0.296108275652 1.24365478754,0.532994903624 l1.71742811799,2.54653126001 1.00676819682,6.15905225277 m-9.77157354355,0.947546511889 l0.236886627972,1.12521149218 -0.177664961666,-1.36209815741 l-0.532994903624,-0.118443313986 -0.296108275652,0.473773255944 l0.532994903624,1.12521149218 0.236886627972,-0.651438236237 l-0.414551608264,-0.355329923332 0.651438236237,0.473773255944 l-0.532994903624,-0.710659846663 m9.47546482086,0.177664961666 l0.0,0.710659846663 0.118443313986,-0.592216551304 m0.059221656993,-0.296108275652 l0.059221656993,-0.473773255944 0.0,0.414551608264 m-9.53468680382,-10.9560060501 l-6.63282573223,-2.72419631481 -6.21827423573,0.177664961666 l-2.48730957508,-0.651438236237 -2.72419631481,0.0 l-2.48730957508,0.888324826956 m29.6108293533,15.8714044094 l-0.296108275652,7.04737722874 1.71742811799,5.15228390694 l2.54653126001,4.73773241043 4.02707278728,2.84263938665 m-16.7005074024,-15.338408947 l0.355329923332,4.26395922899 1.95431470871,2.96108275652 l-0.355329923332,-6.7512691021 -1.53976306319,-0.473773255944 m8.46869707108,0.0 l1.36209815741,2.90186107159 0.0,2.07275792956 l-0.532994903624,0.769881531596 -0.651438236237,-2.1319796145 l0.059221656993,-3.25719118118 m-0.651438236237,-1.42131969333 l0.177664961666,-2.72419631481 m-9.94923830032,5.56683599949 l1.36209815741,2.1319796145 m2.42808789015,0.296108275652 l1.83587133884,3.90862941742 3.55329930782,4.32318091393 l4.26395922899,3.02030444145 3.37563455105,1.24365478754 m1.00676819682,-1.42131969333 l3.67174267769,1.42131969333 m-4.67851102352,0.177664961666 l0.532994903624,0.177664961666 m-1.53976306319,-3.02030444145 l-1.95431470871,0.177664961666 m-5.03384053707,-4.8561757803 l1.18443310261,-0.888324826956 m-3.25719118118,-5.38917064667 l1.30287647247,-1.18443310261 m-1.18443310261,-2.96108275652 l0.355329923332,-0.177664961666 m-2.48730957508,-13.7394249439 l0.059221656993,-2.36886620522 0.0,0.592216551304 l-1.00676819682,0.532994903624 -0.118443313986,-1.12521149218 l-0.296108275652,0.829103216529 1.12521149218,-0.355329923332 m1.24365478754,-0.532994903624 l0.0,0.532994903624 0.888324826956,-0.769881531596 m-2.30964466929,-0.296108275652 l0.414551608264,-0.296108275652 m-4.91539746523,21.1421322823 l-2.54653126001,1.48054137826 -0.947546511889,1.71742811799 l-2.54653126001,1.83587133884 -1.00676819682,4.32318091393 l-0.059221656993,2.96108275652 0.592216551304,1.48054137826 m-6.81049048901,-11.903553009 l-0.059221656993,4.14551585913 0.769881531596,2.90186107159 l0.177664961666,4.26395922899 m12.732656002,-12.851099968 l-1.65820643306,8.29103171825 0.592216551304,4.38240259886 m-5.44839262962,-3.49407762289 l0.355329923332,1.59898474813 m-7.9357022047,-5.68527877331 l-3.67174267769,-0.651438236237 \" fill=\"none\" stroke=\"black\" stroke-width=\"1\"/></svg>"
      ],
      "text/plain": [
       "<IPython.core.display.SVG object>"
      ]
     },
     "metadata": {},
     "output_type": "display_data"
    },
    {
     "name": "stdout",
     "output_type": "stream",
     "text": [
      "in encode(): seq_len = [76]\n"
     ]
    },
    {
     "data": {
      "image/svg+xml": [
       "<svg baseProfile=\"full\" height=\"80.8544841781\" version=\"1.1\" width=\"79.137055371\" xmlns=\"http://www.w3.org/2000/svg\" xmlns:ev=\"http://www.w3.org/2001/xml-events\" xmlns:xlink=\"http://www.w3.org/1999/xlink\"><defs/><rect fill=\"white\" height=\"80.8544841781\" width=\"79.137055371\" x=\"0\" y=\"0\"/><path d=\"M37.9103212617,26.6582067963 m0.0,0.0 l0.0,0.0 -2.07275792956,1.18443310261 l-2.78341799974,2.36886620522 -1.18443310261,1.53976306319 l-3.96785110235,2.66497462988 -1.83587133884,1.65820643306 l-0.888324826956,2.48730957508 -0.177664961666,2.84263938665 l0.296108275652,2.60575294495 1.00676819682,2.07275792956 m2.1319796145,-4.20473754406 l0.0,-1.18443310261 1.12521149218,-1.53976306319 l1.59898474813,-0.769881531596 2.78341799974,-0.769881531596 m-5.56683599949,4.20473754406 l0.414551608264,2.1319796145 1.12521149218,1.24365478754 l0.0,1.36209815741 -2.07275792956,0.710659846663 l-1.30287647247,-0.296108275652 -0.236886627972,-1.00676819682 m7.69881546497,-8.35025370121 l1.24365478754,0.118443313986 0.769881531596,-0.355329923332 l-0.296108275652,0.888324826956 -1.18443310261,0.947546511889 m-0.118443313986,-0.592216551304 l-0.473773255944,2.07275792956 -0.118443313986,3.19796949625 l0.710659846663,-0.296108275652 2.07275792956,-2.19120129943 l4.79695409536,0.414551608264 m-3.43485623598,-9.17935669422 l0.651438236237,-0.769881531596 0.769881531596,0.532994903624 l-1.24365478754,0.118443313986 m-0.177664961666,-6.0406088829 l1.83587133884,-0.532994903624 m5.44839262962,2.07275792956 l2.60575294495,3.31641286612 0.769881531596,2.60575294495 m-3.79018604755,-4.91539746523 l0.592216551304,1.36209815741 2.78341799974,2.96108275652 l0.651438236237,3.73096436262 m-4.67851102352,-3.96785110235 l-0.829103216529,2.42808789015 0.236886627972,4.02707278728 l0.769881531596,0.059221656993 0.947546511889,-1.18443310261 l1.48054137826,0.236886627972 1.06598980725,-1.77664965391 l0.947546511889,0.0 m-7.63959348202,4.61928933859 l1.24365478754,-0.651438236237 0.651438236237,-0.829103216529 m-1.71742811799,1.53976306319 l0.947546511889,1.18443310261 2.54653126001,0.651438236237 l2.72419631481,2.19120129943 2.72419631481,0.888324826956 m-1.36209815741,-8.23181033134 l0.0,2.25042298436 1.30287647247,4.56006765366 l0.769881531596,4.50084596872 3.13874781132,5.38917064667 m-10.7783412933,-12.0219957829 l-0.592216551304,2.78341799974 0.532994903624,10.1269030571 m6.81049048901,-9.29780006409 l-0.592216551304,2.25042298436 -1.18443310261,2.54653126001 l-0.651438236237,3.49407762289 m-8.05414557457,-29.6108293533 l1.48054137826,-0.236886627972 \" fill=\"none\" stroke=\"black\" stroke-width=\"1\"/></svg>"
      ],
      "text/plain": [
       "<IPython.core.display.SVG object>"
      ]
     },
     "metadata": {},
     "output_type": "display_data"
    },
    {
     "name": "stdout",
     "output_type": "stream",
     "text": [
      "in encode(): seq_len = [84]\n"
     ]
    },
    {
     "data": {
      "image/svg+xml": [
       "<svg baseProfile=\"full\" height=\"82.512689149\" version=\"1.1\" width=\"92.2250398062\" xmlns=\"http://www.w3.org/2000/svg\" xmlns:ev=\"http://www.w3.org/2001/xml-events\" xmlns:xlink=\"http://www.w3.org/1999/xlink\"><defs/><rect fill=\"white\" height=\"82.512689149\" width=\"92.2250398062\" x=\"0\" y=\"0\"/><path d=\"M32.8764803708,25.769881485 m0.0,0.0 l0.0,0.0 -4.50084596872,3.02030444145 l-1.77664965391,3.31641286612 0.651438236237,13.7394249439 l-0.947546511889,6.0406088829 -1.30287647247,3.84940773249 l0.532994903624,0.888324826956 0.829103216529,-0.592216551304 l4.73773241043,-8.05414557457 1.59898474813,-4.67851102352 l0.0,-5.03384053707 m-2.72419631481,-3.90862941742 l-0.532994903624,1.24365478754 1.18443310261,0.059221656993 l0.118443313986,-0.829103216529 -0.829103216529,-0.414551608264 m3.13874781132,-3.49407762289 l4.97461915016,-0.829103216529 0.888324826956,1.77664965391 l0.651438236237,3.73096436262 -1.83587133884,1.24365478754 l-1.71742811799,2.25042298436 -1.71742811799,0.177664961666 l-1.71742811799,-1.00676819682 0.0,-1.71742811799 l0.710659846663,-1.24365478754 2.07275792956,-1.48054137826 m-2.78341799974,-8.05414557457 l7.81725883484,0.177664961666 4.8561757803,-0.947546511889 l3.37563455105,0.829103216529 6.15905225277,-0.059221656993 l3.43485623598,0.651438236237 2.36886620522,1.65820643306 l1.36209815741,2.90186107159 0.473773255944,2.54653126001 l-0.236886627972,3.61252099276 m-29.6108293533,3.07952612638 l3.31641286612,0.710659846663 0.829103216529,3.67174267769 l0.414551608264,6.98815524578 -0.414551608264,2.25042298436 l-1.42131969333,2.1319796145 0.059221656993,1.12521149218 l6.0406088829,0.414551608264 0.829103216529,-2.19120129943 l-0.829103216529,-5.6260573864 2.1319796145,-4.79695409536 l1.83587133884,-2.60575294495 0.414551608264,-3.37563455105 m-2.72419631481,6.3959389925 l9.17935669422,1.71742811799 2.19120129943,-0.769881531596 l2.96108275652,-2.19120129943 0.0,1.36209815741 l1.71742811799,4.26395922899 0.059221656993,2.90186107159 l-1.18443310261,2.66497462988 0.769881531596,0.355329923332 l3.13874781132,-0.532994903624 0.888324826956,-0.829103216529 l0.177664961666,-4.67851102352 -1.48054137826,-4.97461915016 l0.532994903624,-8.05414557457 1.71742811799,1.48054137826 l3.49407762289,5.38917064667 m-4.79695409536,-8.46869707108 l3.79018604755,5.38917064667 1.00676819682,3.02030444145 m-24.5177650452,2.42808789015 l1.53976306319,3.07952612638 2.78341799974,2.96108275652 l0.118443313986,1.71742811799 -0.532994903624,1.00676819682 l2.90186107159,-0.296108275652 1.06598980725,-1.24365478754 l-0.355329923332,-1.65820643306 -1.53976306319,-1.65820643306 l-0.888324826956,-3.13874781132 m5.86294412613,-0.355329923332 l0.414551608264,6.81049048901 0.829103216529,-0.118443313986 l1.89509302378,-1.71742811799 -0.769881531596,-6.15905225277 \" fill=\"none\" stroke=\"black\" stroke-width=\"1\"/></svg>"
      ],
      "text/plain": [
       "<IPython.core.display.SVG object>"
      ]
     },
     "metadata": {},
     "output_type": "display_data"
    },
    {
     "name": "stdout",
     "output_type": "stream",
     "text": [
      "in encode(): seq_len = [143]\n"
     ]
    },
    {
     "data": {
      "image/svg+xml": [
       "<svg baseProfile=\"full\" height=\"83.5194581188\" version=\"1.1\" width=\"72.6226733066\" xmlns=\"http://www.w3.org/2000/svg\" xmlns:ev=\"http://www.w3.org/2001/xml-events\" xmlns:xlink=\"http://www.w3.org/1999/xlink\"><defs/><rect fill=\"white\" height=\"83.5194581188\" width=\"72.6226733066\" x=\"0\" y=\"0\"/><path d=\"M31.2182746548,26.1252115294 m0.0,0.0 l0.0,0.0 1.48054137826,-0.829103216529 l2.84263938665,0.355329923332 3.31641286612,-0.651438236237 l0.888324826956,0.177664961666 1.48054137826,1.36209815741 l4.14551585913,-0.236886627972 2.19120129943,0.947546511889 l0.059221656993,0.947546511889 -0.947546511889,1.83587133884 l-0.177664961666,3.19796949625 -1.18443310261,2.60575294495 l-1.06598980725,0.947546511889 m-13.2064294815,-10.8967852592 l-0.532994903624,1.00676819682 -3.84940773249,-0.532994903624 l-1.00676819682,1.06598980725 1.89509302378,2.07275792956 l0.355329923332,4.44162428379 1.24365478754,2.01353639364 l1.77664965391,1.42131969333 3.25719118118,1.36209815741 l0.769881531596,1.12521149218 0.473773255944,1.36209815741 l0.059221656993,7.58037209511 1.06598980725,6.7512691021 l1.36209815741,2.48730957508 2.25042298436,0.473773255944 m3.84940773249,-22.2081208229 l-2.72419631481,2.07275792956 -0.710659846663,1.89509302378 l-0.710659846663,4.56006765366 -0.355329923332,7.46192872524 l0.592216551304,0.947546511889 0.296108275652,2.36886620522 l0.710659846663,0.414551608264 0.296108275652,-0.829103216529 l0.888324826956,1.48054137826 0.0,1.24365478754 l-1.18443310261,0.592216551304 -0.829103216529,-0.059221656993 m2.25042298436,-20.6683588028 l0.473773255944,8.35025370121 0.829103216529,3.43485623598 l0.0,2.01353639364 -1.42131969333,4.44162428379 m-2.1319796145,-2.25042298436 l0.829103216529,0.0 0.059221656993,1.12521149218 m0.236886627972,-0.296108275652 l0.592216551304,0.059221656993 0.059221656993,0.829103216529 m-11.7258882523,-14.9830794334 l0.532994903624,10.0676810741 -0.355329923332,4.20473754406 l-0.710659846663,2.90186107159 1.24365478754,0.592216551304 l3.49407762289,0.0 1.53976306319,-0.414551608264 l0.059221656993,-1.48054137826 -1.18443310261,-3.25719118118 l0.236886627972,-7.1658205986 m-4.97461915016,11.4297795296 l1.24365478754,-1.42131969333 0.947546511889,-0.059221656993 l0.888324826956,0.769881531596 0.296108275652,1.48054137826 m0.355329923332,0.0 l0.888324826956,-1.65820643306 1.42131969333,1.24365478754 m-9.65313017368,-29.6108293533 l-1.59898474813,4.8561757803 0.177664961666,7.46192872524 l0.710659846663,2.54653126001 1.06598980725,1.59898474813 l1.71742811799,1.59898474813 1.53976306319,0.651438236237 m16.226733923,-18.3587133884 l0.829103216529,2.07275792956 -0.118443313986,5.50761401653 l-2.19120129943,6.15905225277 -1.18443310261,1.30287647247 l-1.06598980725,0.414551608264 m-8.40947508812,-5.6260573864 l0.0,-4.67851102352 m5.98138749599,5.09306252003 l-0.355329923332,-4.44162428379 m-9.65313017368,-7.87648022175 l0.0,2.60575294495 0.710659846663,1.65820643306 l0.473773255944,3.61252099276 1.65820643306,2.72419631481 m8.82402658463,-10.8375632763 l0.177664961666,4.32318091393 -0.414551608264,2.54653126001 l-1.65820643306,3.43485623598 m-0.532994903624,-7.40270733833 l-0.355329923332,1.83587133884 0.710659846663,-1.36209815741 l-0.355329923332,-0.651438236237 m-0.059221656993,0.651438236237 l0.059221656993,0.473773255944 -0.414551608264,-0.296108275652 m-5.68527877331,-0.059221656993 l0.532994903624,1.12521149218 -0.177664961666,0.592216551304 l-0.592216551304,-0.651438236237 0.118443313986,-1.12521149218 m0.296108275652,0.473773255944 l0.059221656993,0.532994903624 m-0.710659846663,5.68527877331 l0.710659846663,2.19120129943 m0.651438236237,-2.19120129943 l0.236886627972,2.60575294495 m5.2707272768,-4.50084596872 l0.355329923332,5.50761401653 m-7.46192872524,-3.67174267769 l0.177664961666,4.56006765366 -0.414551608264,3.25719118118 l0.532994903624,-0.296108275652 1.30287647247,-5.56683599949 m-1.48054137826,-2.07275792956 l0.532994903624,-0.710659846663 0.651438236237,0.532994903624 m6.3959389925,-0.769881531596 l0.296108275652,3.49407762289 1.18443310261,3.25719118118 l-2.01353639364,-2.30964466929 m0.0,-5.09306252003 l0.710659846663,0.236886627972 0.059221656993,1.18443310261 l0.177664961666,-1.30287647247 m-13.5617589951,10.245347023 l0.710659846663,2.25042298436 0.0,4.02707278728 l-0.947546511889,4.38240259886 1.18443310261,0.592216551304 l1.36209815741,-0.118443313986 m-2.78341799974,-0.473773255944 l1.48054137826,-0.592216551304 0.355329923332,1.12521149218 m13.3840942383,-14.7461926937 l0.0,-2.60575294495 \" fill=\"none\" stroke=\"black\" stroke-width=\"1\"/></svg>"
      ],
      "text/plain": [
       "<IPython.core.display.SVG object>"
      ]
     },
     "metadata": {},
     "output_type": "display_data"
    },
    {
     "name": "stdout",
     "output_type": "stream",
     "text": [
      "in encode(): seq_len = [148]\n"
     ]
    },
    {
     "data": {
      "image/svg+xml": [
       "<svg baseProfile=\"full\" height=\"76.2944159564\" version=\"1.1\" width=\"88.6125197075\" xmlns=\"http://www.w3.org/2000/svg\" xmlns:ev=\"http://www.w3.org/2001/xml-events\" xmlns:xlink=\"http://www.w3.org/1999/xlink\"><defs/><rect fill=\"white\" height=\"76.2944159564\" width=\"88.6125197075\" x=\"0\" y=\"0\"/><path d=\"M35.9560067207,27.0135361981 m0.0,0.0 l0.0,0.0 -1.65820643306,-0.059221656993 l-1.36209815741,0.710659846663 -2.72419631481,0.651438236237 l-1.18443310261,1.30287647247 -1.12521149218,2.01353639364 l-0.829103216529,3.67174267769 -0.414551608264,9.83079493046 l-0.355329923332,0.769881531596 -1.30287647247,1.06598980725 l0.0,1.06598980725 1.36209815741,-0.177664961666 l0.059221656993,1.00676819682 0.532994903624,-0.059221656993 l1.30287647247,-3.49407762289 1.53976306319,-2.78341799974 l0.473773255944,-3.02030444145 0.0,-4.50084596872 m5.68527877331,-4.56006765366 l-0.118443313986,-2.01353639364 0.947546511889,-1.48054137826 l1.18443310261,-0.059221656993 1.71742811799,0.947546511889 l0.355329923332,1.30287647247 -0.651438236237,2.42808789015 l0.355329923332,3.19796949625 -0.118443313986,2.54653126001 l-1.06598980725,1.59898474813 -2.48730957508,0.296108275652 l-1.59898474813,-1.06598980725 -0.829103216529,-1.36209815741 l-0.118443313986,-0.888324826956 m0.473773255944,1.36209815741 l-0.059221656993,0.947546511889 -1.48054137826,1.53976306319 l-1.83587133884,0.532994903624 m-0.118443313986,0.0 l0.236886627972,2.30964466929 -0.592216551304,2.07275792956 l1.24365478754,-1.71742811799 0.118443313986,-2.90186107159 m4.14551585913,-13.3840942383 l11.3705575466,-1.53976306319 5.6260573864,-0.118443313986 l4.8561757803,1.48054137826 1.53976306319,0.947546511889 l1.48054137826,1.95431470871 1.65820643306,4.73773241043 l-0.118443313986,4.56006765366 -1.95431470871,6.21827423573 l-0.651438236237,4.91539746523 m-25.7614207268,-11.4890015125 l0.0,0.592216551304 1.83587133884,3.13874781132 l0.473773255944,1.53976306319 0.355329923332,3.19796949625 l0.0,2.90186107159 -0.355329923332,0.532994903624 l0.355329923332,0.296108275652 3.25719118118,-0.059221656993 l0.355329923332,-0.355329923332 0.236886627972,-8.17258834839 l-0.355329923332,-0.769881531596 m-4.32318091393,0.947546511889 l-2.36886620522,4.79695409536 -0.829103216529,3.31641286612 l4.02707278728,0.059221656993 m3.73096436262,-7.34348535538 l3.19796949625,0.888324826956 2.54653126001,-0.059221656993 l5.03384053707,-1.30287647247 1.77664965391,-0.829103216529 l1.59898474813,-1.30287647247 m0.829103216529,-2.36886620522 l-0.532994903624,1.42131969333 0.0,3.67174267769 l1.59898474813,4.67851102352 m-0.059221656993,0.0 l-0.829103216529,3.19796949625 1.12521149218,0.355329923332 l1.42131969333,0.0 1.06598980725,-0.414551608264 l0.473773255944,-2.48730957508 m-3.49407762289,0.473773255944 l0.473773255944,0.473773255944 0.177664961666,1.42131969333 m0.177664961666,-0.947546511889 l0.829103216529,0.355329923332 0.296108275652,0.947546511889 m-0.296108275652,-1.12521149218 l1.06598980725,-0.414551608264 m-6.7512691021,-7.58037209511 l-0.177664961666,1.71742811799 0.947546511889,6.98815524578 l2.48730957508,0.0 m-2.60575294495,-0.888324826956 l0.473773255944,-0.355329923332 0.888324826956,0.0 l0.355329923332,0.532994903624 -0.118443313986,0.710659846663 m0.059221656993,-1.18443310261 l1.42131969333,0.0 m-19.8984766006,-0.296108275652 l0.769881531596,0.0 0.710659846663,1.00676819682 m-0.296108275652,-0.473773255944 l0.236886627972,-0.296108275652 1.24365478754,-0.118443313986 l0.414551608264,0.592216551304 m0.118443313986,-0.355329923332 l0.592216551304,-0.118443313986 m-7.69881546497,-0.236886627972 l0.947546511889,0.118443313986 0.710659846663,0.829103216529 m-0.059221656993,-0.473773255944 l1.12521149218,-0.118443313986 0.710659846663,0.651438236237 m-0.236886627972,-0.592216551304 l0.532994903624,-0.236886627972 m-5.50761401653,-17.3519456387 l-0.177664961666,-0.236886627972 1.48054137826,-1.12521149218 l-0.532994903624,1.65820643306 -0.236886627972,0.118443313986 l-0.296108275652,-0.592216551304 0.236886627972,-0.177664961666 l0.296108275652,0.296108275652 m29.6108293533,-1.48054137826 l2.19120129943,3.07952612638 0.651438236237,2.19120129943 l0.0,3.25719118118 -0.592216551304,2.60575294495 l-0.059221656993,2.07275792956 m0.651438236237,-5.92216551304 l-1.00676819682,1.95431470871 m0.888324826956,-0.236886627972 l0.0,0.473773255944 -1.12521149218,1.00676819682 m0.710659846663,0.473773255944 l-0.947546511889,1.42131969333 m1.65820643306,-4.26395922899 l0.236886627972,0.947546511889 m-0.532994903624,0.532994903624 l0.118443313986,1.36209815741 m-0.059221656993,0.118443313986 l0.414551608264,0.947546511889 m-0.888324826956,-0.414551608264 l0.888324826956,1.00676819682 \" fill=\"none\" stroke=\"black\" stroke-width=\"1\"/></svg>"
      ],
      "text/plain": [
       "<IPython.core.display.SVG object>"
      ]
     },
     "metadata": {},
     "output_type": "display_data"
    },
    {
     "name": "stdout",
     "output_type": "stream",
     "text": [
      "in encode(): seq_len = [115]\n"
     ]
    },
    {
     "data": {
      "image/svg+xml": [
       "<svg baseProfile=\"full\" height=\"86.1252117064\" version=\"1.1\" width=\"91.3959365431\" xmlns=\"http://www.w3.org/2000/svg\" xmlns:ev=\"http://www.w3.org/2001/xml-events\" xmlns:xlink=\"http://www.w3.org/1999/xlink\"><defs/><rect fill=\"white\" height=\"86.1252117064\" width=\"91.3959365431\" x=\"0\" y=\"0\"/><path d=\"M33.3502542879,30.152285276 m0.0,0.0 l0.0,0.0 -1.18443310261,0.355329923332 l-1.83587133884,9.65313017368 1.24365478754,3.96785110235 l0.0,6.0406088829 2.90186107159,7.75803685188 l1.95431470871,2.25042298436 2.1319796145,0.947546511889 l2.60575294495,0.0 1.89509302378,-1.06598980725 l0.355329923332,-1.00676819682 -0.296108275652,-4.32318091393 l-0.829103216529,0.532994903624 -1.65820643306,-0.059221656993 l0.177664961666,1.89509302378 -0.532994903624,0.532994903624 l-1.36209815741,0.059221656993 -0.592216551304,-0.473773255944 l-1.83587133884,-7.40270733833 -0.355329923332,-5.2707272768 l0.473773255944,-1.12521149218 2.54653126001,-2.48730957508 m0.177664961666,0.414551608264 l-0.473773255944,1.12521149218 -1.30287647247,0.888324826956 l0.059221656993,0.947546511889 2.78341799974,-1.06598980725 l3.37563455105,0.532994903624 m-10.245347023,-13.7986457348 l1.65820643306,0.0 4.20473754406,-1.59898474813 l6.0406088829,0.059221656993 0.947546511889,0.473773255944 l1.12521149218,1.00676819682 0.414551608264,1.18443310261 l0.0,2.30964466929 -0.829103216529,2.84263938665 l0.414551608264,5.03384053707 -1.48054137826,-0.414551608264 l-2.19120129943,-1.59898474813 -1.06598980725,-1.53976306319 l-0.473773255944,-2.60575294495 m-10.245347023,-4.91539746523 l-1.30287647247,-0.532994903624 -2.90186107159,0.0 l-2.60575294495,0.592216551304 -0.236886627972,0.651438236237 l0.0,1.42131969333 2.60575294495,4.8561757803 l0.947546511889,3.49407762289 1.83587133884,2.36886620522 l0.829103216529,0.355329923332 m10.4822337627,-15.4568529129 l4.26395922899,-0.296108275652 7.75803685188,-2.66497462988 l5.92216551304,0.296108275652 2.66497462988,3.31641286612 l0.888324826956,1.95431470871 0.829103216529,2.90186107159 l0.296108275652,4.67851102352 m-21.9712352753,5.15228390694 l2.01353639364,2.48730957508 1.83587133884,4.97461915016 l0.414551608264,7.10659861565 5.6260573864,-1.12521149218 l-0.059221656993,-1.12521149218 -1.59898474813,-2.66497462988 l-0.296108275652,-8.58714044094 m14.0947544575,-6.63282573223 l-0.651438236237,2.1319796145 -2.78341799974,3.07952612638 l-4.38240259886,1.48054137826 -4.20473754406,0.059221656993 m-12.4365484715,-1.71742811799 l0.177664961666,4.08629417419 1.36209815741,7.04737722874 m1.71742811799,3.79018604755 l3.37563455105,-0.177664961666 m-5.09306252003,-2.36886620522 l0.296108275652,-1.53976306319 m-2.78341799974,-13.0879867077 l0.355329923332,0.651438236237 m19.3654811382,-16.1082911491 l2.1319796145,0.651438236237 2.90186107159,2.78341799974 l1.83587133884,5.38917064667 0.829103216529,18.1810486317 l-2.66497462988,1.06598980725 -2.19120129943,-0.355329923332 l0.532994903624,-2.48730957508 -1.06598980725,-3.43485623598 l0.0,-3.84940773249 m-3.25719118118,1.24365478754 l0.177664961666,9.29780006409 -1.42131969333,1.12521149218 l-2.1319796145,0.651438236237 -1.00676819682,-0.118443313986 l-0.651438236237,-3.55329930782 -0.177664961666,-7.04737722874 m-0.059221656993,-0.059221656993 l-1.95431470871,-0.118443313986 m14.6869707108,-12.5549912453 l0.829103216529,2.01353639364 0.177664961666,9.29780006409 m-29.6108293533,-7.52115011215 l-1.06598980725,0.947546511889 0.0,1.36209815741 l1.36209815741,-2.60575294495 m-0.829103216529,1.18443310261 l-0.118443313986,0.532994903624 0.769881531596,-0.651438236237 l-0.236886627972,-0.355329923332 m-3.49407762289,19.4839251041 l-2.1319796145,-10.4822337627 -0.177664961666,-3.84940773249 \" fill=\"none\" stroke=\"black\" stroke-width=\"1\"/></svg>"
      ],
      "text/plain": [
       "<IPython.core.display.SVG object>"
      ]
     },
     "metadata": {},
     "output_type": "display_data"
    },
    {
     "name": "stdout",
     "output_type": "stream",
     "text": [
      "in encode(): seq_len = [96]\n"
     ]
    },
    {
     "data": {
      "image/svg+xml": [
       "<svg baseProfile=\"full\" height=\"73.570219297\" version=\"1.1\" width=\"82.0981374756\" xmlns=\"http://www.w3.org/2000/svg\" xmlns:ev=\"http://www.w3.org/2001/xml-events\" xmlns:xlink=\"http://www.w3.org/1999/xlink\"><defs/><rect fill=\"white\" height=\"73.570219297\" width=\"82.0981374756\" x=\"0\" y=\"0\"/><path d=\"M27.0135370642,27.7241962031 m0.0,0.0 l0.0,0.0 1.77664965391,-2.48730957508 l3.37563455105,-0.236886627972 4.91539746523,2.60575294495 l3.19796949625,0.0 3.19796949625,-1.00676819682 l3.19796949625,0.0 5.21150588989,2.25042298436 l2.30964466929,2.1319796145 1.89509302378,4.08629417419 l0.473773255944,1.95431470871 -0.118443313986,7.10659861565 m-29.6108293533,-16.7005074024 l-1.00676819682,5.56683599949 0.118443313986,2.25042298436 l-0.651438236237,2.78341799974 0.651438236237,8.64636182785 l-0.947546511889,1.12521149218 0.0,0.651438236237 l1.24365478754,0.118443313986 0.651438236237,-0.829103216529 l-0.236886627972,-0.355329923332 1.18443310261,-2.78341799974 l-0.651438236237,-4.79695409536 0.829103216529,-1.53976306319 l0.769881531596,-3.67174267769 0.769881531596,-1.24365478754 l1.00676819682,0.651438236237 2.1319796145,-0.414551608264 l1.24365478754,1.06598980725 0.296108275652,4.97461915016 l-1.24365478754,4.32318091393 -0.236886627972,2.48730957508 l2.84263938665,-0.118443313986 0.473773255944,-3.31641286612 l0.710659846663,-1.18443310261 m-0.414551608264,-7.58037209511 l-0.059221656993,7.46192872524 1.77664965391,4.02707278728 l-1.00676819682,0.592216551304 0.118443313986,0.592216551304 l3.02030444145,0.118443313986 -0.473773255944,-1.36209815741 l0.118443313986,-2.01353639364 -0.414551608264,-3.31641286612 l1.53976306319,-4.97461915016 m-1.00676819682,3.25719118118 l1.83587133884,1.59898474813 1.89509302378,0.532994903624 l4.56006765366,0.177664961666 1.48054137826,-0.355329923332 l2.60575294495,2.36886620522 0.532994903624,2.48730957508 m1.59898474813,-10.6598985195 l1.18443310261,3.79018604755 -0.473773255944,3.25719118118 l0.0,4.32318091393 m-2.42808789015,-0.947546511889 l0.296108275652,1.36209815741 m2.84263938665,-2.78341799974 l0.769881531596,1.18443310261 m-0.829103216529,-0.829103216529 l-0.296108275652,1.00676819682 m0.473773255944,-0.532994903624 l0.355329923332,1.36209815741 m-0.059221656993,-0.769881531596 l-0.414551608264,0.592216551304 m0.177664961666,-2.01353639364 l1.00676819682,0.829103216529 m-3.96785110235,1.65820643306 l-0.059221656993,1.89509302378 2.19120129943,0.177664961666 l-0.118443313986,-2.54653126001 m-18.1218266487,0.592216551304 l0.414551608264,-0.414551608264 0.473773255944,0.592216551304 l1.48054137826,-0.296108275652 0.296108275652,0.532994903624 m-7.1658205986,-1.24365478754 l0.829103216529,0.651438236237 0.829103216529,-0.532994903624 l0.414551608264,0.0 0.177664961666,0.414551608264 m-2.90186107159,-18.0626058578 l3.13874781132,-0.059221656993 1.71742811799,2.60575294495 l-1.59898474813,2.36886620522 -2.54653126001,-0.592216551304 l-0.651438236237,-1.71742811799 m-4.32318091393,0.059221656993 l1.65820643306,0.0 -0.829103216529,0.236886627972 l-0.532994903624,-0.414551608264 m0.710659846663,0.0 l0.177664961666,0.236886627972 -0.532994903624,-0.059221656993 \" fill=\"none\" stroke=\"black\" stroke-width=\"1\"/></svg>"
      ],
      "text/plain": [
       "<IPython.core.display.SVG object>"
      ]
     },
     "metadata": {},
     "output_type": "display_data"
    },
    {
     "name": "stdout",
     "output_type": "stream",
     "text": [
      "in encode(): seq_len = [92]\n"
     ]
    },
    {
     "data": {
      "image/svg+xml": [
       "<svg baseProfile=\"full\" height=\"80.9729266539\" version=\"1.1\" width=\"79.2554986198\" xmlns=\"http://www.w3.org/2000/svg\" xmlns:ev=\"http://www.w3.org/2001/xml-events\" xmlns:xlink=\"http://www.w3.org/1999/xlink\"><defs/><rect fill=\"white\" height=\"80.9729266539\" width=\"79.2554986198\" x=\"0\" y=\"0\"/><path d=\"M35.363790188,27.4873091653 m0.0,0.0 l0.0,0.0 -2.25042298436,0.769881531596 l-1.77664965391,2.96108275652 -3.37563455105,9.00169193745 l-0.118443313986,1.77664965391 m3.61252099276,-1.71742811799 l-1.95431470871,1.53976306319 -4.50084596872,0.829103216529 l0.0,0.355329923332 2.36886620522,0.532994903624 l1.59898474813,-0.177664961666 2.54653126001,-0.829103216529 l1.48054137826,-1.18443310261 m-1.59898474813,-1.06598980725 l2.36886620522,0.769881531596 1.36209815741,-1.65820643306 m-7.75803685188,4.26395922899 l0.059221656993,3.43485623598 0.829103216529,1.83587133884 l2.60575294495,0.710659846663 2.48730957508,-0.769881531596 m-0.473773255944,-6.27749562263 l-1.36209815741,1.65820643306 -0.473773255944,1.53976306319 l0.177664961666,1.18443310261 0.947546511889,-0.118443313986 l0.888324826956,-1.83587133884 0.118443313986,-2.72419631481 m0.532994903624,-1.18443310261 l0.473773255944,1.12521149218 0.888324826956,0.355329923332 l2.01353639364,-1.65820643306 m-2.48730957508,1.53976306319 l0.414551608264,1.89509302378 0.0,2.30964466929 l-1.65820643306,1.77664965391 m3.90862941742,-7.58037209511 l1.18443310261,-0.592216551304 m0.296108275652,-6.51438236237 l0.118443313986,5.56683599949 -0.355329923332,3.73096436262 m0.473773255944,-14.0355324745 l-0.769881531596,1.59898474813 0.296108275652,2.78341799974 m-2.84263938665,-6.57360374928 l5.56683599949,-1.83587133884 2.90186107159,0.236886627972 l2.42808789015,1.59898474813 1.24365478754,1.89509302378 l0.888324826956,2.30964466929 0.118443313986,1.65820643306 l-1.59898474813,0.769881531596 0.296108275652,1.71742811799 l-1.53976306319,0.296108275652 -0.177664961666,2.19120129943 l-1.53976306319,0.414551608264 -1.65820643306,2.60575294495 l-1.65820643306,1.18443310261 -2.30964466929,1.42131969333 l-0.177664961666,-0.710659846663 m0.769881531596,0.414551608264 l0.532994903624,1.18443310261 2.48730957508,-1.53976306319 m-0.414551608264,-1.18443310261 l0.355329923332,0.888324826956 1.30287647247,0.414551608264 l0.829103216529,1.30287647247 m-1.53976306319,-1.36209815741 l-0.710659846663,3.37563455105 -0.888324826956,2.30964466929 l-1.30287647247,7.22504198551 m5.44839262962,0.355329923332 l1.48054137826,-3.67174267769 m-1.71742811799,-7.87648022175 l0.710659846663,5.86294412613 2.42808789015,4.91539746523 m-2.42808789015,-29.6108293533 l3.73096436262,-0.473773255944 4.73773241043,0.355329923332 m-22.8003382683,6.33671700954 l-0.296108275652,1.77664965391 1.30287647247,0.118443313986 l-0.888324826956,0.592216551304 -0.236886627972,-0.532994903624 m0.236886627972,0.532994903624 l0.947546511889,0.947546511889 m12.0219957829,8.29103171825 l0.355329923332,0.710659846663 m-8.29103171825,-13.9763104916 l1.42131969333,1.71742811799 m-1.89509302378,4.97461915016 l1.18443310261,1.36209815741 \" fill=\"none\" stroke=\"black\" stroke-width=\"1\"/></svg>"
      ],
      "text/plain": [
       "<IPython.core.display.SVG object>"
      ]
     },
     "metadata": {},
     "output_type": "display_data"
    },
    {
     "name": "stdout",
     "output_type": "stream",
     "text": [
      "in encode(): seq_len = [117]\n"
     ]
    },
    {
     "data": {
      "image/svg+xml": [
       "<svg baseProfile=\"full\" height=\"89.6785099711\" version=\"1.1\" width=\"119.999998249\" xmlns=\"http://www.w3.org/2000/svg\" xmlns:ev=\"http://www.w3.org/2001/xml-events\" xmlns:xlink=\"http://www.w3.org/1999/xlink\"><defs/><rect fill=\"white\" height=\"89.6785099711\" width=\"119.999998249\" x=\"0\" y=\"0\"/><path d=\"M34.7123507038,54.6700498741 m0.0,0.0 l0.0,0.0 2.01353639364,-0.177664961666 l10.7783412933,-4.67851102352 8.46869707108,-8.11336696148 l4.02707278728,-1.30287647247 m-24.6954298019,13.0879867077 l1.83587133884,1.30287647247 0.769881531596,2.01353639364 l-0.592216551304,1.71742811799 -1.06598980725,0.532994903624 l-1.42131969333,-1.59898474813 -0.236886627972,-2.78341799974 l1.71742811799,-0.947546511889 m1.48054137826,4.97461915016 l11.1928927898,-3.37563455105 9.41624343395,-4.97461915016 m-23.2741117477,9.41624343395 l-0.532994903624,2.19120129943 1.30287647247,1.65820643306 l1.00676819682,-1.24365478754 -0.532994903624,-2.07275792956 m1.59898474813,3.19796949625 l2.78341799974,0.0 6.3959389925,-2.30964466929 l7.40270733833,-1.06598980725 4.26395922899,-2.42808789015 l5.68527877331,-0.177664961666 1.00676819682,-0.710659846663 m-17.6480531693,-7.99492359161 l-4.50084596872,-1.59898474813 -4.20473754406,-4.8561757803 m15.3976309299,-16.7005074024 l6.0406088829,1.42131969333 5.15228390694,4.73773241043 l3.31641286612,1.83587133884 3.07952612638,3.55329930782 m-3.67174267769,13.9170897007 l4.32318091393,2.48730957508 4.44162428379,0.532994903624 m4.14551585913,-6.7512691021 l-1.24365478754,5.38917064667 6.3959389925,5.03384053707 l3.25719118118,6.86971247196 m0.651438236237,-1.18443310261 l0.355329923332,-1.95431470871 1.12521149218,-0.592216551304 l1.36209815741,0.059221656993 0.888324826956,1.36209815741 m-2.42808789015,0.177664961666 l0.888324826956,0.651438236237 m0.355329923332,-1.42131969333 l0.532994903624,0.829103216529 m-1.95431470871,1.77664965391 l2.36886620522,0.236886627972 1.06598980725,-1.18443310261 m-7.87648022175,-16.5820634365 l0.296108275652,6.09983086586 5.86294412613,7.46192872524 m-16.7597293854,-11.074450016 l1.77664965391,4.97461915016 m-0.177664961666,0.0 l-1.06598980725,-0.177664961666 m0.177664961666,-5.86294412613 l2.1319796145,4.50084596872 -0.118443313986,1.77664965391 l-1.06598980725,0.236886627972 m1.59898474813,-0.177664961666 l1.24365478754,-0.414551608264 m3.19796949625,-11.3113367558 l-0.355329923332,0.355329923332 m0.888324826956,0.0 l1.00676819682,0.177664961666 m-1.71742811799,-0.355329923332 l0.769881531596,0.0 m2.96108275652,-6.21827423573 l-1.00676819682,-2.25042298436 -2.48730957508,-2.07275792956 l-4.20473754406,-0.473773255944 -2.66497462988,0.888324826956 l-3.55329930782,5.2707272768 0.236886627972,1.65820643306 l3.43485623598,1.36209815741 6.98815524578,-2.30964466929 m-13.3248722553,-4.79695409536 l4.50084596872,0.710659846663 m12.791877985,3.90862941742 l2.66497462988,2.66497462988 0.710659846663,5.03384053707 l-0.888324826956,4.97461915016 -1.95431470871,0.947546511889 m-24.2808794975,3.96785110235 l2.90186107159,-1.65820643306 2.78341799974,-0.473773255944 l0.769881531596,-0.414551608264 -0.710659846663,-0.355329923332 m-29.6108293533,-12.3181045055 l-6.3959389925,1.77664965391 -3.73096436262,0.0 l-3.55329930782,-2.30964466929 m0.118443313986,-0.710659846663 l-0.829103216529,-0.532994903624 -0.710659846663,-3.13874781132 l2.01353639364,-1.53976306319 m1.30287647247,0.769881531596 l2.72419631481,1.95431470871 6.3959389925,-0.710659846663 m5.44839262962,-7.63959348202 l-4.8561757803,1.36209815741 -5.15228390694,0.177664961666 l-6.15905225277,-1.89509302378 -2.1319796145,1.00676819682 l-0.355329923332,1.30287647247 0.0,0.888324826956 l2.01353639364,1.71742811799 m26.3536381721,-8.46869707108 l-5.21150588989,-0.118443313986 -5.2707272768,3.43485623598 \" fill=\"none\" stroke=\"black\" stroke-width=\"1\"/></svg>"
      ],
      "text/plain": [
       "<IPython.core.display.SVG object>"
      ]
     },
     "metadata": {},
     "output_type": "display_data"
    },
    {
     "name": "stdout",
     "output_type": "stream",
     "text": [
      "in encode(): seq_len = [96]\n"
     ]
    },
    {
     "data": {
      "image/svg+xml": [
       "<svg baseProfile=\"full\" height=\"100.634515584\" version=\"1.1\" width=\"96.4297792315\" xmlns=\"http://www.w3.org/2000/svg\" xmlns:ev=\"http://www.w3.org/2001/xml-events\" xmlns:xlink=\"http://www.w3.org/1999/xlink\"><defs/><rect fill=\"white\" height=\"100.634515584\" width=\"96.4297792315\" x=\"0\" y=\"0\"/><path d=\"M26.5397630632,37.8510997444 m0.0,0.0 l0.0,0.0 -1.53976306319,-3.43485623598 l0.0,-1.71742811799 3.49407762289,-4.56006765366 l3.19796949625,-2.42808789015 3.19796949625,-0.710659846663 l9.23857867718,0.592216551304 17.3519456387,-0.592216551304 l3.43485623598,1.18443310261 3.55329930782,2.96108275652 l2.96108275652,4.38240259886 -0.118443313986,2.90186107159 l-3.49407762289,4.67851102352 -2.01353639364,1.24365478754 l-6.63282573223,2.07275792956 -3.19796949625,-2.01353639364 m-29.6108293533,-4.79695409536 l6.7512691021,4.8561757803 2.07275792956,2.90186107159 l3.25719118118,0.0 m0.236886627972,-0.532994903624 l-0.710659846663,3.73096436262 -4.67851102352,7.22504198551 l3.55329930782,-2.72419631481 3.84940773249,-6.57360374928 l-0.947546511889,-3.37563455105 -1.30287647247,2.25042298436 m2.54653126001,0.829103216529 l3.02030444145,2.25042298436 0.947546511889,13.3248722553 l0.0,11.074450016 -0.592216551304,1.83587133884 l2.36886620522,-0.236886627972 1.53976306319,-5.86294412613 l0.118443313986,-9.29780006409 1.24365478754,-7.75803685188 l1.18443310261,-3.43485623598 2.60575294495,-1.77664965391 l-1.48054137826,-3.25719118118 -0.651438236237,-5.38917064667 m1.24365478754,9.71235156059 l1.42131969333,2.30964466929 1.00676819682,5.74450075626 l0.651438236237,0.473773255944 0.296108275652,-4.50084596872 l-2.36886620522,-5.09306252003 m-0.592216551304,-1.48054137826 l1.36209815741,-2.01353639364 0.177664961666,-3.79018604755 l-1.59898474813,-4.97461915016 m-13.680202961,9.06091332436 l-0.769881531596,-0.829103216529 0.769881531596,-3.90862941742 l-1.71742811799,-3.13874781132 0.296108275652,-2.42808789015 l1.42131969333,-1.53976306319 m-1.53976306319,1.24365478754 l-3.25719118118,-1.24365478754 m19.1878163815,3.31641286612 l1.83587133884,-4.08629417419 m-0.532994903624,-0.651438236237 l-1.24365478754,-1.65820643306 -4.8561757803,-2.07275792956 m-4.8561757803,0.0 l-3.31641286612,3.43485623598 -1.95431470871,1.00676819682 m0.651438236237,2.96108275652 l2.19120129943,0.769881531596 -2.42808789015,-0.592216551304 m11.7258882523,0.769881531596 l1.71742811799,-0.592216551304 -1.59898474813,0.947546511889 m-12.6734340191,15.6345176697 l2.07275792956,14.3908619881 0.0,4.67851102352 l-1.12521149218,1.89509302378 2.48730957508,3.07952612638 l2.90186107159,-0.473773255944 m2.25042298436,-0.769881531596 l0.355329923332,2.36886620522 6.69204711914,-0.414551608264 l0.710659846663,-11.3705575466 1.83587133884,-6.63282573223 l2.25042298436,-2.78341799974 1.36209815741,-3.43485623598 l1.24365478754,-6.57360374928 m-6.86971247196,28.8409471512 l4.02707278728,0.592216551304 0.829103216529,-0.710659846663 l-1.24365478754,-3.79018604755 0.769881531596,-6.09983086586 l3.02030444145,-5.2707272768 3.84940773249,-3.73096436262 l3.67174267769,-5.98138749599 1.00676819682,-4.44162428379 l0.0,-5.92216551304 \" fill=\"none\" stroke=\"black\" stroke-width=\"1\"/></svg>"
      ],
      "text/plain": [
       "<IPython.core.display.SVG object>"
      ]
     },
     "metadata": {},
     "output_type": "display_data"
    },
    {
     "name": "stdout",
     "output_type": "stream",
     "text": [
      "in encode(): seq_len = [73]\n"
     ]
    },
    {
     "data": {
      "image/svg+xml": [
       "<svg baseProfile=\"full\" height=\"95.1861239132\" version=\"1.1\" width=\"78.0118441395\" xmlns=\"http://www.w3.org/2000/svg\" xmlns:ev=\"http://www.w3.org/2001/xml-events\" xmlns:xlink=\"http://www.w3.org/1999/xlink\"><defs/><rect fill=\"white\" height=\"95.1861239132\" width=\"78.0118441395\" x=\"0\" y=\"0\"/><path d=\"M32.5211505592,30.3299510852 m0.0,0.0 l0.0,0.0 -1.12521149218,0.236886627972 l-2.25042298436,2.42808789015 -0.710659846663,5.50761401653 l-3.43485623598,7.99492359161 0.0,12.6734340191 l0.414551608264,1.48054137826 3.37563455105,4.14551585913 l2.19120129943,1.48054137826 2.96108275652,0.829103216529 l2.48730957508,-0.296108275652 1.83587133884,-4.56006765366 l-0.177664961666,-3.84940773249 -1.06598980725,-3.25719118118 l-1.77664965391,-2.36886620522 -1.71742811799,-0.710659846663 l-2.1319796145,0.414551608264 -0.829103216529,2.01353639364 l0.0,3.07952612638 0.414551608264,0.888324826956 l0.651438236237,-2.66497462988 1.42131969333,2.36886620522 l0.592216551304,-2.84263938665 0.888324826956,0.592216551304 l0.651438236237,2.84263938665 -0.236886627972,5.32994925976 l-1.00676819682,0.947546511889 -1.12521149218,0.0 l-2.07275792956,-1.30287647247 -0.769881531596,-1.06598980725 l-0.118443313986,-2.36886620522 m1.42131969333,-29.6108293533 l3.07952612638,-2.30964466929 1.83587133884,-0.355329923332 l9.35702204704,0.947546511889 2.60575294495,-1.18443310261 l3.02030444145,-2.78341799974 m-12.732656002,4.61928933859 l1.48054137826,0.059221656993 3.55329930782,2.84263938665 l3.31641286612,4.61928933859 0.0,1.12521149218 l-2.60575294495,0.177664961666 -1.89509302378,1.18443310261 l-0.059221656993,2.25042298436 1.95431470871,5.74450075626 l-0.355329923332,1.36209815741 -3.31641286612,0.829103216529 l-3.31641286612,-0.829103216529 -1.00676819682,-1.53976306319 l0.0,-1.77664965391 m-6.3959389925,-5.21150588989 l-1.42131969333,0.355329923332 0.532994903624,0.829103216529 l1.83587133884,0.0 -0.118443313986,-1.06598980725 l-0.829103216529,-0.355329923332 m5.50761401653,4.08629417419 l-5.80372214317,8.05414557457 -0.355329923332,3.73096436262 l0.710659846663,4.73773241043 m5.32994925976,-16.2859559059 l0.0,4.73773241043 0.592216551304,1.18443310261 l4.14551585913,0.414551608264 -0.769881531596,1.18443310261 l5.98138749599,0.414551608264 7.81725883484,1.59898474813 l0.059221656993,1.53976306319 -0.829103216529,-0.236886627972 l-0.118443313986,0.710659846663 0.710659846663,9.53468680382 l-0.532994903624,4.56006765366 \" fill=\"none\" stroke=\"black\" stroke-width=\"1\"/></svg>"
      ],
      "text/plain": [
       "<IPython.core.display.SVG object>"
      ]
     },
     "metadata": {},
     "output_type": "display_data"
    },
    {
     "name": "stdout",
     "output_type": "stream",
     "text": [
      "in encode(): seq_len = [74]\n"
     ]
    },
    {
     "data": {
      "image/svg+xml": [
       "<svg baseProfile=\"full\" height=\"90.5076119956\" version=\"1.1\" width=\"78.1895083934\" xmlns=\"http://www.w3.org/2000/svg\" xmlns:ev=\"http://www.w3.org/2001/xml-events\" xmlns:xlink=\"http://www.w3.org/1999/xlink\"><defs/><rect fill=\"white\" height=\"90.5076119956\" width=\"78.1895083934\" x=\"0\" y=\"0\"/><path d=\"M32.165820403,31.8104907032 m0.0,0.0 l0.0,0.0 3.19796949625,-2.36886620522 l3.79018604755,-0.651438236237 1.77664965391,0.177664961666 l4.97461915016,2.84263938665 3.02030444145,-0.059221656993 l1.59898474813,-1.30287647247 0.059221656993,-2.07275792956 l-2.54653126001,-2.78341799974 1.59898474813,-0.592216551304 l2.90186107159,3.37563455105 0.651438236237,2.60575294495 l-0.414551608264,2.30964466929 -1.18443310261,1.24365478754 l-2.42808789015,1.18443310261 -3.84940773249,0.236886627972 l0.532994903624,2.36886620522 -1.48054137826,-0.059221656993 l-1.36209815741,1.00676819682 -2.36886620522,0.177664961666 l-1.18443310261,-1.30287647247 m-2.48730957508,-3.90862941742 l2.72419631481,3.37563455105 0.296108275652,2.96108275652 l-1.42131969333,-0.236886627972 -1.65820643306,-1.18443310261 l-2.60575294495,-0.177664961666 -0.236886627972,-2.72419631481 m-1.77664965391,-4.56006765366 l-0.888324826956,4.32318091393 -1.06598980725,1.77664965391 l-2.48730957508,2.01353639364 -2.30964466929,5.6260573864 l-0.532994903624,11.2521147728 0.710659846663,3.55329930782 l0.888324826956,1.06598980725 2.25042298436,0.651438236237 l9.12013530731,0.236886627972 2.78341799974,2.60575294495 m-1.06598980725,-24.2216587067 l0.947546511889,0.710659846663 1.83587133884,4.44162428379 l3.31641286612,3.07952612638 m-9.65313017368,-3.37563455105 l2.48730957508,3.61252099276 1.95431470871,0.769881531596 l3.25719118118,0.177664961666 -1.24365478754,2.1319796145 l1.30287647247,1.00676819682 1.48054137826,0.177664961666 l1.00676819682,-2.07275792956 -0.296108275652,-2.07275792956 l-0.947546511889,-0.651438236237 m-5.32994925976,1.24365478754 l0.769881531596,1.30287647247 0.177664961666,2.30964466929 m-6.81049048901,-0.651438236237 l1.71742811799,2.1319796145 2.60575294495,0.532994903624 l2.07275792956,-0.888324826956 0.059221656993,-1.77664965391 m0.0,1.42131969333 l1.24365478754,3.90862941742 0.118443313986,3.31641286612 l2.42808789015,3.55329930782 m-3.67174267769,-0.710659846663 l-0.059221656993,1.30287647247 m-7.99492359161,-3.49407762289 l0.829103216529,2.60575294495 2.30964466929,0.177664961666 l1.24365478754,-0.473773255944 -1.30287647247,-2.42808789015 m6.3959389925,-29.6108293533 l-0.118443313986,-0.059221656993 \" fill=\"none\" stroke=\"black\" stroke-width=\"1\"/></svg>"
      ],
      "text/plain": [
       "<IPython.core.display.SVG object>"
      ]
     },
     "metadata": {},
     "output_type": "display_data"
    },
    {
     "name": "stdout",
     "output_type": "stream",
     "text": [
      "in encode(): seq_len = [81]\n"
     ]
    },
    {
     "data": {
      "image/svg+xml": [
       "<svg baseProfile=\"full\" height=\"99.6277477872\" version=\"1.1\" width=\"80.4991535936\" xmlns=\"http://www.w3.org/2000/svg\" xmlns:ev=\"http://www.w3.org/2001/xml-events\" xmlns:xlink=\"http://www.w3.org/1999/xlink\"><defs/><rect fill=\"white\" height=\"99.6277477872\" width=\"80.4991535936\" x=\"0\" y=\"0\"/><path d=\"M35.6598978024,28.1979693845 m0.0,0.0 l0.0,0.0 3.90862941742,-2.96108275652 l2.72419631481,-0.236886627972 2.42808789015,1.24365478754 l3.02030444145,-0.296108275652 0.829103216529,0.355329923332 l2.1319796145,3.90862941742 m0.0,0.059221656993 l0.592216551304,2.78341799974 1.24365478754,2.07275792956 l0.059221656993,1.83587133884 m0.059221656993,0.0 l-0.532994903624,5.09306252003 0.769881531596,5.15228390694 l-2.25042298436,11.074450016 m-9.94923830032,-10.4230117798 l1.12521149218,3.84940773249 -0.118443313986,4.44162428379 m-0.769881531596,-6.27749562263 l-2.72419631481,0.651438236237 -0.829103216529,2.60575294495 l0.829103216529,5.74450075626 1.77664965391,2.84263938665 l3.43485623598,1.30287647247 3.67174267769,-0.355329923332 l2.48730957508,-1.71742811799 1.36209815741,-3.49407762289 m-15.6937384605,-29.6108293533 l-3.37563455105,0.592216551304 -3.84940773249,3.25719118118 l0.473773255944,2.30964466929 2.36886620522,4.73773241043 l1.12521149218,1.00676819682 1.48054137826,0.296108275652 m-0.888324826956,-4.73773241043 l1.77664965391,4.91539746523 0.296108275652,4.91539746523 l1.18443310261,4.02707278728 m-8.23181033134,-16.0490691662 l-1.48054137826,4.73773241043 0.177664961666,1.77664965391 l4.67851102352,6.15905225277 1.06598980725,0.414551608264 l1.18443310261,-0.532994903624 m17.5888323784,-15.338408947 l3.13874781132,1.65820643306 0.414551608264,0.710659846663 l1.12521149218,10.1269030571 -2.66497462988,1.24365478754 m-14.0947544575,-5.50761401653 l0.888324826956,1.53976306319 -0.059221656993,1.18443310261 l-0.769881531596,-0.769881531596 -0.236886627972,-1.48054137826 m-12.791877985,-0.118443313986 l-0.769881531596,3.49407762289 0.0,5.2707272768 l1.30287647247,3.13874781132 2.36886620522,2.72419631481 m-0.473773255944,-4.44162428379 l0.829103216529,5.86294412613 3.19796949625,8.05414557457 l0.118443313986,2.42808789015 1.36209815741,4.32318091393 m3.37563455105,-12.0812177658 l0.592216551304,8.23181033134 2.25042298436,5.56683599949 m-6.7512691021,-2.25042298436 l0.177664961666,1.89509302378 -0.769881531596,1.95431470871 l2.19120129943,1.53976306319 4.26395922899,-0.236886627972 l1.06598980725,-2.90186107159 m-1.12521149218,-10.7783412933 l-0.769881531596,3.84940773249 m4.38240259886,-2.25042298436 l-1.12521149218,4.79695409536 -2.84263938665,0.651438236237 m-8.35025370121,-8.35025370121 l-0.059221656993,4.67851102352 1.53976306319,1.18443310261 \" fill=\"none\" stroke=\"black\" stroke-width=\"1\"/></svg>"
      ],
      "text/plain": [
       "<IPython.core.display.SVG object>"
      ]
     },
     "metadata": {},
     "output_type": "display_data"
    },
    {
     "name": "stdout",
     "output_type": "stream",
     "text": [
      "in encode(): seq_len = [69]\n"
     ]
    },
    {
     "data": {
      "image/svg+xml": [
       "<svg baseProfile=\"full\" height=\"83.1641278043\" version=\"1.1\" width=\"98.5025373101\" xmlns=\"http://www.w3.org/2000/svg\" xmlns:ev=\"http://www.w3.org/2001/xml-events\" xmlns:xlink=\"http://www.w3.org/1999/xlink\"><defs/><rect fill=\"white\" height=\"83.1641278043\" width=\"98.5025373101\" x=\"0\" y=\"0\"/><path d=\"M25,28.3164128661 m0.0,0.0 l0.0,0.0 9.77157354355,-3.31641286612 l3.31641286612,0.355329923332 3.02030444145,1.30287647247 l4.56006765366,0.473773255944 2.30964466929,2.01353639364 l0.888324826956,2.90186107159 0.947546511889,6.69204711914 l1.71742811799,2.84263938665 1.24365478754,0.592216551304 l2.72419631481,0.0 1.36209815741,-0.532994903624 l1.77664965391,-2.01353639364 2.96108275652,-5.86294412613 l3.25719118118,-2.07275792956 2.60575294495,-0.532994903624 l2.96108275652,0.0 3.07952612638,1.65820643306 l-1.36209815741,1.12521149218 0.0,0.473773255944 l1.06598980725,0.888324826956 -3.90862941742,-0.236886627972 l-0.769881531596,0.414551608264 -5.50761401653,8.40947508812 l-2.90186107159,2.30964466929 -2.90186107159,0.532994903624 l-3.43485623598,0.0 -5.44839262962,-1.83587133884 l-4.14551585913,-0.177664961666 0.118443313986,0.651438236237 l1.36209815741,0.769881531596 -0.236886627972,0.177664961666 l-3.13874781132,0.0 -10.3045678139,1.83587133884 l-3.90862941742,-0.532994903624 m9.53468680382,-18.7732648849 l-5.86294412613,-0.355329923332 -2.60575294495,2.01353639364 l1.83587133884,1.18443310261 1.12521149218,1.59898474813 l0.592216551304,1.83587133884 0.592216551304,6.57360374928 l0.888324826956,0.592216551304 1.95431470871,0.0 l0.769881531596,-0.888324826956 0.118443313986,-1.30287647247 m7.58037209511,-8.40947508812 l1.89509302378,0.651438236237 0.473773255944,1.24365478754 l-1.77664965391,-0.651438236237 -0.532994903624,-1.30287647247 m0.532994903624,0.0 l0.0,1.53976306319 1.18443310261,-0.236886627972 m5.32994925976,8.64636182785 l1.24365478754,1.89509302378 m1.30287647247,-1.12521149218 l1.24365478754,1.06598980725 m1.06598980725,-2.07275792956 l2.90186107159,0.888324826956 m-0.769881531596,-2.66497462988 l2.42808789015,-0.236886627972 m-0.947546511889,-2.30964466929 l2.72419631481,0.0 m-1.71742811799,-2.84263938665 l3.79018604755,0.355329923332 m-29.6108293533,13.0287647247 l-0.414551608264,5.38917064667 -2.78341799974,5.21150588989 \" fill=\"none\" stroke=\"black\" stroke-width=\"1\"/></svg>"
      ],
      "text/plain": [
       "<IPython.core.display.SVG object>"
      ]
     },
     "metadata": {},
     "output_type": "display_data"
    },
    {
     "name": "stdout",
     "output_type": "stream",
     "text": [
      "in encode(): seq_len = [140]\n"
     ]
    },
    {
     "data": {
      "image/svg+xml": [
       "<svg baseProfile=\"full\" height=\"84.1708973981\" version=\"1.1\" width=\"101.285953633\" xmlns=\"http://www.w3.org/2000/svg\" xmlns:ev=\"http://www.w3.org/2001/xml-events\" xmlns:xlink=\"http://www.w3.org/1999/xlink\"><defs/><rect fill=\"white\" height=\"84.1708973981\" width=\"101.285953633\" x=\"0\" y=\"0\"/><path d=\"M40.7529602572,27.7241956536 m0.0,0.0 l0.0,0.0 1.06598980725,-0.414551608264 l3.90862941742,0.059221656993 1.36209815741,1.65820643306 m-0.059221656993,-0.473773255944 l1.89509302378,-0.532994903624 3.25719118118,0.059221656993 l3.96785110235,4.38240259886 0.0,0.592216551304 l-1.65820643306,1.30287647247 -2.66497462988,4.32318091393 l-2.42808789015,1.00676819682 m-0.236886627972,0.296108275652 l-1.12521149218,1.83587133884 m-8.52791845798,-16.4636206627 l0.532994903624,1.59898474813 -0.355329923332,2.48730957508 l-9.06091332436,4.73773241043 -1.71742811799,2.36886620522 l-1.06598980725,3.55329930782 0.177664961666,3.25719118118 l1.48054137826,2.07275792956 2.25042298436,1.18443310261 l4.44162428379,-0.118443313986 1.18443310261,-0.888324826956 l1.12521149218,-1.95431470871 0.532994903624,-8.58714044094 m5.32994925976,5.38917064667 l-1.24365478754,3.84940773249 -2.48730957508,3.31641286612 l-3.37563455105,2.19120129943 -2.48730957508,0.710659846663 l-3.31641286612,0.0 -2.07275792956,-0.710659846663 l-3.13874781132,-2.72419631481 -1.18443310261,-2.72419631481 l-0.059221656993,-6.63282573223 0.592216551304,-2.84263938665 l0.947546511889,-1.65820643306 2.1319796145,-2.01353639364 l3.25719118118,-1.59898474813 4.32318091393,-1.24365478754 l0.888324826956,-1.00676819682 0.177664961666,-1.42131969333 l1.71742811799,0.177664961666 0.355329923332,-0.592216551304 m4.97461915016,15.2199661732 l0.296108275652,-0.769881531596 1.06598980725,0.118443313986 l0.296108275652,3.73096436262 -2.19120129943,4.56006765366 l-3.43485623598,2.01353639364 3.25719118118,-5.32994925976 l0.296108275652,-4.08629417419 m-5.56683599949,-1.48054137826 l-1.42131969333,2.1319796145 -2.66497462988,1.77664965391 l-2.54653126001,0.651438236237 -2.60575294495,-0.177664961666 l2.19120129943,1.53976306319 2.96108275652,0.059221656993 l2.60575294495,-1.12521149218 1.12521149218,-1.83587133884 m-1.65820643306,-10.9560060501 l-0.059221656993,2.1319796145 1.59898474813,6.21827423573 m-5.32994925976,-6.81049048901 l-1.42131969333,1.24365478754 -0.296108275652,2.60575294495 l2.60575294495,1.53976306319 2.78341799974,3.02030444145 m0.829103216529,-7.63959348202 l0.414551608264,1.53976306319 -0.651438236237,-1.53976306319 l0.532994903624,0.473773255944 m5.38917064667,-1.12521149218 l-0.651438236237,0.532994903624 0.177664961666,1.59898474813 l0.592216551304,-2.07275792956 m-0.296108275652,0.355329923332 l-0.177664961666,0.769881531596 m10.1269030571,-6.15905225277 l5.6260573864,-3.25719118118 8.64636182785,0.296108275652 l2.72419631481,1.77664965391 1.42131969333,1.71742811799 l2.30964466929,5.09306252003 m-27.8341794014,11.133671999 l4.91539746523,0.0 1.53976306319,-1.18443310261 m-0.888324826956,0.592216551304 l2.30964466929,0.888324826956 m-6.09983086586,-0.177664961666 l1.12521149218,1.71742811799 0.177664961666,10.8967852592 m4.32318091393,-12.3181045055 l2.01353639364,1.30287647247 0.710659846663,1.24365478754 l1.06598980725,4.32318091393 0.414551608264,5.98138749599 m4.20473754406,-12.3773264885 l-0.059221656993,7.1658205986 1.00676819682,6.09983086586 m-13.7986457348,-1.53976306319 l0.177664961666,1.06598980725 m6.0406088829,-11.4297795296 l-0.414551608264,1.36209815741 -0.059221656993,10.0084602833 m14.8054146767,-29.6108293533 l1.65820643306,1.48054137826 1.59898474813,3.31641286612 l0.296108275652,6.27749562263 -0.532994903624,1.95431470871 l-1.83587133884,2.54653126001 -1.89509302378,1.24365478754 l-3.37563455105,0.888324826956 -3.19796949625,0.0 m11.6666662693,-13.5617589951 l0.296108275652,13.0879867077 2.07275792956,9.47546482086 l-4.91539746523,1.00676819682 -0.355329923332,-4.73773241043 l-2.1319796145,-4.50084596872 0.0,-1.36209815741 m-3.37563455105,0.651438236237 l-0.414551608264,0.769881531596 0.059221656993,6.69204711914 l1.12521149218,3.61252099276 -2.66497462988,0.710659846663 m10.6598985195,-22.6818943024 l0.473773255944,4.32318091393 1.65820643306,2.54653126001 l-0.414551608264,6.45516037941 0.888324826956,0.355329923332 l0.0,-1.18443310261 -0.651438236237,-0.769881531596 m-1.89509302378,-8.46869707108 l0.059221656993,1.24365478754 1.65820643306,2.60575294495 l0.059221656993,2.90186107159 \" fill=\"none\" stroke=\"black\" stroke-width=\"1\"/></svg>"
      ],
      "text/plain": [
       "<IPython.core.display.SVG object>"
      ]
     },
     "metadata": {},
     "output_type": "display_data"
    },
    {
     "name": "stdout",
     "output_type": "stream",
     "text": [
      "in encode(): seq_len = [114]\n"
     ]
    },
    {
     "data": {
      "image/svg+xml": [
       "<svg baseProfile=\"full\" height=\"86.2436538748\" version=\"1.1\" width=\"102.588830991\" xmlns=\"http://www.w3.org/2000/svg\" xmlns:ev=\"http://www.w3.org/2001/xml-events\" xmlns:xlink=\"http://www.w3.org/1999/xlink\"><defs/><rect fill=\"white\" height=\"86.2436538748\" width=\"102.588830991\" x=\"0\" y=\"0\"/><path d=\"M25,39.8054143693 m0.0,0.0 l0.0,0.0 1.95431470871,0.059221656993 l0.592216551304,1.59898474813 -2.36886620522,0.0 l-0.177664961666,-1.59898474813 m0.296108275652,-0.177664961666 l2.07275792956,-0.592216551304 3.49407762289,0.355329923332 l8.76480519772,3.90862941742 5.03384053707,1.06598980725 l1.71742811799,-1.18443310261 0.355329923332,-2.01353639364 l1.18443310261,-0.532994903624 1.30287647247,-2.66497462988 l-0.059221656993,-0.829103216529 1.12521149218,-1.36209815741 l-1.00676819682,-1.18443310261 -0.118443313986,-1.59898474813 l0.592216551304,-0.888324826956 1.36209815741,-0.829103216529 l1.30287647247,-3.43485623598 1.89509302378,-1.42131969333 l2.84263938665,-1.12521149218 2.84263938665,-0.177664961666 l5.6260573864,6.15905225277 m-6.57360374928,-6.09983086586 l3.25719118118,0.592216551304 1.71742811799,1.12521149218 l1.77664965391,3.25719118118 0.532994903624,2.42808789015 m-7.99492359161,-7.63959348202 l5.74450075626,0.296108275652 2.60575294495,1.00676819682 l2.42808789015,1.71742811799 2.78341799974,2.54653126001 l2.90186107159,3.67174267769 1.42131969333,2.36886620522 l1.36209815741,3.90862941742 -1.30287647247,2.96108275652 l-2.19120129943,1.36209815741 -3.37563455105,1.06598980725 l-4.79695409536,0.059221656993 -3.19796949625,0.532994903624 l-0.059221656993,-2.25042298436 2.96108275652,-3.31641286612 l1.00676819682,-2.90186107159 0.236886627972,-2.54653126001 l-0.592216551304,-1.65820643306 0.059221656993,-2.36886620522 m-17.6480531693,2.19120129943 l-1.06598980725,1.18443310261 -1.42131969333,2.96108275652 l-1.83587133884,1.42131969333 -1.48054137826,1.83587133884 l-0.888324826956,2.78341799974 m-14.8646354675,-2.1319796145 l3.02030444145,-0.236886627972 9.89001691341,7.10659861565 l3.25719118118,1.06598980725 3.79018604755,0.059221656993 l3.55329930782,-1.77664965391 2.54653126001,-0.355329923332 l1.59898474813,-1.24365478754 3.37563455105,-1.24365478754 l0.414551608264,-2.48730957508 -0.769881531596,-4.14551585913 m-15.5160737038,11.133671999 l0.296108275652,2.1319796145 4.8561757803,6.98815524578 l0.532994903624,2.42808789015 m-4.50084596872,-7.81725883484 l0.532994903624,2.84263938665 -0.355329923332,5.09306252003 m29.6108293533,-16.1082911491 l-0.059221656993,2.60575294495 -0.769881531596,1.89509302378 l0.888324826956,2.90186107159 -0.592216551304,8.05414557457 m-22.267343998,-26.5313029289 l0.355329923332,-0.592216551304 0.829103216529,1.30287647247 l-1.18443310261,-0.710659846663 m8.76480519772,0.592216551304 l0.236886627972,-0.769881531596 1.71742811799,-0.355329923332 l-0.532994903624,1.18443310261 -1.24365478754,0.059221656993 m0.236886627972,-0.888324826956 l0.177664961666,0.947546511889 m0.059221656993,-1.24365478754 l0.829103216529,0.473773255944 -0.118443313986,0.592216551304 m-9.89001691341,-0.947546511889 l0.059221656993,0.592216551304 m0.355329923332,-0.236886627972 l0.236886627972,0.414551608264 m-0.059221656993,-0.118443313986 l-0.177664961666,0.236886627972 m3.02030444145,11.962774992 l1.53976306319,2.42808789015 2.07275792956,0.829103216529 l0.710659846663,0.0 3.61252099276,-2.01353639364 l0.532994903624,-0.769881531596 m-3.67174267769,9.41624343395 l0.0,2.78341799974 -0.592216551304,1.95431470871 l0.769881531596,-3.02030444145 -0.414551608264,-1.59898474813 l2.54653126001,-0.947546511889 0.829103216529,0.947546511889 l0.769881531596,2.48730957508 1.18443310261,1.06598980725 l0.0,0.947546511889 \" fill=\"none\" stroke=\"black\" stroke-width=\"1\"/></svg>"
      ],
      "text/plain": [
       "<IPython.core.display.SVG object>"
      ]
     },
     "metadata": {},
     "output_type": "display_data"
    },
    {
     "name": "stdout",
     "output_type": "stream",
     "text": [
      "in encode(): seq_len = [99]\n"
     ]
    },
    {
     "data": {
      "image/svg+xml": [
       "<svg baseProfile=\"full\" height=\"114.670050731\" version=\"1.1\" width=\"143.57021872\" xmlns=\"http://www.w3.org/2000/svg\" xmlns:ev=\"http://www.w3.org/2001/xml-events\" xmlns:xlink=\"http://www.w3.org/1999/xlink\"><defs/><rect fill=\"white\" height=\"114.670050731\" width=\"143.57021872\" x=\"0\" y=\"0\"/><path d=\"M25.8291032165,63.1387479044 m0.0,0.0 l0.0,0.0 -0.829103216529,-5.98138749599 l0.473773255944,-8.88324856758 5.44839262962,-7.9357022047 m0.177664961666,-0.118443313986 l5.80372214317,-12.4365484715 6.3959389925,-2.48730957508 l9.83079493046,-0.296108275652 m0.236886627972,0.0 l10.245347023,0.473773255944 13.9170897007,3.19796949625 m0.177664961666,0.059221656993 l4.91539746523,0.710659846663 6.15905225277,3.55329930782 l5.6260573864,1.53976306319 5.09306252003,3.79018604755 m-6.57360374928,7.28426396847 l5.21150588989,-6.7512691021 2.54653126001,-1.18443310261 l4.61928933859,-0.414551608264 3.49407762289,2.1319796145 m0.177664961666,0.236886627972 l2.66497462988,1.18443310261 1.59898474813,4.32318091393 l2.72419631481,2.90186107159 2.42808789015,5.86294412613 l0.177664961666,5.92216551304 m0.0,0.296108275652 l-0.059221656993,6.27749562263 -1.36209815741,4.44162428379 l-3.73096436262,4.50084596872 -2.30964466929,9.59390819073 m-0.177664961666,0.177664961666 l0.0,2.54653126001 -3.84940773249,0.059221656993 l0.532994903624,-8.17258834839 m0.177664961666,-0.177664961666 l0.414551608264,-11.5482234955 -1.30287647247,-3.79018604755 m-12.6142132282,-13.680202961 l-0.532994903624,-3.07952612638 -2.36886620522,-2.36886620522 l-2.19120129943,0.236886627972 -2.19120129943,2.60575294495 l-1.06598980725,4.50084596872 0.829103216529,9.89001691341 l0.355329923332,1.00676819682 3.43485623598,-1.95431470871 m16.3451766968,-4.44162428379 l-0.710659846663,-2.36886620522 -2.30964466929,-0.236886627972 l2.72419631481,1.77664965391 m0.947546511889,10.8375632763 l-7.1658205986,-1.53976306319 m-0.355329923332,0.0 l-6.86971247196,0.829103216529 m9.53468680382,-0.414551608264 l-0.118443313986,22.8003382683 -6.21827423573,1.00676819682 l-2.19120129943,-11.5482234955 m0.177664961666,-0.710659846663 l-4.73773241043,0.414551608264 -10.8967852592,11.7851102352 m-0.236886627972,0.118443313986 l-8.64636182785,0.059221656993 0.059221656993,-1.71742811799 l6.92893385887,-10.3045678139 m0.236886627972,-0.177664961666 l-2.07275792956,-4.8561757803 -4.32318091393,-1.71742811799 l-4.50084596872,0.0 m-0.296108275652,0.0 l-19.4247031212,1.06598980725 m-3.79018604755,-14.6277487278 l1.95431470871,11.133671999 2.90186107159,5.6260573864 m0.118443313986,0.236886627972 l-1.30287647247,8.23181033134 1.42131969333,7.22504198551 l-7.69881546497,-0.414551608264 m-0.355329923332,0.0 l-0.947546511889,-4.61928933859 -3.49407762289,-5.38917064667 l-3.07952612638,-15.3976309299 m-0.059221656993,-0.829103216529 l-1.95431470871,-10.6006765366 0.118443313986,-9.17935669422 m25.7614207268,29.6108293533 l-4.56006765366,5.6260573864 -3.73096436262,2.54653126001 m-8.40947508812,5.03384053707 l-2.30964466929,1.89509302378 m-2.07275792956,-12.4957692623 l-5.15228390694,4.97461915016 m-3.43485623598,-20.6683588028 l0.769881531596,0.829103216529 -0.118443313986,4.02707278728 l-0.651438236237,1.36209815741 -0.414551608264,-4.44162428379 \" fill=\"none\" stroke=\"black\" stroke-width=\"1\"/></svg>"
      ],
      "text/plain": [
       "<IPython.core.display.SVG object>"
      ]
     },
     "metadata": {},
     "output_type": "display_data"
    },
    {
     "name": "stdout",
     "output_type": "stream",
     "text": [
      "in encode(): seq_len = [166]\n"
     ]
    },
    {
     "data": {
      "image/svg+xml": [
       "<svg baseProfile=\"full\" height=\"96.0744471475\" version=\"1.1\" width=\"97.9695412517\" xmlns=\"http://www.w3.org/2000/svg\" xmlns:ev=\"http://www.w3.org/2001/xml-events\" xmlns:xlink=\"http://www.w3.org/1999/xlink\"><defs/><rect fill=\"white\" height=\"96.0744471475\" width=\"97.9695412517\" x=\"0\" y=\"0\"/><path d=\"M47.6818939671,26.243652869 m0.0,0.0 l0.0,0.0 -3.43485623598,-0.355329923332 l-2.90186107159,2.42808789015 -1.83587133884,4.32318091393 l0.0,1.71742811799 1.24365478754,3.07952612638 m0.0,-3.31641286612 l0.355329923332,4.50084596872 -1.24365478754,2.25042298436 l-11.3705575466,5.56683599949 -2.36886620522,3.13874781132 l-1.12521149218,3.43485623598 0.296108275652,4.14551585913 l1.89509302378,4.26395922899 2.07275792956,1.65820643306 l0.947546511889,-1.12521149218 -1.89509302378,-1.59898474813 l-0.473773255944,-2.84263938665 0.592216551304,-3.02030444145 l2.78341799974,-3.73096436262 m-1.53976306319,-1.89509302378 l2.42808789015,2.25042298436 1.95431470871,0.414551608264 l1.42131969333,-0.592216551304 m-5.44839262962,-2.30964466929 l3.37563455105,1.89509302378 2.30964466929,0.118443313986 m-3.67174267769,-1.00676819682 l11.3113367558,-1.53976306319 2.90186107159,-1.36209815741 l3.13874781132,-2.84263938665 2.01353639364,0.0 l2.25042298436,4.44162428379 0.118443313986,4.02707278728 l-3.67174267769,0.236886627972 -0.888324826956,-1.53976306319 l1.00676819682,-0.355329923332 1.65820643306,0.710659846663 m-1.12521149218,-0.710659846663 l0.296108275652,-2.30964466929 -2.07275792956,-3.13874781132 m2.42808789015,5.44839262962 l-2.72419631481,-0.118443313986 2.84263938665,2.01353639364 m-10.9560060501,-18.1810486317 l-0.592216551304,-0.355329923332 -0.236886627972,0.414551608264 m3.31641286612,-8.40947508812 l-9.65313017368,-0.473773255944 -2.48730957508,0.710659846663 l-0.592216551304,0.769881531596 -0.059221656993,5.38917064667 l2.01353639364,2.54653126001 1.65820643306,5.32994925976 l0.947546511889,1.24365478754 2.01353639364,0.532994903624 m2.96108275652,-7.63959348202 l0.769881531596,0.0 -0.710659846663,-0.592216551304 l-0.177664961666,0.651438236237 0.769881531596,0.296108275652 l-0.592216551304,-0.236886627972 m-4.61928933859,14.8646354675 l-1.48054137826,1.00676819682 m2.25042298436,-1.24365478754 l-0.355329923332,0.888324826956 -0.829103216529,0.118443313986 m13.9763104916,-24.0439915657 l4.56006765366,0.710659846663 m1.30287647247,7.81725883484 l0.888324826956,3.49407762289 -1.48054137826,4.50084596872 m0.355329923332,-17.3519456387 l5.68527877331,-0.355329923332 1.36209815741,0.710659846663 l1.30287647247,1.65820643306 0.888324826956,3.07952612638 l3.96785110235,5.21150588989 0.473773255944,2.42808789015 l-0.296108275652,1.95431470871 -3.49407762289,2.90186107159 l-3.37563455105,4.26395922899 -2.25042298436,1.30287647247 l-3.25719118118,0.0 m-0.710659846663,-20.6683588028 l1.89509302378,3.25719118118 m4.8561757803,7.52115011215 l0.769881531596,2.48730957508 m-0.592216551304,-1.36209815741 l1.12521149218,3.25719118118 -0.296108275652,0.592216551304 m-2.1319796145,0.118443313986 l0.0,2.01353639364 m5.03384053707,-8.35025370121 l0.592216551304,0.947546511889 m-1.00676819682,-1.71742811799 l0.592216551304,1.18443310261 m0.0,-0.532994903624 l0.592216551304,0.710659846663 m-2.48730957508,-4.67851102352 l0.829103216529,0.355329923332 m-13.3840942383,0.888324826956 l0.118443313986,-0.473773255944 1.00676819682,0.0 l0.532994903624,0.592216551304 -1.71742811799,-0.177664961666 l1.18443310261,-0.296108275652 0.177664961666,0.532994903624 l-1.18443310261,-0.532994903624 0.829103216529,0.710659846663 m-18.2402706146,1.00676819682 l-0.769881531596,1.53976306319 m0.592216551304,-2.60575294495 l-0.473773255944,1.06598980725 m-0.236886627972,-1.18443310261 l-0.355329923332,0.355329923332 m0.236886627972,-2.30964466929 l-0.355329923332,0.414551608264 m5.68527877331,15.5752956867 l0.236886627972,4.50084596872 -0.769881531596,3.90862941742 l0.0,6.51438236237 -0.592216551304,1.89509302378 l1.00676819682,4.73773241043 m4.08629417419,-17.5888323784 l0.769881531596,9.00169193745 -0.592216551304,7.34348535538 m-0.118443313986,-13.8578677177 l1.30287647247,0.473773255944 5.21150588989,4.8561757803 m-0.177664961666,-5.15228390694 l0.0,4.73773241043 1.12521149218,7.22504198551 m7.99492359161,-17.5296103954 l0.0,2.48730957508 -1.77664965391,6.86971247196 l-0.236886627972,10.5414545536 m-5.80372214317,-2.36886620522 l0.059221656993,2.96108275652 1.12521149218,0.769881531596 m5.15228390694,-9.94923830032 l6.69204711914,-1.00676819682 2.84263938665,-2.07275792956 l1.77664965391,-3.13874781132 m-1.18443310261,-13.0287647247 l2.60575294495,0.947546511889 1.30287647247,1.42131969333 l2.48730957508,6.98815524578 0.236886627972,7.52115011215 l-2.01353639364,9.77157354355 m-4.26395922899,-7.81725883484 l-0.236886627972,8.64636182785 m-6.57360374928,-8.11336696148 l1.30287647247,8.35025370121 m-22.0304560661,-29.6108293533 l1.00676819682,0.710659846663 m-0.236886627972,-1.24365478754 l0.414551608264,0.414551608264 m-3.13874781132,0.296108275652 l0.177664961666,0.769881531596 m-7.52115011215,2.78341799974 l0.414551608264,0.473773255944 m0.0,0.236886627972 l0.414551608264,0.592216551304 m0.296108275652,-0.829103216529 l0.888324826956,-0.118443313986 \" fill=\"none\" stroke=\"black\" stroke-width=\"1\"/></svg>"
      ],
      "text/plain": [
       "<IPython.core.display.SVG object>"
      ]
     },
     "metadata": {},
     "output_type": "display_data"
    },
    {
     "name": "stdout",
     "output_type": "stream",
     "text": [
      "in encode(): seq_len = [99]\n"
     ]
    },
    {
     "data": {
      "image/svg+xml": [
       "<svg baseProfile=\"full\" height=\"86.0067659244\" version=\"1.1\" width=\"103.950928263\" xmlns=\"http://www.w3.org/2000/svg\" xmlns:ev=\"http://www.w3.org/2001/xml-events\" xmlns:xlink=\"http://www.w3.org/1999/xlink\"><defs/><rect fill=\"white\" height=\"86.0067659244\" width=\"103.950928263\" x=\"0\" y=\"0\"/><path d=\"M43.8324869797,28.4348564222 m0.0,0.0 l0.0,0.0 -4.20473754406,-3.07952612638 m-0.888324826956,0.0 l-2.54653126001,0.710659846663 -2.54653126001,4.8561757803 m-0.769881531596,-2.01353639364 l-5.56683599949,7.69881546497 -2.07275792956,8.17258834839 l-0.236886627972,8.82402658463 1.36209815741,1.95431470871 l3.84940773249,0.473773255944 3.19796949625,-2.66497462988 l-0.532994903624,-3.13874781132 -2.78341799974,0.888324826956 l-0.947546511889,-4.97461915016 4.56006765366,-9.53468680382 m6.98815524578,-6.69204711914 l2.54653126001,3.37563455105 -0.473773255944,5.03384053707 l-0.769881531596,1.53976306319 -2.42808789015,-0.473773255944 m-5.68527877331,-3.07952612638 l2.54653126001,-0.414551608264 m-0.769881531596,1.18443310261 l4.73773241043,5.09306252003 m3.73096436262,-15.9306252003 l13.0287647247,-1.24365478754 5.68527877331,1.36209815741 l9.23857867718,7.9357022047 3.25719118118,16.3451766968 l-3.13874781132,-3.37563455105 -1.12521149218,-5.68527877331 m-29.6108293533,-0.829103216529 l-3.55329930782,11.6074442863 4.73773241043,6.33671700954 l3.73096436262,-2.96108275652 -2.54653126001,-6.3959389925 l2.78341799974,-4.97461915016 m0.0,-0.236886627972 l5.80372214317,2.54653126001 11.6074442863,-0.947546511889 l-0.473773255944,10.7191193104 -2.01353639364,3.73096436262 l2.72419631481,0.829103216529 4.44162428379,-1.77664965391 l1.06598980725,-12.5549912453 5.21150588989,10.245347023 l3.96785110235,-3.49407762289 -5.6260573864,-12.4365484715 m-24.9915385246,4.38240259886 l-1.24365478754,8.64636182785 m0.0,-0.414551608264 l-0.829103216529,7.1658205986 -5.2707272768,0.177664961666 l-0.236886627972,-5.56683599949 m-5.6260573864,-29.5516061783 l-2.90186107159,0.236886627972 -3.49407762289,2.42808789015 l-2.01353639364,5.86294412613 -0.473773255944,19.602367878 l2.66497462988,2.36886620522 3.31641286612,0.236886627972 l1.36209815741,-2.07275792956 -0.888324826956,-3.73096436262 l-1.89509302378,0.236886627972 0.177664961666,2.01353639364 l-0.947546511889,-0.414551608264 0.236886627972,-9.77157354355 l2.78341799974,-5.74450075626 m1.53976306319,-11.1928927898 l2.48730957508,0.0 m-3.55329930782,4.32318091393 l-1.53976306319,-0.177664961666 -0.769881531596,1.59898474813 l2.54653126001,-1.06598980725 m-1.00676819682,-0.059221656993 l-0.236886627972,0.177664961666 m6.15905225277,10.3045678139 l-2.48730957508,-1.53976306319 -4.08629417419,0.0 l1.95431470871,-0.592216551304 -0.296108275652,-1.89509302378 l-0.888324826956,1.00676819682 m10.0084602833,19.7208118439 l0.118443313986,-1.48054137826 1.59898474813,0.651438236237 m0.769881531596,2.90186107159 l0.473773255944,-1.36209815741 0.769881531596,0.947546511889 m15.3976309299,0.118443313986 l2.30964466929,0.236886627972 m1.00676819682,0.236886627972 l0.888324826956,-1.00676819682 1.77664965391,0.473773255944 m7.28426396847,-2.78341799974 l-0.236886627972,-2.1319796145 1.24365478754,0.118443313986 m1.00676819682,0.177664961666 l0.414551608264,-2.54653126001 \" fill=\"none\" stroke=\"black\" stroke-width=\"1\"/></svg>"
      ],
      "text/plain": [
       "<IPython.core.display.SVG object>"
      ]
     },
     "metadata": {},
     "output_type": "display_data"
    },
    {
     "name": "stdout",
     "output_type": "stream",
     "text": [
      "in encode(): seq_len = [157]\n"
     ]
    },
    {
     "data": {
      "image/svg+xml": [
       "<svg baseProfile=\"full\" height=\"89.8561752401\" version=\"1.1\" width=\"91.2182738446\" xmlns=\"http://www.w3.org/2000/svg\" xmlns:ev=\"http://www.w3.org/2001/xml-events\" xmlns:xlink=\"http://www.w3.org/1999/xlink\"><defs/><rect fill=\"white\" height=\"89.8561752401\" width=\"91.2182738446\" x=\"0\" y=\"0\"/><path d=\"M43.8324852288,25.0000003539 m0.0,0.0 l0.0,0.0 -1.42131969333,0.177664961666 l-1.06598980725,1.18443310261 -4.26395922899,2.07275792956 l-3.90862941742,-0.532994903624 m-0.059221656993,0.0 l-2.96108275652,0.592216551304 -1.18443310261,2.1319796145 l-1.89509302378,0.947546511889 -0.414551608264,0.829103216529 m16.2859559059,-7.40270733833 l3.31641286612,0.414551608264 3.31641286612,2.07275792956 m0.118443313986,0.059221656993 l5.44839262962,-0.473773255944 m0.177664961666,0.0 l6.15905225277,3.43485623598 2.25042298436,1.77664965391 m-13.5617589951,0.0 l0.177664961666,3.61252099276 -1.53976306319,2.01353639364 m-6.69204711914,2.1319796145 l0.592216551304,1.71742811799 1.53976306319,1.83587133884 l3.37563455105,0.236886627972 m0.059221656993,0.0 l1.06598980725,0.177664961666 0.473773255944,0.888324826956 m-1.53976306319,-7.75803685188 l0.473773255944,1.24365478754 3.37563455105,2.07275792956 m0.0,0.059221656993 l0.592216551304,1.24365478754 0.0,2.72419631481 l-1.24365478754,1.12521149218 m-2.72419631481,-2.25042298436 l1.42131969333,1.36209815741 -0.177664961666,1.12521149218 l1.53976306319,-0.177664961666 m-1.83587133884,-9.29780006409 l0.829103216529,0.947546511889 1.30287647247,0.236886627972 l0.177664961666,1.00676819682 -2.78341799974,-0.177664961666 m-6.98815524578,0.532994903624 l-0.769881531596,1.65820643306 -1.89509302378,0.769881531596 l-0.710659846663,-0.118443313986 0.0,-0.532994903624 l0.710659846663,-0.532994903624 0.177664961666,-1.12521149218 m1.83587133884,0.177664961666 l-0.888324826956,0.0 -2.07275792956,-1.53976306319 l-0.651438236237,-1.59898474813 m-11.0152280331,-4.61928933859 l0.0,4.56006765366 m0.0,0.236886627972 l-1.36209815741,4.38240259886 m0.059221656993,-0.118443313986 l4.02707278728,0.710659846663 1.36209815741,-1.12521149218 m0.118443313986,0.0 l2.72419631481,0.473773255944 0.532994903624,-1.18443310261 l2.66497462988,-0.236886627972 1.12521149218,-1.06598980725 m12.3181045055,-1.36209815741 l1.48054137826,0.473773255944 2.01353639364,-0.296108275652 l1.12521149218,1.65820643306 1.30287647247,0.0 m6.7512691021,-6.86971247196 l-0.177664961666,7.87648022175 -2.66497462988,-0.059221656993 l-0.829103216529,-0.947546511889 -1.18443310261,0.592216551304 l-1.71742811799,-0.177664961666 m-19.4247031212,0.414551608264 l0.0,5.2707272768 0.947546511889,2.66497462988 m0.118443313986,0.118443313986 l1.00676819682,6.51438236237 m0.0,0.236886627972 l0.473773255944,7.28426396847 0.888324826956,2.54653126001 m-0.296108275652,-0.710659846663 l1.77664965391,1.30287647247 1.59898474813,0.177664961666 l1.06598980725,0.0 0.829103216529,-0.888324826956 l-1.06598980725,-8.46869707108 m0.0,-0.118443313986 l0.296108275652,-2.48730957508 m-1.53976306319,-1.59898474813 l1.30287647247,1.24365478754 2.48730957508,0.355329923332 m0.236886627972,0.0 l1.00676819682,0.710659846663 0.414551608264,1.18443310261 m0.059221656993,0.059221656993 l1.48054137826,2.25042298436 0.947546511889,7.28426396847 l0.947546511889,0.532994903624 m0.118443313986,0.0 l3.02030444145,-0.236886627972 0.296108275652,-3.31641286612 m0.0,-0.118443313986 l0.296108275652,-4.56006765366 -1.83587133884,-5.56683599949 m0.710659846663,1.95431470871 l4.97461915016,0.710659846663 7.04737722874,-1.71742811799 m-6.21827423573,-22.2081208229 l5.38917064667,-0.355329923332 m-29.6108293533,3.37563455105 l-1.83587133884,-1.95431470871 -3.43485623598,-0.296108275652 m19.4839251041,0.296108275652 l1.06598980725,-1.24365478754 2.90186107159,0.0 m-7.10659861565,7.34348535538 l0.118443313986,-2.19120129943 -1.48054137826,-4.50084596872 m0.473773255944,1.42131969333 l0.710659846663,-1.77664965391 1.18443310261,0.177664961666 l-0.414551608264,1.36209815741 -0.710659846663,0.177664961666 l-0.769881531596,-0.473773255944 m-5.2707272768,0.888324826956 l-0.710659846663,-1.71742811799 -1.65820643306,0.236886627972 m1.77664965391,0.592216551304 l-0.888324826956,0.473773255944 -0.532994903624,-0.710659846663 m8.88324856758,-1.18443310261 l1.53976306319,0.355329923332 m1.95431470871,10.4822337627 l0.0,2.25042298436 -1.53976306319,1.00676819682 m0.355329923332,-3.90862941742 l-0.296108275652,1.06598980725 -1.36209815741,0.888324826956 m0.296108275652,-2.84263938665 l-0.355329923332,1.95431470871 -2.48730957508,0.888324826956 m1.95431470871,-3.19796949625 l-0.888324826956,1.30287647247 -3.07952612638,0.710659846663 m3.37563455105,-3.19796949625 l-2.96108275652,1.18443310261 -1.00676819682,-0.177664961666 m3.96785110235,-2.36886620522 l-2.30964466929,0.177664961666 m2.48730957508,-1.83587133884 l-1.65820643306,0.177664961666 \" fill=\"none\" stroke=\"black\" stroke-width=\"1\"/></svg>"
      ],
      "text/plain": [
       "<IPython.core.display.SVG object>"
      ]
     },
     "metadata": {},
     "output_type": "display_data"
    },
    {
     "name": "stdout",
     "output_type": "stream",
     "text": [
      "in encode(): seq_len = [168]\n"
     ]
    },
    {
     "data": {
      "image/svg+xml": [
       "<svg baseProfile=\"full\" height=\"72.9187814053\" version=\"1.1\" width=\"88.3756342065\" xmlns=\"http://www.w3.org/2000/svg\" xmlns:ev=\"http://www.w3.org/2001/xml-events\" xmlns:xlink=\"http://www.w3.org/1999/xlink\"><defs/><rect fill=\"white\" height=\"72.9187814053\" width=\"88.3756342065\" x=\"0\" y=\"0\"/><path d=\"M48.037225036,25.6514382362 m0.0,0.0 l0.0,0.0 2.54653126001,-0.651438236237 l2.90186107159,0.059221656993 1.77664965391,0.592216551304 m-1.12521149218,1.06598980725 l-1.18443310261,-0.769881531596 -0.592216551304,0.0 l-1.12521149218,0.888324826956 -0.177664961666,1.18443310261 l1.71742811799,1.65820643306 0.118443313986,3.73096436262 l0.414551608264,0.888324826956 1.12521149218,0.710659846663 l0.888324826956,-1.00676819682 m-0.236886627972,-8.40947508812 l1.36209815741,0.414551608264 1.12521149218,1.30287647247 l1.77664965391,1.18443310261 1.00676819682,3.19796949625 l2.66497462988,3.31641286612 0.355329923332,0.947546511889 l0.0,2.90186107159 -0.532994903624,1.06598980725 l-1.71742811799,0.947546511889 -1.83587133884,-0.177664961666 m-0.651438236237,-4.91539746523 l1.65820643306,1.18443310261 0.236886627972,1.12521149218 l-0.592216551304,0.710659846663 -1.59898474813,-0.414551608264 l0.296108275652,1.48054137826 -0.769881531596,0.532994903624 l-0.059221656993,0.592216551304 1.59898474813,-0.473773255944 m-5.15228390694,-5.21150588989 l3.73096436262,0.769881531596 1.06598980725,0.769881531596 l0.059221656993,-0.829103216529 m-11.3113367558,-10.7783412933 l-2.54653126001,0.769881531596 -7.9357022047,0.0 l-1.77664965391,0.296108275652 -3.37563455105,1.48054137826 l-1.89509302378,1.83587133884 -1.59898474813,4.02707278728 l-0.177664961666,3.07952612638 1.24365478754,3.25719118118 l1.89509302378,3.37563455105 0.296108275652,3.73096436262 l0.710659846663,0.532994903624 3.61252099276,0.296108275652 l0.710659846663,-0.296108275652 0.829103216529,-1.53976306319 l0.0,-1.00676819682 -1.59898474813,-0.947546511889 m-1.00676819682,-9.65313017368 l0.888324826956,0.592216551304 0.532994903624,1.95431470871 l0.0,2.90186107159 -1.00676819682,3.31641286612 l1.06598980725,0.710659846663 m0.0,-5.09306252003 l0.236886627972,0.532994903624 2.01353639364,0.947546511889 l4.8561757803,0.888324826956 3.79018604755,0.0 l4.20473754406,-2.01353639364 m2.30964466929,-4.14551585913 l-0.118443313986,2.96108275652 0.532994903624,1.71742811799 l0.236886627972,3.49407762289 0.532994903624,1.24365478754 l0.0,0.592216551304 -0.829103216529,0.473773255944 l-2.66497462988,0.177664961666 -0.355329923332,-0.414551608264 l-0.355329923332,-2.30964466929 0.414551608264,-3.02030444145 l-2.72419631481,-2.01353639364 -1.06598980725,-1.59898474813 m0.651438236237,4.67851102352 l0.118443313986,0.829103216529 -0.829103216529,2.54653126001 l0.236886627972,1.77664965391 0.296108275652,0.236886627972 l3.37563455105,-0.769881531596 m-13.5025382042,-5.86294412613 l1.00676819682,3.13874781132 1.48054137826,2.19120129943 l0.0,1.18443310261 -0.355329923332,0.710659846663 l-3.61252099276,0.0 m-5.2707272768,-1.48054137826 l1.42131969333,0.177664961666 0.355329923332,1.53976306319 m-0.118443313986,-1.48054137826 l2.07275792956,0.296108275652 0.414551608264,0.355329923332 l0.177664961666,1.00676819682 m-0.414551608264,-1.30287647247 l1.36209815741,-0.355329923332 0.710659846663,0.177664961666 m0.118443313986,-0.296108275652 l1.00676819682,0.236886627972 0.236886627972,1.00676819682 m-0.059221656993,-0.888324826956 l2.07275792956,-0.414551608264 m6.81049048901,-1.12521149218 l0.414551608264,-0.059221656993 0.592216551304,0.532994903624 l0.236886627972,1.06598980725 m-0.355329923332,-1.06598980725 l1.00676819682,0.059221656993 0.414551608264,0.769881531596 m-0.296108275652,-0.651438236237 l0.592216551304,-0.710659846663 0.651438236237,-0.177664961666 m0.236886627972,0.0 l1.06598980725,0.592216551304 0.355329923332,0.888324826956 m-0.296108275652,-1.00676819682 l1.24365478754,-0.177664961666 0.710659846663,0.710659846663 m-0.355329923332,-0.651438236237 l0.473773255944,-0.829103216529 0.532994903624,0.059221656993 m-26.2944149971,-12.851099968 l-1.83587133884,2.42808789015 -0.177664961666,0.769881531596 l-0.296108275652,2.25042298436 0.177664961666,4.02707278728 m0.0,-5.09306252003 l0.0,0.769881531596 0.532994903624,0.829103216529 m-0.532994903624,-0.710659846663 l0.769881531596,1.42131969333 m-1.00676819682,-0.710659846663 l0.829103216529,1.00676819682 m-0.651438236237,-0.414551608264 l0.118443313986,0.888324826956 0.710659846663,0.769881531596 m-0.769881531596,-0.355329923332 l0.592216551304,1.24365478754 m-0.829103216529,-3.90862941742 l-1.00676819682,1.12521149218 m1.12521149218,-0.532994903624 l-0.651438236237,0.947546511889 m0.769881531596,0.296108275652 l-1.18443310261,0.592216551304 m0.888324826956,0.592216551304 l-0.473773255944,0.355329923332 m29.6108293533,-12.0812177658 l0.296108275652,-0.414551608264 0.592216551304,0.0 l0.888324826956,1.48054137826 m-0.236886627972,0.0 l-0.532994903624,-0.355329923332 m-0.296108275652,-0.651438236237 l0.592216551304,0.532994903624 0.0,0.355329923332 l-0.296108275652,0.0 -0.414551608264,-1.00676819682 m4.38240259886,3.67174267769 l2.72419631481,1.65820643306 -1.30287647247,0.059221656993 l-0.888324826956,-0.473773255944 m-2.19120129943,3.07952612638 l2.84263938665,0.532994903624 \" fill=\"none\" stroke=\"black\" stroke-width=\"1\"/></svg>"
      ],
      "text/plain": [
       "<IPython.core.display.SVG object>"
      ]
     },
     "metadata": {},
     "output_type": "display_data"
    },
    {
     "name": "stdout",
     "output_type": "stream",
     "text": [
      "in encode(): seq_len = [108]\n"
     ]
    },
    {
     "data": {
      "image/svg+xml": [
       "<svg baseProfile=\"full\" height=\"79.314720137\" version=\"1.1\" width=\"95.7191178668\" xmlns=\"http://www.w3.org/2000/svg\" xmlns:ev=\"http://www.w3.org/2001/xml-events\" xmlns:xlink=\"http://www.w3.org/1999/xlink\"><defs/><rect fill=\"white\" height=\"79.314720137\" width=\"95.7191178668\" x=\"0\" y=\"0\"/><path d=\"M53.6040588934,34.9492381886 m0.0,0.0 l0.0,0.0 1.30287647247,0.829103216529 l3.25719118118,0.532994903624 1.53976306319,0.0 l1.24365478754,-0.829103216529 1.00676819682,-1.71742811799 l0.0,-1.83587133884 -1.12521149218,-2.84263938665 l0.0,-1.83587133884 0.947546511889,-1.18443310261 l2.60575294495,-1.06598980725 2.01353639364,0.236886627972 l2.36886620522,1.59898474813 1.95431470871,3.31641286612 m-5.6260573864,-2.42808789015 l0.0,2.42808789015 3.19796949625,2.48730957508 m-9.17935669422,7.1658205986 l1.89509302378,0.059221656993 1.42131969333,-0.592216551304 l3.61252099276,-3.13874781132 1.06598980725,-2.25042298436 l-0.355329923332,-2.25042298436 m-5.68527877331,-4.8561757803 l0.296108275652,-0.888324826956 1.24365478754,-0.710659846663 l2.07275792956,0.0 1.53976306319,0.888324826956 l1.24365478754,3.07952612638 0.059221656993,2.07275792956 l-0.355329923332,0.532994903624 m-7.1658205986,8.70558381081 l4.20473754406,-2.60575294495 m-10.3637897968,-2.25042298436 l-1.48054137826,-1.06598980725 m1.24365478754,0.651438236237 l-4.97461915016,-2.96108275652 -9.94923830032,-4.32318091393 l-1.24365478754,0.177664961666 -0.769881531596,0.651438236237 l-2.90186107159,4.08629417419 -3.31641286612,1.77664965391 m17.1742808819,1.65820643306 l1.71742811799,0.0 m-1.12521149218,0.0 l0.177664961666,0.710659846663 0.769881531596,0.0 l0.177664961666,-0.592216551304 m11.074450016,3.96785110235 l-2.19120129943,1.83587133884 m-7.58037209511,1.06598980725 l2.25042298436,0.473773255944 2.60575294495,-0.118443313986 l1.83587133884,-0.947546511889 2.42808789015,-2.25042298436 m-1.77664965391,1.89509302378 l5.03384053707,0.236886627972 1.36209815741,-0.532994903624 m-5.56683599949,-0.710659846663 l4.32318091393,0.592216551304 1.42131969333,-0.947546511889 l-0.296108275652,0.947546511889 m-8.11336696148,1.83587133884 l2.1319796145,1.59898474813 2.42808789015,0.592216551304 m-3.67174267769,-2.96108275652 l2.72419631481,1.42131969333 1.59898474813,0.236886627972 m-10.3637897968,-1.12521149218 l0.651438236237,1.06598980725 2.30964466929,0.769881531596 l1.24365478754,1.18443310261 1.30287647247,2.66497462988 l-4.8561757803,-1.65820643306 -3.55329930782,1.95431470871 l-2.84263938665,0.177664961666 -1.53976306319,-0.592216551304 m-5.86294412613,-15.4568529129 l-0.888324826956,-0.592216551304 -1.77664965391,0.0 l-2.19120129943,2.01353639364 -5.86294412613,3.02030444145 m12.4365484715,-1.06598980725 l0.118443313986,2.72419631481 3.07952612638,6.86971247196 l-0.296108275652,1.71742811799 -2.72419631481,0.710659846663 l-4.44162428379,-0.355329923332 -3.43485623598,0.0 l-3.02030444145,0.592216551304 -2.01353639364,-0.236886627972 l-1.53976306319,-2.66497462988 -0.296108275652,-3.13874781132 l1.00676819682,-2.90186107159 2.01353639364,-2.48730957508 m10.4822337627,-4.14551585913 l1.18443310261,3.31641286612 m8.94246995449,-1.18443310261 l0.296108275652,1.18443310261 m-3.55329930782,12.6734340191 l-3.43485623598,1.12521149218 -6.21827423573,3.55329930782 m-4.8561757803,-20.8460235596 l-5.80372214317,1.24365478754 m29.6108293533,9.94923830032 l2.1319796145,-0.710659846663 m-3.55329930782,1.30287647247 l1.65820643306,-0.532994903624 \" fill=\"none\" stroke=\"black\" stroke-width=\"1\"/></svg>"
      ],
      "text/plain": [
       "<IPython.core.display.SVG object>"
      ]
     },
     "metadata": {},
     "output_type": "display_data"
    },
    {
     "name": "stdout",
     "output_type": "stream",
     "text": [
      "in encode(): seq_len = [117]\n"
     ]
    },
    {
     "data": {
      "image/svg+xml": [
       "<svg baseProfile=\"full\" height=\"105.846023671\" version=\"1.1\" width=\"113.426395608\" xmlns=\"http://www.w3.org/2000/svg\" xmlns:ev=\"http://www.w3.org/2001/xml-events\" xmlns:xlink=\"http://www.w3.org/1999/xlink\"><defs/><rect fill=\"white\" height=\"105.846023671\" width=\"113.426395608\" x=\"0\" y=\"0\"/><path d=\"M63.671742985,30.389171578 m0.0,0.0 l0.0,0.0 6.0406088829,-2.72419631481 l5.80372214317,-0.236886627972 4.73773241043,2.48730957508 l3.31641286612,5.32994925976 m0.118443313986,7.75803685188 l0.0,6.7512691021 m-16.226733923,0.829103216529 l3.73096436262,4.32318091393 2.07275792956,3.84940773249 l2.60575294495,2.60575294495 2.01353639364,4.67851102352 l-0.177664961666,0.888324826956 -2.96108275652,1.65820643306 l1.65820643306,5.32994925976 -2.72419631481,5.09306252003 l-0.236886627972,1.59898474813 6.09983086586,0.236886627972 l1.36209815741,-0.118443313986 1.48054137826,-1.24365478754 l-1.53976306319,-13.0879867077 0.532994903624,-5.09306252003 l2.1319796145,-6.45516037941 0.473773255944,-6.09983086586 m0.0,-0.532994903624 l-0.118443313986,-10.3637897968 -0.769881531596,-2.72419631481 m-14.6277487278,19.602367878 l-2.78341799974,-1.53976306319 -2.66497462988,-3.37563455105 m0.829103216529,-20.0169205666 l-4.50084596872,-4.32318091393 -5.68527877331,0.710659846663 l-2.72419631481,2.30964466929 0.118443313986,4.08629417419 l2.36886620522,3.31641286612 0.651438236237,2.19120129943 l-0.118443313986,1.65820643306 -2.60575294495,4.79695409536 l0.0,2.72419631481 2.19120129943,3.55329930782 l1.77664965391,0.118443313986 3.25719118118,-2.36886620522 m16.8781721592,-21.5566825867 l1.71742811799,-2.01353639364 4.73773241043,0.118443313986 l1.12521149218,3.37563455105 4.79695409536,7.04737722874 l0.592216551304,10.1269030571 -1.06598980725,2.84263938665 l-3.13874781132,1.95431470871 m-15.5752956867,-11.7851102352 l2.48730957508,-0.118443313986 1.53976306319,0.592216551304 l0.355329923332,1.59898474813 -2.36886620522,0.0 l-1.24365478754,-1.00676819682 -0.177664961666,-1.00676819682 l2.19120129943,0.0 0.059221656993,1.30287647247 l-1.00676819682,0.710659846663 m-4.8561757803,12.3773264885 l0.059221656993,2.01353639364 2.96108275652,0.0 l2.66497462988,-1.30287647247 -4.26395922899,-0.829103216529 m14.450083971,-14.3908619881 l1.53976306319,-0.592216551304 -2.66497462988,1.30287647247 l2.90186107159,0.177664961666 -1.65820643306,-0.710659846663 m-29.6108293533,-4.08629417419 l-9.00169193745,0.0 -5.38917064667,0.829103216529 l-3.49407762289,1.18443310261 -3.79018604755,3.13874781132 m-0.059221656993,0.236886627972 l-1.36209815741,1.53976306319 -2.25042298436,5.38917064667 l-1.48054137826,7.46192872524 m0.0,0.177664961666 l-0.177664961666,7.99492359161 2.07275792956,6.7512691021 l1.48054137826,1.65820643306 m0.0,0.532994903624 l0.0,3.31641286612 m-1.65820643306,-5.68527877331 l-0.296108275652,6.57360374928 5.09306252003,0.118443313986 l1.53976306319,-0.473773255944 0.532994903624,-4.91539746523 l-1.71742811799,-8.94246995449 m1.48054137826,2.42808789015 l13.3248722553,0.0 5.38917064667,-2.01353639364 m-12.6734340191,2.1319796145 l0.118443313986,8.29103171825 -1.77664965391,0.414551608264 l-2.90186107159,-0.296108275652 m15.8121824265,-9.71235156059 l0.296108275652,0.473773255944 1.65820643306,0.0 l6.92893385887,-1.36209815741 m-0.769881531596,-3.07952612638 l0.118443313986,13.9763104916 -0.592216551304,1.18443310261 l2.30964466929,-0.059221656993 4.14551585913,-1.48054137826 l-0.059221656993,-7.40270733833 -1.00676819682,-8.76480519772 m1.53976306319,7.10659861565 l3.37563455105,-0.947546511889 3.25719118118,-1.83587133884 m-0.473773255944,-0.355329923332 l1.53976306319,8.58714044094 0.355329923332,1.06598980725 l0.532994903624,0.0 \" fill=\"none\" stroke=\"black\" stroke-width=\"1\"/></svg>"
      ],
      "text/plain": [
       "<IPython.core.display.SVG object>"
      ]
     },
     "metadata": {},
     "output_type": "display_data"
    },
    {
     "name": "stdout",
     "output_type": "stream",
     "text": [
      "in encode(): seq_len = [90]\n"
     ]
    },
    {
     "data": {
      "image/svg+xml": [
       "<svg baseProfile=\"full\" height=\"113.071064409\" version=\"1.1\" width=\"93.7055835873\" xmlns=\"http://www.w3.org/2000/svg\" xmlns:ev=\"http://www.w3.org/2001/xml-events\" xmlns:xlink=\"http://www.w3.org/1999/xlink\"><defs/><rect fill=\"white\" height=\"113.071064409\" width=\"93.7055835873\" x=\"0\" y=\"0\"/><path d=\"M32.5803741906,25.1776649617 m0.0,0.0 l0.0,0.0 -3.96785110235,3.25719118118 l-2.1319796145,3.55329930782 -0.532994903624,5.86294412613 l1.18443310261,5.21150588989 2.1319796145,0.118443313986 l1.30287647247,-1.00676819682 0.236886627972,-10.8375632763 l5.15228390694,-2.48730957508 -0.296108275652,-3.84940773249 l-1.36209815741,1.77664965391 -1.12521149218,-0.651438236237 m-3.43485623598,1.30287647247 l2.66497462988,-0.296108275652 1.42131969333,-1.42131969333 l1.42131969333,1.59898474813 m-5.56683599949,15.1607441902 l5.03384053707,-1.77664965391 1.42131969333,3.13874781132 l-4.02707278728,8.23181033134 -3.49407762289,-0.236886627972 l0.414551608264,-8.58714044094 m-1.30287647247,0.118443313986 l-0.177664961666,8.52791845798 1.00676819682,2.90186107159 l14.1539764404,-0.414551608264 1.30287647247,-3.07952612638 l0.0,-7.1658205986 m-13.4433162212,-9.00169193745 l10.8967852592,-1.06598980725 1.48054137826,1.30287647247 m0.829103216529,8.76480519772 l4.20473754406,-2.19120129943 m-5.09306252003,-6.7512691021 l4.20473754406,0.296108275652 1.71742811799,2.90186107159 l2.07275792956,13.4433162212 -0.355329923332,3.25719118118 l-5.21150588989,-0.710659846663 -1.71742811799,-2.25042298436 m-4.50084596872,-16.1082911491 l0.947546511889,2.72419631481 1.06598980725,0.355329923332 l0.769881531596,-1.30287647247 -3.19796949625,-1.53976306319 m-3.43485623598,-9.17935669422 l0.651438236237,1.48054137826 m-4.26395922899,25.8798646927 l3.25719118118,9.94923830032 m-6.63282573223,-9.23857867718 l-0.118443313986,12.9695427418 2.48730957508,4.50084596872 l3.07952612638,15.4568529129 7.10659861565,-0.236886627972 l0.710659846663,-0.829103216529 0.059221656993,-2.25042298436 l-3.25719118118,-4.56006765366 -1.30287647247,-11.133671999 l7.75803685188,-2.19120129943 m2.72419631481,-2.66497462988 l-2.42808789015,7.99492359161 -0.532994903624,10.5414545536 l4.14551585913,0.296108275652 3.67174267769,-1.24365478754 l0.177664961666,-9.35702204704 2.84263938665,-3.02030444145 m-4.97461915016,-23.8071060181 l6.21827423573,6.45516037941 3.13874781132,9.47546482086 l3.43485623598,4.67851102352 1.48054137826,4.50084596872 l2.78341799974,2.07275792956 1.24365478754,2.60575294495 l0.0,7.69881546497 -1.12521149218,3.19796949625 l-10.5414545536,-0.888324826956 m-4.61928933859,-5.15228390694 l3.90862941742,-0.059221656993 7.87648022175,-4.79695409536 m-4.44162428379,3.31641286612 l-2.30964466929,6.45516037941 m-29.6108293533,-17.055836916 l-1.89509302378,1.12521149218 -0.947546511889,3.25719118118 l3.31641286612,10.0676810741 -0.651438236237,2.48730957508 l0.829103216529,1.36209815741 4.26395922899,0.710659846663 m4.67851102352,-8.40947508812 l7.04737722874,1.30287647247 \" fill=\"none\" stroke=\"black\" stroke-width=\"1\"/></svg>"
      ],
      "text/plain": [
       "<IPython.core.display.SVG object>"
      ]
     },
     "metadata": {},
     "output_type": "display_data"
    },
    {
     "name": "stdout",
     "output_type": "stream",
     "text": [
      "in encode(): seq_len = [94]\n"
     ]
    },
    {
     "data": {
      "image/svg+xml": [
       "<svg baseProfile=\"full\" height=\"90.8629439492\" version=\"1.1\" width=\"78.4263951331\" xmlns=\"http://www.w3.org/2000/svg\" xmlns:ev=\"http://www.w3.org/2001/xml-events\" xmlns:xlink=\"http://www.w3.org/1999/xlink\"><defs/><rect fill=\"white\" height=\"90.8629439492\" width=\"78.4263951331\" x=\"0\" y=\"0\"/><path d=\"M40.7529603411,31.514382679 m0.0,0.0 l0.0,0.0 -1.77664965391,-1.06598980725 l-6.3959389925,0.710659846663 -0.592216551304,0.829103216529 l-0.414551608264,2.01353639364 1.00676819682,2.36886620522 l0.0,2.30964466929 m0.177664961666,0.236886627972 l0.059221656993,1.77664965391 0.710659846663,1.36209815741 l1.48054137826,1.42131969333 2.48730957508,1.18443310261 l1.53976306319,0.0 1.00676819682,-2.54653126001 m-3.07952612638,-12.1404397488 l0.236886627972,-1.18443310261 2.01353639364,-2.19120129943 l3.61252099276,-1.30287647247 1.36209815741,0.236886627972 m0.118443313986,0.059221656993 l1.36209815741,0.296108275652 3.96785110235,4.38240259886 m0.177664961666,0.059221656993 l1.65820643306,2.36886620522 0.651438236237,2.72419631481 l-0.059221656993,4.56006765366 m-0.059221656993,0.118443313986 l-0.592216551304,12.1996617317 0.829103216529,3.49407762289 m0.118443313986,0.177664961666 l1.06598980725,0.177664961666 0.0,1.24365478754 l-0.947546511889,0.296108275652 -1.00676819682,1.36209815741 l-1.00676819682,0.0 -1.30287647247,-2.48730957508 l-0.473773255944,-2.42808789015 m0.0,-0.177664961666 l-0.829103216529,-10.4230117798 m0.0,-0.118443313986 l-1.36209815741,-0.118443313986 -2.84263938665,-1.48054137826 l0.355329923332,0.651438236237 1.42131969333,0.414551608264 l-2.90186107159,0.177664961666 m-0.177664961666,-0.059221656993 l-1.24365478754,-0.473773255944 -0.592216551304,-1.12521149218 m2.90186107159,2.01353639364 l-1.42131969333,6.7512691021 0.355329923332,6.57360374928 m0.059221656993,0.0 l-0.710659846663,1.77664965391 -1.59898474813,1.30287647247 l-2.25042298436,4.61928933859 m4.32318091393,-13.680202961 l0.947546511889,3.73096436262 1.89509302378,2.1319796145 l0.532994903624,4.67851102352 0.888324826956,2.66497462988 m-6.0406088829,-2.42808789015 l0.118443313986,2.42808789015 0.651438236237,1.89509302378 m-3.02030444145,-2.19120129943 l-2.01353639364,2.1319796145 m-7.34348535538,-0.651438236237 l1.59898474813,-1.71742811799 1.71742811799,-2.96108275652 l0.0,-5.03384053707 m-0.059221656993,-0.059221656993 l-2.60575294495,0.355329923332 -2.42808789015,1.48054137826 l-2.01353639364,0.414551608264 m12.5549912453,-29.6108293533 l-3.84940773249,0.769881531596 -3.84940773249,0.0 m11.962774992,2.25042298436 l2.78341799974,0.0 3.49407762289,-2.30964466929 m-5.98138749599,-3.73096436262 l2.72419631481,2.78341799974 0.532994903624,1.89509302378 m-1.53976306319,-4.38240259886 l1.71742811799,2.78341799974 0.059221656993,1.53976306319 l-3.37563455105,0.355329923332 2.84263938665,-0.059221656993 l2.48730957508,-1.95431470871 m-2.01353639364,6.0406088829 l-0.296108275652,-1.06598980725 -1.00676819682,-0.118443313986 l-0.355329923332,0.118443313986 0.118443313986,0.769881531596 l1.36209815741,0.355329923332 \" fill=\"none\" stroke=\"black\" stroke-width=\"1\"/></svg>"
      ],
      "text/plain": [
       "<IPython.core.display.SVG object>"
      ]
     },
     "metadata": {},
     "output_type": "display_data"
    },
    {
     "name": "stdout",
     "output_type": "stream",
     "text": [
      "in encode(): seq_len = [114]\n"
     ]
    },
    {
     "data": {
      "image/svg+xml": [
       "<svg baseProfile=\"full\" height=\"76.7089668196\" version=\"1.1\" width=\"85.1776651107\" xmlns=\"http://www.w3.org/2000/svg\" xmlns:ev=\"http://www.w3.org/2001/xml-events\" xmlns:xlink=\"http://www.w3.org/1999/xlink\"><defs/><rect fill=\"white\" height=\"76.7089668196\" width=\"85.1776651107\" x=\"0\" y=\"0\"/><path d=\"M27.4873102363,34.4162434619 m0.0,0.0 l0.0,0.0 3.55329930782,-1.42131969333 l6.27749562263,-0.414551608264 1.95431470871,0.414551608264 l4.02707278728,2.1319796145 2.42808789015,0.118443313986 m-3.67174267769,-0.829103216529 l-0.118443313986,-1.71742811799 1.06598980725,-0.947546511889 l0.059221656993,-2.25042298436 1.00676819682,-2.36886620522 l1.36209815741,-1.71742811799 3.25719118118,-0.296108275652 l2.1319796145,0.829103216529 1.95431470871,-0.888324826956 l2.66497462988,-0.059221656993 1.30287647247,0.710659846663 l1.71742811799,2.84263938665 0.414551608264,-0.710659846663 l0.592216551304,0.0 0.710659846663,2.42808789015 l-0.296108275652,5.2707272768 -0.355329923332,0.769881531596 l-1.24365478754,1.48054137826 -1.36209815741,0.829103216529 l-0.177664961666,-3.61252099276 m-29.6108293533,-0.414551608264 l-1.89509302378,2.60575294495 -0.236886627972,3.31641286612 l1.12521149218,1.89509302378 2.54653126001,1.18443310261 l1.48054137826,-0.177664961666 1.30287647247,-1.00676819682 l0.118443313986,-0.829103216529 -1.30287647247,0.0 l-0.355329923332,-0.473773255944 0.118443313986,-0.355329923332 l0.592216551304,0.0 0.0,-0.414551608264 l-1.36209815741,-0.532994903624 -0.769881531596,0.177664961666 l0.769881531596,-0.651438236237 0.236886627972,-1.00676819682 l1.18443310261,-0.829103216529 3.13874781132,0.0 l3.25719118118,0.473773255944 7.52115011215,2.66497462988 l3.31641286612,-0.118443313986 2.78341799974,-0.947546511889 l-1.30287647247,3.61252099276 -0.829103216529,0.947546511889 l-0.059221656993,-0.769881531596 -1.42131969333,-1.59898474813 l0.118443313986,-1.18443310261 m0.414551608264,0.059221656993 l1.18443310261,2.19120129943 1.30287647247,-3.02030444145 m6.3959389925,-4.50084596872 l0.0,1.71742811799 -1.36209815741,4.08629417419 l-5.44839262962,3.61252099276 -0.059221656993,3.79018604755 l0.296108275652,1.65820643306 0.592216551304,0.769881531596 l0.0,0.769881531596 m3.19796949625,-9.41624343395 l0.888324826956,0.888324826956 0.0,1.53976306319 l1.06598980725,2.36886620522 -0.236886627972,4.38240259886 m2.19120129943,-13.680202961 l0.059221656993,1.12521149218 0.947546511889,1.89509302378 l0.296108275652,2.60575294495 0.059221656993,8.11336696148 m-14.2131972313,-10.9560060501 l0.710659846663,3.43485623598 -0.710659846663,3.67174267769 l0.0,1.53976306319 0.592216551304,1.77664965391 m5.09306252003,-7.46192872524 l0.236886627972,2.19120129943 0.947546511889,2.36886620522 l-0.236886627972,1.36209815741 0.355329923332,0.177664961666 l2.78341799974,-0.355329923332 -0.296108275652,-0.829103216529 l0.059221656993,-4.20473754406 m-12.2588825226,-12.6142132282 l-0.473773255944,0.355329923332 0.0,0.888324826956 l0.059221656993,1.53976306319 0.414551608264,0.236886627972 m9.71235156059,0.177664961666 l1.06598980725,-2.25042298436 1.53976306319,-0.710659846663 l-0.947546511889,2.07275792956 -1.65820643306,0.888324826956 m0.651438236237,-1.65820643306 l0.059221656993,0.710659846663 0.355329923332,0.118443313986 m0.296108275652,-1.59898474813 l0.414551608264,0.829103216529 m-11.074450016,-1.36209815741 l0.118443313986,1.18443310261 m-0.059221656993,-1.18443310261 l0.355329923332,0.236886627972 0.177664961666,1.48054137826 l-0.414551608264,-0.177664961666 -0.177664961666,-0.710659846663 m-0.059221656993,0.296108275652 l0.888324826956,0.236886627972 m-0.414551608264,-0.947546511889 l-0.473773255944,0.0 \" fill=\"none\" stroke=\"black\" stroke-width=\"1\"/></svg>"
      ],
      "text/plain": [
       "<IPython.core.display.SVG object>"
      ]
     },
     "metadata": {},
     "output_type": "display_data"
    },
    {
     "name": "stdout",
     "output_type": "stream",
     "text": [
      "in encode(): seq_len = [100]\n"
     ]
    },
    {
     "data": {
      "image/svg+xml": [
       "<svg baseProfile=\"full\" height=\"82.8087983374\" version=\"1.1\" width=\"92.7580356132\" xmlns=\"http://www.w3.org/2000/svg\" xmlns:ev=\"http://www.w3.org/2001/xml-events\" xmlns:xlink=\"http://www.w3.org/1999/xlink\"><defs/><rect fill=\"white\" height=\"82.8087983374\" width=\"92.7580356132\" x=\"0\" y=\"0\"/><path d=\"M31.9881555438,28.0203041248 m0.0,0.0 l0.0,0.0 -2.25042298436,2.66497462988 l-3.84940773249,3.37563455105 -0.888324826956,1.89509302378 l0.059221656993,3.07952612638 1.00676819682,1.83587133884 l1.12521149218,0.829103216529 3.49407762289,0.473773255944 l1.95431470871,-1.24365478754 0.592216551304,-2.19120129943 l-1.53976306319,-0.355329923332 -0.710659846663,1.36209815741 l-2.01353639364,0.473773255944 -1.18443310261,-0.947546511889 l-0.059221656993,-1.12521149218 0.355329923332,-0.532994903624 l5.09306252003,-2.07275792956 -2.01353639364,2.84263938665 l4.79695409536,-0.888324826956 m-4.8561757803,-5.6260573864 l1.59898474813,0.414551608264 m2.84263938665,-2.1319796145 l0.769881531596,1.71742811799 m1.83587133884,-1.18443310261 l-1.06598980725,1.36209815741 -0.592216551304,1.71742811799 l-0.236886627972,3.31641286612 0.236886627972,3.49407762289 l2.1319796145,-1.77664965391 3.31641286612,-1.77664965391 l2.48730957508,-2.54653126001 0.414551608264,-1.83587133884 l-0.414551608264,-2.30964466929 -1.18443310261,-2.01353639364 l-1.71742811799,-1.24365478754 -2.36886620522,-0.177664961666 l-2.07275792956,0.355329923332 m-5.15228390694,0.769881531596 l4.26395922899,-2.30964466929 6.33671700954,-0.710659846663 l2.1319796145,0.0 3.61252099276,0.947546511889 l7.34348535538,0.0 2.1319796145,0.947546511889 l1.59898474813,1.36209815741 4.97461915016,6.15905225277 l1.83587133884,3.79018604755 -0.177664961666,1.95431470871 m-29.6108293533,0.532994903624 l2.60575294495,-0.592216551304 -0.769881531596,3.90862941742 l0.355329923332,9.77157354355 -1.30287647247,1.83587133884 l2.30964466929,0.177664961666 2.30964466929,-0.414551608264 l1.06598980725,-0.769881531596 -0.710659846663,-2.42808789015 l0.473773255944,-6.15905225277 3.07952612638,-6.3959389925 m-1.71742811799,3.79018604755 l4.61928933859,-0.118443313986 4.44162428379,1.53976306319 l4.50084596872,0.059221656993 m7.1658205986,-6.63282573223 l0.0,2.90186107159 -0.769881531596,2.72419631481 l-0.059221656993,2.54653126001 -1.30287647247,4.50084596872 l-0.414551608264,6.86971247196 -4.8561757803,-0.769881531596 l0.059221656993,-0.592216551304 1.06598980725,-1.24365478754 l0.769881531596,-2.48730957508 0.236886627972,-3.31641286612 l-1.53976306319,-1.53976306319 -0.177664961666,-3.43485623598 l-2.42808789015,-3.73096436262 m-11.903553009,4.32318091393 l1.65820643306,8.40947508812 -0.414551608264,1.83587133884 l2.72419631481,0.0 1.59898474813,-1.00676819682 l-0.296108275652,-1.59898474813 -1.00676819682,-1.53976306319 l-0.473773255944,-3.25719118118 0.947546511889,-4.14551585913 m18.0033838749,-3.49407762289 l0.888324826956,5.74450075626 -0.059221656993,4.14551585913 m-1.89509302378,-9.53468680382 l0.947546511889,9.89001691341 -0.355329923332,3.96785110235 l0.473773255944,1.77664965391 0.532994903624,-2.07275792956 l1.00676819682,-1.77664965391 -0.947546511889,-2.54653126001 m-4.50084596872,5.86294412613 l1.18443310261,-0.296108275652 0.592216551304,-0.829103216529 l-0.592216551304,-6.09983086586 \" fill=\"none\" stroke=\"black\" stroke-width=\"1\"/></svg>"
      ],
      "text/plain": [
       "<IPython.core.display.SVG object>"
      ]
     },
     "metadata": {},
     "output_type": "display_data"
    },
    {
     "name": "stdout",
     "output_type": "stream",
     "text": [
      "in encode(): seq_len = [96]\n"
     ]
    },
    {
     "data": {
      "image/svg+xml": [
       "<svg baseProfile=\"full\" height=\"82.5126895029\" version=\"1.1\" width=\"93.3502532542\" xmlns=\"http://www.w3.org/2000/svg\" xmlns:ev=\"http://www.w3.org/2001/xml-events\" xmlns:xlink=\"http://www.w3.org/1999/xlink\"><defs/><rect fill=\"white\" height=\"82.5126895029\" width=\"93.3502532542\" x=\"0\" y=\"0\"/><path d=\"M56.0321489256,28.7309643719 m0.0,0.0 l0.0,0.0 -1.83587133884,-0.651438236237 l-3.02030444145,-2.1319796145 -1.71742811799,-0.355329923332 l-2.42808789015,3.96785110235 -0.769881531596,3.79018604755 l0.0,2.66497462988 0.296108275652,1.48054137826 l4.8561757803,1.53976306319 5.15228390694,-0.710659846663 l0.177664961666,-1.71742811799 m-3.31641286612,-9.12013530731 l3.90862941742,-2.42808789015 3.67174267769,-0.059221656993 l2.01353639364,1.48054137826 m0.118443313986,0.118443313986 l2.48730957508,7.28426396847 1.59898474813,2.54653126001 m0.059221656993,0.059221656993 l1.06598980725,3.55329930782 -1.06598980725,2.25042298436 l-2.78341799974,0.355329923332 -2.66497462988,-2.78341799974 l-1.24365478754,-0.059221656993 0.0,-1.12521149218 l1.48054137826,-0.532994903624 0.355329923332,0.355329923332 m-1.65820643306,-2.48730957508 l2.19120129943,0.296108275652 1.59898474813,-0.532994903624 l0.0,0.532994903624 -2.90186107159,0.355329923332 m-0.296108275652,1.18443310261 l-1.30287647247,0.355329923332 -1.12521149218,1.95431470871 l0.829103216529,-2.01353639364 3.07952612638,-0.355329923332 l0.769881531596,0.355329923332 m-2.19120129943,-0.177664961666 l3.07952612638,-0.888324826956 m-2.01353639364,1.36209815741 l2.19120129943,0.651438236237 0.829103216529,-0.296108275652 l-0.118443313986,-1.24365478754 -2.36886620522,-0.769881531596 m-2.54653126001,-4.44162428379 l-0.177664961666,-1.95431470871 -1.00676819682,0.177664961666 l0.532994903624,0.829103216529 m-12.4365484715,-2.84263938665 l-13.7986457348,0.0 m-0.236886627972,0.0 l-1.71742811799,1.12521149218 -4.73773241043,5.50761401653 l-1.65820643306,3.25719118118 -0.236886627972,3.84940773249 l1.48054137826,3.07952612638 m0.118443313986,0.059221656993 l2.90186107159,8.40947508812 0.0,2.30964466929 l-0.532994903624,0.769881531596 m0.0,0.118443313986 l0.947546511889,0.473773255944 3.13874781132,0.0 l0.888324826956,-0.414551608264 -0.177664961666,-9.83079493046 m-6.3959389925,-0.236886627972 l-0.473773255944,10.245347023 m0.059221656993,0.0 l1.59898474813,0.059221656993 m5.44839262962,-8.40947508812 l8.76480519772,-0.296108275652 2.30964466929,-0.592216551304 m-11.4890015125,-0.473773255944 l-0.296108275652,-3.07952612638 m12.3773264885,3.96785110235 l4.14551585913,0.0 m0.296108275652,-1.95431470871 l1.71742811799,3.25719118118 0.710659846663,7.04737722874 l5.38917064667,0.414551608264 -0.829103216529,-11.133671999 m0.0,-0.177664961666 l1.53976306319,-3.07952612638 0.414551608264,-2.01353639364 m-1.24365478754,4.20473754406 l0.651438236237,4.20473754406 0.0,5.32994925976 m-29.6108293533,-22.6818943024 l-2.72419631481,1.42131969333 -1.00676819682,1.77664965391 l0.0,2.07275792956 1.71742811799,4.56006765366 l0.118443313986,1.53976306319 -0.592216551304,-0.710659846663 l0.355329923332,-1.83587133884 \" fill=\"none\" stroke=\"black\" stroke-width=\"1\"/></svg>"
      ],
      "text/plain": [
       "<IPython.core.display.SVG object>"
      ]
     },
     "metadata": {},
     "output_type": "display_data"
    },
    {
     "name": "stdout",
     "output_type": "stream",
     "text": [
      "in encode(): seq_len = [157]\n"
     ]
    },
    {
     "data": {
      "image/svg+xml": [
       "<svg baseProfile=\"full\" height=\"84.7038902342\" version=\"1.1\" width=\"95.9560047276\" xmlns=\"http://www.w3.org/2000/svg\" xmlns:ev=\"http://www.w3.org/2001/xml-events\" xmlns:xlink=\"http://www.w3.org/1999/xlink\"><defs/><rect fill=\"white\" height=\"84.7038902342\" width=\"95.9560047276\" x=\"0\" y=\"0\"/><path d=\"M32.7580372058,28.0203055404 m0.0,0.0 l0.0,0.0 2.07275792956,-1.53976306319 l3.13874781132,0.0 2.72419631481,1.06598980725 m-7.99492359161,0.296108275652 l-0.473773255944,0.296108275652 -0.414551608264,1.42131969333 l0.0,2.96108275652 0.829103216529,4.56006765366 l-1.95431470871,5.92216551304 0.0,7.10659861565 l0.829103216529,2.54653126001 2.42808789015,3.07952612638 l2.07275792956,1.59898474813 2.1319796145,0.592216551304 l2.96108275652,0.177664961666 2.78341799974,-3.49407762289 l2.84263938665,-2.78341799974 m-16.4636206627,-1.65820643306 l0.947546511889,2.25042298436 1.83587133884,2.54653126001 l1.24365478754,1.00676819682 1.30287647247,0.355329923332 l1.36209815741,0.0 0.710659846663,-0.473773255944 l2.36886620522,-4.50084596872 0.355329923332,0.0 l0.592216551304,0.769881531596 0.532994903624,-2.48730957508 l-0.947546511889,-0.769881531596 -1.24365478754,1.00676819682 l-0.059221656993,1.12521149218 0.355329923332,0.532994903624 m0.532994903624,-2.96108275652 l-1.36209815741,0.177664961666 -1.18443310261,0.829103216529 l-0.414551608264,0.947546511889 0.118443313986,2.42808789015 l-0.592216551304,0.769881531596 -1.53976306319,0.059221656993 l-0.710659846663,-0.296108275652 -0.592216551304,-1.77664965391 m3.90862941742,-12.851099968 l-1.42131969333,3.84940773249 -1.24365478754,7.1658205986 l-0.888324826956,2.25042298436 0.059221656993,0.829103216529 m-3.55329930782,-12.3181045055 l-2.30964466929,4.08629417419 -3.43485623598,1.48054137826 l2.1319796145,0.296108275652 1.00676819682,-0.355329923332 l1.00676819682,-0.829103216529 1.00676819682,-1.71742811799 m5.80372214317,-0.651438236237 l0.710659846663,1.42131969333 0.177664961666,2.25042298436 l-0.355329923332,1.95431470871 -0.947546511889,0.769881531596 l1.24365478754,0.0 0.592216551304,-0.592216551304 l0.473773255944,-3.73096436262 -1.24365478754,-3.19796949625 m3.84940773249,-14.8054146767 l2.78341799974,-0.651438236237 m-0.177664961666,0.118443313986 l2.01353639364,0.532994903624 1.30287647247,0.888324826956 l1.24365478754,2.78341799974 -0.592216551304,6.51438236237 l-0.888324826956,3.96785110235 -0.651438236237,0.888324826956 l-1.18443310261,0.532994903624 -2.01353639364,0.0 l-3.37563455105,-1.24365478754 -1.36209815741,-1.95431470871 m-4.26395922899,-13.2064294815 l0.0,-0.651438236237 -0.414551608264,-0.473773255944 l-1.77664965391,-0.059221656993 -1.48054137826,1.89509302378 l-0.118443313986,0.829103216529 1.36209815741,7.99492359161 l1.42131969333,1.30287647247 m6.15905225277,-5.15228390694 l-0.532994903624,0.0 -0.059221656993,0.592216551304 l0.769881531596,0.0 -0.236886627972,-0.710659846663 l-0.414551608264,0.0 -0.059221656993,0.414551608264 m9.65313017368,-1.48054137826 l1.65820643306,-1.18443310261 2.36886620522,-0.651438236237 l4.67851102352,0.651438236237 5.38917064667,2.36886620522 l1.42131969333,1.06598980725 1.30287647247,1.83587133884 l1.48054137826,4.50084596872 -0.177664961666,8.17258834839 l-2.30964466929,5.38917064667 -3.90862941742,4.8561757803 m0.769881531596,-13.7986457348 l0.355329923332,4.02707278728 -2.96108275652,7.10659861565 l-0.414551608264,2.66497462988 3.02030444145,0.532994903624 l2.30964466929,-5.38917064667 m-18.0626058578,-10.4822337627 l0.059221656993,5.68527877331 -1.48054137826,4.26395922899 l-0.059221656993,1.53976306319 0.355329923332,2.25042298436 l1.30287647247,3.61252099276 m6.15905225277,-15.9898471832 l-0.710659846663,3.13874781132 -3.19796949625,7.10659861565 l0.0,1.36209815741 1.71742811799,3.90862941742 l-1.89509302378,0.473773255944 -2.30964466929,-0.059221656993 m-0.592216551304,-17.3519456387 l-0.473773255944,3.90862941742 -3.19796949625,7.87648022175 l-0.296108275652,2.90186107159 m0.829103216529,-14.9830794334 l-0.296108275652,2.07275792956 -1.71742811799,4.32318091393 m-1.83587133884,7.1658205986 l-1.59898474813,2.25042298436 -0.296108275652,0.769881531596 l0.414551608264,0.118443313986 3.61252099276,0.118443313986 l0.769881531596,-2.54653126001 m10.7783412933,-10.8375632763 l7.22504198551,0.651438236237 3.19796949625,2.19120129943 m-3.49407762289,-1.89509302378 l1.06598980725,5.74450075626 m6.92893385887,-15.4568529129 l1.83587133884,8.94246995449 1.53976306319,3.02030444145 l0.829103216529,0.414551608264 m-4.44162428379,-12.0812177658 l5.21150588989,12.1996617317 -1.00676819682,-0.355329923332 m0.769881531596,0.296108275652 l0.769881531596,1.71742811799 -0.414551608264,-1.83587133884 l-0.414551608264,1.42131969333 -0.888324826956,-1.30287647247 l0.532994903624,1.53976306319 m-29.6108293533,-24.3401002884 l0.118443313986,3.84940773249 -0.473773255944,3.61252099276 l-0.769881531596,2.60575294495 -1.59898474813,2.07275792956 \" fill=\"none\" stroke=\"black\" stroke-width=\"1\"/></svg>"
      ],
      "text/plain": [
       "<IPython.core.display.SVG object>"
      ]
     },
     "metadata": {},
     "output_type": "display_data"
    },
    {
     "name": "stdout",
     "output_type": "stream",
     "text": [
      "in encode(): seq_len = [89]\n"
     ]
    },
    {
     "data": {
      "image/svg+xml": [
       "<svg baseProfile=\"full\" height=\"96.1336707138\" version=\"1.1\" width=\"96.4297782164\" xmlns=\"http://www.w3.org/2000/svg\" xmlns:ev=\"http://www.w3.org/2001/xml-events\" xmlns:xlink=\"http://www.w3.org/1999/xlink\"><defs/><rect fill=\"white\" height=\"96.1336707138\" width=\"96.4297782164\" x=\"0\" y=\"0\"/><path d=\"M50.6429779064,28.5532993078 m0.0,0.0 l0.0,0.0 -1.48054137826,-1.18443310261 l-8.64636182785,-2.36886620522 -4.38240259886,2.30964466929 l-1.00676819682,2.07275792956 m-0.236886627972,0.118443313986 l-3.84940773249,5.15228390694 -1.30287647247,5.56683599949 m-0.059221656993,0.177664961666 l0.236886627972,5.74450075626 1.42131969333,3.13874781132 m0.177664961666,0.118443313986 l1.00676819682,2.78341799974 0.0,4.14551585913 m0.0,0.177664961666 l0.296108275652,5.98138749599 3.84940773249,4.20473754406 m0.236886627972,0.177664961666 l8.82402658463,4.26395922899 1.83587133884,0.0 l2.96108275652,-3.07952612638 0.769881531596,-2.36886620522 l1.42131969333,-0.829103216529 0.177664961666,-1.42131969333 l-0.651438236237,-0.710659846663 -1.00676819682,-0.296108275652 l-1.12521149218,0.651438236237 -2.90186107159,-1.89509302378 l-0.769881531596,1.06598980725 0.118443313986,2.1319796145 l-1.42131969333,1.00676819682 -5.15228390694,-3.43485623598 l-0.177664961666,-2.25042298436 m0.0,-0.236886627972 l2.84263938665,-4.26395922899 0.177664961666,-2.07275792956 m-9.89001691341,-20.7868003845 l-2.48730957508,0.0 -1.36209815741,-1.65820643306 l-0.947546511889,-0.236886627972 -2.1319796145,2.72419631481 l-1.00676819682,5.92216551304 m0.0,0.177664961666 l0.532994903624,7.40270733833 3.31641286612,5.44839262962 l2.1319796145,-1.89509302378 m16.3451766968,-15.279186964 l2.1319796145,-2.30964466929 1.30287647247,-0.473773255944 l4.02707278728,-0.177664961666 2.30964466929,0.888324826956 l0.710659846663,2.36886620522 0.414551608264,9.23857867718 m0.0,0.473773255944 l0.296108275652,4.97461915016 -4.50084596872,-0.236886627972 m-11.074450016,4.14551585913 l1.48054137826,-2.36886620522 m-1.65820643306,3.07952612638 l3.19796949625,0.829103216529 5.50761401653,-2.78341799974 l1.30287647247,-2.1319796145 0.059221656993,-2.84263938665 m-10.8375632763,-2.19120129943 l-0.118443313986,-4.20473754406 2.48730957508,-0.532994903624 l0.0,2.19120129943 -1.89509302378,0.355329923332 l0.296108275652,-1.42131969333 m7.1658205986,-14.2131972313 l3.31641286612,0.118443313986 4.97461915016,-1.36209815741 l3.31641286612,0.0 0.888324826956,0.532994903624 m0.473773255944,0.0 l5.2707272768,1.89509302378 3.25719118118,4.8561757803 m-29.6108293533,22.6226735115 l-0.414551608264,5.80372214317 m8.17258834839,-0.236886627972 l0.888324826956,-1.77664965391 0.710659846663,1.77664965391 m9.17935669422,4.02707278728 l-0.710659846663,-5.2707272768 4.56006765366,-1.30287647247 l3.07952612638,-2.60575294495 m0.0,-3.79018604755 l0.059221656993,4.91539746523 1.53976306319,2.07275792956 \" fill=\"none\" stroke=\"black\" stroke-width=\"1\"/></svg>"
      ],
      "text/plain": [
       "<IPython.core.display.SVG object>"
      ]
     },
     "metadata": {},
     "output_type": "display_data"
    },
    {
     "name": "stdout",
     "output_type": "stream",
     "text": [
      "in encode(): seq_len = [109]\n"
     ]
    },
    {
     "data": {
      "image/svg+xml": [
       "<svg baseProfile=\"full\" height=\"83.5786787048\" version=\"1.1\" width=\"94.2385757342\" xmlns=\"http://www.w3.org/2000/svg\" xmlns:ev=\"http://www.w3.org/2001/xml-events\" xmlns:xlink=\"http://www.w3.org/1999/xlink\"><defs/><rect fill=\"white\" height=\"83.5786787048\" width=\"94.2385757342\" x=\"0\" y=\"0\"/><path d=\"M32.1658190526,28.2571912184 m0.0,0.0 l0.0,0.0 6.09983086586,-2.30964466929 l3.90862941742,-0.947546511889 5.80372214317,0.355329923332 l8.52791845798,1.42131969333 m0.0,0.0 l2.78341799974,-1.48054137826 1.71742811799,-0.296108275652 l2.84263938665,3.02030444145 m-5.86294412613,-0.651438236237 l-2.42808789015,2.25042298436 -1.06598980725,3.79018604755 l2.30964466929,0.532994903624 1.83587133884,1.89509302378 l1.24365478754,-2.30964466929 0.118443313986,-2.01353639364 m-1.24365478754,-2.66497462988 l1.06598980725,0.829103216529 0.296108275652,1.83587133884 m3.67174267769,-3.43485623598 l1.48054137826,0.532994903624 1.06598980725,1.24365478754 l1.53976306319,6.3959389925 m-10.245347023,-0.118443313986 l1.48054137826,1.65820643306 3.25719118118,0.177664961666 l1.53976306319,1.48054137826 0.769881531596,-0.414551608264 l0.236886627972,-1.42131969333 m-2.19120129943,-1.71742811799 l1.30287647247,-0.118443313986 1.24365478754,3.31641286612 l0.532994903624,-1.30287647247 -0.829103216529,-0.059221656993 m2.66497462988,-1.48054137826 l0.651438236237,1.89509302378 0.947546511889,10.7191193104 m-4.61928933859,-9.71235156059 l2.25042298436,10.5414545536 0.0,1.00676819682 l-0.296108275652,0.0 0.059221656993,-1.30287647247 m-0.296108275652,-1.48054137826 l-1.00676819682,1.71742811799 0.0,1.24365478754 l0.473773255944,1.12521149218 0.769881531596,0.473773255944 l1.36209815741,-0.355329923332 0.829103216529,-0.888324826956 l0.473773255944,-2.84263938665 m-11.4890015125,-11.3705575466 l0.059221656993,8.52791845798 -1.00676819682,3.84940773249 l0.236886627972,2.48730957508 -0.710659846663,3.61252099276 m-6.92893385887,-11.7851102352 l1.48054137826,2.07275792956 2.19120129943,6.3959389925 l0.296108275652,3.67174267769 -0.414551608264,1.59898474813 l1.00676819682,0.532994903624 3.31641286612,0.0 l0.592216551304,-0.177664961666 0.0,-0.473773255944 l-0.769881531596,-0.296108275652 m-0.651438236237,-1.48054137826 l1.71742811799,0.651438236237 0.592216551304,0.651438236237 l0.236886627972,0.947546511889 -1.18443310261,0.414551608264 m-20.7868003845,-12.0812177658 l7.69881546497,0.236886627972 5.38917064667,-1.65820643306 m1.00676819682,2.42808789015 l0.177664961666,3.49407762289 -0.355329923332,2.42808789015 l0.414551608264,0.829103216529 1.48054137826,0.355329923332 m-15.9306252003,-8.46869707108 l0.0,1.42131969333 -1.59898474813,4.97461915016 l0.0,2.48730957508 1.53976306319,2.54653126001 m-7.52115011215,-11.6666662693 l2.19120129943,9.65313017368 0.0,2.72419631481 l2.30964466929,0.592216551304 2.78341799974,0.059221656993 l0.947546511889,-0.888324826956 -0.532994903624,-0.592216551304 m-5.56683599949,-29.6108293533 l-2.96108275652,1.77664965391 -1.42131969333,1.71742811799 l-1.65820643306,5.50761401653 -0.414551608264,5.80372214317 m4.14551585913,-7.87648022175 l-1.18443310261,3.79018604755 0.0,2.54653126001 l0.592216551304,3.49407762289 0.710659846663,1.48054137826 m-1.48054137826,-0.532994903624 l2.1319796145,6.63282573223 0.0,4.38240259886 l1.53976306319,0.414551608264 m-4.14551585913,-21.4382386208 l-1.06598980725,2.60575294495 -0.829103216529,3.90862941742 m1.06598980725,-3.37563455105 l1.00676819682,6.57360374928 \" fill=\"none\" stroke=\"black\" stroke-width=\"1\"/></svg>"
      ],
      "text/plain": [
       "<IPython.core.display.SVG object>"
      ]
     },
     "metadata": {},
     "output_type": "display_data"
    },
    {
     "name": "stdout",
     "output_type": "stream",
     "text": [
      "in encode(): seq_len = [93]\n"
     ]
    },
    {
     "data": {
      "image/svg+xml": [
       "<svg baseProfile=\"full\" height=\"100.279184952\" version=\"1.1\" width=\"114.492384586\" xmlns=\"http://www.w3.org/2000/svg\" xmlns:ev=\"http://www.w3.org/2001/xml-events\" xmlns:xlink=\"http://www.w3.org/1999/xlink\"><defs/><rect fill=\"white\" height=\"100.279184952\" width=\"114.492384586\" x=\"0\" y=\"0\"/><path d=\"M72.1404394135,45.5499148089 m0.0,0.0 l0.0,0.0 3.55329930782,-4.44162428379 l-1.71742811799,-2.72419631481 -8.52791845798,0.0 m-0.236886627972,0.0 l-3.13874781132,-3.55329930782 -0.177664961666,-6.98815524578 l2.84263938665,-2.78341799974 1.59898474813,-0.059221656993 l0.414551608264,2.90186107159 2.48730957508,-0.473773255944 l0.355329923332,2.42808789015 m0.0,0.177664961666 l7.22504198551,2.84263938665 3.31641286612,0.532994903624 l2.96108275652,3.13874781132 m0.0,0.236886627972 l4.38240259886,2.84263938665 0.651438236237,1.12521149218 l1.36209815741,4.8561757803 -0.592216551304,5.68527877331 l-4.14551585913,4.20473754406 -5.92216551304,2.30964466929 l-2.30964466929,1.71742811799 -2.60575294495,0.592216551304 m-4.38240259886,-2.66497462988 l0.651438236237,1.00676819682 2.07275792956,1.06598980725 l2.96108275652,0.177664961666 0.710659846663,1.59898474813 l-1.12521149218,1.48054137826 -6.69204711914,-0.118443313986 m4.79695409536,-17.9441618919 l-2.66497462988,-0.769881531596 -1.06598980725,-1.65820643306 l-2.36886620522,-1.18443310261 -0.473773255944,-1.30287647247 m-4.56006765366,-5.44839262962 l-5.44839262962,-4.61928933859 -6.98815524578,-3.13874781132 l-5.21150588989,0.177664961666 m-0.118443313986,0.0 l-0.888324826956,-1.00676819682 -0.888324826956,0.0 l-7.40270733833,3.84940773249 -3.55329930782,1.18443310261 l-1.24365478754,1.89509302378 -2.25042298436,-1.24365478754 l-2.78341799974,0.0 m21.3790178299,27.4196267128 l0.0,7.52115011215 -1.71742811799,3.90862941742 l-4.20473754406,3.90862941742 -3.84940773249,1.06598980725 l-3.13874781132,0.0 m19.4247031212,-29.6108293533 l1.77664965391,0.059221656993 2.01353639364,-1.06598980725 l2.30964466929,1.18443310261 0.947546511889,1.65820643306 m0.059221656993,0.0 l-2.96108275652,1.89509302378 -1.24365478754,-0.355329923332 l-0.829103216529,-1.65820643306 m16.996614933,-2.48730957508 l2.48730957508,2.30964466929 0.177664961666,2.78341799974 m0.118443313986,-6.27749562263 l3.13874781132,2.1319796145 0.355329923332,2.54653126001 m-2.36886620522,-6.63282573223 l4.61928933859,1.30287647247 2.25042298436,2.19120129943 m-13.0287647247,12.4365484715 l-1.36209815741,0.177664961666 -1.00676819682,0.829103216529 l-0.355329923332,2.90186107159 m7.87648022175,0.532994903624 l-4.97461915016,4.14551585913 -2.01353639364,1.00676819682 l-3.25719118118,0.355329923332 m-0.177664961666,0.0 l-2.78341799974,2.1319796145 -4.38240259886,1.71742811799 l-3.31641286612,0.592216551304 -5.80372214317,-0.236886627972 m3.67174267769,0.473773255944 l0.0,1.12521149218 m-15.5752956867,-28.4263944626 l-0.829103216529,-2.54653126001 -1.65820643306,-1.71742811799 l-3.25719118118,-1.77664965391 -3.67174267769,-0.118443313986 \" fill=\"none\" stroke=\"black\" stroke-width=\"1\"/></svg>"
      ],
      "text/plain": [
       "<IPython.core.display.SVG object>"
      ]
     },
     "metadata": {},
     "output_type": "display_data"
    },
    {
     "name": "stdout",
     "output_type": "stream",
     "text": [
      "in encode(): seq_len = [95]\n"
     ]
    },
    {
     "data": {
      "image/svg+xml": [
       "<svg baseProfile=\"full\" height=\"98.0287627224\" version=\"1.1\" width=\"94.1793550923\" xmlns=\"http://www.w3.org/2000/svg\" xmlns:ev=\"http://www.w3.org/2001/xml-events\" xmlns:xlink=\"http://www.w3.org/1999/xlink\"><defs/><rect fill=\"white\" height=\"98.0287627224\" width=\"94.1793550923\" x=\"0\" y=\"0\"/><path d=\"M47.089677481,26.5397630632 m0.0,0.0 l0.0,0.0 3.19796949625,-1.53976306319 l2.25042298436,0.0 1.95431470871,1.06598980725 l3.49407762289,-0.651438236237 1.65820643306,0.888324826956 l1.36209815741,2.01353639364 m-14.1539764404,-2.1319796145 l-1.00676819682,1.42131969333 -0.651438236237,-0.118443313986 l-1.06598980725,1.36209815741 -2.60575294495,1.24365478754 l3.43485623598,8.23181033134 1.30287647247,-1.30287647247 m0.059221656993,-9.23857867718 l0.118443313986,9.65313017368 1.83587133884,3.07952612638 m13.2064294815,-11.133671999 l-0.236886627972,10.0084602833 m-0.118443313986,-11.0152280331 l4.20473754406,0.414551608264 3.84940773249,4.02707278728 l-5.98138749599,6.81049048901 -1.18443310261,0.769881531596 l-0.651438236237,-1.89509302378 m-13.9763104916,-1.95431470871 l2.25042298436,2.66497462988 m-0.355329923332,-0.355329923332 l-0.118443313986,6.45516037941 0.947546511889,7.04737722874 m8.76480519772,-15.6937384605 l-0.947546511889,2.48730957508 0.0,11.074450016 l-1.77664965391,5.68527877331 m4.08629417419,-16.4043986797 l-0.177664961666,2.07275792956 -1.77664965391,2.90186107159 m1.89509302378,-4.56006765366 l1.71742811799,-1.83587133884 m-11.903553009,12.0812177658 l-3.96785110235,-6.57360374928 -2.01353639364,1.18443310261 l3.13874781132,7.69881546497 3.02030444145,4.38240259886 l1.83587133884,1.24365478754 2.25042298436,0.0 l0.947546511889,-0.473773255944 0.829103216529,-2.1319796145 m-11.3705575466,-27.7157354355 l-3.02030444145,-0.355329923332 -5.32994925976,2.54653126001 l-4.44162428379,0.414551608264 -4.73773241043,4.14551585913 l-0.651438236237,1.24365478754 -1.48054137826,8.23181033134 l0.0,6.09983086586 2.72419631481,9.12013530731 l-1.42131969333,11.6666662693 1.53976306319,0.651438236237 l4.14551585913,-0.059221656993 m0.414551608264,-20.490694046 l0.118443313986,5.92216551304 -0.947546511889,5.21150588989 l0.947546511889,6.7512691021 -0.414551608264,2.60575294495 m-3.55329930782,-29.6108293533 l1.95431470871,6.51438236237 1.77664965391,2.66497462988 m8.64636182785,-8.46869707108 l1.59898474813,12.791877985 2.07275792956,4.8561757803 l0.592216551304,3.79018604755 -0.236886627972,8.23181033134 l5.03384053707,0.769881531596 1.77664965391,-1.00676819682 m-1.24365478754,-15.2199661732 l1.12521149218,14.9830794334 m-19.2470383644,-18.0033838749 l9.89001691341,0.769881531596 m-7.34348535538,-0.473773255944 l1.65820643306,4.26395922899 1.42131969333,12.4365484715 l4.56006765366,0.0 m-0.414551608264,-15.0423002243 l-0.532994903624,4.56006765366 1.83587133884,8.11336696148 l0.0,1.53976306319 -1.06598980725,0.769881531596 m9.12013530731,-13.2064294815 l-0.532994903624,5.86294412613 m8.05414557457,-20.1353621483 l-1.53976306319,13.3840942383 -2.84263938665,9.35702204704 l1.65820643306,4.50084596872 -4.67851102352,1.48054137826 \" fill=\"none\" stroke=\"black\" stroke-width=\"1\"/></svg>"
      ],
      "text/plain": [
       "<IPython.core.display.SVG object>"
      ]
     },
     "metadata": {},
     "output_type": "display_data"
    },
    {
     "name": "stdout",
     "output_type": "stream",
     "text": [
      "in encode(): seq_len = [51]\n"
     ]
    },
    {
     "data": {
      "image/svg+xml": [
       "<svg baseProfile=\"full\" height=\"90.5668349098\" version=\"1.1\" width=\"84.7038896661\" xmlns=\"http://www.w3.org/2000/svg\" xmlns:ev=\"http://www.w3.org/2001/xml-events\" xmlns:xlink=\"http://www.w3.org/1999/xlink\"><defs/><rect fill=\"white\" height=\"90.5668349098\" width=\"84.7038896661\" x=\"0\" y=\"0\"/><path d=\"M33.6463617161,30.0338409748 m0.0,0.0 l0.0,0.0 -3.79018604755,0.414551608264 l-3.49407762289,4.20473754406 -0.532994903624,4.02707278728 l1.53976306319,3.37563455105 -2.36886620522,9.59390819073 l1.42131969333,2.84263938665 2.60575294495,2.66497462988 l2.90186107159,1.89509302378 2.25042298436,0.473773255944 l2.48730957508,-3.55329930782 0.177664961666,-1.65820643306 l-1.24365478754,-0.947546511889 -1.18443310261,1.42131969333 l-1.18443310261,0.0 -1.12521149218,-0.829103216529 l-0.829103216529,-3.02030444145 0.118443313986,-3.73096436262 l2.48730957508,-4.26395922899 6.81049048901,2.54653126001 l0.296108275652,2.25042298436 -3.37563455105,12.9695427418 l0.651438236237,4.20473754406 2.19120129943,0.651438236237 l0.710659846663,-0.710659846663 0.355329923332,-7.28426396847 l0.532994903624,-2.19120129943 3.55329930782,0.0 l0.0,6.7512691021 0.296108275652,0.414551608264 l2.84263938665,0.414551608264 1.18443310261,-3.49407762289 l0.177664961666,-5.2707272768 9.53468680382,-3.19796949625 m-29.6108293533,-13.2656514645 l1.59898474813,-0.177664961666 -0.651438236237,0.414551608264 m2.48730957508,-6.0406088829 l5.2707272768,-0.769881531596 2.90186107159,1.18443310261 l-1.06598980725,2.96108275652 0.947546511889,2.25042298436 l-0.651438236237,1.24365478754 0.059221656993,3.49407762289 l-2.1319796145,-0.059221656993 -4.08629417419,-1.48054137826 m-2.19120129943,-10.8375632763 l5.21150588989,0.236886627972 9.53468680382,-3.73096436262 l8.05414557457,-1.42131969333 4.38240259886,0.236886627972 \" fill=\"none\" stroke=\"black\" stroke-width=\"1\"/></svg>"
      ],
      "text/plain": [
       "<IPython.core.display.SVG object>"
      ]
     },
     "metadata": {},
     "output_type": "display_data"
    },
    {
     "name": "stdout",
     "output_type": "stream",
     "text": [
      "in encode(): seq_len = [122]\n"
     ]
    },
    {
     "data": {
      "image/svg+xml": [
       "<svg baseProfile=\"full\" height=\"73.8071063068\" version=\"1.1\" width=\"86.7174270377\" xmlns=\"http://www.w3.org/2000/svg\" xmlns:ev=\"http://www.w3.org/2001/xml-events\" xmlns:xlink=\"http://www.w3.org/1999/xlink\"><defs/><rect fill=\"white\" height=\"73.8071063068\" width=\"86.7174270377\" x=\"0\" y=\"0\"/><path d=\"M54.3739418313,27.0727581438 m0.0,0.0 l0.0,0.0 0.829103216529,2.19120129943 l1.18443310261,1.48054137826 0.0,2.01353639364 l0.710659846663,2.07275792956 1.95431470871,1.95431470871 l2.19120129943,0.296108275652 m-1.48054137826,1.24365478754 l-3.02030444145,0.118443313986 -1.36209815741,-0.947546511889 l-3.13874781132,-5.44839262962 m9.47546482086,4.73773241043 l-0.059221656993,0.592216551304 m-0.059221656993,-0.651438236237 l0.0,1.12521149218 m-11.3705575466,-6.57360374928 l1.65820643306,-0.236886627972 m-1.48054137826,0.414551608264 l1.48054137826,0.236886627972 m-0.296108275652,-0.769881531596 l-0.414551608264,0.355329923332 0.355329923332,0.355329923332 m2.66497462988,-4.97461915016 l-0.947546511889,-0.888324826956 m0.947546511889,0.710659846663 l-1.53976306319,-1.42131969333 -2.01353639364,-0.059221656993 l-0.592216551304,0.355329923332 m3.02030444145,8.40947508812 l-0.118443313986,0.296108275652 -0.888324826956,0.0 l-1.30287647247,-0.710659846663 m2.48730957508,0.0 l-0.059221656993,1.36209815741 -0.532994903624,0.177664961666 l-1.12521149218,0.0 -2.07275792956,-0.829103216529 m4.02707278728,0.296108275652 l-1.71742811799,-0.059221656993 m-0.118443313986,0.473773255944 l-1.48054137826,-0.592216551304 -0.888324826956,-1.00676819682 m0.296108275652,-0.059221656993 l-0.947546511889,-3.96785110235 -1.83587133884,-2.07275792956 m3.79018604755,-1.53976306319 l-3.13874781132,0.473773255944 m0.059221656993,0.236886627972 l-1.36209815741,-0.296108275652 m0.829103216529,-0.059221656993 l-3.79018604755,0.414551608264 -2.90186107159,3.31641286612 l-0.355329923332,1.00676819682 7.87648022175,6.57360374928 l1.06598980725,-0.059221656993 1.36209815741,-2.42808789015 m-9.23857867718,-5.6260573864 l-1.83587133884,0.414551608264 -7.04737722874,-0.118443313986 l-2.96108275652,2.90186107159 -1.30287647247,3.13874781132 m0.059221656993,1.48054137826 l2.72419631481,5.21150588989 -0.236886627972,1.95431470871 l-1.71742811799,3.31641286612 2.01353639364,0.829103216529 l1.95431470871,0.118443313986 -0.414551608264,-2.42808789015 m0.059221656993,0.118443313986 l1.48054137826,-3.19796949625 m-3.13874781132,-5.38917064667 l1.89509302378,3.19796949625 1.71742811799,2.01353639364 l1.00676819682,0.592216551304 -0.236886627972,0.059221656993 l-0.414551608264,-0.473773255944 2.19120129943,0.414551608264 l4.32318091393,0.0 4.97461915016,-0.829103216529 m-12.3181045055,1.24365478754 l0.0,0.236886627972 m0.059221656993,-0.177664961666 l1.00676819682,4.56006765366 m1.48054137826,-4.38240259886 l0.414551608264,-0.236886627972 0.769881531596,2.72419631481 l1.89509302378,2.1319796145 m-4.79695409536,-0.414551608264 l0.059221656993,0.414551608264 1.71742811799,0.296108275652 l3.02030444145,-0.118443313986 m4.08629417419,-12.9695427418 l0.473773255944,1.71742811799 m-0.059221656993,-1.95431470871 l1.18443310261,5.09306252003 1.36209815741,2.48730957508 l0.0,5.38917064667 3.43485623598,0.059221656993 l1.18443310261,-0.296108275652 0.059221656993,-0.829103216529 l-1.12521149218,-0.947546511889 -0.118443313986,-0.947546511889 m-1.59898474813,-8.17258834839 l1.36209815741,7.9357022047 m0.414551608264,-10.0084602833 l0.947546511889,9.53468680382 1.24365478754,3.13874781132 l-0.829103216529,0.414551608264 m0.829103216529,-13.7394249439 l2.01353639364,0.829103216529 1.24365478754,0.0 l-1.30287647247,-0.177664961666 -0.888324826956,-0.710659846663 m2.96108275652,-1.71742811799 l2.72419631481,0.947546511889 -0.473773255944,0.355329923332 l-1.59898474813,0.0 m-29.6108293533,1.00676819682 l-2.07275792956,3.79018604755 m2.01353639364,-2.60575294495 l-1.06598980725,2.72419631481 -1.18443310261,1.48054137826 \" fill=\"none\" stroke=\"black\" stroke-width=\"1\"/></svg>"
      ],
      "text/plain": [
       "<IPython.core.display.SVG object>"
      ]
     },
     "metadata": {},
     "output_type": "display_data"
    },
    {
     "name": "stdout",
     "output_type": "stream",
     "text": [
      "in encode(): seq_len = [107]\n"
     ]
    },
    {
     "data": {
      "image/svg+xml": [
       "<svg baseProfile=\"full\" height=\"82.5126904529\" version=\"1.1\" width=\"87.7834164351\" xmlns=\"http://www.w3.org/2000/svg\" xmlns:ev=\"http://www.w3.org/2001/xml-events\" xmlns:xlink=\"http://www.w3.org/1999/xlink\"><defs/><rect fill=\"white\" height=\"82.5126904529\" width=\"87.7834164351\" x=\"0\" y=\"0\"/><path d=\"M34.5346868783,30.0930625107 m0.0,0.0 l0.0,0.0 0.059221656993,3.84940773249 l-0.651438236237,2.07275792956 0.651438236237,1.36209815741 l0.118443313986,2.25042298436 -0.414551608264,5.2707272768 l0.888324826956,0.947546511889 m0.0,0.0 l0.473773255944,1.12521149218 0.947546511889,8.17258834839 m-2.60575294495,-10.1269030571 l-0.651438236237,6.21827423573 -0.888324826956,2.84263938665 l0.118443313986,0.414551608264 0.651438236237,0.0 m2.1319796145,-8.17258834839 l-0.059221656993,2.66497462988 -1.95431470871,5.56683599949 m8.11336696148,-8.70558381081 l1.42131969333,-1.06598980725 m-1.42131969333,1.06598980725 l0.296108275652,3.55329930782 -0.296108275652,5.44839262962 l0.769881531596,0.0 m0.473773255944,-10.0676810741 l0.592216551304,3.73096436262 0.0,3.90862941742 l-0.888324826956,2.48730957508 m-1.06598980725,-8.35025370121 l-0.118443313986,10.5414545536 m-4.73773241043,-2.36886620522 l0.651438236237,2.78341799974 m-1.71742811799,-29.6108293533 l0.118443313986,-1.53976306319 -3.19796949625,0.0 l-3.07952612638,-0.651438236237 -1.59898474813,2.1319796145 l-2.66497462988,5.03384053707 1.53976306319,2.42808789015 l2.90186107159,2.1319796145 2.1319796145,2.60575294495 l2.48730957508,1.71742811799 m8.46869707108,-6.09983086586 l-0.414551608264,3.19796949625 1.18443310261,4.91539746523 l-0.592216551304,0.769881531596 m0.236886627972,-8.11336696148 l1.06598980725,-0.947546511889 m-0.710659846663,0.592216551304 l-0.592216551304,0.473773255944 0.592216551304,-0.059221656993 l0.177664961666,-0.532994903624 m-0.592216551304,5.74450075626 l1.42131969333,-0.710659846663 1.53976306319,-1.89509302378 l-0.710659846663,3.13874781132 1.48054137826,0.118443313986 l2.19120129943,-2.25042298436 3.61252099276,-5.86294412613 m-10.6598985195,-5.6260573864 l0.0,-0.710659846663 3.07952612638,-1.30287647247 l5.2707272768,-0.414551608264 1.42131969333,2.48730957508 l0.947546511889,5.56683599949 m-17.4111676216,-6.33671700954 l8.40947508812,-2.90186107159 2.25042298436,0.0 l1.24365478754,0.947546511889 m3.55329930782,0.592216551304 l5.6260573864,1.83587133884 1.89509302378,1.36209815741 l2.96108275652,3.25719118118 m-26.2944149971,16.4043986797 l-0.414551608264,6.7512691021 m6.86971247196,-6.98815524578 l-0.296108275652,0.651438236237 m2.01353639364,-3.43485623598 l0.651438236237,1.95431470871 0.0,5.98138749599 l0.414551608264,2.48730957508 m5.6260573864,-13.2064294815 l-1.06598980725,3.55329930782 -1.65820643306,10.0676810741 m1.00676819682,-8.05414557457 l2.36886620522,-0.296108275652 3.43485623598,0.118443313986 l1.18443310261,-0.355329923332 m4.14551585913,-10.7191193104 l-0.414551608264,3.73096436262 -1.95431470871,5.98138749599 m-1.89509302378,1.18443310261 l1.36209815741,1.48054137826 m0.651438236237,-1.83587133884 l-0.592216551304,3.13874781132 0.296108275652,5.03384053707 m2.54653126001,0.059221656993 l0.118443313986,-5.44839262962 0.947546511889,-1.53976306319 m0.769881531596,-16.9373941422 l0.769881531596,4.67851102352 -1.48054137826,12.4365484715 m-0.769881531596,1.71742811799 l0.947546511889,4.50084596872 m0.236886627972,-9.77157354355 l0.947546511889,6.15905225277 1.30287647247,3.31641286612 \" fill=\"none\" stroke=\"black\" stroke-width=\"1\"/></svg>"
      ],
      "text/plain": [
       "<IPython.core.display.SVG object>"
      ]
     },
     "metadata": {},
     "output_type": "display_data"
    },
    {
     "name": "stdout",
     "output_type": "stream",
     "text": [
      "in encode(): seq_len = [62]\n"
     ]
    },
    {
     "data": {
      "image/svg+xml": [
       "<svg baseProfile=\"full\" height=\"88.9086267259\" version=\"1.1\" width=\"103.950929046\" xmlns=\"http://www.w3.org/2000/svg\" xmlns:ev=\"http://www.w3.org/2001/xml-events\" xmlns:xlink=\"http://www.w3.org/1999/xlink\"><defs/><rect fill=\"white\" height=\"88.9086267259\" width=\"103.950929046\" x=\"0\" y=\"0\"/><path d=\"M25,39.3316411972 m0.0,0.0 l0.0,0.0 2.72419631481,-7.1658205986 l15.2199661732,-5.98138749599 12.0812177658,-1.18443310261 l10.7191193104,2.96108275652 9.41624343395,0.592216551304 l1.71742811799,2.25042298436 2.07275792956,9.17935669422 l-0.177664961666,18.5363781452 -3.31641286612,1.48054137826 m-9.59390819073,-19.3654811382 l4.26395922899,2.25042298436 4.14551585913,-0.059221656993 l1.18443310261,16.996614933 m-3.49407762289,-29.6108293533 l-2.96108275652,2.19120129943 -1.00676819682,3.96785110235 l4.97461915016,4.50084596872 1.53976306319,-2.01353639364 m-7.99492359161,2.19120129943 l-2.54653126001,1.77664965391 -3.49407762289,13.7986457348 l-0.473773255944,4.20473754406 1.24365478754,2.72419631481 l-5.74450075626,0.355329923332 -0.651438236237,-3.02030444145 m1.18443310261,-14.5685279369 l-0.355329923332,10.6006765366 -0.947546511889,4.14551585913 m3.96785110235,-22.8003382683 l-2.66497462988,8.58714044094 m-13.4433162212,1.36209815741 l6.15905225277,0.296108275652 7.40270733833,-2.96108275652 m-13.1472074986,2.25042298436 l-0.829103216529,4.73773241043 -5.21150588989,3.49407762289 l-2.72419631481,4.44162428379 -4.56006765366,-2.36886620522 l-0.651438236237,-1.77664965391 9.12013530731,-9.35702204704 l-0.769881531596,-7.10659861565 m5.80372214317,10.4822337627 l0.177664961666,5.6260573864 2.19120129943,7.28426396847 l-5.80372214317,0.0 -1.18443310261,-8.23181033134 m-4.97461915016,-13.8578677177 l1.36209815741,1.18443310261 1.59898474813,5.92216551304 m2.1319796145,-21.1421322823 l-4.32318091393,4.44162428379 -2.84263938665,8.52791845798 l-0.592216551304,5.80372214317 1.53976306319,-0.236886627972 l1.24365478754,-5.50761401653 3.90862941742,-6.86971247196 m25.4060912132,15.1015222073 l2.90186107159,14.5685279369 3.79018604755,-0.947546511889 m-3.55329930782,-20.7868003845 l3.73096436262,21.0236883163 \" fill=\"none\" stroke=\"black\" stroke-width=\"1\"/></svg>"
      ],
      "text/plain": [
       "<IPython.core.display.SVG object>"
      ]
     },
     "metadata": {},
     "output_type": "display_data"
    },
    {
     "name": "stdout",
     "output_type": "stream",
     "text": [
      "in encode(): seq_len = [126]\n"
     ]
    },
    {
     "data": {
      "image/svg+xml": [
       "<svg baseProfile=\"full\" height=\"81.8020307831\" version=\"1.1\" width=\"82.7495751809\" xmlns=\"http://www.w3.org/2000/svg\" xmlns:ev=\"http://www.w3.org/2001/xml-events\" xmlns:xlink=\"http://www.w3.org/1999/xlink\"><defs/><rect fill=\"white\" height=\"81.8020307831\" width=\"82.7495751809\" x=\"0\" y=\"0\"/><path d=\"M31.099830661,33.3502554055 m0.0,0.0 l0.0,0.0 1.06598980725,0.296108275652 l0.118443313986,0.769881531596 -0.947546511889,0.0 l-0.236886627972,-1.12521149218 -0.651438236237,-0.059221656993 l0.0,-0.592216551304 m2.48730957508,0.651438236237 l-0.888324826956,2.42808789015 0.355329923332,0.414551608264 m0.947546511889,-1.53976306319 l-0.651438236237,1.18443310261 0.0,0.651438236237 l1.48054137826,3.90862941742 m-3.02030444145,-10.4822337627 l-0.829103216529,1.48054137826 -0.296108275652,3.31641286612 l0.355329923332,1.36209815741 1.06598980725,1.77664965391 l0.414551608264,1.71742811799 1.12521149218,1.89509302378 m1.12521149218,-1.36209815741 l-1.24365478754,3.25719118118 2.54653126001,3.19796949625 m0.177664961666,-1.24365478754 l0.118443313986,2.36886620522 1.12521149218,3.55329930782 l-0.118443313986,5.15228390694 0.177664961666,0.473773255944 m8.82402658463,-12.3773264885 l-2.07275792956,6.57360374928 -0.177664961666,3.49407762289 l0.177664961666,2.07275792956 m0.592216551304,-7.40270733833 l1.06598980725,-0.177664961666 1.18443310261,1.48054137826 l-0.118443313986,1.00676819682 -0.592216551304,0.532994903624 l-0.592216551304,1.83587133884 0.118443313986,2.72419631481 m-0.118443313986,-6.92893385887 l-0.414551608264,0.177664961666 -0.236886627972,0.592216551304 l0.118443313986,0.651438236237 0.592216551304,0.118443313986 l0.473773255944,-0.355329923332 m-0.769881531596,-3.84940773249 l2.84263938665,-1.48054137826 -1.24365478754,-4.61928933859 m0.532994903624,5.32994925976 l1.24365478754,3.90862941742 0.532994903624,3.49407762289 l-0.296108275652,0.296108275652 -1.48054137826,0.296108275652 l-0.769881531596,-2.42808789015 m-1.53976306319,-4.44162428379 l0.355329923332,1.48054137826 m-11.6666662693,-5.09306252003 l-1.30287647247,4.8561757803 -1.06598980725,2.84263938665 l-0.118443313986,1.18443310261 0.414551608264,1.12521149218 l0.177664961666,0.177664961666 0.947546511889,-0.414551608264 l2.78341799974,-6.27749562263 m-3.37563455105,-7.58037209511 l-0.888324826956,3.79018604755 -0.296108275652,0.414551608264 l-0.592216551304,0.118443313986 -2.07275792956,-0.888324826956 l-0.414551608264,-2.07275792956 -2.25042298436,-2.25042298436 m3.37563455105,-13.4433162212 l-2.1319796145,3.43485623598 -1.06598980725,2.60575294495 l-0.592216551304,5.6260573864 0.0,0.710659846663 l0.532994903624,1.18443310261 m8.40947508812,-13.8578677177 l-2.54653126001,2.72419631481 m16.5228426456,7.40270733833 l-1.18443310261,5.32994925976 m1.83587133884,-7.1658205986 l2.01353639364,-0.829103216529 m-1.95431470871,0.769881531596 l0.059221656993,1.06598980725 0.651438236237,0.059221656993 l0.355329923332,-1.65820643306 m-2.19120129943,10.0676810741 l3.07952612638,-3.73096436262 0.710659846663,-1.36209815741 l0.414551608264,-1.95431470871 m-0.888324826956,-9.59390819073 l-0.118443313986,2.90186107159 0.829103216529,3.31641286612 m-3.84940773249,15.3976309299 l4.38240259886,-0.177664961666 3.96785110235,-1.53976306319 m-29.6108293533,-0.651438236237 l0.296108275652,2.07275792956 3.07952612638,8.94246995449 m26.9458532333,-7.46192872524 l-3.55329930782,6.51438236237 m-27.5380706787,-16.226733923 l0.0,1.89509302378 0.769881531596,4.38240259886 m29.3147206306,0.414551608264 l1.77664965391,-2.36886620522 0.236886627972,-1.00676819682 l-0.177664961666,-9.29780006409 -1.65820643306,-7.63959348202 m0.829103216529,19.0693736076 l0.236886627972,2.66497462988 -0.414551608264,1.42131969333 m-3.25719118118,6.33671700954 l-0.532994903624,0.829103216529 m-18.8917088509,-29.018611908 l7.81725883484,-1.18443310261 1.30287647247,0.0 l1.42131969333,0.532994903624 m-9.35702204704,12.9103207588 l1.83587133884,-1.53976306319 2.66497462988,-0.888324826956 l1.24365478754,0.0 1.12521149218,0.355329923332 l1.18443310261,1.65820643306 \" fill=\"none\" stroke=\"black\" stroke-width=\"1\"/></svg>"
      ],
      "text/plain": [
       "<IPython.core.display.SVG object>"
      ]
     },
     "metadata": {},
     "output_type": "display_data"
    },
    {
     "name": "stdout",
     "output_type": "stream",
     "text": [
      "in encode(): seq_len = [111]\n"
     ]
    },
    {
     "data": {
      "image/svg+xml": [
       "<svg baseProfile=\"full\" height=\"91.5143822227\" version=\"1.1\" width=\"78.3671732247\" xmlns=\"http://www.w3.org/2000/svg\" xmlns:ev=\"http://www.w3.org/2001/xml-events\" xmlns:xlink=\"http://www.w3.org/1999/xlink\"><defs/><rect fill=\"white\" height=\"91.5143822227\" width=\"78.3671732247\" x=\"0\" y=\"0\"/><path d=\"M38.0287644081,32.1658213716 m0.0,0.0 l0.0,0.0 -1.53976306319,-1.18443310261 l-3.19796949625,-0.296108275652 -2.07275792956,1.53976306319 l-0.177664961666,2.48730957508 m7.75803685188,-3.07952612638 l1.00676819682,-1.18443310261 2.07275792956,-0.296108275652 l0.947546511889,0.829103216529 0.947546511889,2.1319796145 m-0.888324826956,0.236886627972 l4.73773241043,-1.36209815741 3.02030444145,-0.118443313986 l2.01353639364,0.592216551304 0.710659846663,0.947546511889 l-0.296108275652,3.79018604755 -4.02707278728,6.69204711914 l-2.84263938665,0.532994903624 -2.1319796145,-2.48730957508 m-9.71235156059,4.44162428379 l1.71742811799,3.79018604755 0.0,11.2521147728 l0.651438236237,2.36886620522 0.947546511889,1.89509302378 l1.06598980725,0.829103216529 2.90186107159,0.0 l0.651438236237,-1.24365478754 m0.177664961666,-19.0693736076 l-0.296108275652,2.66497462988 -2.19120129943,3.67174267769 l-0.888324826956,7.58037209511 0.0,2.96108275652 l1.24365478754,0.829103216529 0.592216551304,-0.888324826956 m0.236886627972,-0.118443313986 l0.177664961666,1.77664965391 0.947546511889,0.296108275652 l0.592216551304,-0.414551608264 0.0,-1.00676819682 l-1.89509302378,-0.592216551304 m-10.6006765366,-29.6108293533 l0.0,11.903553009 1.12521149218,1.42131969333 l3.55329930782,1.89509302378 m7.40270733833,-0.888324826956 l2.25042298436,-5.50761401653 m-8.40947508812,-16.6412854195 l-1.18443310261,1.42131969333 -3.37563455105,0.710659846663 l-1.83587133884,1.06598980725 -1.65820643306,1.71742811799 l-1.77664965391,3.31641286612 -0.592216551304,10.8967852592 l2.1319796145,5.56683599949 m1.42131969333,0.710659846663 l-0.592216551304,4.91539746523 0.769881531596,3.02030444145 l-2.30964466929,2.42808789015 -0.532994903624,1.77664965391 l0.414551608264,0.592216551304 2.30964466929,0.592216551304 l1.89509302378,0.0 0.592216551304,-0.473773255944 l1.42131969333,-4.8561757803 0.355329923332,-4.02707278728 l-1.48054137826,-3.84940773249 m-4.61928933859,-1.83587133884 l1.06598980725,3.43485623598 m4.44162428379,0.414551608264 l2.19120129943,0.059221656993 m5.92216551304,-2.07275792956 l1.71742811799,5.74450075626 1.59898474813,8.23181033134 l3.49407762289,0.473773255944 0.532994903624,-0.532994903624 l0.0,-4.8561757803 -3.55329930782,-7.34348535538 l-1.77664965391,-6.15905225277 m-3.07952612638,7.52115011215 l1.30287647247,-0.769881531596 m-2.01353639364,0.355329923332 l0.888324826956,0.355329923332 m4.32318091393,-3.31641286612 l0.947546511889,-2.54653126001 0.829103216529,-4.73773241043 m-10.3637897968,-18.4771573544 l1.53976306319,0.0 2.90186107159,1.12521149218 l3.25719118118,2.36886620522 1.83587133884,3.07952612638 m-19.6615898609,15.1607441902 l0.0,2.25042298436 -1.00676819682,4.97461915016 l0.888324826956,0.532994903624 0.888324826956,-0.532994903624 l1.24365478754,-3.25719118118 m2.01353639364,-17.8257191181 l-1.06598980725,1.48054137826 -0.118443313986,4.61928933859 l0.0,1.95431470871 1.00676819682,0.710659846663 m3.25719118118,-1.83587133884 l-1.18443310261,-0.059221656993 -0.414551608264,0.888324826956 l1.18443310261,0.177664961666 0.414551608264,-0.592216551304 m7.87648022175,0.296108275652 l-0.710659846663,-0.059221656993 0.118443313986,0.710659846663 l0.769881531596,0.0 0.0,-0.532994903624 \" fill=\"none\" stroke=\"black\" stroke-width=\"1\"/></svg>"
      ],
      "text/plain": [
       "<IPython.core.display.SVG object>"
      ]
     },
     "metadata": {},
     "output_type": "display_data"
    },
    {
     "name": "stdout",
     "output_type": "stream",
     "text": [
      "in encode(): seq_len = [121]\n"
     ]
    },
    {
     "data": {
      "image/svg+xml": [
       "<svg baseProfile=\"full\" height=\"118.401014563\" version=\"1.1\" width=\"108.333331374\" xmlns=\"http://www.w3.org/2000/svg\" xmlns:ev=\"http://www.w3.org/2001/xml-events\" xmlns:xlink=\"http://www.w3.org/1999/xlink\"><defs/><rect fill=\"white\" height=\"118.401014563\" width=\"108.333331374\" x=\"0\" y=\"0\"/><path d=\"M44.7208115738,54.7292729095 m0.0,0.0 l0.0,0.0 0.059221656993,4.67851102352 l2.25042298436,2.30964466929 2.54653126001,-1.71742811799 l-1.12521149218,-3.31641286612 0.0,-2.72419631481 m0.0,-24.2216587067 l-1.18443310261,-1.36209815741 -5.74450075626,-1.30287647247 l-4.91539746523,-0.651438236237 -4.50084596872,0.414551608264 l-4.26395922899,2.48730957508 -2.1319796145,3.43485623598 l-0.710659846663,5.32994925976 0.769881531596,2.66497462988 m0.177664961666,0.592216551304 l3.07952612638,2.84263938665 1.77664965391,3.37563455105 l2.1319796145,9.06091332436 2.96108275652,2.42808789015 l6.63282573223,-7.28426396847 2.78341799974,-1.36209815741 l1.06598980725,-2.72419631481 m17.884939909,-18.3587133884 l1.59898474813,-2.54653126001 1.83587133884,-1.18443310261 l7.75803685188,-0.592216551304 3.67174267769,1.83587133884 l2.60575294495,4.8561757803 m0.059221656993,0.592216551304 l1.53976306319,10.0084602833 -1.12521149218,5.2707272768 l-3.37563455105,6.86971247196 -0.236886627972,2.01353639364 l-0.829103216529,-1.59898474813 -13.3840942383,-6.15905225277 m-19.7800338268,6.33671700954 l0.710659846663,-2.66497462988 1.18443310261,-1.24365478754 m0.236886627972,-7.34348535538 l-0.296108275652,4.50084596872 0.651438236237,2.96108275652 l3.84940773249,6.86971247196 m0.177664961666,0.296108275652 l6.98815524578,20.6683588028 m0.0,0.177664961666 l0.118443313986,2.96108275652 -1.95431470871,0.414551608264 l-0.059221656993,1.65820643306 1.42131969333,0.829103216529 l5.09306252003,-0.355329923332 -1.48054137826,-5.74450075626 l0.0,-5.80372214317 m0.059221656993,-0.473773255944 l0.296108275652,-20.431470871 -0.769881531596,-5.03384053707 m-14.2724192142,-17.3519456387 l0.947546511889,-1.30287647247 2.90186107159,-1.18443310261 l11.7258882523,0.296108275652 m-0.473773255944,25.3468680382 l1.53976306319,-2.84263938665 0.947546511889,-6.21827423573 m-3.02030444145,3.73096436262 l-6.15905225277,-0.177664961666 m5.86294412613,7.1658205986 l-0.769881531596,-1.83587133884 -2.54653126001,-0.888324826956 l-4.08629417419,0.0 -0.355329923332,1.06598980725 m8.52791845798,6.86971247196 l-3.02030444145,-2.07275792956 -2.25042298436,0.118443313986 m4.97461915016,5.86294412613 l-2.84263938665,-0.829103216529 m-8.23181033134,-20.7275795937 l0.0,-2.90186107159 -3.07952612638,-0.651438236237 m13.2064294815,2.01353639364 l0.236886627972,-3.43485623598 2.30964466929,-0.296108275652 m-1.18443310261,0.0 l0.0,1.65820643306 -0.947546511889,0.355329923332 m-11.1928927898,1.00676819682 l-0.710659846663,0.0 m-7.28426396847,15.9306252003 l-1.59898474813,8.05414557457 -0.059221656993,19.0101516247 m0.118443313986,-1.71742811799 l1.53976306319,7.75803685188 1.48054137826,3.02030444145 l1.83587133884,1.30287647247 7.87648022175,-1.18443310261 l-1.06598980725,-13.4433162212 1.48054137826,-3.90862941742 m9.12013530731,-5.21150588989 l4.8561757803,6.45516037941 0.532994903624,14.0947544575 m0.118443313986,0.118443313986 l8.88324856758,0.473773255944 1.00676819682,-0.651438236237 l0.0,-8.70558381081 -1.36209815741,-13.5617589951 l-1.18443310261,-7.58037209511 -1.18443310261,-2.42808789015 m-5.50761401653,29.6108293533 l1.53976306319,-0.118443313986 0.0,2.25042298436 l0.651438236237,-2.30964466929 0.651438236237,0.118443313986 l0.118443313986,2.07275792956 2.78341799974,-1.83587133884 l0.236886627972,1.89509302378 m-21.9120121002,1.36209815741 l-0.829103216529,-2.19120129943 -2.19120129943,2.66497462988 l-1.00676819682,-1.48054137826 -0.236886627972,1.71742811799 l-1.53976306319,-0.592216551304 -0.355329923332,0.947546511889 \" fill=\"none\" stroke=\"black\" stroke-width=\"1\"/></svg>"
      ],
      "text/plain": [
       "<IPython.core.display.SVG object>"
      ]
     },
     "metadata": {},
     "output_type": "display_data"
    },
    {
     "name": "stdout",
     "output_type": "stream",
     "text": [
      "in encode(): seq_len = [79]\n"
     ]
    },
    {
     "data": {
      "image/svg+xml": [
       "<svg baseProfile=\"full\" height=\"85.7698800042\" version=\"1.1\" width=\"97.9695427045\" xmlns=\"http://www.w3.org/2000/svg\" xmlns:ev=\"http://www.w3.org/2001/xml-events\" xmlns:xlink=\"http://www.w3.org/1999/xlink\"><defs/><rect fill=\"white\" height=\"85.7698800042\" width=\"97.9695427045\" x=\"0\" y=\"0\"/><path d=\"M25.5922169611,27.54653126 m0.0,0.0 l0.0,0.0 2.90186107159,-2.54653126001 l1.30287647247,3.55329930782 1.06598980725,7.52115011215 l1.48054137826,4.73773241043 1.77664965391,2.72419631481 l2.42808789015,0.710659846663 2.78341799974,-0.355329923332 l1.24365478754,-0.592216551304 3.37563455105,-4.26395922899 l3.37563455105,-5.44839262962 0.829103216529,-0.769881531596 l2.90186107159,-1.36209815741 2.60575294495,-0.118443313986 l3.90862941742,1.48054137826 3.49407762289,0.296108275652 l7.28426396847,-1.18443310261 2.60575294495,0.0 l2.01353639364,0.592216551304 m-8.11336696148,0.059221656993 l3.43485623598,3.73096436262 2.01353639364,4.56006765366 l0.414551608264,3.49407762289 -1.12521149218,3.31641286612 l-1.24365478754,1.42131969333 -7.10659861565,4.32318091393 l-3.25719118118,1.42131969333 -6.92893385887,1.53976306319 m7.22504198551,-18.2994914055 l-2.60575294495,2.78341799974 -2.78341799974,5.98138749599 l-2.01353639364,9.65313017368 m-25.8798646927,-29.6108293533 l1.53976306319,1.53976306319 0.888324826956,2.42808789015 l-0.414551608264,12.5549912453 1.48054137826,3.73096436262 l1.65820643306,1.24365478754 3.55329930782,1.24365478754 l4.91539746523,0.414551608264 1.36209815741,-0.177664961666 l1.59898474813,-0.947546511889 1.18443310261,0.0 l1.42131969333,1.83587133884 m-2.25042298436,-1.24365478754 l-1.83587133884,1.65820643306 0.0,0.592216551304 l1.59898474813,-0.059221656993 2.07275792956,-1.06598980725 m-1.48054137826,-1.24365478754 l0.651438236237,-0.473773255944 m-3.79018604755,1.00676819682 l-2.66497462988,2.78341799974 3.31641286612,-1.36209815741 m3.13874781132,-0.059221656993 l2.72419631481,-0.059221656993 1.95431470871,-3.67174267769 l1.59898474813,-1.00676819682 1.06598980725,0.177664961666 m-0.414551608264,0.0 l-0.947546511889,2.19120129943 -2.36886620522,1.12521149218 m-2.07275792956,1.48054137826 l0.059221656993,1.65820643306 3.25719118118,-0.651438236237 l3.02030444145,0.355329923332 m-0.355329923332,-12.4957692623 l-0.355329923332,1.36209815741 0.888324826956,0.0 l0.414551608264,-0.532994903624 0.0,-0.710659846663 l-0.710659846663,0.0 m-2.01353639364,12.0219957829 l-1.00676819682,3.90862941742 3.13874781132,-1.42131969333 m6.15905225277,-0.296108275652 l1.12521149218,1.48054137826 3.84940773249,2.30964466929 l1.00676819682,2.25042298436 \" fill=\"none\" stroke=\"black\" stroke-width=\"1\"/></svg>"
      ],
      "text/plain": [
       "<IPython.core.display.SVG object>"
      ]
     },
     "metadata": {},
     "output_type": "display_data"
    },
    {
     "name": "stdout",
     "output_type": "stream",
     "text": [
      "in encode(): seq_len = [90]\n"
     ]
    },
    {
     "data": {
      "image/svg+xml": [
       "<svg baseProfile=\"full\" height=\"100.98984438\" version=\"1.1\" width=\"109.991539307\" xmlns=\"http://www.w3.org/2000/svg\" xmlns:ev=\"http://www.w3.org/2001/xml-events\" xmlns:xlink=\"http://www.w3.org/1999/xlink\"><defs/><rect fill=\"white\" height=\"100.98984438\" width=\"109.991539307\" x=\"0\" y=\"0\"/><path d=\"M50.4060908407,27.1911990456 m0.0,0.0 l0.0,0.0 -4.91539746523,2.07275792956 l-6.92893385887,0.059221656993 -4.02707278728,1.48054137826 l-4.91539746523,5.92216551304 -1.59898474813,6.3959389925 m0.0,0.710659846663 l-1.06598980725,11.5482234955 -1.95431470871,10.1861250401 l0.0,6.98815524578 1.06598980725,3.43485623598 l2.01353639364,-0.118443313986 0.0,-8.23181033134 l2.48730957508,-6.3959389925 4.32318091393,-7.87648022175 l2.96108275652,-3.67174267769 6.09983086586,-3.73096436262 m-7.10659861565,5.98138749599 l3.13874781132,0.0 1.24365478754,-0.710659846663 m-3.13874781132,-11.3113367558 l3.02030444145,-1.59898474813 -0.059221656993,2.42808789015 l-2.1319796145,0.296108275652 -0.236886627972,-1.42131969333 l0.769881531596,-0.118443313986 0.592216551304,1.30287647247 m2.72419631481,8.40947508812 l-0.236886627972,1.36209815741 -1.12521149218,0.710659846663 l3.07952612638,-0.947546511889 m3.79018604755,-21.0829091072 l9.53468680382,-3.55329930782 4.50084596872,0.0 m-17.1150588989,7.1658205986 l0.236886627972,-1.18443310261 2.1319796145,-1.36209815741 l5.44839262962,0.0 0.829103216529,7.28426396847 m-6.98815524578,-7.10659861565 l3.79018604755,-2.42808789015 2.96108275652,0.059221656993 l3.02030444145,1.42131969333 0.769881531596,2.84263938665 l-0.651438236237,16.1082911491 -3.31641286612,4.50084596872 l-1.89509302378,0.888324826956 -2.84263938665,-0.414551608264 l-5.09306252003,-3.90862941742 m12.3181045055,-23.0372238159 l8.17258834839,-1.24365478754 10.3637897968,-0.296108275652 l4.32318091393,1.65820643306 4.26395922899,7.52115011215 l1.48054137826,5.03384053707 -0.414551608264,5.98138749599 l-3.25719118118,4.67851102352 m-0.177664961666,0.0 l-0.651438236237,2.54653126001 -0.296108275652,21.260573864 l-2.72419631481,-0.059221656993 -1.00676819682,-5.09306252003 l-2.60575294495,-6.81049048901 -0.059221656993,-5.6260573864 m-1.95431470871,-5.09306252003 l-0.769881531596,23.096446991 3.67174267769,0.710659846663 l0.059221656993,-6.3959389925 m-3.25719118118,-12.9695427418 l-8.05414557457,2.07275792956 -3.02030444145,0.0 l-2.48730957508,-1.36209815741 m1.83587133884,-2.01353639364 l-0.118443313986,18.9509296417 -4.73773241043,1.42131969333 l0.0,-10.6598985195 0.947546511889,-10.245347023 m-14.8646354675,-0.947546511889 l1.24365478754,1.71742811799 3.67174267769,0.947546511889 m0.059221656993,0.0 l0.118443313986,18.5956001282 4.26395922899,1.12521149218 l1.36209815741,-19.8392546177 m0.118443313986,0.532994903624 l1.30287647247,0.0 m29.6108293533,-23.5109972954 l1.30287647247,3.90862941742 1.36209815741,0.888324826956 l-3.13874781132,-4.8561757803 \" fill=\"none\" stroke=\"black\" stroke-width=\"1\"/></svg>"
      ],
      "text/plain": [
       "<IPython.core.display.SVG object>"
      ]
     },
     "metadata": {},
     "output_type": "display_data"
    },
    {
     "name": "stdout",
     "output_type": "stream",
     "text": [
      "in encode(): seq_len = [104]\n"
     ]
    },
    {
     "data": {
      "image/svg+xml": [
       "<svg baseProfile=\"full\" height=\"82.6903556567\" version=\"1.1\" width=\"91.277494859\" xmlns=\"http://www.w3.org/2000/svg\" xmlns:ev=\"http://www.w3.org/2001/xml-events\" xmlns:xlink=\"http://www.w3.org/1999/xlink\"><defs/><rect fill=\"white\" height=\"82.6903556567\" width=\"91.277494859\" x=\"0\" y=\"0\"/><path d=\"M45.609136438,27.1319809929 m0.0,0.0 l0.0,0.0 -0.947546511889,0.414551608264 l-5.50761401653,5.21150588989 -1.53976306319,1.83587133884 l-0.296108275652,1.00676819682 m-0.059221656993,0.059221656993 l-0.532994903624,4.14551585913 -0.947546511889,2.07275792956 m0.0,0.118443313986 l-3.67174267769,3.61252099276 -1.53976306319,0.947546511889 l-2.07275792956,-0.059221656993 -1.30287647247,-1.53976306319 l-2.01353639364,0.0 m0.0,0.059221656993 l-0.177664961666,0.592216551304 0.888324826956,0.829103216529 l-0.532994903624,1.71742811799 1.06598980725,-0.059221656993 m0.059221656993,-0.059221656993 l2.30964466929,0.177664961666 m0.0,0.059221656993 l3.84940773249,0.355329923332 m0.177664961666,0.0 l2.66497462988,-0.888324826956 m0.0,-0.118443313986 l0.947546511889,-0.355329923332 1.18443310261,-1.30287647247 l1.83587133884,-0.769881531596 m0.059221656993,-0.059221656993 l1.59898474813,-1.24365478754 2.19120129943,-1.06598980725 m-0.414551608264,0.236886627972 l1.95431470871,0.059221656993 0.0,0.592216551304 l-1.12521149218,1.00676819682 m-0.059221656993,0.118443313986 l0.710659846663,0.592216551304 1.12521149218,0.0 m0.177664961666,0.0 l2.01353639364,-0.414551608264 m0.0,-0.059221656993 l1.30287647247,-0.532994903624 1.83587133884,0.118443313986 m0.118443313986,0.0 l1.00676819682,-0.296108275652 m0.0,-0.059221656993 l2.07275792956,0.059221656993 m0.118443313986,0.0 l1.77664965391,0.710659846663 m-0.710659846663,-0.651438236237 l0.532994903624,0.769881531596 0.0,1.24365478754 l-0.888324826956,3.79018604755 m0.0,0.177664961666 l-0.829103216529,1.83587133884 -0.059221656993,2.84263938665 m-0.059221656993,0.236886627972 l-0.296108275652,2.19120129943 2.1319796145,0.296108275652 m0.059221656993,0.0 l2.30964466929,0.0 m0.0,-0.059221656993 l1.24365478754,-0.769881531596 0.651438236237,-3.13874781132 m0.0,-0.236886627972 l0.296108275652,-1.89509302378 0.947546511889,-1.89509302378 l0.473773255944,-2.07275792956 m0.0,-0.059221656993 l0.651438236237,3.67174267769 m0.059221656993,0.118443313986 l0.059221656993,1.12521149218 1.00676819682,1.12521149218 l0.296108275652,1.18443310261 m0.0,0.118443313986 l1.18443310261,2.48730957508 0.592216551304,0.0 l0.710659846663,-0.888324826956 m-21.5566825867,-29.6108293533 l3.49407762289,0.059221656993 m-0.118443313986,3.19796949625 l0.710659846663,-0.355329923332 0.592216551304,-1.00676819682 l1.30287647247,-0.355329923332 1.36209815741,1.12521149218 l0.296108275652,0.769881531596 m0.0,0.118443313986 l0.947546511889,1.53976306319 0.414551608264,2.60575294495 m-5.68527877331,-7.40270733833 l1.65820643306,-0.296108275652 1.12521149218,-1.00676819682 l1.71742811799,-0.296108275652 m-0.414551608264,0.532994903624 l2.66497462988,-0.769881531596 m-0.473773255944,0.829103216529 l2.30964466929,-0.769881531596 m-0.177664961666,0.414551608264 l2.96108275652,-0.829103216529 m-0.532994903624,0.355329923332 l3.61252099276,-0.355329923332 m0.059221656993,0.0 l3.49407762289,0.296108275652 \" fill=\"none\" stroke=\"black\" stroke-width=\"1\"/></svg>"
      ],
      "text/plain": [
       "<IPython.core.display.SVG object>"
      ]
     },
     "metadata": {},
     "output_type": "display_data"
    },
    {
     "name": "stdout",
     "output_type": "stream",
     "text": [
      "in encode(): seq_len = [67]\n"
     ]
    },
    {
     "data": {
      "image/svg+xml": [
       "<svg baseProfile=\"full\" height=\"87.1319794841\" version=\"1.1\" width=\"88.3756336942\" xmlns=\"http://www.w3.org/2000/svg\" xmlns:ev=\"http://www.w3.org/2001/xml-events\" xmlns:xlink=\"http://www.w3.org/1999/xlink\"><defs/><rect fill=\"white\" height=\"87.1319794841\" width=\"88.3756336942\" x=\"0\" y=\"0\"/><path d=\"M43.5956003889,33.7648063153 m0.0,0.0 l0.0,0.0 1.06598980725,0.118443313986 l4.38240259886,3.61252099276 3.07952612638,3.73096436262 m0.177664961666,0.118443313986 l3.25719118118,3.90862941742 3.07952612638,5.68527877331 l0.829103216529,4.97461915016 0.651438236237,1.48054137826 m-0.473773255944,-1.59898474813 l0.118443313986,-0.947546511889 1.06598980725,-0.236886627972 l0.592216551304,1.42131969333 1.48054137826,0.829103216529 l0.473773255944,1.06598980725 m0.0,0.177664961666 l-0.592216551304,2.42808789015 -2.25042298436,1.36209815741 l-2.25042298436,0.236886627972 -2.1319796145,-1.95431470871 m0.0,-0.177664961666 l-0.059221656993,-1.18443310261 -1.89509302378,-2.90186107159 l-0.947546511889,-2.78341799974 -1.53976306319,-1.06598980725 m-0.059221656993,-0.118443313986 l-1.59898474813,-0.947546511889 -1.36209815741,-1.48054137826 l-2.1319796145,-0.829103216529 -1.30287647247,-1.30287647247 l-2.96108275652,-0.769881531596 m-0.059221656993,0.0 l-1.06598980725,-0.118443313986 m4.14551585913,1.42131969333 l-2.30964466929,2.84263938665 -1.83587133884,1.18443310261 l-3.07952612638,0.947546511889 -1.53976306319,0.0 m10.1861250401,-16.9373941422 l-2.84263938665,-3.19796949625 -1.65820643306,-3.90862941742 l-3.02030444145,-3.84940773249 m-2.60575294495,8.82402658463 l-1.42131969333,-2.25042298436 -2.60575294495,0.118443313986 m3.13874781132,1.48054137826 l-1.53976306319,0.947546511889 -1.36209815741,-1.36209815741 m3.96785110235,19.9576985836 l-2.78341799974,-0.296108275652 -2.1319796145,-0.710659846663 l-0.651438236237,-0.769881531596 m-0.059221656993,-0.059221656993 l-1.71742811799,0.769881531596 -2.60575294495,2.25042298436 l-0.829103216529,2.36886620522 -1.00676819682,1.06598980725 m3.73096436262,-29.6108293533 l-0.532994903624,-2.48730957508 m18.8917088509,10.8375632763 l-0.414551608264,3.19796949625 -1.59898474813,1.53976306319 m4.26395922899,-1.83587133884 l-0.296108275652,1.36209815741 -1.06598980725,1.12521149218 m3.67174267769,0.0 l-1.24365478754,2.30964466929 \" fill=\"none\" stroke=\"black\" stroke-width=\"1\"/></svg>"
      ],
      "text/plain": [
       "<IPython.core.display.SVG object>"
      ]
     },
     "metadata": {},
     "output_type": "display_data"
    },
    {
     "name": "stdout",
     "output_type": "stream",
     "text": [
      "in encode(): seq_len = [98]\n"
     ]
    },
    {
     "data": {
      "image/svg+xml": [
       "<svg baseProfile=\"full\" height=\"84.9407783151\" version=\"1.1\" width=\"73.9255494252\" xmlns=\"http://www.w3.org/2000/svg\" xmlns:ev=\"http://www.w3.org/2001/xml-events\" xmlns:xlink=\"http://www.w3.org/1999/xlink\"><defs/><rect fill=\"white\" height=\"84.9407783151\" width=\"73.9255494252\" x=\"0\" y=\"0\"/><path d=\"M38.2656509057,26.7766499519 m0.0,0.0 l0.0,0.0 -3.07952612638,0.651438236237 l-1.30287647247,1.65820643306 -0.532994903624,2.1319796145 l-1.30287647247,1.00676819682 -5.80372214317,1.77664965391 l-1.24365478754,1.59898474813 0.0,2.90186107159 l1.83587133884,1.65820643306 2.07275792956,0.0 l2.66497462988,-1.59898474813 0.414551608264,-2.25042298436 l-0.710659846663,-0.710659846663 -1.42131969333,0.0 l-0.947546511889,0.947546511889 1.36209815741,-0.177664961666 l0.118443313986,1.12521149218 -1.18443310261,0.769881531596 l-1.00676819682,0.059221656993 -0.769881531596,-0.532994903624 l-0.177664961666,-1.42131969333 0.414551608264,-0.888324826956 l0.769881531596,-0.532994903624 2.90186107159,-0.296108275652 l2.96108275652,0.769881531596 4.20473754406,-0.296108275652 l1.18443310261,-0.710659846663 0.355329923332,-0.947546511889 m-1.65820643306,1.59898474813 l0.118443313986,2.72419631481 0.414551608264,1.36209815741 l0.0,-4.44162428379 m-2.48730957508,0.296108275652 l-0.829103216529,2.1319796145 0.236886627972,2.19120129943 l0.414551608264,0.296108275652 0.532994903624,-1.06598980725 l1.18443310261,-0.947546511889 m2.42808789015,-3.02030444145 l-1.36209815741,2.1319796145 m-2.84263938665,2.84263938665 l2.07275792956,-1.59898474813 m0.769881531596,-0.473773255944 l1.48054137826,-0.769881531596 2.48730957508,0.0 l1.06598980725,-0.532994903624 2.07275792956,-2.01353639364 l0.118443313986,-1.48054137826 m-10.7783412933,-6.27749562263 l2.48730957508,-1.00676819682 2.72419631481,0.0 l1.77664965391,0.592216551304 1.89509302378,2.25042298436 l2.01353639364,0.236886627972 0.829103216529,0.592216551304 l1.71742811799,3.67174267769 -3.37563455105,-0.296108275652 l-2.19120129943,1.18443310261 -2.90186107159,0.118443313986 l-0.592216551304,-1.48054137826 0.710659846663,-3.25719118118 m-3.43485623598,1.30287647247 l-0.710659846663,0.769881531596 0.710659846663,0.059221656993 l0.118443313986,-0.532994903624 -0.355329923332,-0.414551608264 m-0.888324826956,0.769881531596 l1.06598980725,-0.710659846663 0.651438236237,0.592216551304 l-0.592216551304,0.355329923332 -1.53976306319,-0.118443313986 m0.888324826956,8.23181033134 l-0.473773255944,5.44839262962 1.30287647247,8.70558381081 l-0.177664961666,4.44162428379 0.355329923332,2.01353639364 l4.8561757803,-0.296108275652 -0.710659846663,-6.51438236237 l0.473773255944,-2.01353639364 -0.118443313986,-5.38917064667 m5.6260573864,-13.2656514645 l1.12521149218,2.01353639364 0.177664961666,1.00676819682 l-0.236886627972,5.44839262962 -1.83587133884,4.20473754406 l-1.71742811799,5.44839262962 0.059221656993,3.37563455105 l-1.00676819682,5.09306252003 -1.77664965391,0.355329923332 m-6.3959389925,-13.4433162212 l0.0,4.67851102352 -0.414551608264,4.38240259886 l1.24365478754,0.236886627972 m-1.18443310261,-29.6108293533 l-0.888324826956,1.00676819682 m2.90186107159,-1.65820643306 l-1.95431470871,0.710659846663 -1.00676819682,1.06598980725 \" fill=\"none\" stroke=\"black\" stroke-width=\"1\"/></svg>"
      ],
      "text/plain": [
       "<IPython.core.display.SVG object>"
      ]
     },
     "metadata": {},
     "output_type": "display_data"
    },
    {
     "name": "stdout",
     "output_type": "stream",
     "text": [
      "in encode(): seq_len = [168]\n"
     ]
    },
    {
     "data": {
      "image/svg+xml": [
       "<svg baseProfile=\"full\" height=\"86.3028750289\" version=\"1.1\" width=\"96.7258869391\" xmlns=\"http://www.w3.org/2000/svg\" xmlns:ev=\"http://www.w3.org/2001/xml-events\" xmlns:xlink=\"http://www.w3.org/1999/xlink\"><defs/><rect fill=\"white\" height=\"86.3028750289\" width=\"96.7258869391\" x=\"0\" y=\"0\"/><path d=\"M57.9272401612,30.5076137558 m0.0,0.0 l0.0,0.0 3.25719118118,-0.296108275652 l1.24365478754,0.414551608264 4.02707278728,3.90862941742 l1.48054137826,4.02707278728 -1.30287647247,4.91539746523 m-14.2131972313,-2.60575294495 l1.71742811799,2.1319796145 4.50084596872,1.06598980725 l1.42131969333,1.24365478754 m-5.21150588989,-13.9170897007 l-1.95431470871,2.78341799974 0.0,1.36209815741 l-0.651438236237,1.42131969333 0.414551608264,3.37563455105 m7.9357022047,-10.3045678139 l1.18443310261,-3.31641286612 1.24365478754,-1.24365478754 l3.43485623598,-0.473773255944 2.54653126001,1.59898474813 l0.532994903624,1.00676819682 0.888324826956,5.03384053707 l1.00676819682,2.07275792956 0.296108275652,3.43485623598 l-0.592216551304,0.947546511889 -3.37563455105,-0.118443313986 m-10.1861250401,-8.52791845798 l-0.829103216529,-1.48054137826 -3.07952612638,-1.65820643306 l-3.90862941742,-0.414551608264 -1.30287647247,0.829103216529 l-0.118443313986,7.52115011215 -1.36209815741,2.96108275652 l-0.355329923332,2.07275792956 1.95431470871,1.65820643306 l2.60575294495,0.0 1.42131969333,-1.06598980725 m-4.26395922899,-10.245347023 l-1.00676819682,0.0 -4.8561757803,-2.78341799974 l-4.02707278728,-1.24365478754 -3.96785110235,-0.177664961666 l-1.59898474813,0.355329923332 -2.25042298436,1.24365478754 l-1.18443310261,1.06598980725 -1.12521149218,2.01353639364 l-0.947546511889,4.79695409536 0.118443313986,5.15228390694 l1.18443310261,3.49407762289 1.83587133884,2.66497462988 l1.30287647247,4.67851102352 3.19796949625,3.67174267769 l0.947546511889,2.96108275652 m-5.92216551304,-12.2588825226 l-0.059221656993,3.13874781132 -2.07275792956,6.69204711914 l-0.532994903624,3.19796949625 5.32994925976,0.355329923332 l1.89509302378,-4.50084596872 m1.30287647247,3.25719118118 l0.118443313986,0.355329923332 4.67851102352,-0.059221656993 l0.592216551304,-0.592216551304 -0.473773255944,-7.69881546497 l1.59898474813,-4.8561757803 0.0,-2.25042298436 m-1.65820643306,6.33671700954 l3.02030444145,1.12521149218 2.07275792956,0.296108275652 l3.73096436262,0.0 4.61928933859,-1.42131969333 m5.74450075626,-5.92216551304 l0.0,1.77664965391 1.59898474813,3.02030444145 l2.01353639364,6.81049048901 0.0,2.36886620522 l-1.24365478754,2.19120129943 -1.48054137826,0.0 l-0.947546511889,-1.59898474813 m5.74450075626,-15.9306252003 l1.59898474813,3.61252099276 -1.42131969333,13.0287647247 l-1.48054137826,2.19120129943 -3.84940773249,0.118443313986 l-2.25042298436,-1.42131969333 -1.42131969333,-1.89509302378 l1.30287647247,-0.236886627972 0.829103216529,0.236886627972 l1.18443310261,-1.83587133884 -0.118443313986,2.1319796145 m-6.3959389925,-19.4839251041 l-0.947546511889,-0.947546511889 -0.118443313986,-1.53976306319 l1.24365478754,1.24365478754 0.0,0.888324826956 l-0.532994903624,0.0 0.177664961666,-0.414551608264 m12.3181045055,-1.06598980725 l-0.059221656993,-0.947546511889 0.473773255944,-0.355329923332 l0.473773255944,1.95431470871 -0.592216551304,-0.414551608264 l0.710659846663,0.0 m-14.509305954,3.19796949625 l0.0,-0.532994903624 m9.65313017368,10.6006765366 l-0.236886627972,5.68527877331 0.532994903624,1.77664965391 l-0.059221656993,1.71742811799 m-10.0676810741,-13.5025382042 l1.00676819682,2.90186107159 1.89509302378,2.60575294495 l1.12521149218,2.78341799974 0.236886627972,2.72419631481 m0.414551608264,1.30287647247 l0.0,1.71742811799 0.592216551304,0.592216551304 m-7.10659861565,-10.245347023 l0.236886627972,9.00169193745 5.50761401653,0.177664961666 l0.473773255944,-0.236886627972 m-29.6108293533,-2.42808789015 l1.77664965391,0.888324826956 0.177664961666,1.30287647247 m0.0,-1.36209815741 l1.12521149218,0.473773255944 0.118443313986,0.888324826956 m0.0,-0.710659846663 l1.65820643306,-0.355329923332 0.710659846663,0.473773255944 m-5.38917064667,-27.4788498878 l-0.888324826956,2.01353639364 -0.355329923332,7.99492359161 l-0.473773255944,1.71742811799 m0.651438236237,-6.3959389925 l-0.710659846663,1.18443310261 m0.532994903624,-0.236886627972 l-0.769881531596,1.24365478754 0.769881531596,0.177664961666 l-0.532994903624,0.947546511889 m0.532994903624,0.296108275652 l-0.532994903624,1.00676819682 m0.651438236237,-3.25719118118 l0.414551608264,1.65820643306 m-0.532994903624,0.710659846663 l0.473773255944,1.06598980725 m-0.769881531596,0.296108275652 l0.651438236237,0.769881531596 m8.46869707108,14.0355324745 l1.12521149218,0.592216551304 0.592216551304,1.06598980725 m-0.355329923332,-0.947546511889 l1.30287647247,-0.059221656993 0.592216551304,1.24365478754 m-0.414551608264,-0.947546511889 l1.65820643306,-0.296108275652 0.829103216529,0.947546511889 m9.83079493046,0.0 l1.24365478754,0.0 0.829103216529,1.48054137826 m-0.355329923332,-1.36209815741 l1.53976306319,0.0 0.592216551304,1.42131969333 m-0.177664961666,-0.947546511889 l1.53976306319,-0.355329923332 0.710659846663,0.414551608264 l0.236886627972,0.710659846663 m0.0,0.0 \" fill=\"none\" stroke=\"black\" stroke-width=\"1\"/></svg>"
      ],
      "text/plain": [
       "<IPython.core.display.SVG object>"
      ]
     },
     "metadata": {},
     "output_type": "display_data"
    },
    {
     "name": "stdout",
     "output_type": "stream",
     "text": [
      "in encode(): seq_len = [65]\n"
     ]
    },
    {
     "data": {
      "image/svg+xml": [
       "<svg baseProfile=\"full\" height=\"90.5076118745\" version=\"1.1\" width=\"115.439929888\" xmlns=\"http://www.w3.org/2000/svg\" xmlns:ev=\"http://www.w3.org/2001/xml-events\" xmlns:xlink=\"http://www.w3.org/1999/xlink\"><defs/><rect fill=\"white\" height=\"90.5076118745\" width=\"115.439929888\" x=\"0\" y=\"0\"/><path d=\"M29.6192870848,33.8240267336 m0.0,0.0 l0.0,0.0 9.06091332436,-8.52791845798 l7.52115011215,-0.296108275652 6.27749562263,1.89509302378 l12.4365484715,-1.53976306319 6.3959389925,4.14551585913 m-0.177664961666,-0.296108275652 l-11.4297795296,1.06598980725 -2.84263938665,5.74450075626 l0.0,3.37563455105 10.6006765366,9.06091332436 l1.71742811799,-7.69881546497 m-2.48730957508,-6.57360374928 l2.84263938665,6.86971247196 m1.24365478754,-11.962774992 l6.21827423573,0.947546511889 4.61928933859,9.94923830032 m-12.4957692623,2.07275792956 l4.50084596872,5.38917064667 2.30964466929,-0.296108275652 l4.67851102352,3.49407762289 4.26395922899,0.651438236237 m-11.074450016,-4.20473754406 l3.79018604755,3.84940773249 3.02030444145,1.18443310261 l4.20473754406,-0.592216551304 m-3.49407762289,-12.3773264885 l2.84263938665,10.7783412933 m-0.296108275652,1.53976306319 l0.296108275652,7.69881546497 m-5.03384053707,-7.40270733833 l1.71742811799,12.0219957829 2.96108275652,-0.888324826956 l1.24365478754,-3.55329930782 m-1.53976306319,-11.6666662693 l6.92893385887,4.08629417419 -5.98138749599,0.177664961666 m-12.6734340191,-13.5025382042 l1.83587133884,-0.592216551304 m-19.3654811382,5.38917064667 l1.12521149218,5.09306252003 7.40270733833,11.5482234955 m1.53976306319,-13.5617589951 l1.24365478754,-0.236886627972 0.592216551304,3.19796949625 l0.947546511889,14.2131972313 m-5.68527877331,-4.79695409536 l1.53976306319,6.81049048901 m-20.0169205666,-12.1996617317 l13.5025382042,-2.19120129943 m-12.851099968,1.89509302378 l-0.947546511889,10.245347023 m-3.13874781132,-14.9830794334 l-1.36209815741,4.8561757803 -6.15905225277,5.03384053707 l-1.59898474813,4.38240259886 m-0.947546511889,-29.6108293533 l-4.44162428379,6.63282573223 0.710659846663,24.1624355316 m8.40947508812,-7.28426396847 l3.37563455105,0.947546511889 1.65820643306,5.92216551304 m18.4179353714,-10.4230117798 l1.24365478754,5.92216551304 -1.53976306319,4.97461915016 \" fill=\"none\" stroke=\"black\" stroke-width=\"1\"/></svg>"
      ],
      "text/plain": [
       "<IPython.core.display.SVG object>"
      ]
     },
     "metadata": {},
     "output_type": "display_data"
    },
    {
     "name": "stdout",
     "output_type": "stream",
     "text": [
      "in encode(): seq_len = [168]\n"
     ]
    },
    {
     "data": {
      "image/svg+xml": [
       "<svg baseProfile=\"full\" height=\"84.9999993201\" version=\"1.1\" width=\"95.0676813629\" xmlns=\"http://www.w3.org/2000/svg\" xmlns:ev=\"http://www.w3.org/2001/xml-events\" xmlns:xlink=\"http://www.w3.org/1999/xlink\"><defs/><rect fill=\"white\" height=\"84.9999993201\" width=\"95.0676813629\" x=\"0\" y=\"0\"/><path d=\"M40.989847295,35.6006769557 m0.0,0.0 l0.0,0.0 -1.30287647247,1.53976306319 l-0.355329923332,1.36209815741 -2.48730957508,1.36209815741 l-0.888324826956,3.67174267769 -4.91539746523,0.236886627972 l-2.66497462988,1.36209815741 -2.42808789015,2.90186107159 l-0.947546511889,2.72419631481 0.0,0.888324826956 l0.592216551304,1.12521149218 2.1319796145,2.07275792956 l1.36209815741,0.592216551304 3.13874781132,0.059221656993 l2.36886620522,-1.65820643306 0.355329923332,-3.07952612638 l-2.72419631481,-2.72419631481 -1.53976306319,1.95431470871 l1.30287647247,1.30287647247 0.177664961666,1.00676819682 l-0.888324826956,1.00676819682 -1.12521149218,0.0 l-1.06598980725,-0.651438236237 -0.414551608264,-0.888324826956 l0.769881531596,-2.66497462988 1.77664965391,-1.53976306319 l5.09306252003,0.296108275652 1.53976306319,-0.473773255944 m0.0,-0.059221656993 l1.59898474813,0.0 0.355329923332,-2.25042298436 l0.947546511889,-1.00676819682 0.059221656993,0.532994903624 l-0.532994903624,0.592216551304 0.118443313986,1.95431470871 l-0.296108275652,0.769881531596 -0.888324826956,0.473773255944 l-0.059221656993,1.06598980725 0.829103216529,-0.532994903624 l2.96108275652,0.473773255944 2.90186107159,-0.177664961666 l2.07275792956,-1.71742811799 0.059221656993,-3.79018604755 m-7.10659861565,-8.58714044094 l1.71742811799,-1.12521149218 1.77664965391,-0.177664961666 l3.13874781132,0.236886627972 1.36209815741,0.829103216529 m-3.73096436262,1.18443310261 l1.59898474813,-1.24365478754 1.95431470871,-0.177664961666 l2.90186107159,4.20473754406 -0.296108275652,3.07952612638 l-1.06598980725,2.30964466929 -1.42131969333,0.177664961666 l-0.829103216529,-0.947546511889 m-0.236886627972,-9.71235156059 l1.59898474813,0.059221656993 0.888324826956,-0.532994903624 l4.73773241043,-5.86294412613 2.42808789015,-0.769881531596 l2.25042298436,-1.53976306319 2.25042298436,-0.118443313986 l1.06598980725,0.118443313986 2.90186107159,1.42131969333 l2.60575294495,1.77664965391 1.36209815741,3.55329930782 l0.236886627972,2.42808789015 m-21.9120121002,9.89001691341 l0.710659846663,1.83587133884 2.30964466929,2.60575294495 l0.414551608264,2.60575294495 -1.18443310261,0.888324826956 l-2.90186107159,0.769881531596 -1.30287647247,0.947546511889 l-0.355329923332,3.07952612638 -0.651438236237,1.53976306319 l-0.592216551304,0.473773255944 2.54653126001,0.829103216529 l4.56006765366,-0.059221656993 0.118443313986,-0.592216551304 l-0.769881531596,-1.18443310261 0.296108275652,-1.89509302378 l4.08629417419,-0.710659846663 1.83587133884,-1.48054137826 l2.25042298436,-3.31641286612 -0.651438236237,-2.54653126001 l-1.59898474813,-1.36209815741 -2.66497462988,-4.02707278728 m-9.41624343395,16.2859559059 l0.355329923332,-0.592216551304 0.769881531596,-0.118443313986 l0.177664961666,1.59898474813 m1.59898474813,0.236886627972 l0.473773255944,-1.24365478754 0.592216551304,-0.177664961666 l0.473773255944,1.06598980725 m-2.36886620522,-11.6666662693 l1.24365478754,0.888324826956 2.19120129943,0.0 m-3.96785110235,-0.414551608264 l-1.71742811799,1.95431470871 -3.02030444145,0.651438236237 l-0.769881531596,0.592216551304 -0.414551608264,4.56006765366 l-0.888324826956,1.59898474813 0.118443313986,0.532994903624 l2.60575294495,0.177664961666 1.36209815741,0.0 l1.06598980725,-0.710659846663 m-4.20473754406,0.236886627972 l0.296108275652,-0.829103216529 0.651438236237,-0.059221656993 l0.532994903624,1.24365478754 m0.829103216529,0.118443313986 l0.296108275652,-1.24365478754 0.532994903624,-0.296108275652 l0.710659846663,0.355329923332 m24.9915385246,-23.6294412613 l-0.118443313986,2.96108275652 -2.19120129943,4.08629417419 l-0.947546511889,1.06598980725 -4.26395922899,2.54653126001 l-2.60575294495,0.829103216529 -2.78341799974,0.177664961666 m12.732656002,-8.46869707108 l-0.651438236237,3.73096436262 -2.84263938665,7.81725883484 l-0.059221656993,4.56006765366 -2.72419631481,1.18443310261 l-0.888324826956,0.0 -0.118443313986,-0.355329923332 l0.473773255944,-9.06091332436 0.296108275652,-1.00676819682 m-0.769881531596,10.3045678139 l0.059221656993,-0.710659846663 0.710659846663,-0.769881531596 l0.829103216529,0.888324826956 m0.473773255944,-0.059221656993 l0.414551608264,-1.24365478754 1.06598980725,0.355329923332 m-6.81049048901,-7.34348535538 l-0.296108275652,2.72419631481 m-1.42131969333,5.74450075626 l-0.118443313986,1.12521149218 -2.84263938665,1.42131969333 l-1.24365478754,-0.296108275652 -0.177664961666,-0.829103216529 m17.1742808819,-18.7140440941 l-0.414551608264,5.44839262962 -0.769881531596,2.72419631481 l0.296108275652,3.25719118118 -1.18443310261,2.07275792956 m1.06598980725,-2.01353639364 l-1.48054137826,0.532994903624 -0.296108275652,0.769881531596 m0.947546511889,-0.473773255944 l-0.769881531596,0.769881531596 m1.24365478754,-1.12521149218 l0.0,0.710659846663 -1.24365478754,1.00676819682 m0.0,-1.59898474813 l-0.118443313986,0.947546511889 m0.947546511889,-0.532994903624 l-0.710659846663,0.532994903624 m1.53976306319,-9.83079493046 l-0.592216551304,4.26395922899 0.0,1.83587133884 \" fill=\"none\" stroke=\"black\" stroke-width=\"1\"/></svg>"
      ],
      "text/plain": [
       "<IPython.core.display.SVG object>"
      ]
     },
     "metadata": {},
     "output_type": "display_data"
    },
    {
     "name": "stdout",
     "output_type": "stream",
     "text": [
      "in encode(): seq_len = [151]\n"
     ]
    },
    {
     "data": {
      "image/svg+xml": [
       "<svg baseProfile=\"full\" height=\"82.1573590022\" version=\"1.1\" width=\"89.6785108559\" xmlns=\"http://www.w3.org/2000/svg\" xmlns:ev=\"http://www.w3.org/2001/xml-events\" xmlns:xlink=\"http://www.w3.org/1999/xlink\"><defs/><rect fill=\"white\" height=\"82.1573590022\" width=\"89.6785108559\" x=\"0\" y=\"0\"/><path d=\"M56.6243653838,34.1201350838 m0.0,0.0 l0.0,0.0 1.65820643306,4.08629417419 l0.059221656993,4.20473754406 -0.651438236237,2.54653126001 l-1.12521149218,2.30964466929 -2.96108275652,2.1319796145 l-1.89509302378,0.296108275652 -0.177664961666,1.24365478754 l4.97461915016,0.0 2.54653126001,-1.95431470871 l1.59898474813,-2.19120129943 1.36209815741,-3.31641286612 l0.296108275652,-2.36886620522 0.059221656993,-5.09306252003 l-0.532994903624,-5.68527877331 0.651438236237,-1.48054137826 l0.0,-1.30287647247 -1.12521149218,-1.48054137826 l-1.95431470871,-1.06598980725 -4.67851102352,0.0 l-1.77664965391,0.414551608264 -1.12521149218,0.710659846663 l-0.710659846663,1.42131969333 m3.61252099276,1.53976306319 l1.59898474813,-0.118443313986 0.177664961666,0.947546511889 l-1.06598980725,-0.059221656993 0.059221656993,-0.532994903624 m1.18443310261,6.7512691021 l1.18443310261,1.53976306319 2.30964466929,1.00676819682 l-0.177664961666,0.296108275652 -1.71742811799,-0.118443313986 l-2.48730957508,-2.36886620522 m7.1658205986,-2.25042298436 l1.71742811799,1.71742811799 -1.12521149218,0.0 m0.829103216529,0.0 l-1.42131969333,0.118443313986 m0.888324826956,-1.53976306319 l-1.18443310261,-0.651438236237 m1.36209815741,2.42808789015 l-0.947546511889,-0.414551608264 m-14.0355324745,-7.87648022175 l-0.829103216529,-0.473773255944 -2.66497462988,-0.059221656993 l-0.769881531596,0.651438236237 -0.296108275652,2.36886620522 l1.36209815741,4.79695409536 2.1319796145,1.53976306319 l2.42808789015,0.829103216529 3.07952612638,0.177664961666 l1.12521149218,-0.592216551304 m-2.72419631481,-11.903553009 l-6.09983086586,1.42131969333 m9.83079493046,2.01353639364 l0.710659846663,0.888324826956 m6.92893385887,-0.414551608264 l-0.118443313986,1.30287647247 -0.532994903624,0.296108275652 m-16.9373941422,-4.02707278728 l-4.08629417419,1.30287647247 -3.31641286612,0.059221656993 l-6.63282573223,1.06598980725 -3.31641286612,1.48054137826 l-2.01353639364,2.01353639364 -1.30287647247,3.67174267769 l0.0,4.44162428379 0.829103216529,2.48730957508 m18.3587133884,-4.44162428379 l-0.236886627972,3.73096436262 3.02030444145,4.8561757803 m2.30964466929,-8.52791845798 l2.01353639364,3.73096436262 -0.177664961666,5.09306252003 m-3.79018604755,-0.355329923332 l0.710659846663,2.48730957508 m-0.592216551304,-2.07275792956 l0.651438236237,3.73096436262 0.0,2.60575294495 m3.31641286612,-7.34348535538 l-0.059221656993,2.19120129943 -1.06598980725,5.03384053707 l1.18443310261,0.355329923332 m-3.43485623598,-0.947546511889 l-0.236886627972,2.30964466929 0.769881531596,0.296108275652 l3.07952612638,0.0 0.769881531596,-0.296108275652 l0.355329923332,-1.12521149218 -0.947546511889,-0.414551608264 m3.13874781132,-14.9238574505 l-0.769881531596,2.60575294495 -1.77664965391,1.71742811799 m1.42131969333,-1.12521149218 l0.0,0.532994903624 2.01353639364,3.43485623598 m1.59898474813,-8.70558381081 l-0.414551608264,3.61252099276 0.769881531596,2.48730957508 m2.36886620522,5.15228390694 l0.532994903624,4.14551585913 -0.888324826956,2.1319796145 m-2.60575294495,-3.55329930782 l0.236886627972,2.42808789015 -1.24365478754,0.947546511889 l0.236886627972,0.473773255944 2.01353639364,0.769881531596 l1.77664965391,0.0 0.769881531596,-0.532994903624 l-0.177664961666,-0.947546511889 m-29.6108293533,-8.88324856758 l7.81725883484,0.414551608264 2.72419631481,-0.710659846663 l2.72419631481,-1.59898474813 m-13.3248722553,1.30287647247 l-0.355329923332,3.31641286612 m-5.38917064667,-5.38917064667 l1.48054137826,5.03384053707 0.414551608264,6.33671700954 m3.73096436262,-6.69204711914 l-0.236886627972,6.92893385887 m-3.79018604755,-0.532994903624 l-0.118443313986,1.53976306319 0.355329923332,0.473773255944 l0.888324826956,0.532994903624 1.77664965391,0.236886627972 l2.19120129943,0.0 1.12521149218,-1.00676819682 l0.0,-1.00676819682 -1.83587133884,-0.473773255944 m2.30964466929,-8.23181033134 l3.31641286612,7.46192872524 m-0.296108275652,-7.69881546497 l3.02030444145,5.86294412613 m-3.02030444145,1.48054137826 l0.296108275652,1.24365478754 -0.177664961666,1.59898474813 l0.592216551304,0.236886627972 3.07952612638,0.0 l1.48054137826,-0.769881531596 0.0,-1.83587133884 l-2.01353639364,-0.236886627972 m-0.592216551304,-2.19120129943 l1.30287647247,2.54653126001 m-9.41624343395,-6.3959389925 l0.888324826956,-0.236886627972 0.651438236237,-1.24365478754 m19.1878163815,-17.2335016727 l0.355329923332,2.60575294495 3.55329930782,2.1319796145 \" fill=\"none\" stroke=\"black\" stroke-width=\"1\"/></svg>"
      ],
      "text/plain": [
       "<IPython.core.display.SVG object>"
      ]
     },
     "metadata": {},
     "output_type": "display_data"
    },
    {
     "name": "stdout",
     "output_type": "stream",
     "text": [
      "in encode(): seq_len = [105]\n"
     ]
    },
    {
     "data": {
      "image/svg+xml": [
       "<svg baseProfile=\"full\" height=\"78.2487301715\" version=\"1.1\" width=\"84.8223337624\" xmlns=\"http://www.w3.org/2000/svg\" xmlns:ev=\"http://www.w3.org/2001/xml-events\" xmlns:xlink=\"http://www.w3.org/1999/xlink\"><defs/><rect fill=\"white\" height=\"78.2487301715\" width=\"84.8223337624\" x=\"0\" y=\"0\"/><path d=\"M25,52.4196262844 m0.0,0.0 l0.0,0.0 3.25719118118,-5.03384053707 l2.36886620522,-2.07275792956 1.53976306319,-5.92216551304 l-1.30287647247,0.473773255944 1.06598980725,-1.53976306319 l0.118443313986,-1.48054137826 1.12521149218,-2.42808789015 l-0.947546511889,-4.26395922899 1.06598980725,-2.36886620522 l0.829103216529,-0.947546511889 2.72419631481,-1.18443310261 l1.24365478754,-0.118443313986 1.71742811799,0.532994903624 m-0.769881531596,-0.355329923332 l0.710659846663,-0.710659846663 2.07275792956,0.296108275652 l1.42131969333,-0.296108275652 0.710659846663,0.710659846663 l5.09306252003,-0.177664961666 3.25719118118,1.83587133884 l2.96108275652,2.30964466929 1.77664965391,4.26395922899 l0.0,3.43485623598 -1.53976306319,4.79695409536 l-0.236886627972,3.61252099276 m-29.6108293533,7.46192872524 l1.36209815741,-1.24365478754 2.25042298436,-3.67174267769 l2.60575294495,-1.77664965391 1.71742811799,-1.77664965391 l0.532994903624,-1.30287647247 0.473773255944,-3.49407762289 m0.059221656993,-1.12521149218 l-0.236886627972,0.829103216529 0.473773255944,0.118443313986 l2.07275792956,-3.37563455105 m-2.48730957508,2.60575294495 l1.53976306319,-2.78341799974 1.24365478754,-0.532994903624 m-0.414551608264,0.710659846663 l0.118443313986,-0.473773255944 m0.118443313986,-0.296108275652 l0.829103216529,0.888324826956 1.00676819682,0.118443313986 m-0.473773255944,-0.059221656993 l1.77664965391,3.90862941742 0.414551608264,3.13874781132 l0.947546511889,1.95431470871 m-4.14551585913,-14.5685279369 l0.829103216529,-0.651438236237 0.355329923332,0.0 l0.0,0.414551608264 -1.24365478754,0.414551608264 m0.651438236237,-0.888324826956 l0.118443313986,0.414551608264 m2.1319796145,-4.91539746523 l3.19796949625,-0.296108275652 1.24365478754,0.710659846663 l2.84263938665,2.78341799974 0.651438236237,2.42808789015 l-1.65820643306,2.42808789015 -2.60575294495,2.01353639364 l-3.13874781132,0.829103216529 -1.00676819682,-0.118443313986 l-0.355329923332,-0.651438236237 m3.90862941742,3.96785110235 l-0.769881531596,0.829103216529 -0.414551608264,1.59898474813 l0.059221656993,2.1319796145 -0.769881531596,2.07275792956 l0.059221656993,2.54653126001 -0.473773255944,1.42131969333 m3.84940773249,-0.355329923332 l-0.473773255944,-0.473773255944 -0.118443313986,-1.00676819682 l1.65820643306,-8.17258834839 m-0.296108275652,2.66497462988 l1.89509302378,0.473773255944 2.25042298436,0.0 m-0.118443313986,0.0 l1.12521149218,0.236886627972 m2.01353639364,-15.8121824265 l2.72419631481,1.42131969333 1.89509302378,2.1319796145 l0.651438236237,1.71742811799 0.710659846663,4.61928933859 l0.059221656993,3.19796949625 -1.77664965391,9.00169193745 m-6.45516037941,-6.45516037941 l1.18443310261,2.54653126001 -0.059221656993,3.79018604755 l0.532994903624,1.06598980725 m1.71742811799,-6.69204711914 l0.0,4.20473754406 m1.00676819682,-3.55329930782 l0.355329923332,1.12521149218 0.118443313986,4.08629417419 m-1.77664965391,-1.65820643306 l0.414551608264,1.53976306319 m4.73773241043,-11.3113367558 l0.947546511889,1.95431470871 -0.651438236237,0.355329923332 l0.296108275652,-0.118443313986 -0.710659846663,-1.42131969333 \" fill=\"none\" stroke=\"black\" stroke-width=\"1\"/></svg>"
      ],
      "text/plain": [
       "<IPython.core.display.SVG object>"
      ]
     },
     "metadata": {},
     "output_type": "display_data"
    },
    {
     "name": "stdout",
     "output_type": "stream",
     "text": [
      "in encode(): seq_len = [103]\n"
     ]
    },
    {
     "data": {
      "image/svg+xml": [
       "<svg baseProfile=\"full\" height=\"92.758036498\" version=\"1.1\" width=\"92.8172565252\" xmlns=\"http://www.w3.org/2000/svg\" xmlns:ev=\"http://www.w3.org/2001/xml-events\" xmlns:xlink=\"http://www.w3.org/1999/xlink\"><defs/><rect fill=\"white\" height=\"92.758036498\" width=\"92.8172565252\" x=\"0\" y=\"0\"/><path d=\"M37.2588823643,29.7377338354 m0.0,0.0 l0.0,0.0 -2.07275792956,-1.95431470871 l-1.89509302378,-0.118443313986 -5.56683599949,7.22504198551 l-1.95431470871,9.41624343395 0.769881531596,5.80372214317 m10.1861250401,-11.7258882523 l-3.55329930782,6.69204711914 -7.22504198551,7.46192872524 l-0.355329923332,5.6260573864 4.8561757803,0.947546511889 l0.355329923332,-3.55329930782 8.70558381081,-6.45516037941 l1.77664965391,-2.72419631481 m-3.55329930782,-14.7461926937 l-4.02707278728,-1.36209815741 -0.651438236237,1.18443310261 l0.769881531596,2.72419631481 -0.710659846663,3.79018604755 l1.00676819682,1.59898474813 2.36886620522,0.177664961666 m-3.73096436262,-2.1319796145 l-3.84940773249,1.30287647247 4.91539746523,0.059221656993 m-3.07952612638,0.355329923332 l-2.54653126001,4.38240259886 0.0,4.26395922899 l1.12521149218,0.532994903624 m-2.30964466929,1.18443310261 l1.00676819682,0.355329923332 m5.09306252003,-22.6226735115 l4.50084596872,-2.19120129943 3.84940773249,0.829103216529 m0.177664961666,0.118443313986 l11.2521147728,-1.18443310261 5.98138749599,2.60575294495 l6.69204711914,7.1658205986 1.77664965391,4.91539746523 l0.177664961666,4.26395922899 m-27.1827411652,0.118443313986 l1.18443310261,3.37563455105 4.14551585913,4.32318091393 l6.33671700954,1.65820643306 2.54653126001,1.59898474813 l2.48730957508,8.35025370121 -1.53976306319,3.19796949625 l2.72419631481,1.18443310261 3.84940773249,-0.769881531596 l0.059221656993,-6.33671700954 3.13874781132,-8.11336696148 l0.592216551304,-5.74450075626 m1.36209815741,-3.25719118118 l0.0,12.2588825226 -1.95431470871,6.57360374928 l0.592216551304,-11.7258882523 m1.36209815741,-6.86971247196 l0.592216551304,13.0287647247 -0.651438236237,9.23857867718 l-2.90186107159,0.710659846663 -1.59898474813,-1.77664965391 m-23.8071060181,-15.8121824265 l0.0,6.92893385887 -1.53976306319,3.96785110235 l2.36886620522,1.65820643306 4.67851102352,0.177664961666 l0.651438236237,-0.710659846663 0.769881531596,-10.1269030571 m-20.7868003845,6.45516037941 l1.48054137826,-1.48054137826 1.06598980725,2.60575294495 m0.769881531596,-0.118443313986 l0.414551608264,-1.36209815741 1.42131969333,0.651438236237 m8.70558381081,2.48730957508 l1.00676819682,-2.19120129943 0.947546511889,2.07275792956 m0.947546511889,0.888324826956 l1.00676819682,-2.19120129943 1.53976306319,0.0 l0.414551608264,1.12521149218 m-11.8443310261,-29.6108293533 l0.592216551304,-1.42131969333 2.48730957508,-1.36209815741 l1.83587133884,1.48054137826 -0.769881531596,2.07275792956 m-5.80372214317,0.769881531596 l-0.947546511889,1.00676819682 1.12521149218,-0.414551608264 m-0.473773255944,-0.355329923332 l-0.177664961666,0.710659846663 m0.592216551304,-0.473773255944 l-0.177664961666,-0.059221656993 m-2.78341799974,15.4568529129 l1.06598980725,0.532994903624 m26.1167502403,17.6480531693 l0.473773255944,-1.18443310261 0.473773255944,1.83587133884 m0.355329923332,0.710659846663 l0.829103216529,-1.77664965391 0.296108275652,1.00676819682 m4.20473754406,-2.25042298436 l0.769881531596,-0.236886627972 0.0,1.77664965391 \" fill=\"none\" stroke=\"black\" stroke-width=\"1\"/></svg>"
      ],
      "text/plain": [
       "<IPython.core.display.SVG object>"
      ]
     },
     "metadata": {},
     "output_type": "display_data"
    },
    {
     "name": "stdout",
     "output_type": "stream",
     "text": [
      "in encode(): seq_len = [101]\n"
     ]
    },
    {
     "data": {
      "image/svg+xml": [
       "<svg baseProfile=\"full\" height=\"80.7952622604\" version=\"1.1\" width=\"80.0253793783\" xmlns=\"http://www.w3.org/2000/svg\" xmlns:ev=\"http://www.w3.org/2001/xml-events\" xmlns:xlink=\"http://www.w3.org/1999/xlink\"><defs/><rect fill=\"white\" height=\"80.7952622604\" width=\"80.0253793783\" x=\"0\" y=\"0\"/><path d=\"M28.3164128382,37.4365483783 m0.0,0.0 l0.0,0.0 0.0,0.769881531596 l-2.66497462988,4.61928933859 -0.592216551304,3.25719118118 l-0.059221656993,3.43485623598 0.414551608264,1.65820643306 l1.12521149218,1.83587133884 2.30964466929,1.77664965391 l2.96108275652,0.947546511889 3.84940773249,0.059221656993 l2.1319796145,-0.947546511889 1.24365478754,-1.48054137826 l0.355329923332,-2.30964466929 -0.888324826956,-1.89509302378 l-0.059221656993,-1.95431470871 0.888324826956,-1.83587133884 l-0.118443313986,-1.00676819682 -1.36209815741,-0.059221656993 l-0.947546511889,1.06598980725 0.059221656993,5.92216551304 l-1.00676819682,1.12521149218 -1.77664965391,0.710659846663 l-1.77664965391,0.0 -1.12521149218,-1.00676819682 l-0.651438236237,-1.59898474813 0.059221656993,-2.96108275652 l1.83587133884,-3.61252099276 2.54653126001,-1.12521149218 l0.947546511889,-0.829103216529 1.18443310261,-1.83587133884 l0.651438236237,-2.30964466929 -0.651438236237,2.96108275652 l-0.651438236237,1.24365478754 m-4.79695409536,0.177664961666 l0.651438236237,0.177664961666 -0.118443313986,0.769881531596 l-1.95431470871,0.473773255944 0.710659846663,-0.236886627972 l0.592216551304,-1.00676819682 m-3.31641286612,-5.21150588989 l0.710659846663,-2.66497462988 m-0.651438236237,3.02030444145 l0.296108275652,-2.01353639364 1.30287647247,-2.66497462988 l1.65820643306,-1.95431470871 1.53976306319,-2.60575294495 l1.65820643306,-1.59898474813 3.02030444145,-1.12521149218 l2.78341799974,0.0 1.65820643306,0.888324826956 m-8.17258834839,7.40270733833 l1.77664965391,-0.177664961666 0.710659846663,0.296108275652 m-1.95431470871,0.177664961666 l0.592216551304,0.651438236237 0.769881531596,0.0 l0.829103216529,-0.769881531596 m-1.59898474813,-0.473773255944 l0.0,0.829103216529 0.651438236237,0.236886627972 m5.38917064667,-9.00169193745 l3.13874781132,0.177664961666 3.79018604755,-0.829103216529 l3.19796949625,0.0 2.1319796145,0.592216551304 l0.888324826956,0.651438236237 m-10.4822337627,5.6260573864 l-1.24365478754,2.01353639364 -0.473773255944,2.54653126001 l-0.059221656993,3.25719118118 1.30287647247,4.20473754406 l0.592216551304,0.651438236237 0.769881531596,-0.059221656993 l3.96785110235,-3.84940773249 1.89509302378,-1.00676819682 l2.07275792956,-1.71742811799 0.592216551304,-1.42131969333 l0.414551608264,-3.19796949625 m-14.0355324745,10.0084602833 l2.84263938665,-1.48054137826 m-6.15905225277,0.296108275652 l-0.829103216529,1.42131969333 0.059221656993,0.296108275652 l0.651438236237,0.0 m3.55329930782,-0.592216551304 l-2.60575294495,0.592216551304 m9.59390819073,-0.592216551304 l0.059221656993,0.769881531596 -0.947546511889,1.59898474813 l2.60575294495,-0.177664961666 m-0.947546511889,-2.25042298436 l2.01353639364,1.06598980725 1.36209815741,1.95431470871 m-2.66497462988,-1.53976306319 l0.888324826956,1.12521149218 2.48730957508,5.50761401653 l1.00676819682,4.32318091393 m1.59898474813,-29.6108293533 l0.710659846663,2.25042298436 0.0,3.84940773249 l-0.888324826956,2.48730957508 \" fill=\"none\" stroke=\"black\" stroke-width=\"1\"/></svg>"
      ],
      "text/plain": [
       "<IPython.core.display.SVG object>"
      ]
     },
     "metadata": {},
     "output_type": "display_data"
    },
    {
     "name": "stdout",
     "output_type": "stream",
     "text": [
      "in encode(): seq_len = [121]\n"
     ]
    },
    {
     "data": {
      "image/svg+xml": [
       "<svg baseProfile=\"full\" height=\"71.9712345488\" version=\"1.1\" width=\"83.756345138\" xmlns=\"http://www.w3.org/2000/svg\" xmlns:ev=\"http://www.w3.org/2001/xml-events\" xmlns:xlink=\"http://www.w3.org/1999/xlink\"><defs/><rect fill=\"white\" height=\"71.9712345488\" width=\"83.756345138\" x=\"0\" y=\"0\"/><path d=\"M49.6954310685,26.3028771151 m0.0,0.0 l0.0,0.0 1.42131969333,-0.414551608264 l2.66497462988,0.355329923332 0.769881531596,1.59898474813 l1.42131969333,0.888324826956 0.710659846663,1.65820643306 l0.829103216529,8.35025370121 -0.414551608264,4.14551585913 l-1.06598980725,1.30287647247 -2.1319796145,0.177664961666 l-0.532994903624,-0.414551608264 -0.236886627972,-0.888324826956 l0.829103216529,0.0 0.355329923332,-0.947546511889 l1.00676819682,0.177664961666 0.414551608264,-0.592216551304 l0.059221656993,-6.51438236237 -0.532994903624,-1.53976306319 m-0.710659846663,-0.947546511889 l1.36209815741,4.61928933859 -0.296108275652,4.97461915016 m-2.1319796145,-10.7783412933 l4.44162428379,1.89509302378 -2.72419631481,0.059221656993 l-2.07275792956,-1.24365478754 m0.651438236237,-0.888324826956 l-0.710659846663,0.947546511889 1.36209815741,1.36209815741 l-1.42131969333,0.0 -1.36209815741,0.829103216529 m-2.01353639364,-8.58714044094 l-3.67174267769,-0.059221656993 -1.42131969333,1.42131969333 l-0.296108275652,1.24365478754 1.48054137826,0.888324826956 l1.95431470871,3.61252099276 1.95431470871,1.42131969333 l1.00676819682,0.118443313986 -0.710659846663,-1.89509302378 l0.355329923332,-0.118443313986 m1.53976306319,1.59898474813 l-3.07952612638,4.08629417419 0.0,4.56006765366 l1.12521149218,2.96108275652 m0.059221656993,-0.059221656993 l-1.71742811799,0.592216551304 -2.54653126001,0.0 l-1.12521149218,-9.41624343395 m0.710659846663,-10.8967852592 l-3.73096436262,-0.947546511889 -10.245347023,0.059221656993 l-2.78341799974,1.89509302378 -1.77664965391,4.02707278728 l0.0,4.8561757803 1.59898474813,6.33671700954 l-0.177664961666,4.02707278728 0.651438236237,0.710659846663 l4.14551585913,0.059221656993 -0.710659846663,-8.52791845798 l0.947546511889,-1.30287647247 3.13874781132,1.71742811799 l4.08629417419,0.532994903624 2.07275792956,-0.532994903624 l2.19120129943,-1.71742811799 m-10.9560060501,0.651438236237 l-0.177664961666,5.03384053707 0.888324826956,1.77664965391 l0.0,1.12521149218 -1.53976306319,0.414551608264 m16.4636206627,-9.00169193745 l0.0,5.38917064667 1.06598980725,2.36886620522 l-0.651438236237,0.118443313986 m-1.65820643306,0.710659846663 l-0.177664961666,-0.532994903624 0.473773255944,-0.473773255944 l1.30287647247,0.651438236237 m-3.49407762289,0.118443313986 l0.651438236237,-0.296108275652 0.414551608264,0.710659846663 m-17.884939909,0.532994903624 l1.30287647247,-0.947546511889 0.592216551304,1.24365478754 m0.296108275652,-0.829103216529 l0.829103216529,0.118443313986 m0.296108275652,-0.888324826956 l0.532994903624,-0.414551608264 0.177664961666,0.710659846663 m0.296108275652,0.0 l-0.177664961666,-1.00676819682 0.769881531596,0.355329923332 m17.5296103954,-17.2927236557 l0.947546511889,0.0 0.473773255944,0.947546511889 m-0.710659846663,-0.888324826956 l0.236886627972,0.947546511889 m0.769881531596,2.54653126001 l2.19120129943,1.06598980725 3.02030444145,0.177664961666 l-3.67174267769,0.532994903624 -1.65820643306,-0.710659846663 m-0.296108275652,-1.06598980725 l-0.355329923332,0.829103216529 0.769881531596,0.414551608264 m-0.059221656993,0.0 l0.177664961666,0.651438236237 m2.78341799974,-1.59898474813 l0.0,0.829103216529 m0.059221656993,0.769881531596 l0.177664961666,0.829103216529 m-0.296108275652,-2.66497462988 l1.65820643306,0.414551608264 -1.24365478754,0.296108275652 m-29.6108293533,-4.14551585913 l-1.59898474813,2.66497462988 -0.592216551304,2.25042298436 l0.0,8.82402658463 0.710659846663,0.651438236237 l0.414551608264,-0.592216551304 -0.532994903624,-4.79695409536 l0.414551608264,-6.33671700954 \" fill=\"none\" stroke=\"black\" stroke-width=\"1\"/></svg>"
      ],
      "text/plain": [
       "<IPython.core.display.SVG object>"
      ]
     },
     "metadata": {},
     "output_type": "display_data"
    },
    {
     "name": "stdout",
     "output_type": "stream",
     "text": [
      "in encode(): seq_len = [102]\n"
     ]
    },
    {
     "data": {
      "image/svg+xml": [
       "<svg baseProfile=\"full\" height=\"83.0456856266\" version=\"1.1\" width=\"82.335024327\" xmlns=\"http://www.w3.org/2000/svg\" xmlns:ev=\"http://www.w3.org/2001/xml-events\" xmlns:xlink=\"http://www.w3.org/1999/xlink\"><defs/><rect fill=\"white\" height=\"83.0456856266\" width=\"82.335024327\" x=\"0\" y=\"0\"/><path d=\"M40.6937390659,27.9018607736 m0.0,0.0 l0.0,0.0 -1.71742811799,0.236886627972 l-1.30287647247,1.06598980725 -0.769881531596,1.24365478754 l-0.059221656993,2.25042298436 1.18443310261,2.48730957508 l0.059221656993,2.19120129943 2.48730957508,3.13874781132 l0.651438236237,2.54653126001 0.059221656993,4.97461915016 l-0.769881531596,6.21827423573 0.473773255944,2.30964466929 l1.06598980725,0.414551608264 m-1.06598980725,-29.6108293533 l0.829103216529,-0.296108275652 2.19120129943,0.118443313986 l1.89509302378,0.947546511889 1.24365478754,1.89509302378 l0.296108275652,5.98138749599 -2.42808789015,4.50084596872 m0.0,0.059221656993 l-1.06598980725,3.43485623598 -0.651438236237,9.83079493046 l0.651438236237,2.01353639364 0.296108275652,0.0 l0.0,-0.651438236237 -0.651438236237,-0.888324826956 l0.414551608264,-0.296108275652 0.177664961666,0.414551608264 m-2.1319796145,2.25042298436 l1.18443310261,0.0 0.769881531596,-0.769881531596 m0.118443313986,-1.71742811799 l-0.236886627972,1.36209815741 m-6.0406088829,-20.7275795937 l0.177664961666,1.24365478754 -0.355329923332,-0.769881531596 m9.59390819073,-1.06598980725 l0.0,0.473773255944 m-9.83079493046,-6.57360374928 l-1.53976306319,-1.18443310261 -2.30964466929,-0.710659846663 l-6.57360374928,-0.177664961666 -2.01353639364,0.769881531596 l1.59898474813,1.12521149218 1.18443310261,1.53976306319 l1.24365478754,4.44162428379 1.00676819682,1.95431470871 l4.20473754406,4.02707278728 2.42808789015,0.888324826956 m9.83079493046,-12.5549912453 l2.1319796145,-1.71742811799 3.96785110235,-1.48054137826 l4.73773241043,-0.059221656993 -2.54653126001,1.89509302378 l-0.769881531596,2.54653126001 -0.473773255944,4.67851102352 l-1.53976306319,2.30964466929 -0.532994903624,1.89509302378 l-1.00676819682,0.592216551304 m-13.680202961,1.95431470871 l-0.236886627972,5.21150588989 -1.30287647247,6.09983086586 l0.296108275652,5.56683599949 2.78341799974,0.118443313986 l1.42131969333,-0.710659846663 0.118443313986,-1.24365478754 l-0.473773255944,-1.18443310261 0.0,-1.77664965391 l1.00676819682,-3.07952612638 m9.65313017368,-10.5414545536 l-0.473773255944,1.24365478754 0.0,6.15905225277 l0.829103216529,6.45516037941 m-5.68527877331,-8.64636182785 l0.414551608264,4.56006765366 2.19120129943,5.38917064667 l1.95431470871,1.00676819682 1.71742811799,-0.651438236237 l0.592216551304,-0.829103216529 0.0,-0.651438236237 l-1.42131969333,-1.42131969333 m-5.6260573864,-6.27749562263 l-0.829103216529,-2.07275792956 m6.27749562263,9.41624343395 l0.532994903624,0.651438236237 0.355329923332,-0.651438236237 m-0.118443313986,0.296108275652 l-0.118443313986,0.888324826956 0.769881531596,0.0 m-15.279186964,3.79018604755 l0.0,-0.414551608264 0.829103216529,-0.118443313986 l0.710659846663,0.592216551304 m0.414551608264,-0.177664961666 l0.355329923332,-1.00676819682 0.592216551304,-0.118443313986 l0.355329923332,0.355329923332 m13.2656514645,-21.260573864 l-0.059221656993,6.69204711914 -1.00676819682,1.89509302378 l-1.83587133884,1.42131969333 \" fill=\"none\" stroke=\"black\" stroke-width=\"1\"/></svg>"
      ],
      "text/plain": [
       "<IPython.core.display.SVG object>"
      ]
     },
     "metadata": {},
     "output_type": "display_data"
    },
    {
     "name": "stdout",
     "output_type": "stream",
     "text": [
      "in encode(): seq_len = [123]\n"
     ]
    },
    {
     "data": {
      "image/svg+xml": [
       "<svg baseProfile=\"full\" height=\"83.2233493961\" version=\"1.1\" width=\"93.6463626567\" xmlns=\"http://www.w3.org/2000/svg\" xmlns:ev=\"http://www.w3.org/2001/xml-events\" xmlns:xlink=\"http://www.w3.org/1999/xlink\"><defs/><rect fill=\"white\" height=\"83.2233493961\" width=\"93.6463626567\" x=\"0\" y=\"0\"/><path d=\"M43.2402717508,35.0676818565 m0.0,0.0 l0.0,0.0 0.0,1.00676819682 l-0.651438236237,1.12521149218 -2.96108275652,1.36209815741 l2.07275792956,0.236886627972 1.24365478754,-0.473773255944 l0.769881531596,-0.710659846663 0.592216551304,-1.65820643306 m-7.58037209511,-1.00676819682 l-1.59898474813,1.71742811799 0.059221656993,1.95431470871 l-0.769881531596,-0.414551608264 -0.355329923332,-1.00676819682 l0.0,-0.947546511889 0.769881531596,-1.42131969333 m-0.355329923332,3.79018604755 l-1.12521149218,3.61252099276 -0.059221656993,6.86971247196 l-1.95431470871,2.84263938665 -1.36209815741,0.829103216529 l-1.12521149218,0.059221656993 0.473773255944,0.710659846663 l0.414551608264,2.72419631481 4.50084596872,-3.79018604755 l3.61252099276,-9.29780006409 2.42808789015,-2.78341799974 l1.77664965391,-1.30287647247 m-13.7394249439,13.5025382042 l0.0,2.30964466929 0.769881531596,1.36209815741 l0.651438236237,0.0 m14.6277487278,-29.6108293533 l4.32318091393,0.0 3.07952612638,0.947546511889 l1.30287647247,3.67174267769 0.0,3.79018604755 l-0.769881531596,3.90862941742 -2.48730957508,2.60575294495 l-3.25719118118,-2.25042298436 -0.829103216529,-2.54653126001 l-1.48054137826,-1.53976306319 m-8.46869707108,-9.06091332436 l-3.25719118118,-0.296108275652 -4.38240259886,0.947546511889 l-2.07275792956,1.00676819682 -0.888324826956,2.1319796145 l-0.177664961666,4.02707278728 1.59898474813,5.38917064667 l1.77664965391,0.059221656993 5.21150588989,-3.31641286612 m2.36886620522,-9.89001691341 l1.12521149218,-1.06598980725 2.78341799974,-0.177664961666 l3.13874781132,0.888324826956 1.83587133884,1.30287647247 l0.355329923332,0.769881531596 0.177664961666,4.8561757803 l-0.829103216529,2.01353639364 m-8.94246995449,-9.00169193745 l-2.19120129943,2.90186107159 -0.236886627972,3.25719118118 l1.06598980725,1.89509302378 0.0,1.18443310261 l-0.829103216529,0.829103216529 m1.48054137826,-1.59898474813 l1.12521149218,-0.236886627972 0.473773255944,0.236886627972 m6.51438236237,0.414551608264 l0.829103216529,-0.236886627972 0.592216551304,0.829103216529 m-8.23181033134,-4.79695409536 l-0.532994903624,0.177664961666 -0.118443313986,0.888324826956 l1.71742811799,0.532994903624 0.355329923332,-0.651438236237 l-1.53976306319,-0.888324826956 m6.0406088829,0.0 l-0.473773255944,0.829103216529 -1.24365478754,0.592216551304 l1.48054137826,0.177664961666 0.710659846663,-1.24365478754 l-0.532994903624,-0.473773255944 m11.4297795296,2.01353639364 l8.70558381081,0.118443313986 3.37563455105,2.1319796145 l1.00676819682,1.53976306319 0.414551608264,3.96785110235 l-0.769881531596,6.0406088829 -3.61252099276,9.29780006409 l-0.592216551304,2.66497462988 -3.37563455105,-0.118443313986 l3.19796949625,-12.791877985 -1.24365478754,2.48730957508 l-1.12521149218,4.56006765366 -2.19120129943,5.38917064667 l-2.48730957508,-0.118443313986 2.01353639364,-8.52791845798 l0.532994903624,-3.90862941742 m-13.9763104916,-1.65820643306 l-7.63959348202,12.0219957829 -0.177664961666,0.651438236237 l2.90186107159,0.355329923332 6.27749562263,-9.17935669422 l2.07275792956,-4.08629417419 m-7.75803685188,-1.95431470871 l1.06598980725,6.63282573223 m1.24365478754,4.02707278728 l0.947546511889,4.26395922899 2.01353639364,-0.177664961666 l0.177664961666,-5.6260573864 -0.414551608264,-2.07275792956 m2.01353639364,-3.55329930782 l3.84940773249,0.947546511889 5.44839262962,0.059221656993 l1.59898474813,-0.296108275652 m9.41624343395,-10.1861250401 l1.06598980725,1.77664965391 1.00676819682,3.84940773249 l0.059221656993,4.02707278728 -0.473773255944,1.36209815741 l0.236886627972,0.177664961666 0.355329923332,-0.414551608264 l-0.177664961666,-1.12521149218 \" fill=\"none\" stroke=\"black\" stroke-width=\"1\"/></svg>"
      ],
      "text/plain": [
       "<IPython.core.display.SVG object>"
      ]
     },
     "metadata": {},
     "output_type": "display_data"
    },
    {
     "name": "stdout",
     "output_type": "stream",
     "text": [
      "in encode(): seq_len = [168]\n"
     ]
    },
    {
     "data": {
      "image/svg+xml": [
       "<svg baseProfile=\"full\" height=\"77.1827400569\" version=\"1.1\" width=\"89.500844311\" xmlns=\"http://www.w3.org/2000/svg\" xmlns:ev=\"http://www.w3.org/2001/xml-events\" xmlns:xlink=\"http://www.w3.org/1999/xlink\"><defs/><rect fill=\"white\" height=\"77.1827400569\" width=\"89.500844311\" x=\"0\" y=\"0\"/><path d=\"M33.6463620793,28.0795260705 m0.0,0.0 l0.0,0.0 -0.888324826956,0.947546511889 l-0.532994903624,2.36886620522 -0.947546511889,1.24365478754 l-0.236886627972,1.30287647247 -0.651438236237,11.2521147728 l0.888324826956,2.19120129943 1.95431470871,0.947546511889 l1.83587133884,0.0 0.414551608264,-0.296108275652 l0.414551608264,-1.00676819682 -0.355329923332,-1.77664965391 m-1.89509302378,-6.81049048901 l-0.888324826956,1.89509302378 -0.236886627972,5.03384053707 l0.355329923332,0.888324826956 1.00676819682,0.710659846663 l0.414551608264,-0.296108275652 -0.059221656993,-1.30287647247 l1.06598980725,0.177664961666 0.177664961666,-0.236886627972 m-1.42131969333,-10.7783412933 l2.42808789015,0.0 0.769881531596,-0.473773255944 l0.236886627972,-0.769881531596 m-1.30287647247,1.42131969333 l-1.30287647247,1.06598980725 -3.37563455105,1.48054137826 l-4.97461915016,0.118443313986 m7.46192872524,-3.07952612638 l-1.89509302378,1.24365478754 -3.31641286612,0.947546511889 l-3.79018604755,0.059221656993 0.118443313986,0.532994903624 l2.1319796145,0.177664961666 m3.61252099276,-2.48730957508 l-1.77664965391,0.414551608264 -3.67174267769,0.0 l1.12521149218,0.473773255944 3.61252099276,0.059221656993 m-0.532994903624,1.42131969333 l2.1319796145,-0.236886627972 m-0.947546511889,0.177664961666 l-0.118443313986,0.888324826956 m2.96108275652,-10.3045678139 l4.91539746523,-2.66497462988 1.18443310261,0.0 l3.13874781132,1.18443310261 m0.059221656993,-0.059221656993 l2.36886620522,0.177664961666 3.67174267769,-0.532994903624 l3.43485623598,0.651438236237 3.13874781132,-0.769881531596 l2.30964466929,0.355329923332 2.1319796145,1.00676819682 l1.53976306319,1.53976306319 0.947546511889,2.19120129943 l0.059221656993,3.55329930782 m-29.6108293533,3.67174267769 l0.769881531596,-2.19120129943 m1.06598980725,-0.473773255944 l-0.355329923332,1.00676819682 0.118443313986,0.532994903624 l1.00676819682,-0.829103216529 2.66497462988,0.177664961666 m0.0,-0.177664961666 l1.12521149218,-0.710659846663 m0.177664961666,-5.44839262962 l-0.532994903624,1.48054137826 0.059221656993,3.43485623598 l0.651438236237,2.19120129943 0.651438236237,0.888324826956 l0.414551608264,-0.296108275652 0.236886627972,-1.06598980725 l0.651438236237,-0.296108275652 1.30287647247,-1.71742811799 l0.355329923332,-2.54653126001 1.18443310261,-0.532994903624 l1.00676819682,-1.59898474813 0.0,-1.59898474813 l-1.00676819682,-1.12521149218 -2.19120129943,-0.651438236237 l-2.72419631481,0.0 m-0.177664961666,11.133671999 l0.0,1.71742811799 -0.710659846663,2.42808789015 l-0.118443313986,4.26395922899 -1.53976306319,5.2707272768 m3.49407762289,-13.4433162212 l0.651438236237,1.42131969333 1.71742811799,1.06598980725 m-0.236886627972,-1.36209815741 l1.36209815741,2.78341799974 0.592216551304,2.66497462988 l-0.296108275652,5.03384053707 -0.829103216529,0.947546511889 l-0.414551608264,1.18443310261 0.532994903624,0.651438236237 l3.43485623598,0.0 0.947546511889,-0.710659846663 l-0.177664961666,-13.8578677177 m-4.73773241043,2.96108275652 l-0.592216551304,2.30964466929 -0.651438236237,1.12521149218 l-0.355329923332,2.1319796145 -0.296108275652,3.73096436262 l0.651438236237,1.36209815741 -1.59898474813,0.414551608264 l-2.01353639364,0.0 -1.30287647247,-0.177664961666 l-0.236886627972,-0.473773255944 0.355329923332,-0.473773255944 m11.074450016,-9.53468680382 l0.473773255944,0.355329923332 3.02030444145,0.118443313986 l4.02707278728,-1.36209815741 3.02030444145,-0.059221656993 l1.12521149218,0.947546511889 0.651438236237,1.53976306319 l0.059221656993,4.26395922899 -0.947546511889,3.37563455105 l2.90186107159,0.296108275652 1.30287647247,-0.177664961666 l0.532994903624,-0.414551608264 0.236886627972,-0.888324826956 l-0.592216551304,-1.00676819682 -0.059221656993,-2.60575294495 l0.0,-11.8443310261 -1.65820643306,-3.73096436262 l-2.54653126001,-2.90186107159 m0.769881531596,0.473773255944 l0.947546511889,0.592216551304 1.30287647247,1.77664965391 l0.947546511889,2.96108275652 m0.118443313986,2.01353639364 l0.651438236237,6.57360374928 0.0,2.66497462988 l-0.355329923332,0.769881531596 0.355329923332,1.65820643306 l-0.532994903624,0.710659846663 m-8.58714044094,-7.04737722874 l-0.177664961666,4.02707278728 -1.65820643306,2.30964466929 l-0.888324826956,2.01353639364 0.651438236237,1.00676819682 l0.532994903624,0.118443313986 2.42808789015,0.0 l0.592216551304,-0.355329923332 -0.118443313986,-1.48054137826 l0.888324826956,-1.42131969333 1.48054137826,-5.74450075626 m0.355329923332,9.59390819073 l0.710659846663,-0.592216551304 0.473773255944,0.296108275652 l0.059221656993,0.651438236237 m0.651438236237,-0.177664961666 l0.532994903624,-0.710659846663 0.532994903624,0.059221656993 l0.236886627972,0.532994903624 m-10.1269030571,-1.24365478754 l0.355329923332,-0.473773255944 0.592216551304,-0.059221656993 l0.473773255944,1.06598980725 m0.532994903624,0.118443313986 l0.710659846663,-0.888324826956 0.355329923332,0.0 l0.236886627972,0.532994903624 m-12.9103207588,2.25042298436 \" fill=\"none\" stroke=\"black\" stroke-width=\"1\"/></svg>"
      ],
      "text/plain": [
       "<IPython.core.display.SVG object>"
      ]
     },
     "metadata": {},
     "output_type": "display_data"
    },
    {
     "name": "stdout",
     "output_type": "stream",
     "text": [
      "in encode(): seq_len = [116]\n"
     ]
    },
    {
     "data": {
      "image/svg+xml": [
       "<svg baseProfile=\"full\" height=\"71.912013581\" version=\"1.1\" width=\"84.3485613447\" xmlns=\"http://www.w3.org/2000/svg\" xmlns:ev=\"http://www.w3.org/2001/xml-events\" xmlns:xlink=\"http://www.w3.org/1999/xlink\"><defs/><rect fill=\"white\" height=\"71.912013581\" width=\"84.3485613447\" x=\"0\" y=\"0\"/><path d=\"M27.6649751049,28.7309644371 m0.0,0.0 l0.0,0.0 1.83587133884,-1.95431470871 l1.53976306319,-0.829103216529 5.38917064667,-0.947546511889 l4.56006765366,0.414551608264 4.8561757803,1.48054137826 l2.54653126001,0.0 1.36209815741,-0.592216551304 l1.83587133884,-0.059221656993 2.90186107159,0.888324826956 l1.00676819682,0.769881531596 2.54653126001,3.96785110235 l1.30287647247,12.4365484715 -0.177664961666,1.89509302378 l-0.769881531596,0.710659846663 0.177664961666,-1.71742811799 l-0.947546511889,-1.48054137826 -1.71742811799,-5.80372214317 l-0.414551608264,-5.09306252003 m3.55329930782,13.2656514645 l-1.36209815741,0.0 0.592216551304,-0.355329923332 l-0.059221656993,-2.72419631481 -2.78341799974,-8.29103171825 m0.177664961666,0.236886627972 l-1.30287647247,0.414551608264 -3.90862941742,-1.77664965391 l-0.118443313986,1.18443310261 -0.888324826956,0.0 l-1.48054137826,-0.296108275652 -0.769881531596,-0.710659846663 l-0.177664961666,-1.30287647247 -1.36209815741,-1.77664965391 l0.296108275652,-1.24365478754 2.30964466929,-2.25042298436 l1.77664965391,0.0 0.769881531596,0.888324826956 m-0.947546511889,6.7512691021 l-0.177664961666,0.888324826956 -0.947546511889,0.888324826956 l0.0,1.12521149218 0.177664961666,1.95431470871 l1.42131969333,1.65820643306 -0.236886627972,1.53976306319 l-1.00676819682,1.18443310261 -4.08629417419,1.53976306319 l-1.00676819682,-0.829103216529 -0.355329923332,-1.24365478754 l0.592216551304,-0.829103216529 0.829103216529,0.473773255944 l1.48054137826,-0.355329923332 0.0,-1.12521149218 l-0.651438236237,-1.83587133884 -1.83587133884,-1.12521149218 l-0.236886627972,-3.84940773249 0.355329923332,-0.769881531596 m0.296108275652,4.97461915016 l0.473773255944,4.02707278728 m0.118443313986,2.66497462988 l0.236886627972,1.00676819682 3.13874781132,-0.236886627972 l0.177664961666,-0.296108275652 -1.18443310261,-1.48054137826 m-19.8984766006,-15.7529604435 l-0.473773255944,1.71742811799 -0.118443313986,3.19796949625 l-1.12521149218,1.89509302378 -0.118443313986,2.25042298436 l-0.651438236237,1.30287647247 0.888324826956,-0.118443313986 l0.118443313986,-2.07275792956 1.48054137826,-2.36886620522 l0.829103216529,-4.97461915016 1.36209815741,7.10659861565 l1.65820643306,2.07275792956 2.60575294495,2.25042298436 l0.947546511889,4.32318091393 1.06598980725,1.00676819682 l3.13874781132,-0.059221656993 m-3.84940773249,-0.473773255944 l1.59898474813,0.296108275652 2.25042298436,-0.947546511889 l-1.53976306319,-1.36209815741 -1.77664965391,-4.67851102352 l1.12521149218,0.473773255944 2.54653126001,0.0 l4.02707278728,-1.71742811799 m-14.8054146767,-4.91539746523 l-0.414551608264,3.67174267769 -0.769881531596,1.48054137826 l0.473773255944,5.09306252003 -1.18443310261,2.78341799974 l0.651438236237,0.177664961666 m-0.059221656993,-1.77664965391 l-0.296108275652,1.12521149218 0.592216551304,0.592216551304 l2.72419631481,0.236886627972 0.769881531596,-0.296108275652 l-0.829103216529,-1.18443310261 0.059221656993,-4.02707278728 l2.36886620522,-0.888324826956 m20.6091356277,-8.46869707108 l1.24365478754,-0.236886627972 0.651438236237,0.473773255944 m-1.83587133884,-0.177664961666 l-0.473773255944,0.177664961666 1.36209815741,0.473773255944 l1.12521149218,-0.414551608264 m-1.48054137826,-0.296108275652 l0.947546511889,0.236886627972 m-0.710659846663,-0.059221656993 l-0.473773255944,0.296108275652 m0.947546511889,-0.118443313986 l0.118443313986,0.414551608264 m-29.6108293533,5.44839262962 l0.473773255944,0.118443313986 \" fill=\"none\" stroke=\"black\" stroke-width=\"1\"/></svg>"
      ],
      "text/plain": [
       "<IPython.core.display.SVG object>"
      ]
     },
     "metadata": {},
     "output_type": "display_data"
    },
    {
     "name": "stdout",
     "output_type": "stream",
     "text": [
      "in encode(): seq_len = [103]\n"
     ]
    },
    {
     "data": {
      "image/svg+xml": [
       "<svg baseProfile=\"full\" height=\"90.9813866951\" version=\"1.1\" width=\"93.5871403851\" xmlns=\"http://www.w3.org/2000/svg\" xmlns:ev=\"http://www.w3.org/2001/xml-events\" xmlns:xlink=\"http://www.w3.org/1999/xlink\"><defs/><rect fill=\"white\" height=\"90.9813866951\" width=\"93.5871403851\" x=\"0\" y=\"0\"/><path d=\"M32.7580384724,29.3231808208 m0.0,0.0 l0.0,0.0 2.66497462988,0.0 l8.70558381081,-4.14551585913 5.80372214317,-0.177664961666 l2.72419631481,1.42131969333 2.36886620522,3.37563455105 l5.15228390694,4.08629417419 2.01353639364,3.13874781132 l0.473773255944,2.78341799974 -0.236886627972,12.5549912453 l0.532994903624,6.92893385887 -0.829103216529,3.43485623598 l-1.18443310261,1.71742811799 -1.83587133884,1.42131969333 l-4.02707278728,0.118443313986 -2.60575294495,-1.12521149218 l-2.25042298436,-2.25042298436 -2.84263938665,-6.69204711914 l-0.118443313986,-5.92216551304 1.48054137826,-3.31641286612 l4.08629417419,-0.888324826956 0.532994903624,0.829103216529 l-0.414551608264,8.70558381081 0.651438236237,3.02030444145 l0.947546511889,1.00676819682 3.25719118118,0.177664961666 l1.65820643306,-1.59898474813 0.177664961666,-1.36209815741 l-0.414551608264,0.769881531596 m-2.72419631481,2.01353639364 l1.06598980725,-2.1319796145 -0.532994903624,-12.3773264885 m-6.27749562263,-5.68527877331 l11.6074442863,3.84940773249 6.21827423573,0.118443313986 m-18.4179353714,-1.24365478754 l3.90862941742,1.48054137826 6.33671700954,1.00676819682 l5.92216551304,0.0 2.19120129943,-0.947546511889 m-7.9357022047,-1.06598980725 l3.90862941742,0.947546511889 m-3.07952612638,1.36209815741 l3.43485623598,0.0 m-2.01353639364,-3.31641286612 l0.414551608264,1.53976306319 m-0.532994903624,-1.00676819682 l2.1319796145,0.651438236237 3.19796949625,-0.236886627972 l-0.296108275652,0.829103216529 m-18.4771573544,-11.7258882523 l1.06598980725,0.0 1.59898474813,2.1319796145 m-1.77664965391,-1.53976306319 l0.296108275652,1.06598980725 0.829103216529,0.296108275652 m0.473773255944,0.236886627972 l0.0,0.947546511889 m-2.19120129943,-0.947546511889 l-0.118443313986,-0.710659846663 1.48054137826,1.30287647247 m-9.41624343395,-4.97461915016 l-3.31641286612,-1.48054137826 -5.56683599949,1.24365478754 l-7.63959348202,6.15905225277 0.0,1.83587133884 l2.90186107159,2.36886620522 8.82402658463,9.89001691341 l2.30964466929,0.532994903624 4.32318091393,-0.177664961666 l1.42131969333,-1.36209815741 -0.592216551304,-3.79018604755 l0.829103216529,0.414551608264 0.710659846663,2.30964466929 m8.11336696148,-3.84940773249 l2.48730957508,1.59898474813 -1.77664965391,1.48054137826 l-0.592216551304,1.42131969333 m-2.90186107159,-9.06091332436 l-2.01353639364,0.651438236237 -0.296108275652,1.36209815741 l0.651438236237,0.947546511889 m1.12521149218,-2.36886620522 l-0.414551608264,2.42808789015 m4.02707278728,5.6260573864 l-0.947546511889,2.66497462988 m4.14551585913,7.04737722874 l-0.414551608264,1.36209815741 -1.95431470871,0.236886627972 m-14.450083971,-29.6108293533 l0.592216551304,0.651438236237 m14.1539764404,29.3147206306 l-0.177664961666,2.60575294495 m1.18443310261,-2.78341799974 l0.414551608264,2.1319796145 m0.0,-2.36886620522 l2.19120129943,0.829103216529 m-4.8561757803,-0.829103216529 l-1.59898474813,1.06598980725 m0.473773255944,-11.133671999 l-1.65820643306,0.059221656993 m-1.36209815741,-6.7512691021 l5.6260573864,2.25042298436 \" fill=\"none\" stroke=\"black\" stroke-width=\"1\"/></svg>"
      ],
      "text/plain": [
       "<IPython.core.display.SVG object>"
      ]
     },
     "metadata": {},
     "output_type": "display_data"
    },
    {
     "name": "stdout",
     "output_type": "stream",
     "text": [
      "in encode(): seq_len = [118]\n"
     ]
    },
    {
     "data": {
      "image/svg+xml": [
       "<svg baseProfile=\"full\" height=\"100.279187672\" version=\"1.1\" width=\"127.698812317\" xmlns=\"http://www.w3.org/2000/svg\" xmlns:ev=\"http://www.w3.org/2001/xml-events\" xmlns:xlink=\"http://www.w3.org/1999/xlink\"><defs/><rect fill=\"white\" height=\"100.279187672\" width=\"127.698812317\" x=\"0\" y=\"0\"/><path d=\"M69.475462893,29.7377329133 m0.0,0.0 l0.0,0.0 -0.296108275652,-2.96108275652 l-1.00676819682,-1.00676819682 -7.40270733833,-0.592216551304 l-4.50084596872,2.90186107159 -2.19120129943,2.60575294495 m-0.118443313986,0.177664961666 l0.0,9.12013530731 0.947546511889,4.26395922899 l9.53468680382,3.61252099276 4.26395922899,0.710659846663 l1.12521149218,-1.12521149218 0.0,-2.96108275652 m-1.06598980725,-19.1285955906 l3.67174267769,-0.355329923332 5.68527877331,1.53976306319 l2.48730957508,1.53976306319 0.473773255944,2.19120129943 m0.059221656993,0.236886627972 l1.59898474813,3.25719118118 0.532994903624,14.1539764404 m-10.0676810741,-3.31641286612 l1.65820643306,0.651438236237 1.36209815741,3.13874781132 l5.09306252003,1.53976306319 7.9357022047,0.118443313986 l1.77664965391,-0.769881531596 1.83587133884,-2.84263938665 l1.53976306319,-0.473773255944 -0.118443313986,1.89509302378 l-2.84263938665,3.07952612638 -2.66497462988,1.00676819682 l-7.9357022047,0.0 -6.57360374928,-1.48054137826 l-0.710659846663,-5.38917064667 m9.29780006409,0.236886627972 l7.99492359161,1.89509302378 m-7.40270733833,-0.177664961666 l2.36886620522,1.30287647247 3.43485623598,0.355329923332 m5.15228390694,-0.355329923332 l3.84940773249,-1.48054137826 1.71742811799,-2.36886620522 l2.72419631481,-1.30287647247 -0.355329923332,2.36886620522 l-3.43485623598,3.19796949625 -4.26395922899,0.888324826956 m-11.2521147728,2.54653126001 l0.888324826956,3.96785110235 -0.177664961666,5.98138749599 l-1.06598980725,4.73773241043 -2.90186107159,3.73096436262 m-0.059221656993,0.296108275652 l-3.49407762289,1.71742811799 -0.473773255944,2.66497462988 l-1.48054137826,0.0 -0.236886627972,-2.84263938665 l-1.83587133884,-1.89509302378 0.118443313986,-1.30287647247 l2.48730957508,0.0 2.48730957508,-1.42131969333 l0.888324826956,-2.25042298436 0.0,-3.96785110235 m0.0,-0.296108275652 l-0.236886627972,-4.02707278728 -3.07952612638,-7.28426396847 m-4.61928933859,-2.78341799974 l2.01353639364,0.236886627972 m2.01353639364,-9.59390819073 l0.532994903624,1.30287647247 m-0.710659846663,-1.30287647247 l-0.355329923332,-1.06598980725 -1.36209815741,0.118443313986 l-0.059221656993,1.83587133884 1.30287647247,0.0 m-20.1353621483,-9.12013530731 l-3.43485623598,0.592216551304 -6.92893385887,3.73096436262 l-5.98138749599,0.414551608264 -5.74450075626,1.71742811799 m-0.177664961666,0.236886627972 l-3.96785110235,4.50084596872 -1.00676819682,4.79695409536 l0.0,5.38917064667 m0.0,0.296108275652 l1.95431470871,7.28426396847 1.89509302378,2.19120129943 l4.50084596872,10.3045678139 m0.0,0.296108275652 l1.12521149218,3.61252099276 7.81725883484,-0.532994903624 l-0.355329923332,-6.81049048901 -1.53976306319,-4.44162428379 m-0.296108275652,-0.177664961666 l4.44162428379,-1.48054137826 5.98138749599,-0.177664961666 l5.44839262962,-2.19120129943 m0.592216551304,0.532994903624 l0.414551608264,8.58714044094 1.42131969333,4.50084596872 l5.03384053707,0.059221656993 m0.651438236237,0.0 l1.95431470871,-14.6869707108 0.947546511889,2.60575294495 l0.177664961666,10.7191193104 m3.13874781132,-23.4517765045 l0.710659846663,17.8257191181 m-2.96108275652,5.2707272768 l1.77664965391,0.532994903624 m-25.6429767609,-8.94246995449 l1.83587133884,8.88324856758 -0.532994903624,1.83587133884 l-2.60575294495,0.177664961666 m-17.8257191181,-29.6108293533 l-1.65820643306,17.2335016727 0.710659846663,2.42808789015 l1.48054137826,-2.78341799974 -1.30287647247,-3.43485623598 \" fill=\"none\" stroke=\"black\" stroke-width=\"1\"/></svg>"
      ],
      "text/plain": [
       "<IPython.core.display.SVG object>"
      ]
     },
     "metadata": {},
     "output_type": "display_data"
    },
    {
     "name": "stdout",
     "output_type": "stream",
     "text": [
      "in encode(): seq_len = [112]\n"
     ]
    },
    {
     "data": {
      "image/svg+xml": [
       "<svg baseProfile=\"full\" height=\"139.898472233\" version=\"1.1\" width=\"170.989845721\" xmlns=\"http://www.w3.org/2000/svg\" xmlns:ev=\"http://www.w3.org/2001/xml-events\" xmlns:xlink=\"http://www.w3.org/1999/xlink\"><defs/><rect fill=\"white\" height=\"139.898472233\" width=\"170.989845721\" x=\"0\" y=\"0\"/><path d=\"M109.094753899,39.390858924 m0.0,0.0 l0.0,0.0 -7.9357022047,3.96785110235 l-25.5245351791,8.11336696148 -18.2994914055,1.53976306319 m-0.236886627972,0.0 l-10.0084602833,1.06598980725 -6.63282573223,2.01353639364 l-6.51438236237,5.68527877331 -1.95431470871,3.02030444145 m0.0,0.947546511889 l-4.79695409536,10.4230117798 -2.19120129943,15.9898471832 l0.355329923332,2.25042298436 1.42131969333,-3.13874781132 l-0.592216551304,-3.13874781132 m29.6108293533,-10.0676810741 l0.0,9.65313017368 m0.0,0.414551608264 l-0.118443313986,7.34348535538 -10.245347023,13.9170897007 l-1.12521149218,5.21150588989 m0.0,0.296108275652 l-12.6734340191,-0.118443313986 7.9357022047,-14.1539764404 m0.296108275652,-0.296108275652 l-5.44839262962,-28.2487297058 m20.3130292892,24.754652977 l0.947546511889,17.7664971352 m0.177664961666,0.059221656993 l11.903553009,-0.710659846663 -0.177664961666,-1.77664965391 l-2.07275792956,-2.01353639364 0.0,-8.70558381081 l1.36209815741,-5.44839262962 m-7.46192872524,-4.97461915016 l8.11336696148,3.84940773249 16.7005074024,1.06598980725 m0.355329923332,0.0 l3.43485623598,-0.355329923332 4.97461915016,-2.48730957508 l9.71235156059,-0.177664961666 m0.059221656993,-8.94246995449 l1.12521149218,13.9170897007 -5.56683599949,12.3181045055 m0.0,0.355329923332 l5.68527877331,0.651438236237 8.82402658463,-3.25719118118 l2.36886620522,-26.4720797539 m-0.473773255944,10.8967852592 l8.64636182785,19.1285955906 11.7851102352,-5.32994925976 l-1.18443310261,-2.72419631481 -3.37563455105,-2.72419631481 l-3.90862941742,-5.56683599949 -1.30287647247,-4.79695409536 l-0.236886627972,-8.29103171825 m-10.3637897968,3.07952612638 l6.3959389925,-8.35025370121 2.25042298436,-8.52791845798 l0.0,-6.86971247196 m-11.7851102352,-21.4382386208 l-1.12521149218,-5.03384053707 -4.26395922899,-4.08629417419 l-4.08629417419,0.947546511889 -2.42808789015,2.78341799974 l-3.79018604755,12.3773264885 -0.532994903624,10.0084602833 l2.36886620522,0.888324826956 5.15228390694,-1.95431470871 l1.24365478754,-1.59898474813 m3.84940773249,-22.6818943024 l3.43485623598,-1.59898474813 7.46192872524,0.0 l10.1269030571,5.44839262962 m0.296108275652,0.118443313986 l4.32318091393,10.3637897968 m-6.21827423573,10.6006765366 l4.61928933859,2.84263938665 4.91539746523,0.592216551304 l6.69204711914,-3.25719118118 2.30964466929,-3.37563455105 l-4.38240259886,1.71742811799 -10.0676810741,0.0 l-3.49407762289,-1.59898474813 -0.473773255944,1.48054137826 m5.74450075626,-8.58714044094 l6.15905225277,7.28426396847 m3.19796949625,5.38917064667 l1.83587133884,4.73773241043 0.0,11.7258882523 l-4.8561757803,-1.71742811799 0.651438236237,-5.32994925976 l-3.25719118118,-6.09983086586 m-22.6226735115,-4.8561757803 l1.00676819682,3.25719118118 2.96108275652,0.710659846663 l11.962774992,-0.532994903624 m-3.02030444145,-13.0879867077 l-1.89509302378,-4.44162428379 -2.1319796145,0.0 m-0.177664961666,0.236886627972 l0.355329923332,3.02030444145 1.24365478754,0.0 l0.947546511889,-1.83587133884 m-15.0423002243,-8.64636182785 l-3.13874781132,-11.074450016 -4.32318091393,-0.118443313986 l-5.09306252003,4.44162428379 -4.44162428379,7.34348535538 l-1.24365478754,6.7512691021 0.0,5.6260573864 l2.54653126001,8.88324856758 \" fill=\"none\" stroke=\"black\" stroke-width=\"1\"/></svg>"
      ],
      "text/plain": [
       "<IPython.core.display.SVG object>"
      ]
     },
     "metadata": {},
     "output_type": "display_data"
    },
    {
     "name": "stdout",
     "output_type": "stream",
     "text": [
      "in encode(): seq_len = [140]\n"
     ]
    },
    {
     "data": {
      "image/svg+xml": [
       "<svg baseProfile=\"full\" height=\"85.9475466609\" version=\"1.1\" width=\"91.6328238882\" xmlns=\"http://www.w3.org/2000/svg\" xmlns:ev=\"http://www.w3.org/2001/xml-events\" xmlns:xlink=\"http://www.w3.org/1999/xlink\"><defs/><rect fill=\"white\" height=\"85.9475466609\" width=\"91.6328238882\" x=\"0\" y=\"0\"/><path d=\"M27.0727580041,33.587141484 m0.0,0.0 l0.0,0.0 1.65820643306,-2.42808789015 l1.89509302378,-1.89509302378 2.66497462988,-1.18443310261 l5.03384053707,-0.532994903624 4.14551585913,1.06598980725 m-15.5160737038,4.97461915016 l-1.24365478754,2.72419631481 -0.236886627972,4.38240259886 l1.18443310261,6.33671700954 1.65820643306,4.08629417419 l0.296108275652,2.19120129943 m4.91539746523,-5.21150588989 l-2.01353639364,3.55329930782 -0.059221656993,6.3959389925 m-2.90186107159,-4.79695409536 l-0.118443313986,6.09983086586 m3.19796949625,-1.30287647247 l0.414551608264,1.53976306319 m1.12521149218,-11.2521147728 l4.44162428379,1.42131969333 2.60575294495,0.355329923332 l2.90186107159,0.0 3.55329930782,-0.829103216529 m-14.0355324745,0.118443313986 l1.30287647247,0.414551608264 1.71742811799,-0.118443313986 l1.89509302378,3.96785110235 1.30287647247,5.68527877331 m2.42808789015,-8.88324856758 l-0.059221656993,6.09983086586 2.1319796145,3.02030444145 l-0.829103216529,0.532994903624 -0.947546511889,-0.473773255944 l-0.414551608264,0.236886627972 m-12.9695427418,-0.296108275652 l0.118443313986,1.00676819682 1.00676819682,0.355329923332 l2.36886620522,-0.355329923332 0.177664961666,-0.710659846663 m-6.86971247196,-18.4179353714 l0.059221656993,15.0423002243 m0.532994903624,-11.8443310261 l0.236886627972,9.00169193745 -0.236886627972,3.31641286612 l-0.473773255944,0.0 -0.059221656993,-0.592216551304 m23.3333325386,-29.6108293533 l-2.48730957508,0.947546511889 -2.01353639364,1.36209815741 l-2.07275792956,2.42808789015 0.0,0.414551608264 l1.30287647247,3.02030444145 1.77664965391,-0.414551608264 l-0.651438236237,1.83587133884 0.355329923332,0.947546511889 l2.25042298436,1.30287647247 3.55329930782,3.02030444145 l1.95431470871,0.829103216529 m1.06598980725,-10.8375632763 l1.00676819682,9.77157354355 -0.355329923332,1.36209815741 l-1.30287647247,0.0 -0.592216551304,-0.651438236237 m-7.1658205986,-0.651438236237 l0.059221656993,2.36886620522 0.947546511889,3.43485623598 l2.01353639364,3.31641286612 0.473773255944,3.02030444145 l0.059221656993,4.61928933859 m-9.83079493046,0.414551608264 l-0.059221656993,1.06598980725 0.710659846663,0.414551608264 l0.829103216529,0.0 0.769881531596,-0.710659846663 m12.2588825226,-15.4568529129 l-1.06598980725,8.82402658463 0.059221656993,1.95431470871 l-0.532994903624,2.1319796145 0.118443313986,2.60575294495 m-3.25719118118,-1.30287647247 l0.177664961666,1.30287647247 2.72419631481,0.0 m4.44162428379,-19.602367878 l-0.947546511889,7.10659861565 -2.42808789015,4.38240259886 m2.66497462988,-15.5160737038 l0.355329923332,3.55329930782 0.888324826956,1.71742811799 l0.651438236237,2.54653126001 0.592216551304,0.532994903624 l0.947546511889,0.059221656993 m0.118443313986,0.059221656993 l0.888324826956,1.59898474813 1.77664965391,1.83587133884 m-3.90862941742,-3.49407762289 l1.18443310261,1.95431470871 1.53976306319,1.24365478754 l1.06598980725,0.236886627972 m-19.8984766006,-20.1945853233 l2.25042298436,0.118443313986 m4.50084596872,-1.83587133884 l2.42808789015,-0.296108275652 3.67174267769,0.414551608264 m-1.18443310261,-0.236886627972 l3.67174267769,-0.651438236237 1.95431470871,0.710659846663 m0.296108275652,0.0 l2.36886620522,0.355329923332 1.59898474813,0.592216551304 l0.532994903624,0.592216551304 1.06598980725,3.07952612638 l0.473773255944,3.43485623598 -0.414551608264,1.48054137826 m-0.059221656993,-0.296108275652 l-0.059221656993,9.06091332436 m-0.059221656993,-0.118443313986 l-0.532994903624,5.2707272768 -1.42131969333,5.86294412613 m-3.02030444145,-7.81725883484 l0.296108275652,1.42131969333 0.0,5.38917064667 l-0.414551608264,1.89509302378 -1.12521149218,1.95431470871 m0.710659846663,-1.71742811799 l-1.59898474813,0.473773255944 -0.236886627972,2.19120129943 m5.6260573864,-4.08629417419 l-1.12521149218,3.19796949625 -1.06598980725,1.30287647247 m4.14551585913,-16.5228426456 l1.89509302378,5.38917064667 m-1.89509302378,-2.60575294495 l1.59898474813,3.84940773249 0.296108275652,-0.059221656993 l0.059221656993,-1.65820643306 m-9.59390819073,11.1928927898 l0.532994903624,0.710659846663 1.77664965391,0.0 l0.947546511889,-0.592216551304 \" fill=\"none\" stroke=\"black\" stroke-width=\"1\"/></svg>"
      ],
      "text/plain": [
       "<IPython.core.display.SVG object>"
      ]
     },
     "metadata": {},
     "output_type": "display_data"
    },
    {
     "name": "stdout",
     "output_type": "stream",
     "text": [
      "in encode(): seq_len = [107]\n"
     ]
    },
    {
     "data": {
      "image/svg+xml": [
       "<svg baseProfile=\"full\" height=\"95.7191183046\" version=\"1.1\" width=\"104.247037843\" xmlns=\"http://www.w3.org/2000/svg\" xmlns:ev=\"http://www.w3.org/2001/xml-events\" xmlns:xlink=\"http://www.w3.org/1999/xlink\"><defs/><rect fill=\"white\" height=\"95.7191183046\" width=\"104.247037843\" x=\"0\" y=\"0\"/><path d=\"M37.673435593,37.3181043006 m0.0,0.0 l0.0,0.0 0.0,1.83587133884 l-1.18443310261,3.49407762289 1.42131969333,2.19120129943 l0.829103216529,-0.236886627972 -0.296108275652,-0.651438236237 m0.0,1.24365478754 l1.06598980725,2.90186107159 2.25042298436,1.48054137826 l1.36209815741,1.89509302378 1.53976306319,4.14551585913 l0.118443313986,6.51438236237 -0.651438236237,1.53976306319 l-1.42131969333,1.36209815741 -2.25042298436,0.0 l0.0,-4.08629417419 0.769881531596,-0.710659846663 m12.5549912453,-10.245347023 l2.54653126001,-2.07275792956 -0.059221656993,-2.25042298436 l0.651438236237,-1.18443310261 1.48054137826,-0.532994903624 l-0.710659846663,1.42131969333 m-4.38240259886,5.44839262962 l-1.48054137826,4.32318091393 -0.473773255944,7.52115011215 l-1.65820643306,4.02707278728 -2.42808789015,3.25719118118 l-1.18443310261,0.651438236237 -2.36886620522,0.118443313986 l-3.96785110235,-1.95431470871 -2.01353639364,-1.77664965391 l-0.296108275652,-2.30964466929 0.769881531596,-3.90862941742 l1.77664965391,-1.36209815741 2.19120129943,1.00676819682 m-4.26395922899,-10.3045678139 l-0.118443313986,2.48730957508 -1.71742811799,3.55329930782 l-7.58037209511,6.57360374928 m12.0219957829,-9.29780006409 l-0.769881531596,3.43485623598 -1.65820643306,2.48730957508 l-4.26395922899,3.43485623598 -4.32318091393,2.25042298436 m25.4653120041,-11.4297795296 l-0.118443313986,5.74450075626 2.90186107159,7.9357022047 m-0.947546511889,-12.3773264885 l0.769881531596,5.74450075626 0.947546511889,2.60575294495 m-19.3062603474,-19.602367878 l1.12521149218,0.710659846663 -0.769881531596,0.532994903624 m15.6345176697,1.12521149218 l-1.00676819682,0.769881531596 m-13.2656514645,-17.8257191181 l-4.08629417419,-2.78341799974 -6.33671700954,-1.18443310261 l-1.30287647247,0.947546511889 -0.769881531596,2.54653126001 l-2.30964466929,1.89509302378 -0.355329923332,2.96108275652 l0.769881531596,5.74450075626 -1.36209815741,2.66497462988 l-0.177664961666,3.31641286612 1.12521149218,1.30287647247 l4.97461915016,1.36209815741 m10.0084602833,-19.1285955906 l4.20473754406,2.78341799974 7.1658205986,-0.059221656993 l3.13874781132,1.42131969333 m4.02707278728,2.60575294495 l12.9103207588,-1.89509302378 3.25719118118,0.0 l3.43485623598,1.18443310261 -1.71742811799,4.8561757803 l-4.73773241043,3.25719118118 -0.651438236237,1.53976306319 l0.0,3.73096436262 -3.67174267769,1.59898474813 l-1.42131969333,3.43485623598 m0.296108275652,-0.118443313986 l-1.65820643306,1.30287647247 -1.18443310261,1.95431470871 l-4.97461915016,0.355329923332 m-1.06598980725,5.15228390694 l0.473773255944,1.48054137826 m-1.77664965391,1.83587133884 l3.25719118118,2.36886620522 2.60575294495,0.236886627972 l-3.84940773249,-5.09306252003 m-29.6108293533,-1.89509302378 l-4.32318091393,1.18443310261 0.829103216529,0.947546511889 l3.31641286612,0.651438236237 m8.58714044094,-14.0355324745 l2.48730957508,0.769881531596 0.118443313986,1.89509302378 m14.1539764404,1.53976306319 l1.53976306319,-0.769881531596 0.592216551304,0.473773255944 m-2.36886620522,-8.23181033134 l-1.36209815741,0.118443313986 -0.414551608264,1.30287647247 l1.59898474813,0.177664961666 1.06598980725,-0.888324826956 \" fill=\"none\" stroke=\"black\" stroke-width=\"1\"/></svg>"
      ],
      "text/plain": [
       "<IPython.core.display.SVG object>"
      ]
     },
     "metadata": {},
     "output_type": "display_data"
    }
   ],
   "source": [
    "# encode strokes\n",
    "for i in range(len(train_set.strokes)):\n",
    "    lat_vec.append(encode(train_set.strokes[i]))\n",
    "with open(\"elephant_z_tt.csv\",\"w+\") as _csv:\n",
    "    csvw = csv.writer(_csv,delimiter=',')\n",
    "    csvw.writerows(lat_vec)"
   ]
  },
  {
   "cell_type": "code",
   "execution_count": 21,
   "metadata": {
    "collapsed": true
   },
   "outputs": [],
   "source": [
    "# randomly unconditionally generate 10 examples\n",
    "N = 10\n",
    "reconstructions = []\n",
    "for i in range(N):\n",
    "  reconstructions.append([decode(temperature=0.5, draw_mode=False), [0, i]])"
   ]
  },
  {
   "cell_type": "code",
   "execution_count": 22,
   "metadata": {},
   "outputs": [
    {
     "data": {
      "image/svg+xml": [
       "<svg baseProfile=\"full\" height=\"123.947201673\" version=\"1.1\" width=\"853.08076887\" xmlns=\"http://www.w3.org/2000/svg\" xmlns:ev=\"http://www.w3.org/2001/xml-events\" xmlns:xlink=\"http://www.w3.org/1999/xlink\"><defs/><rect fill=\"white\" height=\"123.947201673\" width=\"853.08076887\" x=\"0\" y=\"0\"/><path d=\"M25,38.3481149231 m0.0,0.0 m30.0510709766,8.3697037389 l-1.98041245341,-1.08813680708 -5.15692591667,0.582520365715 l-4.8999774456,2.11370140314 -4.69814181328,4.16077941656 l-3.79933416843,6.02672815323 -1.44242614508,5.65421164036 l-0.272541176528,5.01002311707 0.4789917171,4.37130957842 l1.10184334219,4.27366882563 1.79376274347,3.64962011576 l2.49277070165,3.1391248107 3.1528532505,2.63649433851 l3.46974045038,1.8543805182 3.69401246309,1.07252798975 l3.80656898022,-0.0753601500764 3.94490331411,-0.989176481962 l3.76655250788,-2.30782076716 3.53919565678,-3.24331641197 l2.76673138142,-3.52039754391 2.29293584824,-3.84855270386 l1.87235027552,-4.08143371344 1.07131183147,-3.98532897234 l0.333432666957,-4.03914839029 -0.369936972857,-3.74680250883 l-1.08363673091,-3.52469921112 -1.75645664334,-3.57058256865 l-2.18588620424,-3.08455079794 -2.74573862553,-2.64929592609 l-3.2551291585,-1.9303162396 -3.30392867327,-1.15532934666 l-3.37415069342,-0.0555441109464 -2.83483207226,0.691464468837 l-2.50863581896,1.27406463027 m-2.82124340534,21.1798834801 l-0.576801709831,0.670941248536 -1.2510471046,3.8159391284 l-0.837883204222,2.46869534254 -1.16855502129,3.64664524794 l-1.44746959209,5.10734915733 -0.786459594965,4.68698710203 l0.380644351244,3.32577884197 1.50730401278,1.88767120242 l3.06161910295,0.659189075232 3.6624789238,-0.15586251393 l3.94498378038,-1.02808348835 1.84530690312,-1.07336722314 l1.34404465556,-1.2508867681 1.1669639498,-1.69993847609 l1.02874219418,-2.46102392673 0.680832117796,-2.76636332273 l0.403638742864,-2.79390990734 0.0137787451968,-4.73934710026 l-0.383733175695,-3.57239156961 -0.706798806787,-2.51529544592 l-1.01805157959,-1.72155126929 -2.58719801903,-2.07920432091 l-5.48109769821,-1.35688126087 -1.6254298389,0.535533130169 m-10.1324379444,-7.73274421692 l-0.432374738157,-1.22250884771 -0.0500108208507,-5.9223151207 l1.64184868336,-2.99879461527 1.54662549496,-0.995919406414 l1.26640349627,0.751153901219 2.99147993326,5.01989603043 l1.19181700051,1.35318815708 m15.7258284092,0.427723973989 l2.13166981936,-3.17708432674 2.03537717462,-2.18390241265 l2.05390781164,-1.32474452257 1.02414578199,0.552037134767 l0.27040053159,3.74663621187 -1.18322439492,6.49551928043 l-0.318528413773,2.57206648588 m-23.853597641,2.44901001453 l-0.0013624598796,-9.11382630875e-05 m16.7936217785,-2.03814953566 l-0.00267582101515,0.000113538535516 m-16.888614893,13.4406387806 l1.65010631084,0.280773546547 1.52585074306,-0.107250316069 m10.4992198944,2.59794861078 l0.225181449205,2.5508955121 1.18461556733,2.58915543556 l0.994561091065,1.28508716822 1.31865620613,0.885965451598 l3.09000223875,0.914839953184 3.46226423979,0.205258298665 l3.56955319643,-0.355545170605 5.62299013138,-1.65381327271 l4.66593027115,-2.02102571726 4.85462516546,-3.56078535318 l1.90399065614,-1.92526385188 1.46069258451,-2.15030297637 l1.07267484069,-2.31791853905 0.591196008027,-2.60555446148 l-0.000314964927384,-2.10205242038 -0.722352266312,-2.76192903519 l-0.984963327646,-1.67750090361 -2.18917548656,-2.24836722016 l-4.09240961075,-2.21048980951 -3.14060628414,-0.95341347158 l-4.81477826834,-0.64554668963 -2.20511436462,0.168292298913 l-1.8137550354,0.501175262034 -1.67487978935,0.898160114884 m20.0744795799,2.65946030617 l0.649569556117,-2.75741249323 0.871863514185,-2.8115311265 l1.61535590887,-5.98097026348 0.13784670271,-1.8954589963 l-0.934423729777,-2.17475250363 -1.17619417608,0.470649637282 l-0.831821411848,1.43174901605 0.942284613848,1.05885475874 l1.37590870261,-1.06683731079 0.778890699148,-1.55047893524 l0.560537166893,-2.21489787102 -0.000370983179891,-4.19299870729 l-0.431504659355,-3.24112832546 -1.56170412898,-4.89168971777 m41.5426265092,30.7881980477 l-2.09726586938,1.72206878662 -2.66197651625,2.9556414485 l-0.789613798261,1.57138720155 -0.400365926325,1.93003281951 l0.299157183617,1.51447296143 0.872532948852,1.70892551541 l1.45899742842,1.59259423614 1.75188302994,1.27907902002 l2.24912971258,0.87398827076 3.50290387869,0.148103134707 l2.02624991536,-0.507752113044 1.78243398666,-0.918189883232 l1.53443872929,-1.21939279139 1.14835307002,-1.28447234631 l0.815267711878,-1.46011248231 0.280424654484,-1.40803560615 l-0.506639108062,-2.9508009553 -1.08463041484,-2.43008896708 l-3.16433250904,-2.63608723879 -1.08356043696,-0.233519729227 l-1.83571204543,0.372327305377 m-3.25852960348,6.23746335506 l0.0614291243255,1.12484514713 m3.83234620094,-1.39486193657 l-0.0024180917535,0.000384477425541 m-9.5398837328,-12.4948549271 l-0.221730694175,-0.641165152192 -0.759997367859,0.230106655508 m16.6605174541,2.01031520963 l-1.4074011147,-0.443418286741 0.174183081836,-0.332778394222 m-22.6474165916,1.0005620867 l0.527823790908,-3.58074188232 1.16680420935,-3.43309134245 l1.65804818273,-3.25379908085 1.88521176577,-2.46546909213 l3.30068022013,-3.21326851845 2.05526724458,-1.35254338384 l4.15339767933,-1.92113906145 5.41045963764,-1.52954354882 l2.52210766077,-0.359510444105 4.62058514357,-0.115316091105 l3.72401386499,0.741680935025 2.78433203697,0.941187515855 l3.45782786608,1.92858278751 2.69341737032,1.95774659514 l3.01870077848,3.53132396936 1.63272455335,2.99187153578 l2.54005014896,7.7277058363 1.17569111288,6.00507080555 l0.482253581285,6.59683346748 -8.58339808474e-05,6.65673077106 l-0.553533881903,4.46884274483 -1.04223929346,2.93449491262 l-1.43484503031,2.61323213577 -1.96235448122,2.25786477327 l-2.49566033483,2.01047450304 -3.27151983976,1.90188318491 l-4.03706073761,1.32718607783 -7.37363934517,1.11010797322 l-3.20818543434,-0.0818365439773 -14.4144928455,-5.49118876457 l-3.47437977791,-2.43885472417 -2.69175469875,-2.37808018923 l-2.144279778,-2.73542523384 -2.25455343723,-4.64767575264 l-0.831228941679,-2.94203013182 -0.174880269915,-5.69608271122 l0.941714569926,-4.56531971693 m82.5452270716,-4.44934759067 l-0.870551690459,0.156570747495 -0.604631789029,0.593714639544 l-0.484152585268,1.02609649301 -0.260537434369,1.03480525315 l0.113306809217,0.963890329003 0.788521394134,0.644721239805 l1.28090158105,0.224880687892 1.43313869834,-0.000169455615833 l1.12110771239,-0.700743794441 0.827213153243,-1.69986158609 l-8.93771539268e-05,-1.16854183376 -0.469662062824,-0.750701650977 l-1.45103394985,-0.941700041294 -1.30898818374,0.0129614700563 m-0.445120334625,1.72025367618 l-0.00445608922746,0.000111563422251 m1.94983795285,0.389732681215 l0.00102815232822,-2.96014377454e-05 m-5.50576269627,-4.63640570641 l-0.00871752970852,6.52086839636e-06 0.142075968906,0.476788543165 l0.152871990576,0.119194556028 m6.15249276161,-0.519664548337 l0.0978427007794,0.369862318039 m-4.05719667673,4.52389478683 l0.784267634153,1.89766831227e-05 0.685817524791,0.451649799943 l1.19642071426,0.844833999872 2.9356315732,1.13646104932 l2.71470248699,0.393850691617 1.5596999228,-0.449710376561 l0.78682936728,-0.711551457644 0.873655900359,-1.69825583696 l0.644081383944,-2.25500136614 -9.36116157391e-05,-2.99689203501 l-0.376692451537,-0.818074196577 -1.80348411202,-0.912408158183 l-3.15491497517,-0.557192377746 -4.19244647026,-0.00014200753867 l-3.00508439541,1.27188250422 -2.98284709454,2.25009083748 l-1.14054709673,1.56486257911 5.64346146348e-05,1.66689619422 l0.386436022818,0.787676796317 0.767839029431,0.90262696147 l0.746128112078,0.468153208494 2.7581730485,0.962984934449 l2.93137043715,-0.000189760430658 2.02350839972,-0.601401180029 m-2.78244823217,-4.6856713295 l-0.00701645854861,1.41542784604e-06 m0.255548432469,0.589492730796 l0.00037861194869,-7.44493127058e-05 m-2.59536623955,-3.47265183926 l0.00377965799998,-0.000182338098966 m5.43638050556,-0.357040464878 l0.00630893220659,-5.47118179384e-05 m-7.56285607815,8.00843060017 l0.445446148515,-0.857516303658 0.560404211283,-2.12838858366 l0.922561213374,-1.50888040662 4.15557384491,-4.23633366823 l4.12521481514,-2.09751501679 3.63270193338,-0.996289476752 l2.02456325293,-0.221664942801 7.89804339409,1.63356333971 l5.2604162693,2.55760252476 1.42338857055,1.38082608581 l1.62240341306,2.32242211699 0.967856347561,2.17358902097 l1.13925367594,5.83740353584 -0.257350038737,1.46246105433 l-1.39923498034,3.04595738649 -5.79192101955,4.77596819401 l-4.05347287655,1.48620322347 -5.57725191116,0.911074280739 l-6.17912530899,-0.000235044826695 -10.2575397491,-3.36916714907 l-1.50679558516,-0.980283096433 -0.797013863921,-1.76261439919 l-0.000120160975712,-3.26514095068 0.549607016146,-1.16721339524 l1.15090109408,-1.28439068794 5.86382091045,-4.35343295336 m23.6310076714,-2.06924274564 l1.57339140773,-0.458507612348 5.06212592125,5.85865109315e-05 l2.61409193277,0.809487700462 3.4036436677,2.29175984859 l1.87024563551,1.9513592124 1.13723270595,1.75233468413 l2.02361732721,7.01551795006 -0.0904710032046,1.72884464264 l-0.842424482107,1.85227483511 -1.55393853784,1.42347484827 l-2.92982876301,1.44661068916 -5.71337282658,1.51127442718 l-4.77336198092,0.260052531958 -3.5666435957,-0.499865859747 l-5.17839133739,-1.60269960761 -0.712900608778,-0.558093637228 m22.1801161766,-12.6993489265 l3.10419201851,-0.592394918203 1.21578447521,-0.499480888247 l0.861599370837,-1.84159994125 0.458333492279,-2.13199853897 l-0.000235474653891,-1.52545630932 -1.02717496455,-1.87458917499 l-1.39029949903,-0.60226380825 -0.832876041532,1.11384958029 l1.76687851548,1.03164739907 3.68100821972,-0.990550965071 l1.10868684947,-1.77749827504 0.782254114747,-2.07334399223 l0.326499417424,-1.9948913157 -0.662162825465,-3.28791350126 l-0.642608702183,-0.748842805624 -1.19512431324,-0.457888804376 l-2.54684776068,-0.0401197280735 -1.22696883976,1.0858079046 l-0.301179029047,1.99912786484 1.06089003384,0.556777007878 l2.46209323406,9.99836811388e-05 2.27666765451,-0.856758207083 l1.26082867384,-1.05660222471 0.877591893077,-1.27082362771 l0.772848427296,-2.59995758533 -0.000474302432849,-2.22263500094 m-28.9432096481,38.335082531 l0.000314573298965,2.72661745548 m4.15702283382,-3.85907024145 l0.846064537764,3.29208314419 m64.5542097198,-39.9452849997 l-1.46835535765,-0.471567213535 -1.73417270184,0.0580494385213 l-3.24753910303,1.15990959108 -1.95030733943,1.29891216755 l-3.33489924669,3.74222129583 -1.69805929065,3.12479257584 l-0.699570775032,4.18693721294 0.143382837996,1.85229659081 l0.580226629972,2.04040825367 0.951533019543,1.5322548151 l2.25624859333,1.84872314334 2.76301175356,1.33948117495 l4.98508900404,1.38190284371 2.47747182846,0.228609349579 l3.6561229825,-0.337823368609 1.71731173992,-0.607681125402 l1.73423722386,-0.996817499399 2.38608658314,-2.34782204032 l1.48610547185,-2.35423386097 0.843527168036,-2.3891441524 l0.397696867585,-2.43448734283 -0.312608554959,-3.3597150445 l-1.57166242599,-4.54969793558 -1.58194586635,-2.15228587389 l-1.50113329291,-1.36974260211 -2.44031369686,-1.29879593849 l-2.0666231215,-0.360136255622 -2.05468311906,0.11995241046 l-1.88102304935,0.63462741673 m-5.00901520252,9.68867540359 l-0.581785179675,1.86570286751 0.816959664226,1.83146461844 l1.130804196,0.553688779473 m9.0631467104,-4.24642533064 l-0.57184945792,1.78294405341 m8.44721615314,-13.15944314 l0.743826776743,0.0744568696246 8.26265215874,2.22578734159 l2.99743980169,1.57132253051 3.30562978983,2.29925051332 l3.19498002529,3.54803681374 1.54157504439,2.45154425502 l1.22331522405,2.76332974434 0.692432522774,4.22535479069 l-0.000243880876951,4.16087538004 -0.772408619523,4.09952193499 l-2.39841327071,6.74139916897 -2.03268066049,3.94304275513 l-3.12797367573,4.32889133692 -3.13471734524,2.79521048069 l-4.02978748083,2.45172858238 -11.7895197868,3.7235212326 l-5.18784880638,0.500936768949 -7.32788145542,-0.281951501966 l-4.57363814116,-1.27302452922 -5.18153548241,-2.49796375632 l-2.42764919996,-1.60123854876 -3.66182625294,-3.55042934418 l-2.66043663025,-3.56240034103 -2.06938877702,-3.55429679155 l-1.59417241812,-3.68508458138 -1.05511650443,-9.63905334473 l1.07521928847,-4.46628212929 1.73670917749,-3.98398935795 l6.63841545582,-9.34968292713 4.68176364899,-4.2478993535 l3.20977419615,-2.3312780261 7.59906232357,-3.3856523037 l3.96821647882,-0.685148313642 5.69346487522,-0.0940030068159 l3.57465326786,0.400761589408 3.2169085741,0.849763676524 l4.91886287928,1.97301641107 6.20427489281,3.48568439484 l2.97096341848,2.59345680475 1.75597161055,2.20165520906 l1.95806562901,4.0043219924 2.01556518674,3.08436572552 l1.28788158298,2.36421495676 1.85309156775,4.87200289965 l0.772927924991,3.94573092461 0.505997687578,7.09916353226 l-0.714655444026,4.27188664675 -0.656192824244,1.69867396355 l-1.20038680732,1.21051922441 -3.25465351343,1.73222631216 l-3.88986974955,0.919535234571 -5.93128085136,-7.27407905288e-05 m-38.3197212219,-36.7357563972 l-0.590219721198,-0.0740536488593 -1.80582210422,0.293825287372 l-1.18317857385,0.74408531189 -1.98963433504,2.07774236798 l-1.47120401263,2.55896806717 -1.02913878858,4.19302344322 l0.332863666117,10.4699444771 0.749148577452,3.85839670897 l1.17181442678,3.11299294233 2.99425184727,4.20015573502 l2.49560818076,0.755727142096 2.53490895033,-2.21968412006e-05 l3.53663265705,-1.17570467293 2.97308415174,-2.26744905114 m36.7145133018,-39.5719504356 l1.52179896832,-0.545053444803 6.60744190216,-0.308385640383 l1.78739398718,0.648433640599 3.18224728107,2.26159095764 l2.631739676,2.75662302971 2.33990311623,4.14170652628 l1.2867602706,4.27035063505 0.364735871553,3.16066086292 l-0.118448073044,4.86586689949 -0.84311209619,3.21289181709 l-2.43050470948,3.36770117283 -2.78618603945,1.71227857471 l-5.04807770252,1.61284297705 -3.59755456448,0.340445898473 m-44.7946453094,-32.2848105431 l-2.46780946851,-0.943920314312 m78.900459079,9.88275325852 l-4.76776301861,0.184030216187 -1.89849689603,2.06909254193 l-3.63683342934,5.74875712395 -2.45295479894,6.33225500584 l-0.441214479506,2.36838623881 -0.000248908636422,3.82402747869 l1.55179545283,4.04545813799 1.66897192597,2.29133561254 l2.14526757598,2.06631630659 2.61496126652,1.75654709339 l2.9046985507,1.38258218765 6.2950193882,1.94240391254 l10.7225680351,0.798993036151 4.16818857193,-0.389925725758 l3.15597474575,-0.839896574616 2.54830390215,-1.12837314606 l2.78544872999,-2.12292835116 1.35109618306,-1.5357221663 l1.73056319356,-3.48613381386 0.780325010419,-3.82374286652 l0.000252081481449,-3.77363830805 -0.839722380042,-3.46227645874 l-1.3932980597,-3.20412933826 -2.17146739364,-3.36125195026 l-2.61289566755,-2.98026233912 -4.7450864315,-3.56435954571 l-4.15136158466,-1.77584528923 -4.3035119772,-1.05435624719 l-4.64558839798,-0.000460959563497 -3.06498914957,0.690961405635 m-2.73638933897,12.8624975681 l-0.50849262625,0.000477630346722 -0.364329479635,1.71486034989 l0.274446289986,1.30822375417 0.639094933867,0.811982825398 l0.999372676015,0.199583657086 0.989433154464,-1.30491361022 l-0.392936617136,-1.84547275305 -1.13782115281,-0.889937356114 m14.1472017765,-0.800272226334 l-0.903902426362,1.37997671962 -0.130104795098,1.01449519396 l0.45623857528,1.3694357872 1.09331659973,0.288038756698 l0.670245960355,-0.664542093873 -0.61536822468,-2.12775245309 l-0.668609812856,-0.615984387696 m-14.9901604652,1.22669033706 l-1.09241567552,0.410467237234 -1.03513211012,1.30915209651 l-0.699348524213,2.41796165705 0.838255509734,1.32727116346 l1.12880721688,1.04448333383 1.99257433414,1.13196894526 l1.78206056356,0.455442592502 2.12838843465,-7.24288929632e-05 l1.07531964779,-0.651511698961 0.668797641993,-0.929166227579 l0.246336515993,-1.05682633817 -0.133172469214,-1.13774351776 l-1.18434250355,-2.16069638729 -1.07993960381,-0.993386283517 l-2.06473842263,-0.900780111551 -2.28038191795,-0.374280922115 m16.0320580006,0.845660790801 l1.42947226763,-0.911943539977 3.64589989185,-1.98701456189 l6.61510288715,-3.02068710327 5.00464260578,-1.42127990723 l5.34223556519,-0.746095255017 5.35112023354,-0.365769565105 l3.42161148787,0.166135542095 1.73440888524,0.508683621883 l1.59248828888,0.860573351383 1.58285304904,1.51773408055 l1.26097992063,1.75371527672 0.968193486333,1.85862079263 l1.22994288802,3.30909103155 0.473830550909,2.45256304741 l0.0486297113821,4.42399591208 -0.41077490896,1.78894326091 l-1.86241820455,3.62074077129 -2.49359026551,2.6587292552 l-4.82390642166,3.33548814058 -4.02773529291,1.75913020968 l-6.72341525555,1.51371896267 -10.9645271301,0.232061296701 l-3.49038720131,-0.649977251887 -1.65150925517,-0.613763257861 l-1.39684662223,-1.09298147261 -1.88801288605,-2.34298110008 l-1.27013534307,-2.36952468753 0.185107626021,-1.99295759201 m6.07139527798,6.37579619884 l-0.000352970673703,3.62471669912 m21.7466616631,-6.743709445 l0.309984721243,2.41784647107 0.211578924209,6.67219519615 l1.24760217965,3.757160604 m3.97179096937,-11.467154026 l0.394406057894,1.08652584255 2.2409106791,6.18372321129 l1.69609442353,3.65518122911 m34.1922846106,-49.142711767 l-3.43683183193,2.89601951838 -1.84211209416,2.34646975994 l-2.14933440089,3.99086922407 -1.50891527534,4.02662485838 l-0.830904096365,4.41078960896 -0.000209235986404,3.97267520428 l1.03198267519,2.86258637905 1.65166497231,2.47436895967 l2.82527625561,1.88193947077 3.45730751753,1.20016895235 l4.09573078156,0.495349727571 5.11868238449,-0.00031008188671 l2.98259198666,-0.920167416334 2.89525032043,-1.77644371986 l2.86168009043,-2.73921072483 1.82300806046,-2.92939215899 l1.23492397368,-3.07794392109 0.663443952799,-9.09824430943 l-0.000101170899143,-5.6611430645 -1.51439100504,-3.2011833787 l-2.12819829583,-2.49162629247 -3.62432122231,-1.40893027186 l-3.94549846649,-0.412475652993 -6.16721570492,-5.70837255509e-05 l-3.11600059271,1.28098458052 m0.200520437211,14.2473590374 l-1.99604406953,1.82930022478 -1.15537106991,2.57732659578 l-0.000228690587392,2.25243970752 0.947391539812,1.30044132471 l2.36180633307,0.319313555956 1.76817491651,-0.866238698363 l1.76845416427,-1.64104014635 1.10782049596,-2.02432438731 l-0.000147449791257,-2.60435014963 -1.66208207607,-1.03518396616 l-2.67992049456,5.5898831306e-05 -1.65143162012,2.18890249729 m12.1391057968,-0.0298989284784 l-1.11913964152,1.99878200889 -0.000139082185342,5.69878220558 l2.06915542483,2.72645533085 3.20470362902,1.00719571114 l5.28470098972,-0.000236356627283 2.51635253429,-1.53915643692 l3.29268366098,-3.64908218384 0.665381625295,-3.1630602479 l-0.000215659729292,-4.43097233772 -1.33761867881,-1.89253643155 l-1.97798296809,-1.04566164315 -6.54130637646,0.000198649704544 l-2.28216782212,2.21296489239 -1.5575927496,3.3324855566 m-17.7559685707,-0.855141580105 l-2.92414546013,1.4516377449 -3.66401970387,1.41763359308 l-2.92498081923,1.79038062692 -6.26131653786,4.38348770142 l-2.312618047,2.51308143139 -1.84011116624,3.37508708239 l-2.40263342857,8.85117590427 -0.789948999882,5.44474601746 l-0.000203714826057,6.97512686253 1.02075070143,1.77069142461 l1.94258034229,1.07987724245 2.20799922943,0.717572197318 l5.17425000668,-7.37995605959e-05 2.55709946156,-3.75043004751 l3.5619148612,-15.4229068756 1.59372374415,-2.81713813543 l3.3260089159,-4.08460825682 2.9909786582,-2.68256008625 l3.44496369362,-1.89043700695 3.03005725145,5.47824356545e-05 m17.6665484905,-9.08693790436 l-0.19146874547,-1.87925621867 4.68566149473,-3.86185586452 l4.03761088848,-1.89721778035 3.89087080956,-1.01043045521 l7.73061990738,-1.3844530713e-05 4.15290534496,1.65208771825 l3.18576484919,2.03899815679 2.37154871225,2.52549469471 l3.96717607975,6.12341880798 1.87465518713,5.4968059063 l0.837092325091,4.58085566759 -0.000100031447801,13.4909963608 l-0.88550850749,3.56487065554 -2.49873176217,4.48814630508 l-2.32513815165,3.14643442631 -2.67867952585,2.13534384966 l-5.1646643877,2.40743458271 -10.8285677433,2.75561332703 l-12.694466114,1.4168433845 -12.2038841248,-5.28718948364 l-2.17158332467,-2.59922474623 -2.81965792179,-5.67992687225 l-1.223128438,-5.12148320675 -5.48161733605e-05,-5.93182623386 m116.8121225,-19.1085582994 l-1.56901285052,-0.763322785497 -2.33546450734,-0.764067545533 l-6.05463504791,-1.29790022969 -7.30798840523,-0.917780026793 l-6.26170158386,-0.737848579884 -7.59283363819,-0.00031977029721 l-2.70890533924,0.269078891724 -2.35575124621,0.433450117707 l-2.26056784391,0.658274888992 -2.68379628658,1.34384632111 l-1.1921261251,1.02448880672 -0.778300687671,1.1129231751 l-0.342708230019,3.13602954149 0.612290278077,1.41046077013 l1.30429565907,1.56115993857 2.17163801193,1.55233368278 l2.78445422649,1.36990338564 3.41157823801,1.08319140971 l3.86343687773,0.647193863988 6.27709329128,0.0324889621697 l4.00873750448,-0.638661831617 3.48148614168,-0.968139246106 l3.67488741875,-1.4666467905 3.08371692896,-1.6173017025 l3.6073666811,-2.98644781113 0.692110210657,-1.318885535 l0.0268171424977,-1.85545265675 -1.11007370055,-1.61356493831 l-1.82390958071,-1.05783618987 -2.43815466762,-0.441838726401 m-18.6416816711,3.88747662306 l0.360036939383,5.16675889492 0.783475264907,0.927465632558 m5.43211460114,-7.14006721973 l-0.0115262647159,0.000415246868215 m2.13284522295,-10.8350133896 l0.460968576372,3.06477099657 m-0.706058442593,-3.31047803164 l0.284195579588,2.39329263568 m-2.71165311337,1.72833785415 l-0.966596454382,-0.564523264766 -1.12204790115,0.00363000290236 l-0.680393651128,0.447808168828 -0.434435009956,0.753924548626 l0.0683930143714,1.70992717147 1.02098956704,0.526085011661 l0.922828763723,-6.73566864862e-05 1.34924665093,-1.62663161755 l0.261294394732,-0.935638546944 -1.05516456068,-0.331156291068 l-1.09179958701,0.44451508671 m-6.32609784603,2.04349264503 l0.334801115096,0.951986834407 0.20524950698,0.323753394186 l0.459237061441,-0.963409468532 -0.29643304646,-0.656302273273 m-8.88552963734,1.03639900684 l-0.639274343848,-1.25372037292 -0.493743419647,-1.50038048625 l-3.20701420307,-8.07056844234 -0.971476584673,-4.19734984636 l1.22383788228,-1.14044673741 1.20403826237,-0.435776412487 l1.38684779406,-0.12630992569 2.21026822925,0.438217818737 l3.56460392475,1.67498707771 2.99784094095,1.96745857596 l0.884570106864,1.20685346425 m11.2366330624,2.1960811317 l1.21648080647,-2.96591192484 1.20830997825,-2.40324616432 l1.43465399742,-2.04238459468 1.69532358646,-1.84395238757 l2.10302487016,-1.1568723619 2.21973150969,-0.179265607148 l1.69317036867,0.441426560283 1.58513218164,1.10371246934 l1.07576265931,1.36346921325 0.777577981353,1.77198693156 l0.742098689079,3.78736257553 -0.0272204610519,3.42373132706 l-0.77720567584,2.96728223562 m-24.5449852943,2.15010493994 l1.4601290226,0.609700605273 m14.8104012012,2.15568915009 l-0.114927198738,-1.26064643264 m-15.2278983593,16.5695822239 l-4.19170945883,0.0115561601706 -4.07956182957,0.738082677126 l-2.8407099843,1.14145025611 -2.13404074311,1.30749627948 l-1.84994101524,1.60997226834 -1.67498737574,1.92743733525 l-1.40873298049,2.2113275528 -1.24115526676,3.42024028301 l-0.297539941967,3.10393095016 0.511747002602,2.64406770468 l1.28947854042,2.34308004379 1.95456504822,2.09380283952 l2.57318407297,1.62098631263 3.49022954702,1.48038759828 l3.89754921198,0.888252183795 11.4762663841,0.300177391618 l6.18549406528,-0.863361954689 5.1984924078,-1.57255575061 l4.64498966932,-2.08844840527 3.60388547182,-2.22157135606 l3.04231584072,-2.61983543634 2.08757922053,-2.9156473279 l1.0500805825,-2.84724414349 0.357451662421,-2.88787603378 l-0.214938037097,-2.84698843956 -1.74673557281,-4.51198220253 l-2.27696478367,-3.30182403326 -1.37906581163,-1.20573833585 l-5.8754491806,-2.24459186196 -2.742664814,0.0750065082684 l-3.28733831644,1.1269530654 m64.6121730027,-0.145489390457 l-0.0341939879581,-3.21351736784 -1.10862910748,-7.43954002857 l-3.51762652397,-7.17777013779 -4.60500627756,-5.88120281696 l-3.11763375998,-2.33093738556 -3.61390441656,-1.47784128785 l-4.5156031847,-0.708524286747 -4.70990240574,0.690260827541 l-2.56573796272,1.4560289681 -3.11662793159,3.01983982325 l-1.42946898937,3.1494987011 -0.473276935518,2.42315664887 l-0.00038111818867,3.3180975914 2.28756263852,9.13483977318 l2.84527748823,3.89998525381 4.47527557611,3.29074859619 l6.21292471886,2.46829330921 7.11740791798,0.811132714152 l11.4101266861,4.87509942104e-05 4.03552800417,-1.1460147053 l2.98386871815,-1.58759996295 m-15.6899273396,-9.0306699276 l0.415127128363,-2.71326571703 1.39720007777,-3.72493356466 l3.0895024538,-6.62819385529 3.20125728846,-4.69665199518 l3.13459396362,-3.32900673151 8.39479446411,-4.98693227768 l7.13479280472,-2.60840624571 5.6931489706,-1.14197641611 l6.42982184887,-0.0121187453624 7.83736944199,1.51682332158 l4.07828629017,1.62504673004 2.8470569849,2.06717252731 l1.98037326336,2.25071772933 1.14992924035,2.42802292109 l0.571831949055,3.36270332336 -0.799340233207,8.50999414921 l-1.13231502473,3.67242485285 -1.81382760406,3.90070855618 l-3.70232462883,4.76902216673 -3.47412377596,2.65500515699 l-4.27835673094,2.070017308 -4.99071717262,1.31120115519 l-5.41107237339,0.216119047254 -6.09094977379,-1.8863555789 l-4.46449220181,-3.56194257736 -1.25667512417,-1.15809939802 l-2.67530113459,-4.36564028263 -3.4072008729,-9.44814860821 l-1.58009216189,-2.60759651661 -0.686510503292,-0.805811658502 l-1.65560871363,-0.738382786512 m4.84476983547,16.9395196438 l-0.628818124533,3.42326700687 -4.55294698477,16.547011137 l-1.83763444424,7.66948521137 -0.918623134494,6.43513560295 l2.82889425755,-0.492755062878 5.83686411381,-0.0970615446568 l2.27262288332,-3.03793102503 1.3318157196,-8.1270468235 l1.2786501646,-10.067281723 0.764597728848,-2.97353982925 l0.232426710427,-0.131616424769 0.216685980558,2.15414449573 l-1.50202050805,12.8874671459 -1.84725999832,10.1358759403 l0.209529958665,0.61502110213 0.468824543059,-0.108639914542 l3.04075628519,-0.308399964124 4.16780948639,-1.55083999038 l1.47173047066,-1.48414000869 0.383007973433,-2.73360282183 l-1.38415679336,-18.201315403 0.549672879279,-1.47939950228 l8.26549112797,0.0385708874092 m12.6696050167,-8.71117532253 l-0.604553371668,12.5466227531 -1.4165776968,9.84499573708 l-1.63007006049,7.13858366013 8.48689079285,-0.838013663888 l1.08863964677,-0.503585636616 2.38287419081,-10.7720470428 l0.796342492104,-12.1732997894 0.264217536896,-0.99995829165 m28.6130710157,-18.8463172901 l-3.06835919619,0.538915023208 -5.02003729343,2.3165859282 l-2.20421016216,1.34220898151 -3.31494063139,2.60049968958 l-2.72811293602,2.73495227098 -1.19784928858,1.5785561502 l-1.96243479848,3.5722771287 -0.778679773211,2.83424884081 l-6.82038671584e-05,5.24258255959 0.732953846455,2.36603572965 l1.40973880887,1.91016867757 3.16867589951,2.77545720339 l5.05112409592,2.01644644141 4.65714007616,0.589107684791 l8.07275354862,1.17299771318e-05 4.01422977448,-1.42588719726 l2.82049924135,-1.50405630469 6.42092227936,-5.60081899166 l0.932029113173,-1.2653978169 2.31386497617,-9.82990205288 l-0.0001236211574,-4.19186025858 -0.363877303898,-0.806141868234 l-7.75574684143,-4.38866645098 -6.49030029774,-1.37125894427 l-4.75123345852,-0.000572039971303 m-13.7610042095,20.1220726967 l-7.57360612624e-05,6.30601584911 0.310816243291,3.43770623207 l-0.000417416595155,4.10297423601 0.596219450235,0.677928104997 l2.11732521653,-4.20549895352e-05 1.07829533517,-5.16500651836 l-5.95789515501e-06,-1.72292232513 m12.2592437267,-1.80608376861 l-0.000111451681732,6.75221860409 0.787107348442,1.5356567502 l1.55711844563,0.92675678432 1.44837930799,0.38640987128 l1.37902081013,-3.74483048916 -8.87867940946e-06,-5.69706141949 m8.70071411133,-6.40377521515 l0.00399471493438,0.649070590734 0.823450535536,4.89523053169 l2.12533742189,1.94141536951 1.3401414454,-0.0722382916138 l0.71074731648,-0.733287706971 0.69053567946,-2.44951725006 l-0.000161651569215,-2.67063558102 m-3.561591506,-13.0795967579 l1.25864431262,0.272429715842 1.95233151317,0.835943892598 l4.68108892441,-0.000175663753907 6.03379905224,0.207360517234 l2.06590414047,1.28287062049 0.508674792945,1.8072758615 l-0.000337131605193,3.42552512884 -2.8074337024e-05,2.25216984749 l0.471989773214,1.63693338633 0.820050612092,1.59194067121 m-9.9147105217,-12.4291527271 l-0.0851218868047,4.69411361337e-05 -2.58577644825,1.78468614817 l-1.34372010827,2.31668651104 m-28.2841396332,1.18587017059 l-1.58869758248,0.000103372285594 -2.59549766779,0.562714189291 l-2.07620963454,0.918743908405 -3.59900832176,2.9983612895 l-0.956203565001,1.28087043762 -1.7649513483,5.50877392292 l-8.7406451712e-05,2.10656955838 1.30665302277,1.26014187932 l2.83687353134,1.13301239908 4.37265604734,-1.93745904653e-05 l0.987100675702,-0.815642550588 2.80908554792,-5.80154776573 l-0.622375123203,-0.988482832909 -1.57245382667,-2.4536703527 l-3.36090743542,-3.92124712467 -0.581683963537,-0.689124763012 m-3.15684020519,8.18702578545 l0.356712937355,0.332111604512 m0.389513522387,0.839681103826 l-0.000734356872272,5.29760313839e-06 m5.1528608799,0.610296279192 l0.00146004342241,-2.80623908111e-06 m-6.48908317089,-10.2061748505 l-1.86135575175,-0.561276003718 -2.05097198486,0.292465817183 l-0.955511853099,0.530819892883 -1.91592022777,2.56055921316 l0.874166488647,2.24100857973 1.15203633904,0.652812942863 l2.84801393747,0.320043340325 2.64450848103,-1.51968225837 l0.735749527812,-2.02711701393 -0.000111537056,-1.09565958381 l-0.44818405062,-0.8380305022 m28.8133430481,4.08774971962 l0.572362579405,1.73642471433 2.09017381072,2.8960454464 l3.21285188198,1.81595623493 3.78249466419,0.467850230634 l2.81658500433,-1.69584900141 0.866487324238,-1.52646735311 l0.0436015799642,-4.18416321278 -0.97444742918,-1.53864681721 l-1.69031947851,-1.55915126204 -1.05901159346,-0.540390126407 l-2.89870142937,-2.26475276577e-05 m45.8838966103,-28.7303420079 l-0.607889667153,-3.75706553459 -0.894625410438,-1.72776818275 l-1.08932942152,-1.32827714086 -2.00914338231,-1.49619311094 l-2.81697541475,-0.554478503764 -6.40543103218,2.26234152913 l-2.92013853788,2.87882238626 -2.23167583346,3.9413112402 l-1.20756678283,3.5945302248 -0.736346840858,5.60619175434 l-3.9536012082e-05,4.49325472116 3.98016452789,4.65012729168 l2.94447034597,-0.356503687799 5.05601108074,-1.95281565189 m30.3098750114,-16.1615145206 l0.0111052091233,-1.69232189655 1.66181623936,-2.01047450304 l2.06701159477,-1.79551512003 2.37269118428,-1.22976019979 l1.47868990898,-0.340199097991 3.02917182446,-0.000281056272797 l5.08629620075,2.23914340138 1.42146244645,1.36817127466 l1.04417987168,1.66161209345 1.19478791952,3.9267462492 l0.301026888192,3.37881803513 -0.251064207405,6.99110686779 l-1.03613905609,3.64979475737 -2.47969850898,3.98359835148 l-2.56551206112,2.6488250494 -4.62444633245,2.81973809004 l-1.93902924657,0.635909363627 -1.39631524682,4.26143924415e-05 l-1.67295247316,-2.08043843508 m-20.2469396591,-16.2640833855 l0.0956269260496,0.620631948113 0.252962801605,3.48955243826 l-0.788101255894,5.64475536346 -1.03506304324,4.40157175064 l-1.39779731631,6.07075154781 -3.67248535156,16.772121191 l-2.3186956346,5.77100098133 -1.79126337171,2.21346288919 l-2.20685258508,1.55507981777 -4.58027869463,2.15317904949 l-1.94139435887,0.490807853639 -3.6198580265,0.434175953269 l3.82177442312,2.26327031851 3.77562820911,0.45535184443 l6.06139957905,0.000208089204534 1.98621198535,-0.4457532987 l3.09517592192,-1.63562729955 1.59705415368,-1.45211532712 l1.18156559765,-1.60527020693 0.817621350288,-2.04505681992 l1.10582567751,-6.21224343777 0.346705652773,-7.8777295351 l1.36892661452,-8.40885937214 0.562929101288,-3.58188509941 l0.548164658248,-1.74857631326 1.55029684305,-5.99802672863 l0.786912217736,-4.56341505051 0.967570319772,-3.66260021925 m-10.9247624874,1.25087499619 l1.28779307008,0.965279042721 3.59041124582,0.721474662423 l1.24304950237,-0.612253025174 0.809207707644,-1.46608546376 m6.22542858124,1.27605810761 l-0.826669633389,1.70363903046 -0.0354667194188,1.49975061417 l1.39815509319,1.07738636434 1.88520699739,0.575332976878 l1.35466918349,-0.798317268491 0.493204779923,-2.02694669366 l-1.74588160462e-05,-1.53453618288 m-13.6734759808,-6.69226229191 l3.05173158646,-0.447089523077 1.79803162813,0.199576187879 m11.8283832073,2.0333249867 l0.398335196078,-1.30681931973 2.02545151114,-1.35639518499 l5.25216162205,-1.58028870821 4.4137570262,-0.469903238118 l3.96936118603,0.145759731531 6.27808749676,0.856731235981 l4.85876202583,1.28102138638 6.15431785583,2.45064288378 l4.71006244421,3.09134989977 2.06229090691,2.03252479434 l2.44120001793,3.91148477793 1.5312448144,3.42953830957 l0.949811339378,3.27978938818 0.510307326913,3.05429309607 l6.01452484261e-05,5.50903022289 -0.986314862967,4.19320553541 l-1.48109138012,3.75217139721 -2.1962672472,3.00004512072 l-2.48249202967,2.17241227627 -5.28666138649,2.98182040453 l-4.40514683723,1.37019425631 -7.8791809082,1.01781971753 l-5.37134885788,-1.71187252818e-05 -6.32405281067,-1.8141502142 l-3.99510681629,-2.05573111773 -9.60976958275,-8.14970970154 l-1.83895006776,-2.12979272008 -1.91495761275,-3.40315282345 l-1.64438292384,-7.24982380867 0.000109354941742,-4.33092296124 \" fill=\"none\" stroke=\"black\" stroke-width=\"1\"/></svg>"
      ],
      "text/plain": [
       "<IPython.core.display.SVG object>"
      ]
     },
     "metadata": {},
     "output_type": "display_data"
    }
   ],
   "source": [
    "stroke_grid = make_grid_svg(reconstructions)\n",
    "draw_strokes(stroke_grid)"
   ]
  },
  {
   "cell_type": "code",
   "execution_count": null,
   "metadata": {
    "collapsed": true
   },
   "outputs": [],
   "source": []
  }
 ],
 "metadata": {
  "anaconda-cloud": {},
  "kernelspec": {
   "display_name": "Python 2",
   "language": "python",
   "name": "python2"
  },
  "language_info": {
   "codemirror_mode": {
    "name": "ipython",
    "version": 2
   },
   "file_extension": ".py",
   "mimetype": "text/x-python",
   "name": "python",
   "nbconvert_exporter": "python",
   "pygments_lexer": "ipython2",
   "version": "2.7.14"
  }
 },
 "nbformat": 4,
 "nbformat_minor": 1
}
